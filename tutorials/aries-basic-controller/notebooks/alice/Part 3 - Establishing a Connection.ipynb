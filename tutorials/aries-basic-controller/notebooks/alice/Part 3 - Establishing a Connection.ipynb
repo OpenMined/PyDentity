{
 "cells": [
  {
   "cell_type": "markdown",
   "metadata": {
    "pycharm": {
     "name": "#%% md\n"
    }
   },
   "source": [
    "# Establishing a Connection - Alice\n",
    "## Role: Inviter\n",
    "\n",
    "In this notebook we'll be initiating the aries DID Exchange protocol. Before an agent can begin to interact with another agent they must engage in this protocol resulting in the exchange of Decentralised Identifiers (DIDs) and corresponding DID Documents. The information within these documents can then be used to establish a secure communication channel between the parties.\n",
    "\n",
    "For a detailed description of this protocol it is highly recommened to read this [aries-rfc]((https://github.com/hyperledger/aries-rfcs/tree/master/features/0023-did-exchange).\n",
    "\n",
    "This notebook has the following phases:\n",
    "\n",
    "1. Pull in dependencies\n",
    "2. Instantiate the controller for the aries agent (See the docker-compose.yml)\n",
    "3. Set up a listener for basicmessages events emitted by the controller when it receives a webhook\n",
    "4. Use the controller to create an invitation from our agent\n",
    "5. Copy the invitation output from 4 and move over to Bob's notebook\n",
    "\n",
    "<b>Carry on in [Bob's notebook](http://localhost:8889/notebooks/Part%203%20-%20Establishing%20a%20Connection.ipynb)</b>\n",
    "    \n",
    "11. Accept Request for Connection\n",
    "12. Send Trust Ping to Bob\n",
    "\n",
    "    \n",
    "\n"
   ]
  },
  {
   "cell_type": "markdown",
   "metadata": {
    "pycharm": {
     "name": "#%% md\n"
    }
   },
   "source": [
    "### 1. Pull in dependencies"
   ]
  },
  {
   "cell_type": "code",
   "execution_count": 1,
   "metadata": {},
   "outputs": [
    {
     "name": "stdout",
     "output_type": "stream",
     "text": [
      "IPython autoawait is `on`, and set to use `asyncio`\n"
     ]
    }
   ],
   "source": [
    "%autoawait\n",
    "import time\n",
    "import asyncio"
   ]
  },
  {
   "cell_type": "markdown",
   "metadata": {
    "pycharm": {
     "name": "#%% md\n"
    }
   },
   "source": [
    "### 2. Instantiate the controller for our Agent\n",
    "\n",
    "The arguments depend on how the aca-py agent was initiated. See the manage and docker-compose.yml files for more details."
   ]
  },
  {
   "cell_type": "code",
   "execution_count": 2,
   "metadata": {},
   "outputs": [],
   "source": [
    "from aries_basic_controller.aries_controller import AriesAgentController\n",
    "    \n",
    "WEBHOOK_HOST = \"0.0.0.0\"\n",
    "WEBHOOK_PORT = 8022\n",
    "WEBHOOK_BASE = \"\"\n",
    "ADMIN_URL = \"http://alice-agent:8021\"\n",
    "\n",
    "# WARNING: You should use environment variables for this\n",
    "# TODO: Make env variables accessible through juypter notebooks\n",
    "API_KEY = \"alice_api_123456789\"\n",
    "\n",
    "# Based on the aca-py agent you wish to control\n",
    "agent_controller = AriesAgentController(webhook_host=WEBHOOK_HOST, webhook_port=WEBHOOK_PORT,\n",
    "                                       webhook_base=WEBHOOK_BASE, admin_url=ADMIN_URL, api_key=API_KEY)\n"
   ]
  },
  {
   "cell_type": "markdown",
   "metadata": {
    "pycharm": {
     "name": "#%% md\n"
    }
   },
   "source": [
    "### 3. Listen for webhooks and register default listeners\n",
    "\n",
    "Everytime a webhook is received from the agent, the controller reemits the hook using [PyPubSub](https://pypubsub.readthedocs.io/en/v4.0.3/). The default listeners are used to update state and print logs."
   ]
  },
  {
   "cell_type": "code",
   "execution_count": 3,
   "metadata": {},
   "outputs": [],
   "source": [
    "\n",
    "loop = asyncio.get_event_loop()\n",
    "loop.create_task(agent_controller.listen_webhooks())\n",
    "\n",
    "agent_controller.register_listeners([], defaults=True)"
   ]
  },
  {
   "cell_type": "markdown",
   "metadata": {
    "pycharm": {
     "name": "#%% md\n"
    }
   },
   "source": [
    "### 4. Use the controller to create an invitation from our agent\n",
    "\n",
    "An invitation is a JSON object, as shown below, it contains the relevant information required for another agent to connect with it and exchange identifiers. This object must be passed to the agent Alice wishes to connect to out of band, in this instance we will just copy it across."
   ]
  },
  {
   "cell_type": "code",
   "execution_count": 4,
   "metadata": {},
   "outputs": [
    {
     "name": "stdout",
     "output_type": "stream",
     "text": [
      "Connection ID c62331ca-bc95-4f7a-93dd-043f501cb21a\n",
      "Invitation\n",
      "{'connection_id': 'c62331ca-bc95-4f7a-93dd-043f501cb21a', 'invitation': {'@type': 'did:sov:BzCbsNYhMrjHiqZDTUASHg;spec/connections/1.0/invitation', '@id': '916e944d-cb7e-4e69-99c6-34aac5bea636', 'serviceEndpoint': 'http://172.17.0.1:8020', 'label': 'Alice', 'recipientKeys': ['AGQrdCLtBbPPs5vX8K8RJrns9UyZLzvW5rvszNWrzq1V']}, 'invitation_url': 'http://172.17.0.1:8020?c_i=eyJAdHlwZSI6ICJkaWQ6c292OkJ6Q2JzTlloTXJqSGlxWkRUVUFTSGc7c3BlYy9jb25uZWN0aW9ucy8xLjAvaW52aXRhdGlvbiIsICJAaWQiOiAiOTE2ZTk0NGQtY2I3ZS00ZTY5LTk5YzYtMzRhYWM1YmVhNjM2IiwgInNlcnZpY2VFbmRwb2ludCI6ICJodHRwOi8vMTcyLjE3LjAuMTo4MDIwIiwgImxhYmVsIjogIkFsaWNlIiwgInJlY2lwaWVudEtleXMiOiBbIkFHUXJkQ0x0QmJQUHM1dlg4SzhSSnJuczlVeVpMenZXNXJ2c3pOV3J6cTFWIl19'}\n"
     ]
    }
   ],
   "source": [
    "# Create Invitation\n",
    "invite = await agent_controller.connections.create_invitation()\n",
    "connection_id = invite[\"connection_id\"]\n",
    "print(\"Connection ID\", connection_id)\n",
    "print(\"Invitation\")\n",
    "print(invite)"
   ]
  },
  {
   "cell_type": "markdown",
   "metadata": {
    "pycharm": {
     "name": "#%% md\n"
    }
   },
   "source": [
    "### 5. Copy the invitation output from 4 and move over to the [Bob notebook](http://localhost:8889/notebooks/Part%203%20-%20Establishing%20a%20Connection.ipynb) "
   ]
  },
  {
   "cell_type": "markdown",
   "metadata": {
    "pycharm": {
     "name": "#%% md\n"
    }
   },
   "source": [
    "### 11. Accept Request for Connection"
   ]
  },
  {
   "cell_type": "code",
   "execution_count": 5,
   "metadata": {
    "pycharm": {
     "name": "#%%\n"
    }
   },
   "outputs": [
    {
     "name": "stdout",
     "output_type": "stream",
     "text": [
      "True\n",
      "ACCEPT REQUEST\n",
      "{'initiator': 'self', 'state': 'response', 'their_label': 'Bob', 'invitation_mode': 'once', 'my_did': 'NC8XUB5EicuUUqJACvSUdR', 'accept': 'manual', 'invitation_key': 'AGQrdCLtBbPPs5vX8K8RJrns9UyZLzvW5rvszNWrzq1V', 'created_at': '2020-09-16 15:08:58.841738Z', 'their_did': 'KbykKreVe4J8n5gizLmq4Z', 'routing_state': 'none', 'connection_id': 'c62331ca-bc95-4f7a-93dd-043f501cb21a', 'updated_at': '2020-09-16 15:11:48.372610Z'}\n",
      "state response\n"
     ]
    }
   ],
   "source": [
    "# Accept Request for Invite created\n",
    "connection = await agent_controller.connections.accept_request(connection_id)\n",
    "print(\"ACCEPT REQUEST\")\n",
    "print(connection)\n",
    "print(\"state\", connection[\"state\"])"
   ]
  },
  {
   "cell_type": "markdown",
   "metadata": {
    "pycharm": {
     "name": "#%% md\n"
    }
   },
   "source": [
    "### 12. Send Trust Ping to activate the conneciton"
   ]
  },
  {
   "cell_type": "code",
   "execution_count": 6,
   "metadata": {
    "pycharm": {
     "name": "#%%\n"
    }
   },
   "outputs": [
    {
     "name": "stdout",
     "output_type": "stream",
     "text": [
      "Trust Ping {'thread_id': '694105cd-305c-42ec-8c32-bf6ac5fcb868'}\n"
     ]
    }
   ],
   "source": [
    "trust_ping = await agent_controller.messaging.trust_ping(connection_id, \"hello\")\n",
    "print(\"Trust Ping\", trust_ping)"
   ]
  },
  {
   "cell_type": "markdown",
   "metadata": {
    "pycharm": {
     "name": "#%% md\n"
    }
   },
   "source": [
    "####  12.1 Check if connection is active"
   ]
  },
  {
   "cell_type": "code",
   "execution_count": 7,
   "metadata": {
    "pycharm": {
     "name": "#%%\n"
    }
   },
   "outputs": [
    {
     "name": "stdout",
     "output_type": "stream",
     "text": [
      "{'initiator': 'self', 'state': 'active', 'their_label': 'Bob', 'invitation_mode': 'once', 'my_did': 'NC8XUB5EicuUUqJACvSUdR', 'accept': 'manual', 'invitation_key': 'AGQrdCLtBbPPs5vX8K8RJrns9UyZLzvW5rvszNWrzq1V', 'created_at': '2020-09-16 15:08:58.841738Z', 'their_did': 'KbykKreVe4J8n5gizLmq4Z', 'routing_state': 'none', 'connection_id': 'c62331ca-bc95-4f7a-93dd-043f501cb21a', 'updated_at': '2020-09-16 15:11:53.300639Z'}\n",
      "Is Active? active\n"
     ]
    }
   ],
   "source": [
    "connection = await agent_controller.connections.get_connection(connection_id)\n",
    "print(connection)\n",
    "print(\"Is Active?\", connection[\"state\"])"
   ]
  },
  {
   "cell_type": "markdown",
   "metadata": {},
   "source": [
    "## End of Tutorial\n",
    "\n",
    "#### Terminate Controller & Stop Webhook Server\n",
    "\n",
    "**Note: You will need to run this command when combining this example with others such as Issuer**"
   ]
  },
  {
   "cell_type": "code",
   "execution_count": 8,
   "metadata": {},
   "outputs": [
    {
     "name": "stdout",
     "output_type": "stream",
     "text": [
      "None\n"
     ]
    }
   ],
   "source": [
    "response = await agent_controller.terminate()\n",
    "print(response)"
   ]
  },
  {
   "cell_type": "code",
   "execution_count": null,
   "metadata": {},
   "outputs": [],
   "source": []
  },
  {
   "cell_type": "markdown",
   "metadata": {
    "pycharm": {
     "name": "#%% md"
    }
   },
   "source": []
  }
 ],
 "metadata": {
  "kernelspec": {
   "display_name": "Python 3",
   "language": "python",
   "name": "python3"
  },
  "language_info": {
   "codemirror_mode": {
    "name": "ipython",
    "version": 3
   },
   "file_extension": ".py",
   "mimetype": "text/x-python",
   "name": "python",
   "nbconvert_exporter": "python",
   "pygments_lexer": "ipython3",
   "version": "3.7.6"
  },
  "pycharm": {
   "stem_cell": {
    "cell_type": "raw",
    "metadata": {
     "collapsed": false
    },
    "source": []
   }
  }
 },
 "nbformat": 4,
 "nbformat_minor": 4
}

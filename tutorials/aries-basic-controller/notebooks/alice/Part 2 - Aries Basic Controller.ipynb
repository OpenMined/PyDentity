{
 "cells": [
  {
   "cell_type": "markdown",
   "metadata": {},
   "source": [
    "# Aries Basic Controller\n",
    "\n",
    "The aries basic controller is a simple python library that wraps a swagger api exposed by the BCGov [ACA-Py Agent implementation](https://github.com/hyperledger/aries-cloudagent-python). It is designed to enable easy, programmatic interface between business logic of an application (this is what you will write) and the capabilities of the Hyperledger SSI stack currently implemented by this agent codebase, such as the issue-credential protocol. These are all defined in [aries-rfcs](https://github.com/hyperledger/aries-rfcs)."
   ]
  },
  {
   "cell_type": "markdown",
   "metadata": {},
   "source": [
    "## New to developing with the Hyperledger SSI stack?\n",
    "\n",
    "Check out this great EdX course - [Becoming a Hyperledger Aries Developer](https://www.edx.org/course/becoming-a-hyperledger-aries-developer). It should give you a good foundation in ACA-Py and the SSI mental model for developers.\n",
    "\n",
    "If you are short on time and prefer to get stuck into the code in these notebooks we highly recommend you at least run through the [OpenApi lab](https://github.com/cloudcompass/ToIPLabs/blob/master/docs/LFS173x/OpenAPIController.md) from the course.\n"
   ]
  },
  {
   "cell_type": "markdown",
   "metadata": {},
   "source": [
    "## Mental Model\n",
    "\n",
    "Where developing with SSI can be confusing (it was to me at least), is in understanding the mental model. The above courses are great for clarifying this in detail, I will just give a brief overview here.\n",
    "\n",
    "The components of an SSI application that uses ACA-Py are:\n",
    "\n",
    "* The business/application logic - This is up to you and your imagination. What credentials does your application issue, what proofs do they expect to verify and what happens once a proof has been successfully verified? It can be as simple or complicated as you want.\n",
    "* A controller - The aries-basic-contoller is an example of this, but it could be written in any language. It is the mechansism for the business logic to invoke aries protocols. E.g. write this credential schema to the ledger for me, or issue this connection this credential with these attributes.\n",
    "* An SSI agent - The implementations of a set of specified aries-rfcs, not all agents have the same set implemented. The agent code interfaces with a ledger, manages a wallet and interacts with other agents.\n",
    "\n",
    "These set of components make up a single domain, however SSI was developed simplfying and secure the interaction across domains between SSI applications.\n",
    "\n",
    "The SSI agent makes connections with other SSI agents and they then go on to exchange messages as part of predefined aries protocols that both understand. However, SSI agents are event driven. It is the business logic of the applications that determine when to make connections, which protocols to enage in and what responses to communicate.\n",
    "\n",
    "The general flow of interactions between two SSI applications defined by Alice and Bob is:\n",
    "* Alice(business logic -> controller -> agent) -> Bob(agent -> controller -> business logic)\n",
    "\n",
    "We will see this pattern regularly throughout this tutorial. Keep in mind, anything in these notebook is the business logic of the application."
   ]
  },
  {
   "cell_type": "markdown",
   "metadata": {},
   "source": [
    "## Docker Setup\n",
    "\n",
    "Before going any further take a look at the docker-compose.yml file in the root of the aries-basic-controller directory and try to understand what is going on. \n",
    "\n",
    "\n",
    "### Hyperledger Indy Ledger Instance\n",
    "\n",
    "* ledger-browser\n",
    "* ledger-nodes\n",
    "\n",
    "This tutorial uses a local ledger consisting of a set of Indy nodes that get destroyed whenever you run ./manage down. It uses the [Von-Network repositiory](https://github.com/bcgov/von-network) to establish this network, more details can be found there. See ledger-nodes service.\n",
    "\n",
    "Von-Network comes with it's own frontend, this is run through ledger-browser docker service. You can view this by navigating to [http://localhost:9000](http://localhost:9000).\n",
    "\n",
    "### SSI Applications (Bob and Alice)\n",
    "\n",
    "The docker-compose.yml defines two separate SSI applications: \n",
    "* Bob (bob-agent, bob-notebook) \n",
    "* Alice (alice-agent, alice-notebook)\n",
    "\n",
    "Usually when developing we will simulate at least two separate applications because most interesting aspects of SSI occur during interaction between agents. **Note: For a production deployment you would only develop one application and would expect other production deployments to interact with your agent.**\n",
    "\n",
    "The services from Alice and Bob are virtually identical, accept alices agent has an authenticated admin endpoint. More on this later. For simplicity we will just review Alice.\n",
    "\n",
    "#### alice-agent\n",
    "\n",
    "This service pulls the docker image for ACA-Py - bcgovimages/aries-cloudagent:py36-1.14-1_0.5.1. and spins up an ACA-Py agent using the following command:\n",
    "\n",
    "```Docker\n",
    " command: [\n",
    "        \"-c\",\n",
    "        ## Wait until ledger has been initialised\n",
    "        \"echo Waiting for ledger to be ready...;\n",
    "        sleep 60;\n",
    "        ## Write Alices DID to the ledger with the role of TRUST_ANCHOR\n",
    "        ## You can see this transaction here - http://localhost:9000/browse/domain\n",
    "        curl -d '{\\\"seed\\\":\\\"${ALICE_WALLET_SEED}\\\", \\\"role\\\":\\\"TRUST_ANCHOR\\\", \\\"alias\\\":\\\"${ALICE_AGENT_NAME}\\\"}' -X POST ${LEDGER_URL}/register; \\\n",
    "        sleep 2; \\\n",
    "        ## Start Agent\n",
    "        aca-py start \\\n",
    "        --inbound-transport http '0.0.0.0' ${ALICE_HTTP_PORT} \\\n",
    "        --outbound-transport http \\\n",
    "        --endpoint ${ALICE_AGENT_ENDPOINT} \\\n",
    "        \n",
    "        ## Tells the agent what url to post webhook events to\n",
    "        --webhook-url ${ALICE_WEBHOOK_URL} \\\n",
    "        \n",
    "        --wallet-type 'indy' \\\n",
    "        --seed '${ALICE_WALLET_SEED}' \\\n",
    "        \n",
    "        ## Defines where to expose a the admin services (the swagger api)\n",
    "        --admin '0.0.0.0' ${ALICE_ADMIN_PORT} \\\n",
    "        \n",
    "        ## Note Bob has --admin-insecure-mode\n",
    "        --admin-api-key ${ALICE_API_KEY} \\\n",
    "        --log-level info \\\n",
    "        --genesis-url '${LEDGER_URL}/genesis'\n",
    "        --label ${ALICE_AGENT_NAME}\",\n",
    "    ]\n",
    "```\n",
    "\n",
    "Here is a [lab](https://github.com/cloudcompass/ToIPLabs/blob/master/docs/LFS173x/ACA-PyStartup.md) about the aca-py configuration parameters that is part of the EdX course. More details can be found by taking the actual course. \n",
    "\n",
    "All enviroment variables such as ALICE_HTTP_PORT are configured in the manage bash script. See lines 119 - 139. As we will see later these variables are used to configure an instance of the AriesAgentController.\n",
    "\n",
    "#### alice-notebook\n",
    "\n",
    "This service is created from the defined **Dockerfile**. It installs the aries-basic-controller package from the files within this directory. See lines 11 - 17. In the future this will be a pip installable package. Then it initialises a juypter notebook service that is looking for notebooks in the workspace directory of the container. This directory is populated by mounting a volume in the docker-compose.yml. For example alice-notebook mounts the tutorial/alice notebooks (this is one of them).\n",
    "\n",
    "Again it is worth pointing out the all code within these notebooks is the business logic of the SSI application.\n",
    "\n",
    "### Setup\n",
    "\n",
    "This is a helper service that establishes a connection between Alice and Bob by running the tutorial/setup/create_connection.py script once the agents have been initialised."
   ]
  },
  {
   "cell_type": "markdown",
   "metadata": {},
   "source": [
    "## Aries Basic Controller Library Structure\n",
    "\n",
    "The library is fairly straightforward. If you have a look into the [aries_basic_controller folder](https://github.com/OpenMined/PyDentity/tree/master/libs/aries-basic-controller/aries_basic_controller). You will see all the code for the library.\n",
    "\n",
    "The most important file is aries_controller.py, this contains the AriesAgentController class which is the class you will important and instatiate to control a specific ACA-Py instance.\n",
    "\n",
    "The other files are contained withing three folders:\n",
    "\n",
    "* **controllers/** - This has a file for each collection of api endpoints. As well as a base.py file which all other controllers extend handling the Restful logic through aiohttp.\n",
    "* **models/** - This currently only contains connection.py and is used to enable the controller to await a certain state change in a connection. More on this later.\n",
    "* **helpers/** - Some basic helper functions."
   ]
  },
  {
   "cell_type": "markdown",
   "metadata": {},
   "source": [
    "## Instantiating the a AriesAgentController"
   ]
  },
  {
   "cell_type": "code",
   "execution_count": 8,
   "metadata": {},
   "outputs": [
    {
     "name": "stderr",
     "output_type": "stream",
     "text": [
      "Unclosed client session\n",
      "client_session: <aiohttp.client.ClientSession object at 0x7fe1e2ded050>\n"
     ]
    }
   ],
   "source": [
    "# Import the AriesAgentController class from the library\n",
    "from aries_basic_controller.aries_controller import AriesAgentController\n",
    "\n",
    "# Define the parameters, these should be the same ones uses to initalise the ACA-Py Agent\n",
    "# TODO: These should probably be passed in as environment variables generally\n",
    "\n",
    "# The location the controller spins up a service and listens for webhooks from the agent\n",
    "WEBHOOK_HOST = \"0.0.0.0\"\n",
    "WEBHOOK_PORT = 8022\n",
    "WEBHOOK_BASE = \"\"\n",
    "\n",
    "# Configures the controller with the correct endpoint to send api requests too\n",
    "ADMIN_URL = \"http://alice-agent:8021\"\n",
    "\n",
    "# The api key for the admin_url if the agent requires one\n",
    "API_KEY = \"alice_api_123456789\"\n",
    "\n",
    "# Instantiate the AriesAgentController using the correct parameters\n",
    "agent_controller = AriesAgentController(webhook_host=WEBHOOK_HOST, webhook_port=WEBHOOK_PORT,\n",
    "                                       webhook_base=WEBHOOK_BASE, admin_url=ADMIN_URL, api_key=API_KEY)"
   ]
  },
  {
   "cell_type": "markdown",
   "metadata": {},
   "source": [
    "## Understanding the Aries Basic Controller Listeners\n",
    "\n",
    "An instance of AriesAgentController acts as the middle man between the business logic of an application and an ACA-Py agent instance. The business logic can communicate with the ACA-Py instance by sending specific requests to the ADMIN_URL, these requests are implemented in the controllers folder of the aries-basic-controller library.\n",
    "\n",
    "However, the ACA-Py agent instance also needs to be able to communicate to the business logic of the application. When the agent recieves a message from another agent over a connection, the business logic needs to be able to interpret that message and if needs be respond by communicating through the controller to the agent to take some action.\n",
    "\n",
    "This is handled through ACA-Py using webhooks. Whenever an ACA-Py agent receives a message, if webhooks are configured (--webhook-url), then generally they post a webhook event identified through the key word topic to the specified endpoint. \n",
    "\n",
    "For an instance of AriesBasicController to be listening for these webhook events you must initialise the server by calling:"
   ]
  },
  {
   "cell_type": "code",
   "execution_count": 3,
   "metadata": {},
   "outputs": [],
   "source": [
    "await agent_controller.listen_webhooks()"
   ]
  },
  {
   "cell_type": "markdown",
   "metadata": {},
   "source": [
    "This means that the controller is receiving api requests sent to this endpoint and calling the _recieve_webhook function:\n",
    "\n",
    "```app.add_routes([web.post(self.webhook_base + \"/topic/{topic}/\", self._receive_webhook)])```\n",
    "\n",
    "The controller then uses the [PyPubSub](https://pypubsub.readthedocs.io/en/v4.0.3/) library to emit events for every webhook they receive:\n",
    "\n",
    "```    async def handle_webhook(self, topic, payload):\n",
    "        logging.debug(f\"Handle Webhook - {topic}\", payload)\n",
    "        pub.sendMessage(topic, payload=payload)\n",
    "        return web.Response(status=200)```\n",
    "\n",
    "It is up to the business logic of the application (*YOU THE DEVELOPER*) to register listeners for the topic events that your application is interested in and the handler functions specifying how the application will respond to these events.\n",
    "\n",
    "You can register listeners like this:"
   ]
  },
  {
   "cell_type": "code",
   "execution_count": 5,
   "metadata": {},
   "outputs": [],
   "source": [
    "def some_handler(payload):\n",
    "    print(\"WRITE YOUR BUSINESS LOGIC HERE\")\n",
    "\n",
    "## The topic must match the topic used by the agent for the webhook.\n",
    "some_listener = {\n",
    "    \"handler\": some_handler,\n",
    "    \"topic\": \"sometopic\"\n",
    "}\n",
    "\n",
    "## You can add as many listeners into this array as you want\n",
    "## The basic controller also specifies some optional default listeners \n",
    "## which help update state (see controllers/connection.py) and have some helpful print statements\n",
    "agent_controller.register_listeners([some_listener], defaults=True)"
   ]
  },
  {
   "cell_type": "markdown",
   "metadata": {},
   "source": [
    "## Terminating the Controller\n",
    "\n",
    "At the end of all notebook the controller instance must be terminated, so that a new one can be created in following tutorials. If you run into errors around port already in use, you likely forgot to terminate a controller instance from a previous tutorial."
   ]
  },
  {
   "cell_type": "code",
   "execution_count": 9,
   "metadata": {},
   "outputs": [],
   "source": [
    "await agent_controller.terminate()"
   ]
  },
  {
   "cell_type": "markdown",
   "metadata": {},
   "source": [
    "# Rest of the Tutorial\n",
    "\n",
    "For the remainder of the tutorial we will be demonstrating some of the common SSI protocols and patterns that you will be regularly use when building SSI applications. These will either involve a single notebook, in which case we use Alice to demonstrate. Or they will involve the interaction between two agents/application Alice and Bob, these are the most interesting examples and will require you to switch between notebooks as you play both parties in the interaction.\n",
    "\n",
    "These tutorials are largely designed to be stand alone, but if this is your first time exploring this tutorial it is recommended that you follow the order defined.\n",
    "\n",
    "* Part 3: Establishing a Connection: [Alice](http://localhost:8888/notebooks/Part%203%20-%20Establishing%20a%20Connection.ipynb), [Bob](http://localhost:8889/notebooks/Part%203%20-%20Establishing%20a%20Connection.ipynb)\n",
    "* Part 4: Credential Schema and Definitions: [Alice only](http://localhost:8888/notebooks/Part%204%20-%20Credential%20Schema%20and%20Definitions.ipynb)\n",
    "* Part 5: Issue Credential: [Alice](http://localhost:8888/notebooks/Part%205%20-%20Issue%20Credential.ipynb), [Bob](http://localhost:8889/notebooks/Part%205%20-%20Issue%20Credential.ipynb)\n",
    "* Part 6: Present Proof: [Alice](http://localhost:8888/notebooks/Part%206%20-%20Present%20Proof.ipynb), [Bob](http://localhost:8889/notebooks/Part%206%20-%20Present%20Proof.ipynb) (must have completed Part 5)\n",
    "* Part 7: Basic Messaging: [Alice](http://localhost:8888/notebooks/Part%207%20-%20Basic%20Message.ipynb), [Bob](http://localhost:8889/notebooks/Part%207%20-%20Basic%20Message.ipynb)\n"
   ]
  }
 ],
 "metadata": {
  "kernelspec": {
   "display_name": "Python 3",
   "language": "python",
   "name": "python3"
  },
  "language_info": {
   "codemirror_mode": {
    "name": "ipython",
    "version": 3
   },
   "file_extension": ".py",
   "mimetype": "text/x-python",
   "name": "python",
   "nbconvert_exporter": "python",
   "pygments_lexer": "ipython3",
   "version": "3.7.6"
  }
 },
 "nbformat": 4,
 "nbformat_minor": 4
}

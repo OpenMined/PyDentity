{
 "cells": [
  {
   "cell_type": "markdown",
   "metadata": {},
   "source": [
    "# Get Your OM PKI Credential\n",
    "\n",
    "In this notebook we will be using the OM Authority agent to establish a connection with a mobile agent you can install on your phone. Once established, you will issue yourself a verifiable credential that you can use to prove you took this course. We will use this credential towards the end of the course. \n",
    "\n"
   ]
  },
  {
   "cell_type": "markdown",
   "metadata": {},
   "source": [
    "## 0. Install a Mobile Aries Agent of Your Choice\n",
    "\n",
    "There are a number of apps available on the app store designed as *digital wallet's* to store verifiable credentials. The one's that work with the Hyperledger verifiable information platform all use code that implement's a set aries-rfcs, these specification's help ensure different implementations can interact.\n",
    "\n",
    "You can pick the application you would prefer to install from any of the following:\n",
    "\n",
    "* [Connect.Me](https://www.connect.me/)\n",
    "* [Trinsic](https://trinsic.id/)\n",
    "* [eSatus](https://esatus.com/?lang=en)\n",
    "* [LISSI](https://lissi.id/)\n",
    "\n",
    "Unfortunately to date none of the applications are open source, which in my view is leading to a fragmented experience for the individual. It is common to hear the phrase \"Digital wallet's are the browsers of the future\", or something along those lines. To which I often wonder why nobody has made it easy for me to write the equvalent of a webpage. \n",
    "\n",
    "Digital wallet's are an interesting space to keep an eye on. For the interested I recommend this report on [The Current and Future State of Digital Wallet's](https://wiki.hyperledger.org/download/attachments/24775535/The_Current_and_Future_State_of_Digital_Wallets_v1.0_FINAL.pdf?version=1&modificationDate=1574365535000&api=v2) from Darrell O'Donnell. Also available as a [webinar](https://ssimeetup.org/state-digital-identity-crypto-wallets-darrell-odonnell-webinar-22/).\n",
    "\n",
    "The open source offering around mobile agent's and applications is gradually emerging, the most recent being the announcement of the [aries-bifold](https://github.com/Indicio-tech/aries-bifold) application and companion [aries-mobileagent-reactnative](https://github.com/Indicio-tech/aries-mobileagent-react-native) projects. If you would like to help us figure out how we could and should leverage and contribute too these offerings we would love to hear from you. \n",
    "\n",
    "For the moment we have to make do with what is available. So install one of the above applications and make sure you they are pointing to the **Sovrin StagingNet**. Different applications have different ways of changing the network the agent uses, usually in settings, although Connect.Me requires you select the network as part of the installation process.\n"
   ]
  },
  {
   "cell_type": "markdown",
   "metadata": {},
   "source": [
    "## 1. Initialise a controller for Issuer"
   ]
  },
  {
   "cell_type": "code",
   "execution_count": 1,
   "metadata": {},
   "outputs": [
    {
     "name": "stdout",
     "output_type": "stream",
     "text": [
      "IPython autoawait is `on`, and set to use `asyncio`\n"
     ]
    }
   ],
   "source": [
    "%autoawait\n",
    "import time\n",
    "import asyncio\n",
    "from aries_basic_controller.aries_controller import AriesAgentController\n",
    "from termcolor import colored,cprint\n",
    "import os\n",
    "\n",
    "api_key = os.getenv(\"ACAPY_ADMIN_API_KEY\")\n",
    "admin_url = os.getenv(\"ADMIN_URL\")\n",
    "\n",
    "\n",
    "# Based on the aca-py agent you wish to control\n",
    "agent_controller = AriesAgentController(admin_url=admin_url, api_key=api_key)\n",
    "\n",
    "# The location the controller spins up a service and listens for webhooks from the agent\n",
    "webhook_port = int(os.getenv(\"WEBHOOK_PORT\"))\n",
    "webhook_host = \"0.0.0.0\"\n",
    "\n",
    "agent_controller.init_webhook_server(webhook_host=webhook_host, webhook_port=webhook_port)\n",
    "    "
   ]
  },
  {
   "cell_type": "markdown",
   "metadata": {},
   "source": [
    "## 2. Register Listeners for Webhook Topics\n",
    "\n",
    "Listeners are a key aspect of the design of SSI Applications that use the ACA-Py code base. They specify how your application reacts to messages your agent instance recieves from others. \n",
    "\n",
    "Notice we are registering two different handlers, one for the `issue_credential` topic and the other for the `connections` topic. As discussed topic's generally relate to a protocol such as the issue-credential protocol that is defined [here](https://github.com/hyperledger/aries-rfcs/tree/master/features/0036-issue-credential).\n",
    "\n",
    "In this example we are just parsing and printing information from the webhook payload. In future notebooks you will see how this can be used for more complex scenarios."
   ]
  },
  {
   "cell_type": "code",
   "execution_count": 2,
   "metadata": {},
   "outputs": [
    {
     "name": "stdout",
     "output_type": "stream",
     "text": [
      "Subscribing too: issue_credential\n",
      "Subscribing too: connections\n"
     ]
    }
   ],
   "source": [
    "loop = asyncio.get_event_loop()\n",
    "loop.create_task(agent_controller.listen_webhooks())\n",
    "\n",
    "def cred_handler(payload):\n",
    "    print(\"Handle Credential Webhook Payload\")\n",
    "    exchange_id = payload['credential_exchange_id']\n",
    "    state = payload['state']\n",
    "    role = payload['role']\n",
    "    attributes = payload['credential_proposal_dict']['credential_proposal']['attributes']\n",
    "    print(f\"Credential exchange {exchange_id}, role: {role}, state: {state}\")\n",
    "    if state == \"offer_sent\":\n",
    "        print(f\"Offering: {attributes}\")\n",
    "    \n",
    "cred_listener = {\n",
    "    \"topic\": \"issue_credential\",\n",
    "    \"handler\": cred_handler\n",
    "}\n",
    "\n",
    "def connections_handler(payload):\n",
    "    print(\"Handle Connection Webhook Payload\")\n",
    "    global STATE\n",
    "    connection_id = payload[\"connection_id\"]\n",
    "    print(\"Connection ID\", connection_id)\n",
    "\n",
    "    STATE = payload['state']\n",
    "    print(\"State\", STATE)\n",
    "    if STATE == 'active':\n",
    "#         print('Connection {0} changed state to active'.format(connection_id))\n",
    "        print(colored(\"Connection {0} changed state to active\".format(connection_id), \"red\", attrs=[\"bold\"]))\n",
    "\n",
    "\n",
    "connection_listener = {\n",
    "    \"handler\": connections_handler,\n",
    "    \"topic\": \"connections\"\n",
    "}\n",
    "\n",
    "agent_controller.register_listeners([cred_listener,connection_listener], defaults=True)\n"
   ]
  },
  {
   "cell_type": "markdown",
   "metadata": {},
   "source": [
    "## 3. Establish a DIDComm connection with your Mobile Agent\n",
    "\n",
    "Before you can issue yourself a credential using the OM Authority agent, you must establish a DIDComm connection by first exchanging DIDs. You can view the rfc for this protocol here.\n",
    "\n",
    "You will first request the OM Authority agent to generate an invitation object containing a DID and assocaited public key. Then this information will need to be communicated **out of band**, the common approach to represent it as a QR Code that you will scan with your mobile SSI App. "
   ]
  },
  {
   "cell_type": "markdown",
   "metadata": {},
   "source": [
    "### 3a. Create an Invitation\n",
    "\n",
    "The following cell creates the invitation object. This includes:\n",
    "* `connection_id` - The primary key used to communicate to your agent which connection (and hence agent) you wish to send messages to\n",
    "* `invitation` - A json object representing the invitation that needs to be communicated out of band. This includes the `recipientKeys` used to generate the DID and encrypt communication and a `seviceEndpoint` the location for the mobile agent to send messages too.\n",
    "* `invitation_url` - This is the invitation object represented as a base64 string converted into a url. We use this to produce a QR Code.\n",
    "\n",
    "Also notice the Connection webhook message output. This is from a webhook received by the AriesAgentController and handled by the function we defined in step 2. above."
   ]
  },
  {
   "cell_type": "code",
   "execution_count": 3,
   "metadata": {},
   "outputs": [
    {
     "name": "stdout",
     "output_type": "stream",
     "text": [
      "Connection ID 6cac00de-f178-4c06-a750-0a67cfead902\n",
      "Invitation\n",
      "{'@type': 'did:sov:BzCbsNYhMrjHiqZDTUASHg;spec/connections/1.0/invitation', '@id': 'e7281961-f0d2-4bb6-9c0c-0dc4f5b95c5a', 'label': 'OpenMined', 'recipientKeys': ['6YGtA1BQ3eA2upSVR9eQadXLfEun2jn9Zy1br3tPZ1NZ'], 'serviceEndpoint': 'https://9b18-86-18-68-143.ngrok.io'}\n",
      "Invite Url\n",
      "https://9b18-86-18-68-143.ngrok.io?c_i=eyJAdHlwZSI6ICJkaWQ6c292OkJ6Q2JzTlloTXJqSGlxWkRUVUFTSGc7c3BlYy9jb25uZWN0aW9ucy8xLjAvaW52aXRhdGlvbiIsICJAaWQiOiAiZTcyODE5NjEtZjBkMi00YmI2LTljMGMtMGRjNGY1Yjk1YzVhIiwgImxhYmVsIjogIk9wZW5NaW5lZCIsICJyZWNpcGllbnRLZXlzIjogWyI2WUd0QTFCUTNlQTJ1cFNWUjllUWFkWExmRXVuMmpuOVp5MWJyM3RQWjFOWiJdLCAic2VydmljZUVuZHBvaW50IjogImh0dHBzOi8vOWIxOC04Ni0xOC02OC0xNDMubmdyb2suaW8ifQ==\n",
      "Handle Connection Webhook Payload\n",
      "Connection ID 6cac00de-f178-4c06-a750-0a67cfead902\n",
      "State invitation\n"
     ]
    }
   ],
   "source": [
    "# Create Invitation\n",
    "invite = await agent_controller.connections.create_invitation()\n",
    "connection_id = invite[\"connection_id\"]\n",
    "print(\"Connection ID\", connection_id)\n",
    "print(\"Invitation\")\n",
    "print(invite[\"invitation\"])\n",
    "print(\"Invite Url\")\n",
    "print(invite['invitation_url'])\n",
    "inviteURL = invite['invitation_url']"
   ]
  },
  {
   "cell_type": "markdown",
   "metadata": {},
   "source": [
    "### 3b. Generate QR Code and Scan\n",
    "\n",
    "You should use the mobile application you installed at the start of the notebook.\n",
    "\n",
    "Once you scan the QR Code and accept the connection on your mobile application you should see a series of Connection webhook payload messages output from the cell. This is the om-authority-agent letting the application know that it has recieved a series of messages associated with the did-exchange protocol from another agent.\n",
    "\n",
    "Notice that the connection_id contained in this payload is the same everytime? This shows us that all the messages arrived across the same connection. This should be the same as the connection_id from the output above.\n",
    "\n",
    "Notice also that each new payload we handle has a different state? This is the protocol progressing through it's different stages until it completes and the connection is moved to active. You can view the state machine for this protocol [here](https://github.com/hyperledger/aries-rfcs/tree/master/features/0023-did-exchange#state-machine-tables)."
   ]
  },
  {
   "cell_type": "code",
   "execution_count": 4,
   "metadata": {},
   "outputs": [
    {
     "data": {
      "image/png": "[encoded data removed]",
      "text/plain": [
       "<IPython.core.display.Image object>"
      ]
     },
     "execution_count": 4,
     "metadata": {
      "image/png": {
       "width": 400
      }
     },
     "output_type": "execute_result"
    },
    {
     "name": "stdout",
     "output_type": "stream",
     "text": [
      "Handle Connection Webhook Payload\n",
      "Connection ID 6cac00de-f178-4c06-a750-0a67cfead902\n",
      "State request\n",
      "Handle Connection Webhook Payload\n",
      "Connection ID 6cac00de-f178-4c06-a750-0a67cfead902\n",
      "State response\n",
      "Handle Connection Webhook Payload\n",
      "Connection ID 6cac00de-f178-4c06-a750-0a67cfead902\n",
      "State active\n",
      "\u001b[1m\u001b[31mConnection 6cac00de-f178-4c06-a750-0a67cfead902 changed state to active\u001b[0m\n"
     ]
    }
   ],
   "source": [
    "import qrcode\n",
    "# Link for connection invitation\n",
    "input_data = inviteURL\n",
    "# Creating an instance of qrcode\n",
    "qr = qrcode.QRCode(\n",
    "        version=1,\n",
    "        box_size=10,\n",
    "        border=5)\n",
    "qr.add_data(input_data)\n",
    "qr.make(fit=True)\n",
    "img = qr.make_image(fill='black', back_color='white')\n",
    "img.save('issuer_agent_invite_QRcode.png')\n",
    "\n",
    "from IPython.display import Image\n",
    "Image(width=400, filename='./issuer_agent_invite_QRcode.png')"
   ]
  },
  {
   "cell_type": "markdown",
   "metadata": {},
   "source": [
    "### 3c. Check if established connection is in active state\n",
    "\n",
    "Depending on the mobile application you chose to use the connection state may not have progress to active yet. You can usually fix this by sending a trust ping to this connection.\n",
    "\n",
    "If the connection state is still not active then you may need to try another application, apologies."
   ]
  },
  {
   "cell_type": "code",
   "execution_count": 5,
   "metadata": {},
   "outputs": [
    {
     "name": "stdout",
     "output_type": "stream",
     "text": [
      "\u001b[1m\u001b[35mCurrent state for ConnectionId 6cac00de-f178-4c06-a750-0a67cfead902 is active\u001b[0m\n",
      "\u001b[1m\u001b[32mConnectionId: 6cac00de-f178-4c06-a750-0a67cfead902 is now active. Continue with notebook\u001b[0m\n"
     ]
    }
   ],
   "source": [
    "import time\n",
    "\n",
    "# print('Current state for ConnectionId {} is {}'.format(connection_id,STATE))\n",
    "print(colored(\"Current state for ConnectionId {} is {}\".format(connection_id,STATE), \"magenta\", attrs=[\"bold\"]))\n",
    "while STATE != 'active':\n",
    "#     print('ConnectionId {0} is not in active state yet'.format(connection_id))\n",
    "    print(colored(\"ConnectionId {0} is not in active state yet\".format(connection_id), \"yellow\", attrs=[\"bold\"]))\n",
    "    trust_ping = await agent_controller.messaging.trust_ping(connection_id,'hello!')\n",
    "#     print('Trust ping send to ConnectionId {0} to activate connection'.format(trust_ping))\n",
    "    print(colored(\"Trust ping send to ConnectionId {0} to activate connection\".format(trust_ping), \"blue\", attrs=[\"bold\"]))\n",
    "    time.sleep(5)\n",
    "    \n",
    "# print('ConnectionId: {0} is now active. Continue with notebook'.format(connection_id))\n",
    "print(colored(\"ConnectionId: {0} is now active. Continue with notebook\".format(connection_id), \"green\", attrs=[\"bold\"]))\n"
   ]
  },
  {
   "cell_type": "markdown",
   "metadata": {},
   "source": [
    "## 4. Load the Schema and Credential Definition Identifiers\n",
    "\n",
    "**You should have stored these in the variables below in part 3.**\n",
    "\n",
    "We decided to add this cell to draw attention to the fact that to issue credential you need the schema_id and cred_def_id for the credential you wish to issue ... but you likely would not have just written those objects to the ledger. That should be done as part of the initial configuration for your application. Instead you would fetch these identifiers from some storage managed somewhere in your application."
   ]
  },
  {
   "cell_type": "code",
   "execution_count": 7,
   "metadata": {},
   "outputs": [
    {
     "name": "stdout",
     "output_type": "stream",
     "text": [
      "Successfully loaded identifiers required to issue OM PKI Course credentials\n",
      "Schema : L2f3UYR1mm2dQHRsx6nX3E:2:OpenMined PKI Course:0.0.1\n",
      "Cred Def : E5C5jardyzNBkZwpHsTkiM:3:CL:6666:default\n"
     ]
    }
   ],
   "source": [
    "%store -r pki_schema_id\n",
    "%store -r pki_cred_def_id\n",
    "\n",
    "if pki_schema_id and pki_cred_def_id:\n",
    "    print(\"Successfully loaded identifiers required to issue OM PKI Course credentials\")\n",
    "    print(\"Schema :\", pki_schema_id)\n",
    "    print(\"Cred Def :\", pki_cred_def_id)"
   ]
  },
  {
   "cell_type": "markdown",
   "metadata": {},
   "source": [
    "## 5. Populate the Attribues for the Credential\n",
    "\n",
    "Feel free to fill in your name however you like, this is your credential.\n",
    "\n",
    "Note how information gets entered into a credential before it is offered, signed and accepted is a key process that should be thought through in relation to the context of the application. In many situations there will need to be high assurance that the information in a credential is reliable and accurate.\n",
    "\n",
    "**Bad data in == Bad data out.**"
   ]
  },
  {
   "cell_type": "code",
   "execution_count": 8,
   "metadata": {},
   "outputs": [
    {
     "name": "stdin",
     "output_type": "stream",
     "text": [
      "Please enter the name you would like in your OM PKI Course Credential:  Wip\n"
     ]
    },
    {
     "name": "stdout",
     "output_type": "stream",
     "text": [
      "[{'name': 'name', 'value': 'Wip'}, {'name': 'date', 'value': '10/08/21'}]\n"
     ]
    }
   ],
   "source": [
    "import datetime\n",
    "tme = datetime.datetime.now()\n",
    "\n",
    "name=input(\"Please enter the name you would like in your OM PKI Course Credential: \")\n",
    "credential_attributes = [\n",
    "    {\"name\": \"name\", \"value\": name},\n",
    "    {\"name\": \"date\", \"value\": tme.strftime(\"%x\")},\n",
    "]\n",
    "print(credential_attributes)"
   ]
  },
  {
   "cell_type": "markdown",
   "metadata": {},
   "source": [
    "## 6. Send Credential\n",
    "\n",
    "This should send a credential offer to your mobile application, once you accept the offer your mobile agent will blindly contribute a commitment to the agents master secret. The OM Authority will complete the signature on the credential and send it back to your mobile where you will store it.\n",
    "\n",
    "Pay attention to the credential webhook messages that get output, these should track the protocol as it progresses through the different stages in the issue-credential flow. See the state diagram [here](https://github.com/hyperledger/aries-rfcs/blob/master/features/0036-issue-credential/credential-issuance.png).\n",
    "\n",
    "There are other ways to issue a credential that require multiple api calls at each stage of the protocol.\n",
    "\n",
    "**Arguments**\n",
    "* connection_id: The connection_id of the holder you wish to issue to (MUST be in active state)\n",
    "* schema_id: The id of the schema you wish to issue\n",
    "* cred_def_id: The definition (public key) to sign the credential object. This must refer to the schema_id and be written to the ledger by the same public did that is currently being used by the agent.\n",
    "* attributes: A list of attribute objects as defined above. Must match the schema attributes.\n",
    "* comment (optional): Any string, defaults to \"\"\n",
    "* auto_remove (optional): Boolean, defaults to True. I believe this removes the record of this credential once it has been issued. (TODO: double check)\n",
    "* trace (optional): Boolean, defaults to False. **Not entirely sure about this one, believe its for logging. Also when set to True it throws an error**"
   ]
  },
  {
   "cell_type": "code",
   "execution_count": 9,
   "metadata": {},
   "outputs": [
    {
     "name": "stdout",
     "output_type": "stream",
     "text": [
      "Handle Credential Webhook Payload\n",
      "Credential exchange b59c790b-3e50-47cf-bc92-71d8fdea127e, role: issuer, state: offer_sent\n",
      "Offering: [{'name': 'name', 'value': 'Wip'}, {'name': 'date', 'value': '10/08/21'}]\n"
     ]
    }
   ],
   "source": [
    "record = await agent_controller.issuer.send_credential(connection_id, pki_schema_id, pki_cred_def_id, credential_attributes, trace=False)\n"
   ]
  },
  {
   "cell_type": "markdown",
   "metadata": {},
   "source": [
    "## 7. End of Tutorial\n",
    "\n",
    "Be sure to terminate the controller so you can run another tutorial."
   ]
  },
  {
   "cell_type": "code",
   "execution_count": 10,
   "metadata": {},
   "outputs": [
    {
     "name": "stdout",
     "output_type": "stream",
     "text": [
      "None\n"
     ]
    }
   ],
   "source": [
    "response = await agent_controller.terminate()\n",
    "print(response)"
   ]
  },
  {
   "cell_type": "markdown",
   "metadata": {},
   "source": [
    "# Continue to 5.\n",
    "\n",
    "Congratulations! You should now have a a cryptographically verifiable set of attributes attesting to your attendance on this course. Pretty cool hey? \n",
    "\n",
    "Next we will move away from mobile agents for now, interacting with two different agents using notebooks as we apply these concepts in a more OpenMinedy context. You will learn how the OM Authority (or any trusted authority) can issue crentials to participants in a privacy-preserving machine learning flow which can then be used to establish a secure, mutually authenticated peer to peer communications channel."
   ]
  }
 ],
 "metadata": {
  "kernelspec": {
   "display_name": "Python 3",
   "language": "python",
   "name": "python3"
  },
  "language_info": {
   "codemirror_mode": {
    "name": "ipython",
    "version": 3
   },
   "file_extension": ".py",
   "mimetype": "text/x-python",
   "name": "python",
   "nbconvert_exporter": "python",
   "pygments_lexer": "ipython3",
   "version": "3.8.5"
  }
 },
 "nbformat": 4,
 "nbformat_minor": 4
}

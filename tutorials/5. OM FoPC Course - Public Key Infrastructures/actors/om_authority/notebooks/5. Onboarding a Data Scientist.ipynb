{
 "cells": [
  {
   "cell_type": "markdown",
   "id": "de94b277",
   "metadata": {},
   "source": [
    "# Onboarding a Data Scientist\n",
    "\n",
    "In this notebook you will control the OM Authority agent to issue a credential attesting to another entities ability to participate in a PPML flow as a Data Scientist. \n",
    "\n",
    "This notebook and the next one should feel pretty familiar to you, the only difference is that instead of interacting with a mobile agent we will be interacting with the data-scientist agent we ran through docker-compose."
   ]
  },
  {
   "cell_type": "markdown",
   "id": "ee4423c4",
   "metadata": {},
   "source": [
    "## 1. Initialise your Agent\n",
    "\n",
    "Standard stuff, we need to do this in every notebook. Although note that in an application you would only do this once and make the controller object accessible throughout the application where needed."
   ]
  },
  {
   "cell_type": "code",
   "execution_count": 1,
   "id": "4db09afc",
   "metadata": {},
   "outputs": [
    {
     "name": "stdout",
     "output_type": "stream",
     "text": [
      "IPython autoawait is `on`, and set to use `asyncio`\n"
     ]
    }
   ],
   "source": [
    "%autoawait\n",
    "import time\n",
    "import asyncio\n",
    "from aries_basic_controller.aries_controller import AriesAgentController\n",
    "from termcolor import colored,cprint\n",
    "# I think this is because jupyter notebook also runs an event loop\n",
    "import nest_asyncio\n",
    "nest_asyncio.apply()\n",
    "import os\n",
    "\n",
    "api_key = os.getenv(\"ACAPY_ADMIN_API_KEY\")\n",
    "admin_url = os.getenv(\"ADMIN_URL\")\n",
    "\n",
    "\n",
    "# Based on the aca-py agent you wish to control\n",
    "agent_controller = AriesAgentController(admin_url=admin_url, api_key=api_key)\n",
    "\n",
    "# The location the controller spins up a service and listens for webhooks from the agent\n",
    "webhook_port = int(os.getenv(\"WEBHOOK_PORT\"))\n",
    "webhook_host = \"0.0.0.0\"\n",
    "\n",
    "agent_controller.init_webhook_server(webhook_host=webhook_host, webhook_port=webhook_port)"
   ]
  },
  {
   "cell_type": "markdown",
   "id": "156a1398",
   "metadata": {},
   "source": [
    "## 2. Start Webhook Server\n",
    "\n",
    "This starts an aiohttp server at the location specified by the WEBHOOK args above. This is how the controller receives webhooks from the agent, but it is the listeners and their handler functions that define how the application should react to this messages."
   ]
  },
  {
   "cell_type": "code",
   "execution_count": 2,
   "id": "174a91f1",
   "metadata": {},
   "outputs": [],
   "source": [
    "loop = asyncio.get_event_loop()\n",
    "loop.run_until_complete(agent_controller.listen_webhooks())"
   ]
  },
  {
   "cell_type": "markdown",
   "id": "4808ef03",
   "metadata": {},
   "source": [
    "## 3. Register Listeners for Webhook Topics\n",
    "\n",
    "This is the same as in notebook 4."
   ]
  },
  {
   "cell_type": "code",
   "execution_count": 3,
   "id": "0b0730e3",
   "metadata": {},
   "outputs": [
    {
     "name": "stdout",
     "output_type": "stream",
     "text": [
      "Subscribing too: issue_credential\n",
      "Subscribing too: connections\n"
     ]
    }
   ],
   "source": [
    "\n",
    "def cred_handler(payload):\n",
    "    print(\"Handle Credential Webhook Payload\")\n",
    "    exchange_id = payload['credential_exchange_id']\n",
    "    state = payload['state']\n",
    "    role = payload['role']\n",
    "    attributes = payload['credential_proposal_dict']['credential_proposal']['attributes']\n",
    "    print(f\"Credential exchange ID {exchange_id}\")\n",
    "    print(\"Agent Protocol Role\", role)\n",
    "    print(\"Protocol State \", state )\n",
    "    if state == \"offer_sent\":\n",
    "        print(\"Credential Offer with the following attributes sent \", attributes)\n",
    "    \n",
    "cred_listener = {\n",
    "    \"topic\": \"issue_credential\",\n",
    "    \"handler\": cred_handler\n",
    "}\n",
    "\n",
    "def connections_handler(payload):\n",
    "    print(\"Handle Connection Webhook Payload\")\n",
    "    connection_id = payload[\"connection_id\"]\n",
    "    print(\"Connection ID\", connection_id)\n",
    "\n",
    "    state = payload['state']\n",
    "    print(\"State\", state)\n",
    "    if state == 'active':\n",
    "#         print('Connection {0} changed state to active'.format(connection_id))\n",
    "        print(colored(\"Connection {0} changed state to active\".format(connection_id), \"red\", attrs=[\"bold\"]))\n",
    "\n",
    "\n",
    "connection_listener = {\n",
    "    \"handler\": connections_handler,\n",
    "    \"topic\": \"connections\"\n",
    "}\n",
    "\n",
    "agent_controller.register_listeners([cred_listener,connection_listener], defaults=True)\n"
   ]
  },
  {
   "cell_type": "markdown",
   "id": "070ee4b5",
   "metadata": {},
   "source": [
    "## 4. Fetch schema and definition identifiers"
   ]
  },
  {
   "cell_type": "code",
   "execution_count": 4,
   "id": "37c5a899",
   "metadata": {},
   "outputs": [
    {
     "name": "stdout",
     "output_type": "stream",
     "text": [
      "Successfully loaded identifiers required to issue Data Scientist credentials\n",
      "Schema : L2f3UYR1mm2dQHRsx6nX3E:2:OM Data Scientist:0.0.1\n",
      "Cred Def : E5C5jardyzNBkZwpHsTkiM:3:CL:6667:default\n"
     ]
    }
   ],
   "source": [
    "%store -r data_scientist_schema_id\n",
    "%store -r data_scientist_cred_def_id\n",
    "\n",
    "if data_scientist_schema_id and data_scientist_cred_def_id:\n",
    "    print(\"Successfully loaded identifiers required to issue Data Scientist credentials\")\n",
    "    print(\"Schema :\", data_scientist_schema_id)\n",
    "    print(\"Cred Def :\", data_scientist_cred_def_id)"
   ]
  },
  {
   "cell_type": "markdown",
   "id": "87d896ba",
   "metadata": {},
   "source": [
    "## 5. Populate Credential Attributes\n",
    "\n",
    "Again you can put whatever you would like in these attributes, but think about how they might be populated if the trusted authority was a research regulator or ethics body."
   ]
  },
  {
   "cell_type": "code",
   "execution_count": 5,
   "id": "6b4a2079",
   "metadata": {},
   "outputs": [
    {
     "name": "stdin",
     "output_type": "stream",
     "text": [
      "Please enter the name for the researcher:  Wip\n",
      "Please enter the scope of their research:  Health\n"
     ]
    },
    {
     "name": "stdout",
     "output_type": "stream",
     "text": [
      "[{'name': 'name', 'value': 'Wip'}, {'name': 'scope', 'value': 'Health'}]\n"
     ]
    }
   ],
   "source": [
    "\n",
    "name=input(\"Please enter the name for the researcher: \")\n",
    "scope=input(\"Please enter the scope of their research: \")\n",
    "credential_attributes = [\n",
    "    {\"name\": \"name\", \"value\": name},\n",
    "    {\"name\": \"scope\", \"value\": scope},\n",
    "]\n",
    "print(credential_attributes)"
   ]
  },
  {
   "cell_type": "markdown",
   "id": "25f06a7b",
   "metadata": {},
   "source": [
    "## 6. Add Listener to Issue this Credential\n",
    "\n",
    "Rather than issuing this credential in it's own notebook cell, we will react to connection's becoming active and automatically issue them with the Data Scientist credential.\n",
    "\n",
    "While automatically issuing credential's to any connection is likely to be frowned upon in realistic scenarios, this illustrates how listeners can be applied to handle more complex application functionality. We will see this used later in the course a lot.\n",
    "\n",
    "Notice how we can get the connection_id attribute from the webhook payload."
   ]
  },
  {
   "cell_type": "code",
   "execution_count": 6,
   "id": "87d8e93f",
   "metadata": {},
   "outputs": [
    {
     "name": "stdout",
     "output_type": "stream",
     "text": [
      "Subscribing too: connections\n"
     ]
    }
   ],
   "source": [
    "def issue_active_conn(payload):\n",
    "    connection_id = payload[\"connection_id\"]\n",
    "    state = payload['state']\n",
    "    print(\"State\", state)\n",
    "    if state == 'response':\n",
    "        # seems to need a sleep \n",
    "        time.sleep(1)\n",
    "        asyncio.get_event_loop().run_until_complete(agent_controller.messaging.trust_ping(connection_id, \"hey\"))\n",
    "    elif state == 'active':\n",
    "        asyncio.get_event_loop().run_until_complete(agent_controller.issuer.send_credential(connection_id, data_scientist_schema_id, data_scientist_cred_def_id, credential_attributes, trace=False))\n",
    "        \n",
    "\n",
    "active_conn_listener = {\n",
    "    \"topic\": \"connections\",\n",
    "    \"handler\": issue_active_conn\n",
    "}\n",
    "\n",
    "agent_controller.add_listener(active_conn_listener)"
   ]
  },
  {
   "cell_type": "markdown",
   "id": "19f64f1a",
   "metadata": {},
   "source": [
    "## 7. Establish A Connection with the Data Scientist\n",
    "\n",
    "Like in notebook 4. you will create request the om-authority-agent creates an invitation, however instead of diplaying this as a QR Code you will copy the invitation json across to the Data Scientist notebook labeled 5.\n",
    "\n",
    "The Data Scientist should be at port 8890, either at localhost if your are running this on your own machine or at the url for your aws instance.\n",
    "\n",
    "You may need to fetch the token for this jupyter instance using the `./scripts/get_URLS.sh` from the route of PyDentity if you have not done so already."
   ]
  },
  {
   "cell_type": "code",
   "execution_count": 8,
   "id": "a375014c",
   "metadata": {},
   "outputs": [
    {
     "name": "stdout",
     "output_type": "stream",
     "text": [
      "Connection ID 17622573-1b72-4199-8684-94dd1b037153\n",
      "Invitation - Copy The Object Below \n",
      "\n",
      "{'@type': 'did:sov:BzCbsNYhMrjHiqZDTUASHg;spec/connections/1.0/invitation', '@id': '3c8aadda-3405-4ef9-9968-92c14f016230', 'label': 'OpenMined', 'recipientKeys': ['CJhCVsrLAArEzjKqrbKnP2fquJ7aFCrzkRDQaYWhc9e1'], 'serviceEndpoint': 'https://9b18-86-18-68-143.ngrok.io'}\n",
      "\n",
      "\n",
      " ----------------------------------------\n",
      "Handle Connection Webhook Payload\n",
      "Connection ID 17622573-1b72-4199-8684-94dd1b037153\n",
      "State invitation\n",
      "State invitation\n",
      "Handle Connection Webhook Payload\n",
      "Connection ID 17622573-1b72-4199-8684-94dd1b037153\n",
      "State request\n",
      "State request\n",
      "Handle Connection Webhook Payload\n",
      "Connection ID 17622573-1b72-4199-8684-94dd1b037153\n",
      "State response\n",
      "State response\n",
      "Handle Connection Webhook Payload\n",
      "Connection ID 17622573-1b72-4199-8684-94dd1b037153\n",
      "State active\n",
      "\u001b[1m\u001b[31mConnection 17622573-1b72-4199-8684-94dd1b037153 changed state to active\u001b[0m\n",
      "State active\n",
      "Handle Credential Webhook Payload\n",
      "Credential exchange ID f57d3f13-2b92-467a-81e2-11c2774ed881\n",
      "Agent Protocol Role issuer\n",
      "Protocol State  offer_sent\n",
      "Credential Offer with the following attributes sent  [{'name': 'name', 'value': 'Wip'}, {'name': 'scope', 'value': 'Health'}]\n",
      "Handle Credential Webhook Payload\n",
      "Credential exchange ID f57d3f13-2b92-467a-81e2-11c2774ed881\n",
      "Agent Protocol Role issuer\n",
      "Protocol State  request_received\n",
      "Handle Credential Webhook Payload\n",
      "Credential exchange ID f57d3f13-2b92-467a-81e2-11c2774ed881\n",
      "Agent Protocol Role issuer\n",
      "Protocol State  credential_issued\n",
      "Handle Credential Webhook Payload\n",
      "Credential exchange ID f57d3f13-2b92-467a-81e2-11c2774ed881\n",
      "Agent Protocol Role issuer\n",
      "Protocol State  credential_acked\n"
     ]
    }
   ],
   "source": [
    "# Create Invitation\n",
    "invite = await agent_controller.connections.create_invitation()\n",
    "connection_id = invite[\"connection_id\"]\n",
    "print(\"Connection ID\", connection_id)\n",
    "print(\"Invitation - Copy The Object Below \\n\")\n",
    "print(invite[\"invitation\"])\n",
    "print(\"\\n\\n ----------------------------------------\")"
   ]
  },
  {
   "cell_type": "markdown",
   "id": "4f158acf",
   "metadata": {},
   "source": [
    "## Continue in the Data Scientist Notebook\n",
    "\n",
    "Be sure to come back here to review the webhook messages your receive after accepting the invitation. Pretty handy how your application reacted to the connection becoming active and immediately offered a credential to this connection."
   ]
  },
  {
   "cell_type": "markdown",
   "id": "d6707a39",
   "metadata": {},
   "source": [
    "## End of Notebook\n",
    "\n",
    "Great, once your data scientist has the credential this notebook is finished. Make sure you terminate the controller instance."
   ]
  },
  {
   "cell_type": "code",
   "execution_count": 9,
   "id": "e017b894",
   "metadata": {},
   "outputs": [],
   "source": [
    "await agent_controller.terminate()"
   ]
  },
  {
   "cell_type": "markdown",
   "id": "8908455c",
   "metadata": {},
   "source": [
    "## Continue to Notebook 6.\n",
    "\n",
    "This notebook is going to be a very similar flow to the one you just ran through here. You will be issuing the data owner a credential instead."
   ]
  }
 ],
 "metadata": {
  "kernelspec": {
   "display_name": "Python 3",
   "language": "python",
   "name": "python3"
  },
  "language_info": {
   "codemirror_mode": {
    "name": "ipython",
    "version": 3
   },
   "file_extension": ".py",
   "mimetype": "text/x-python",
   "name": "python",
   "nbconvert_exporter": "python",
   "pygments_lexer": "ipython3",
   "version": "3.8.5"
  }
 },
 "nbformat": 4,
 "nbformat_minor": 5
}

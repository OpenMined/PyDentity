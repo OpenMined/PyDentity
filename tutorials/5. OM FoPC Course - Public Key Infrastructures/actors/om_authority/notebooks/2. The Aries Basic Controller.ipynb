{
 "cells": [
  {
   "cell_type": "markdown",
   "metadata": {},
   "source": [
    "# The Aries Basic Controller\n",
    "\n",
    "The aries basic controller is a simple python library that wraps a swagger-api exposed by the [ACA-Py Agent implementation](https://github.com/hyperledger/aries-cloudagent-python). It is designed to enable easy, programatic interface between business logic of an application (this is what you will write) and the capabilities of the Hyperledger SSI stack currently implemented by this agent codebase as a series of protocols. These are all defined in [aries-rfcs](https://github.com/hyperledger/aries-rfcs)."
   ]
  },
  {
   "cell_type": "markdown",
   "metadata": {},
   "source": [
    "## The ACA-Py Swagger-API\n",
    "\n",
    "As we discussed in the [mental model for ssi application development](https://hackmd.io/YuQugi8dS0eAVuT1T1vaug) section of this course, aries agents are need to be controller. They understand a series of protocols and their associated messages which they can send and receive to other agents, but they do not know when to send them or what to do if they receive them.\n",
    "\n",
    "ACA-Py agents expose a swagger-api, defining a set of api endpoints you can use to communicate with an agent controlling it to create and send messages to other agents and they interact in defined aries protocols. You should be able to see the swagger documentation at this endpoint - http://localhost:8021/api/doc. Note if you are running this on a virtual machine such as an AWS EC2 instance you will need replace localhost with the IP address for that machine.\n",
    "\n",
    "Throughout this tutorial series you will be controlling the agents we have defined using this api. If you want to dive deeper into aries I highly recommend taking the time to go through this lab [OpenApi lab](https://github.com/cloudcompass/ToIPLabs/blob/master/docs/LFS173x/OpenAPIController.md) from the an [EdX course](https://www.edx.org/course/becoming-a-hyperledger-aries-developer).\n",
    "\n",
    "Instead of using the swagger interface to interact with the agents we will be using the aries-basic-controller. \n"
   ]
  },
  {
   "cell_type": "markdown",
   "metadata": {},
   "source": [
    "## Aries Basic Controller Library Structure\n",
    "\n",
    "The library is fairly straightforward. If you have a look into the [aries_basic_controller folder](https://github.com/OpenMined/PyDentity/tree/master/libs/aries-basic-controller/aries_basic_controller). You will see all the code for the library.\n",
    "\n",
    "The most important file is `aries_controller.py`, this contains the AriesAgentController class which is the class you will import and instatiate to control a specific ACA-Py instance.\n",
    "\n",
    "The other files are contained withing three folders:\n",
    "\n",
    "* **controllers/** - This has a file for each collection of api endpoints. As well as a base.py file which all other controllers extend handling the Restful logic through aiohttp.\n",
    "* **models/** - This currently only contains connection.py and is used to enable the controller to await a certain state change in a connection. More on this later.\n",
    "* **helpers/** - Some basic helper functions."
   ]
  },
  {
   "cell_type": "markdown",
   "metadata": {},
   "source": [
    "## Instantiating the a AriesAgentController"
   ]
  },
  {
   "cell_type": "code",
   "execution_count": 2,
   "metadata": {},
   "outputs": [],
   "source": [
    "# Import the AriesAgentController class from the library\n",
    "from aries_basic_controller.aries_controller import AriesAgentController\n",
    "import os\n",
    "\n",
    "# Fetch the correct arguments specified within the agents .env file\n",
    "# Configures the controller with the correct endpoint to send api requests too and an API key for security\n",
    "api_key = os.getenv(\"ACAPY_ADMIN_API_KEY\")\n",
    "admin_url = os.getenv(\"ADMIN_URL\")\n",
    "\n",
    "\n",
    "# Instantiate the AriesAgentController using the correct parameters\n",
    "agent_controller = AriesAgentController(admin_url=admin_url, api_key=api_key)"
   ]
  },
  {
   "cell_type": "markdown",
   "metadata": {},
   "source": [
    "## Initialising the Webhook Server\n",
    "\n",
    "This is a aiohttp server that listens for post requests from the ACA-Py instance. Running a webhook server is optional, but highly recommended. It provides a mechansism for the ACA-Py instance to let the business logic know about events that are triggered, such as recieving an AgentMessage across a specific connection."
   ]
  },
  {
   "cell_type": "code",
   "execution_count": 3,
   "metadata": {},
   "outputs": [],
   "source": [
    "# The location the controller spins up a service and listens for webhooks from the agent\n",
    "webhook_port = int(os.getenv(\"WEBHOOK_PORT\"))\n",
    "webhook_host = \"0.0.0.0\"\n",
    "\n",
    "agent_controller.init_webhook_server(webhook_host=webhook_host, webhook_port=webhook_port)"
   ]
  },
  {
   "cell_type": "markdown",
   "metadata": {},
   "source": [
    "## Understanding the Aries Basic Controller Listeners\n",
    "\n",
    "An instance of AriesAgentController acts as the middle man between the business logic of an application and an ACA-Py agent instance. The business logic can communicate with the ACA-Py instance by sending specific requests to the ADMIN_URL, these requests are implemented in the controllers folder of the aries-basic-controller library.\n",
    "\n",
    "However, the ACA-Py agent instance also needs to be able to communicate to the business logic of the application. When the agent recieves a message from another agent over a connection, the business logic needs to be able to interpret that message and if needs be respond by communicating through the controller to the agent to take some action.\n",
    "\n",
    "This is handled through ACA-Py using webhooks. Whenever an ACA-Py agent receives a message, if webhooks are configured (ACAPY_WEBHOOK_URL env var), then generally they post a webhook event identified through the key word topic to the specified endpoint. \n",
    "\n",
    "For an instance of AriesBasicController to be listening for these webhook events you must initialise the server by calling:"
   ]
  },
  {
   "cell_type": "code",
   "execution_count": 4,
   "metadata": {},
   "outputs": [],
   "source": [
    "await agent_controller.listen_webhooks()"
   ]
  },
  {
   "cell_type": "markdown",
   "metadata": {},
   "source": [
    "This means that the controller is receiving api requests sent to this endpoint and calling the recieve_webhook function:\n",
    "\n",
    "```app.add_routes([web.post(self.webhook_base + \"/topic/{topic}/\", self._receive_webhook)])```\n",
    "\n",
    "The controller then uses the [PyPubSub](https://pypubsub.readthedocs.io/en/v4.0.3/) library to emit events for every webhook they receive:\n",
    "\n",
    "```    async def handle_webhook(self, topic, payload):\n",
    "        logging.debug(f\"Handle Webhook - {topic}\", payload)\n",
    "        pub.sendMessage(topic, payload=payload)\n",
    "        return web.Response(status=200)```\n",
    "\n",
    "It is up to the business logic of the application (*YOU THE DEVELOPER*) to register listeners for the topic events that your application is interested in and the handler functions specifying how the application will respond to these events.\n",
    "\n",
    "You can register listeners like this:"
   ]
  },
  {
   "cell_type": "markdown",
   "metadata": {},
   "source": [
    "**Note: Topics are all defined by ACA-Py. Generally there is a topic for each protocol**"
   ]
  },
  {
   "cell_type": "code",
   "execution_count": 5,
   "metadata": {},
   "outputs": [
    {
     "name": "stdout",
     "output_type": "stream",
     "text": [
      "Subscribing too: sometopic\n"
     ]
    }
   ],
   "source": [
    "def some_handler(payload):\n",
    "    print(\"WRITE YOUR BUSINESS LOGIC HERE\")\n",
    "\n",
    "## The topic must match the topic used by the agent for the webhook.\n",
    "some_listener = {\n",
    "    \"handler\": some_handler,\n",
    "    \"topic\": \"sometopic\"\n",
    "}\n",
    "\n",
    "## You can add as many listeners into this array as you want\n",
    "## The basic controller also specifies some optional default listeners \n",
    "## which help update state (see controllers/connection.py) and have some helpful print statements\n",
    "agent_controller.register_listeners([some_listener], defaults=True)"
   ]
  },
  {
   "cell_type": "markdown",
   "metadata": {},
   "source": [
    "### You can also add listeners one at a time.\n",
    "\n",
    "And add more than one listener for the same topic. This is useful in larger applications where multiple processes need to react to a trigger from the agent.\n",
    "\n",
    "![PyPubSub figure](https://pypubsub.readthedocs.io/en/v4.0.3/_images/pubsub_concept.png)"
   ]
  },
  {
   "cell_type": "code",
   "execution_count": 6,
   "metadata": {},
   "outputs": [
    {
     "name": "stdout",
     "output_type": "stream",
     "text": [
      "Subscribing too: sometopic\n"
     ]
    }
   ],
   "source": [
    "def some_handler2(payload):\n",
    "\n",
    "    print(\"listener 2\")\n",
    "    # Some other custom function\n",
    "\n",
    "    \n",
    "some_listener2 = {\n",
    "    \"handler\": some_handler2,\n",
    "    \"topic\": \"sometopic\"\n",
    "}\n",
    "\n",
    "agent_controller.add_listener(some_listener2)"
   ]
  },
  {
   "cell_type": "markdown",
   "metadata": {},
   "source": [
    "### Listeners can be removed individually"
   ]
  },
  {
   "cell_type": "code",
   "execution_count": 7,
   "metadata": {},
   "outputs": [],
   "source": [
    "agent_controller.remove_listener(some_listener2)"
   ]
  },
  {
   "cell_type": "markdown",
   "metadata": {},
   "source": [
    "### And by topic\n",
    "\n",
    "If topic == None then all listeners will be removed."
   ]
  },
  {
   "cell_type": "code",
   "execution_count": 8,
   "metadata": {},
   "outputs": [],
   "source": [
    "topic = \"sometopic\"\n",
    "agent_controller.remove_all_listeners(topic)\n",
    "\n"
   ]
  },
  {
   "cell_type": "markdown",
   "metadata": {},
   "source": [
    "## Terminating the Controller\n",
    "\n",
    "At the end of all notebook the controller instance must be terminated, so that a new one can be created in following tutorials. If you run into errors around port already in use, you likely forgot to terminate a controller instance from a previous tutorial."
   ]
  },
  {
   "cell_type": "code",
   "execution_count": 9,
   "metadata": {},
   "outputs": [],
   "source": [
    "await agent_controller.terminate()"
   ]
  },
  {
   "cell_type": "markdown",
   "metadata": {},
   "source": [
    "# Continue to Part 3\n",
    "\n",
    "Great, now you should have a better idea about what the aries-basic-controller actually is. Throughout the rest of these notebooks we will be using this package to facillitate common interaction flows between the different agents in our scenario.\n",
    "\n",
    "First up is how to initialise an agent as an issuing authority on the public ledger.\n",
    "\n"
   ]
  },
  {
   "cell_type": "code",
   "execution_count": null,
   "metadata": {},
   "outputs": [],
   "source": []
  }
 ],
 "metadata": {
  "kernelspec": {
   "display_name": "Python 3",
   "language": "python",
   "name": "python3"
  },
  "language_info": {
   "codemirror_mode": {
    "name": "ipython",
    "version": 3
   },
   "file_extension": ".py",
   "mimetype": "text/x-python",
   "name": "python",
   "nbconvert_exporter": "python",
   "pygments_lexer": "ipython3",
   "version": "3.8.5"
  }
 },
 "nbformat": 4,
 "nbformat_minor": 4
}

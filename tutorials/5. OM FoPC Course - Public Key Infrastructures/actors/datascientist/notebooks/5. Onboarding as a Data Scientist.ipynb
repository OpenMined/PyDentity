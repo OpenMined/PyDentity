{
 "cells": [
  {
   "cell_type": "markdown",
   "id": "93c6a726",
   "metadata": {},
   "source": [
    "# Onboarding as a Data Scientist\n",
    "\n",
    "This notebook is the Data Scientist view of part 5. You should have already run through steps 1-7 in the OM Authority notebook 5. If you have not done so proceed to port 8888 (either localhost or aws) and complete the steps in notebook `5. Onboarding a Data Scientist` first.\n",
    "\n"
   ]
  },
  {
   "cell_type": "markdown",
   "id": "dda50dd1",
   "metadata": {},
   "source": [
    "## 8. Initialising the Data Scientist Controller\n",
    "\n",
    "This is very similar to the code used for the OM Authority accept the arguments used to configure the AriesAgentController are different.\n",
    "\n",
    "The point to the ports and webhook location used when starting the data-scientist-agent ACA-Py instance. You can see these arguments in the `manage` script line 145.\n"
   ]
  },
  {
   "cell_type": "code",
   "execution_count": 1,
   "id": "7d339ef7",
   "metadata": {},
   "outputs": [
    {
     "name": "stdout",
     "output_type": "stream",
     "text": [
      "IPython autoawait is `on`, and set to use `asyncio`\n"
     ]
    }
   ],
   "source": [
    "%autoawait\n",
    "import time\n",
    "import asyncio\n",
    "from termcolor import colored,cprint\n",
    "\n",
    "from aries_basic_controller.aries_controller import AriesAgentController\n",
    "import os\n",
    "\n",
    "api_key = os.getenv(\"ACAPY_ADMIN_API_KEY\")\n",
    "admin_url = os.getenv(\"ADMIN_URL\")\n",
    "\n",
    "\n",
    "# Based on the aca-py agent you wish to control\n",
    "agent_controller = AriesAgentController(admin_url=admin_url, api_key=api_key)\n",
    "\n",
    "# The location the controller spins up a service and listens for webhooks from the agent\n",
    "webhook_port = int(os.getenv(\"WEBHOOK_PORT\"))\n",
    "webhook_host = \"0.0.0.0\"\n",
    "\n",
    "agent_controller.init_webhook_server(webhook_host=webhook_host, webhook_port=webhook_port)"
   ]
  },
  {
   "cell_type": "markdown",
   "id": "b20ac8aa",
   "metadata": {},
   "source": [
    "## 9. Start Webhook Server and Register Listeners\n",
    "\n",
    "We register listeners for the connections and issue-credential topic as before. However, the output will be slightly different because the Data Scientist is on the other side of the protocol to the OM Authority. We could not see any webhooks from this side before because they were managed by the mobile application you used."
   ]
  },
  {
   "cell_type": "code",
   "execution_count": 2,
   "id": "87fa9d20",
   "metadata": {},
   "outputs": [
    {
     "name": "stdout",
     "output_type": "stream",
     "text": [
      "Subscribing too: issue_credential\n",
      "Subscribing too: connections\n"
     ]
    }
   ],
   "source": [
    "loop = asyncio.get_event_loop()\n",
    "loop.create_task(agent_controller.listen_webhooks())\n",
    "\n",
    "\n",
    "def cred_handler(payload):\n",
    "    print(\"Handle Credential Webhook Payload\")\n",
    "    exchange_id = payload['credential_exchange_id']\n",
    "    state = payload['state']\n",
    "    role = payload['role']\n",
    "    attributes = payload['credential_proposal_dict']['credential_proposal']['attributes']\n",
    "    print(f\"Credential exchange ID {exchange_id}\")\n",
    "    print(\"Agent Protocol Role\", role)\n",
    "    print(\"Protocol State \", state )\n",
    "    if state == \"offer_recieved\" and role == \"holder\":\n",
    "        print(f\"You are being offered a credential with the following: {attributes}\")\n",
    "    if state == \"credential_acked\":\n",
    "        print(colored(\"Your agent has stored the credential in it's wallet\", \"green\", attrs=[\"bold\"]))\n",
    "    \n",
    "cred_listener = {\n",
    "    \"topic\": \"issue_credential\",\n",
    "    \"handler\": cred_handler\n",
    "}\n",
    "\n",
    "def connections_handler(payload):\n",
    "    print(\"Handle Connection Webhook Payload\")\n",
    "    connection_id = payload[\"connection_id\"]\n",
    "    print(\"Connection ID\", connection_id)\n",
    "\n",
    "    state = payload['state']\n",
    "    print(\"State\", state)\n",
    "    if state == 'active':\n",
    "#         print('Connection {0} changed state to active'.format(connection_id))\n",
    "        print(colored(\"Connection {0} changed state to active\".format(connection_id), \"red\", attrs=[\"bold\"]))\n",
    "\n",
    "\n",
    "connection_listener = {\n",
    "    \"handler\": connections_handler,\n",
    "    \"topic\": \"connections\"\n",
    "}\n",
    "\n",
    "agent_controller.register_listeners([cred_listener,connection_listener], defaults=True)"
   ]
  },
  {
   "cell_type": "markdown",
   "id": "c6a4ba35",
   "metadata": {},
   "source": [
    "## 10. Copy Invitation from OM Authority\n",
    "\n",
    "You should have **copied** the invitation object output from step 7. in the OM Authority notebook. **First** paste that over the example object shown below, **then** run the cell."
   ]
  },
  {
   "cell_type": "code",
   "execution_count": 5,
   "id": "21e89fa1",
   "metadata": {},
   "outputs": [],
   "source": [
    "invitation = {'@type': 'did:sov:BzCbsNYhMrjHiqZDTUASHg;spec/connections/1.0/invitation', '@id': '3c8aadda-3405-4ef9-9968-92c14f016230', 'label': 'OpenMined', 'recipientKeys': ['CJhCVsrLAArEzjKqrbKnP2fquJ7aFCrzkRDQaYWhc9e1'], 'serviceEndpoint': 'https://9b18-86-18-68-143.ngrok.io'}"
   ]
  },
  {
   "cell_type": "markdown",
   "id": "24d364f7",
   "metadata": {},
   "source": [
    "## 11. Receive Invitation\n",
    "\n",
    "Pay attention to the webhook messages that get output as the datascientist-agent exchanges messages with the om-authority. First messages are from the connections topic handler and then the issue-credential handler.\n",
    "\n",
    "In this instance the Data Scientist agent is configured to accept any credentials it gets offered through a flag passed into the `aca-py start` command.\n",
    "\n",
    "The flags set on all agents in this notebook series are in their respective .env files\n",
    "\n",
    "They are:\n",
    "\n",
    "* ACAPY_AUTO_ACCEPT_INVITES=true\n",
    "* ACAPY_AUTO_ACCEPT_REQUESTS=true\n",
    "* ACAPY_AUTO_PING_CONNECTION=true\n",
    "* ACAPY_AUTO_RESPOND_MESSAGES=true\n",
    "* ACAPY_AUTO_RESPOND_CREDENTIAL_PROPOSAL=true\n",
    "* ACAPY_AUTO_RESPOND_CREDENTIAL_OFFER=true\n",
    "* ACAPY_AUTO_RESPOND_CREDENTIAL_REQUEST=true\n",
    "* ACAPY_AUTO_RESPOND_PRESENTATION_PROPOSAL=true\n",
    "* ACAPY_AUTO_RESPOND_PRESENTATION_REQUEST=true\n",
    "* ACAPY_AUTO_STORE_CREDENTIAL=true\n",
    "* ACAPY_AUTO_VERIFY_PRESENTATION=true\n",
    "* ACAPY_PRESERVE_EXCHANGE_RECORDS=true\n",
    "\n"
   ]
  },
  {
   "cell_type": "code",
   "execution_count": 7,
   "id": "e03c2dcf",
   "metadata": {},
   "outputs": [
    {
     "name": "stdout",
     "output_type": "stream",
     "text": [
      "Handle Connection Webhook Payload\n",
      "Connection ID 17e911e0-9061-491a-a9c3-34078b4c96de\n",
      "State invitation\n",
      "Handle Connection Webhook Payload\n",
      "Connection ID 17e911e0-9061-491a-a9c3-34078b4c96de\n",
      "State request\n"
     ]
    },
    {
     "data": {
      "text/plain": [
       "{'my_did': 'BPJLH3NttWGPFw2WLdkn6b',\n",
       " 'routing_state': 'none',\n",
       " 'updated_at': '2021-10-08 11:48:01.101170Z',\n",
       " 'invitation_key': 'CJhCVsrLAArEzjKqrbKnP2fquJ7aFCrzkRDQaYWhc9e1',\n",
       " 'invitation_mode': 'once',\n",
       " 'created_at': '2021-10-08 11:48:01.085715Z',\n",
       " 'accept': 'auto',\n",
       " 'state': 'request',\n",
       " 'their_label': 'OpenMined',\n",
       " 'request_id': 'e144c3db-174d-4a0f-9364-eeaa8368c80d',\n",
       " 'connection_id': '17e911e0-9061-491a-a9c3-34078b4c96de',\n",
       " 'their_role': 'inviter',\n",
       " 'rfc23_state': 'request-sent'}"
      ]
     },
     "execution_count": 7,
     "metadata": {},
     "output_type": "execute_result"
    },
    {
     "name": "stdout",
     "output_type": "stream",
     "text": [
      "Handle Connection Webhook Payload\n",
      "Connection ID 17e911e0-9061-491a-a9c3-34078b4c96de\n",
      "State response\n",
      "Handle Connection Webhook Payload\n",
      "Connection ID 17e911e0-9061-491a-a9c3-34078b4c96de\n",
      "State active\n",
      "\u001b[1m\u001b[31mConnection 17e911e0-9061-491a-a9c3-34078b4c96de changed state to active\u001b[0m\n",
      "Handle Credential Webhook Payload\n",
      "Credential exchange ID cc305207-9c17-41ea-b757-63d6a950207e\n",
      "Agent Protocol Role holder\n",
      "Protocol State  offer_received\n",
      "Handle Credential Webhook Payload\n",
      "Credential exchange ID cc305207-9c17-41ea-b757-63d6a950207e\n",
      "Agent Protocol Role holder\n",
      "Protocol State  request_sent\n",
      "Handle Credential Webhook Payload\n",
      "Credential exchange ID cc305207-9c17-41ea-b757-63d6a950207e\n",
      "Agent Protocol Role holder\n",
      "Protocol State  credential_received\n",
      "Handle Credential Webhook Payload\n",
      "Credential exchange ID cc305207-9c17-41ea-b757-63d6a950207e\n",
      "Agent Protocol Role holder\n",
      "Protocol State  credential_acked\n",
      "\u001b[1m\u001b[32mYour agent has stored the credential in it's wallet\u001b[0m\n"
     ]
    }
   ],
   "source": [
    "await agent_controller.connections.receive_invitation(invitation)"
   ]
  },
  {
   "cell_type": "markdown",
   "id": "49d33c7b",
   "metadata": {},
   "source": [
    "## 12. Review the output from the webhook listeners in the OM Authority notebook\n",
    "\n",
    "The state from the issue-credential webhook payloads should be slightly different.\n",
    "\n",
    "Don't forget to terminate the AriesAgentController in this tutorial"
   ]
  },
  {
   "cell_type": "code",
   "execution_count": 8,
   "id": "9ba320ca",
   "metadata": {},
   "outputs": [],
   "source": [
    "await agent_controller.terminate()"
   ]
  },
  {
   "cell_type": "markdown",
   "id": "f5871da4",
   "metadata": {},
   "source": [
    "## Continue to Notebook 6.\n",
    "\n",
    "Remember to start in the OM Authority jupyter notebook. We will not be interacting with the data scientist for this set of notebooks."
   ]
  },
  {
   "cell_type": "code",
   "execution_count": null,
   "id": "9965fc18",
   "metadata": {},
   "outputs": [],
   "source": []
  }
 ],
 "metadata": {
  "kernelspec": {
   "display_name": "Python 3",
   "language": "python",
   "name": "python3"
  },
  "language_info": {
   "codemirror_mode": {
    "name": "ipython",
    "version": 3
   },
   "file_extension": ".py",
   "mimetype": "text/x-python",
   "name": "python",
   "nbconvert_exporter": "python",
   "pygments_lexer": "ipython3",
   "version": "3.8.5"
  }
 },
 "nbformat": 4,
 "nbformat_minor": 5
}

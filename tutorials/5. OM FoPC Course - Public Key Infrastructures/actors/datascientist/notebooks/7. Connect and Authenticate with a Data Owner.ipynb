{
 "cells": [
  {
   "cell_type": "markdown",
   "id": "0566f9ca",
   "metadata": {},
   "source": [
    "# Connect and Authenticate with a Data Owner\n",
    "\n",
    "As a Data Scientist, you want to be able to connect with data owners and verify that they actually have the data that you are looking for before engaging in any privacy-preserving machine learning flows.\n",
    "\n",
    "In this notebook you will learn how to do that, requesting the data owner proves that they have a Data Owner credential issued from the OM Authority.\n",
    "\n",
    "**You Should have started with the Data Owner. Port 8889**"
   ]
  },
  {
   "cell_type": "markdown",
   "id": "ad462866",
   "metadata": {},
   "source": [
    "## 5. Initialise the Data Scientist Controller\n",
    "\n",
    "We will just use the basic controller on it's own in this notebook so this code should feel quite familiar. We will not be managing a list of trusted connections in this notebook, instead we will be focusing on the present-proof protocol in detail."
   ]
  },
  {
   "cell_type": "code",
   "execution_count": 1,
   "id": "dcbaddc7",
   "metadata": {},
   "outputs": [
    {
     "name": "stdout",
     "output_type": "stream",
     "text": [
      "IPython autoawait is `on`, and set to use `asyncio`\n"
     ]
    }
   ],
   "source": [
    "%autoawait\n",
    "import time\n",
    "import asyncio\n",
    "from termcolor import colored,cprint\n",
    "\n",
    "from aries_basic_controller.aries_controller import AriesAgentController\n",
    "    \n",
    "\n",
    "import os\n",
    "\n",
    "api_key = os.getenv(\"ACAPY_ADMIN_API_KEY\")\n",
    "admin_url = os.getenv(\"ADMIN_URL\")\n",
    "\n",
    "\n",
    "# Based on the aca-py agent you wish to control\n",
    "agent_controller = AriesAgentController(admin_url=admin_url, api_key=api_key)\n",
    "\n",
    "# The location the controller spins up a service and listens for webhooks from the agent\n",
    "webhook_port = int(os.getenv(\"WEBHOOK_PORT\"))\n",
    "webhook_host = \"0.0.0.0\"\n",
    "\n",
    "agent_controller.init_webhook_server(webhook_host=webhook_host, webhook_port=webhook_port)"
   ]
  },
  {
   "cell_type": "markdown",
   "id": "206eb693",
   "metadata": {},
   "source": [
    "## 6. Listen to Webhooks and Register Listeners\n",
    "\n",
    "In these listeners we dig into the messages getting communicated between agents as part of the present-proof protocol. Similar to the issue-credential protocol in part 6."
   ]
  },
  {
   "cell_type": "code",
   "execution_count": 2,
   "id": "3e7831cd",
   "metadata": {},
   "outputs": [
    {
     "name": "stdout",
     "output_type": "stream",
     "text": [
      "Subscribing too: present_proof\n",
      "Subscribing too: connections\n"
     ]
    }
   ],
   "source": [
    "loop = asyncio.get_event_loop()\n",
    "loop.create_task(agent_controller.listen_webhooks())\n",
    "\n",
    "\n",
    "def proof_handler(payload):\n",
    "    role = payload[\"role\"]\n",
    "    connection_id = payload[\"connection_id\"]\n",
    "    pres_ex_id = payload[\"presentation_exchange_id\"]\n",
    "    state = payload[\"state\"]\n",
    "    print(\"\\n---------------------------------------------------------------------\\n\")\n",
    "    print(\"Handle present-proof\")\n",
    "    print(\"Connection ID : \", connection_id)\n",
    "    print(\"Presentation Exchange ID : \", pres_ex_id)\n",
    "    print(\"Protocol State : \", state)\n",
    "    print(\"Agent Role : \", role)\n",
    "    print(\"Initiator : \", payload[\"initiator\"])\n",
    "    print(\"\\n---------------------------------------------------------------------\\n\")\n",
    "    \n",
    "\n",
    "    if state == \"request_received\":\n",
    "        presentation_request = payload[\"presentation_request\"]\n",
    "        print(\"Recieved Presentation Object\\n\")\n",
    "        print(presentation_request)\n",
    "        print(\"\\nName : \", presentation_request[\"name\"])\n",
    "        print(\"\\nRequested Attributes - Note the restrictions. These limit the credentials we could respond with\\n\")\n",
    "        print(presentation_request[\"requested_attributes\"])\n",
    "        print(\"\\nThere is also a requested_predicates object, which is empty because we did not request any\")\n",
    "        print(\"\\nAnd as with issue credential we have a nonce, which gives the issuer confidence in the liveness of the presentation\\n\")\n",
    "        print(presentation_request[\"nonce\"])\n",
    "    elif state == \"presentation_sent\":\n",
    "        \n",
    "        print(\"The Presentation object is a bit overwhelming. Let's look at it in detail\\n\")\n",
    "        presentation = payload[\"presentation\"]\n",
    "        \n",
    "        print(\"\\nThe Requested Proof object contains revealed, unrevealed, self-attested and predicate attributes\\n\")\n",
    "        print(presentation[\"requested_proof\"])\n",
    "        print(\"\\nThe revealed attributes contains the raw and encoded version of the scope attribute. As well as an index into the proof object we will look at later.\\n\")\n",
    "        print(presentation[\"requested_proof\"][\"revealed_attrs\"])\n",
    "        \n",
    "        print(\"\\nAll identifiers associated with the presentation\")\n",
    "        print(presentation[\"identifiers\"])\n",
    "        \n",
    "        print(\"\\nThen the Proof object - the crypto bit\\n\")\n",
    "        proof = presentation[\"proof\"]\n",
    "        print(proof)\n",
    "        \n",
    "        print(\"\\nThis contains an array of proofs, one element for each attribute disclosed (I think)\\n\")\n",
    "        print(proof[\"proofs\"])\n",
    "        \n",
    "        print(\"\\nEach proof element contains a primary proof and a proof of non-revocation (which will be empty)\\n\")\n",
    "        proof_elem = proof[\"proofs\"][0]\n",
    "        print(proof_elem)\n",
    "        \n",
    "        print(\"\\nEach primary proof contains an eq_proof, which is where all the numbers are for the crypto proving an attribute disclosed really is equal to the one signed\\n\")\n",
    "        print(proof_elem[\"primary_proof\"][\"eq_proof\"])\n",
    "        \n",
    "        print(\"\\nFinally the proofs are combined into a single aggregated proof object\\n\")\n",
    "        print(proof[\"aggregated_proof\"])\n",
    "        \n",
    "        print(\"\\nNotice again the c_hash, this is the challenge for the non-interactive ZKP proof which is verifying this presentation\\n\")\n",
    "        \n",
    "    \n",
    "        \n",
    "        \n",
    "        \n",
    "    elif state == \"presentation_acked\":\n",
    "        print(\"Presentation has been acknowledged by the Issuer\")\n",
    "    elif state == \"request_sent\":\n",
    "        print(\"Presentation Request\\n\")\n",
    "        print(payload[\"presentation_request\"])\n",
    "        print(\"\\nThe presentation request is encoded in base64 and packaged into a DIDComm Message\\n\")\n",
    "        print(payload[\"presentation_request_dict\"])\n",
    "        print(\"\\nNote the type defines the protocol present-proof and the message request-presentation\\n\")\n",
    "        print(payload[\"presentation_request_dict\"][\"@type\"])\n",
    "    elif state == \"presentation_received\":\n",
    "        print(\"Presentation Received\")\n",
    "        print(\"We will not go into detail on this payload as it is comparable to the presentation_sent we looked at in the earlier cell.\")\n",
    "        print(\"This is the full payload\\n\")\n",
    "        print(payload)\n",
    "    else:\n",
    "        print(\"Paload \\n\")\n",
    "        print(payload)\n",
    "    \n",
    "\n",
    "proof_listener = {\n",
    "    \"handler\": proof_handler,\n",
    "    \"topic\": \"present_proof\"\n",
    "}   \n",
    "\n",
    "def connections_handler(payload):\n",
    "    print(\"Handle Connection Webhook Payload\")\n",
    "    connection_id = payload[\"connection_id\"]\n",
    "    print(\"Connection ID\", connection_id)\n",
    "\n",
    "    state = payload['state']\n",
    "    print(\"State\", state)\n",
    "    if state == 'active':\n",
    "#         print('Connection {0} changed state to active'.format(connection_id))\n",
    "        print(colored(\"Connection {0} changed state to active\".format(connection_id), \"red\", attrs=[\"bold\"]))\n",
    "\n",
    "\n",
    "connection_listener = {\n",
    "    \"handler\": connections_handler,\n",
    "    \"topic\": \"connections\"\n",
    "}\n",
    "\n",
    "agent_controller.register_listeners([proof_listener,connection_listener], defaults=True)"
   ]
  },
  {
   "cell_type": "markdown",
   "id": "f5248c1c",
   "metadata": {},
   "source": [
    "## 7 Accept Invitation from Data Owner"
   ]
  },
  {
   "cell_type": "code",
   "execution_count": 3,
   "id": "01e2a4d0",
   "metadata": {},
   "outputs": [],
   "source": [
    "invite = {\"@type\": \"did:sov:BzCbsNYhMrjHiqZDTUASHg;spec/connections/1.0/invitation\", \"@id\": \"8d1f303f-d016-47b0-a7e0-c5c13767fb31\", \"serviceEndpoint\": \"https://7dcdd89ac407.ngrok.io\", \"label\": \"DATAOWNER\", \"recipientKeys\": [\"ETJiKCegPewtn2jRkamy2BHtgpZ5J894ypYJUaKn9pJa\"]}\n"
   ]
  },
  {
   "cell_type": "markdown",
   "id": "a42cdad2",
   "metadata": {},
   "source": [
    "### BE SURE TO SCROLL THROUGH THE OUTPUT TO SEE A BREAKDOWN OF THE AGENT MESSAGES EXCHANGED"
   ]
  },
  {
   "cell_type": "code",
   "execution_count": 4,
   "id": "36a4bf11",
   "metadata": {},
   "outputs": [
    {
     "name": "stdout",
     "output_type": "stream",
     "text": [
      "wallet None\n",
      "Handle Connection Webhook Payload\n",
      "Connection ID 9035fd3a-8759-45b6-acad-23b08861ae72\n",
      "State invitation\n",
      "wallet None\n",
      "Handle Connection Webhook Payload\n",
      "Connection ID 9035fd3a-8759-45b6-acad-23b08861ae72\n",
      "State request\n",
      "wallet None\n",
      "Handle Connection Webhook Payload\n",
      "Connection ID 9035fd3a-8759-45b6-acad-23b08861ae72\n",
      "State response\n",
      "wallet None\n",
      "Handle Connection Webhook Payload\n",
      "Connection ID 9035fd3a-8759-45b6-acad-23b08861ae72\n",
      "State active\n",
      "\u001b[1m\u001b[31mConnection 9035fd3a-8759-45b6-acad-23b08861ae72 changed state to active\u001b[0m\n",
      "wallet None\n",
      "\n",
      "---------------------------------------------------------------------\n",
      "\n",
      "Handle present-proof\n",
      "Connection ID :  9035fd3a-8759-45b6-acad-23b08861ae72\n",
      "Presentation Exchange ID :  f86f561b-78e5-49a8-9b17-86d306e223a2\n",
      "Protocol State :  request_received\n",
      "Agent Role :  prover\n",
      "Initiator :  external\n",
      "\n",
      "---------------------------------------------------------------------\n",
      "\n",
      "Recieved Presentation Object\n",
      "\n",
      "{'name': 'Proof of Scientist', 'version': '1.0', 'requested_attributes': {'0_scope_uuid': {'name': 'scope', 'restrictions': [{'schema_id': 'Sgg1wREgfEwbEPCQn9xEuE:2:OM Data Scientist:0.0.1'}]}}, 'requested_predicates': {}, 'nonce': '848054086742672710612935'}\n",
      "\n",
      "Name :  Proof of Scientist\n",
      "\n",
      "Requested Attributes - Note the restrictions. These limit the credentials we could respond with\n",
      "\n",
      "{'0_scope_uuid': {'name': 'scope', 'restrictions': [{'schema_id': 'Sgg1wREgfEwbEPCQn9xEuE:2:OM Data Scientist:0.0.1'}]}}\n",
      "\n",
      "There is also a requested_predicates object, which is empty because we did not request any\n",
      "\n",
      "And as with issue credential we have a nonce, which gives the issuer confidence in the liveness of the presentation\n",
      "\n",
      "848054086742672710612935\n",
      "wallet None\n",
      "\n",
      "---------------------------------------------------------------------\n",
      "\n",
      "Handle present-proof\n",
      "Connection ID :  9035fd3a-8759-45b6-acad-23b08861ae72\n",
      "Presentation Exchange ID :  f86f561b-78e5-49a8-9b17-86d306e223a2\n",
      "Protocol State :  presentation_sent\n",
      "Agent Role :  prover\n",
      "Initiator :  external\n",
      "\n",
      "---------------------------------------------------------------------\n",
      "\n",
      "The Presentation object is a bit overwhelming. Let's look at it in detail\n",
      "\n",
      "\n",
      "The Requested Proof object contains revealed, unrevealed, self-attested and predicate attributes\n",
      "\n",
      "{'revealed_attrs': {'0_scope_uuid': {'sub_proof_index': 0, 'raw': 'Health', 'encoded': '38689563200842676527059703307142261488144249622422333427516415160904487384964'}}, 'self_attested_attrs': {}, 'unrevealed_attrs': {}, 'predicates': {}}\n",
      "\n",
      "The revealed attributes contains the raw and encoded version of the scope attribute. As well as an index into the proof object we will look at later.\n",
      "\n",
      "{'0_scope_uuid': {'sub_proof_index': 0, 'raw': 'Health', 'encoded': '38689563200842676527059703307142261488144249622422333427516415160904487384964'}}\n",
      "\n",
      "All identifiers associated with the presentation\n",
      "[{'schema_id': 'Sgg1wREgfEwbEPCQn9xEuE:2:OM Data Scientist:0.0.1', 'cred_def_id': 'S4yxhygNRJ78ZTS93fThL3:3:CL:188831:default', 'rev_reg_id': None, 'timestamp': None}]\n",
      "\n",
      "Then the Proof object - the crypto bit\n",
      "\n",
      "{'proofs': [{'primary_proof': {'eq_proof': {'revealed_attrs': {'scope': '38689563200842676527059703307142261488144249622422333427516415160904487384964'}, 'a_prime': '34651392916182969096865752040034724922331618865527318586503328664127317039353568591550998820158160377327531845942762357281096121287689005053916409214750034435670489356968888893966229042406202099646371520428301278343251051786924525590677930847292365296719867183705326353830872289130806650980079834166514843130499924591610347856226686042679123903424928640418514836314214270794918782487736547600120795597136506913894201314504035007239953526358419646303184979319509051465801313404066761731972022984977748381263705816623024047950829468861392530433241130641630715882080301634958980976734392534804610999128399154520019606019', 'e': '5251755334846896584325866859744420905847430562224732141116139956353537038654518572256683162258546166833487308030867841162460412606842847', 'v': '123300796435556783752424192681766239933058183025932322957349255260394453340599301522810930292378154541889299689374438918946021745360705813677046696530112844281275493904401953575910215596926369572515164461446941776137449964205785662753741771273616224682487342281719319045490293641036294664404339183805025655241828823563535100171149287405182383274262888370855233447835288679785523659651746520722500754991201599292862401915192663675083142650716717514097464347152670230286177658134019378863562284597068236860824995264181411166316731289652139822490301581258171452587621927050781804335096275523439782798884610757258137422419242284243934010909910094009822181065749463961955827855228720394170972851163075803639520138982374212910206365962034129807538641870116410733685563404681471774355806257474971981259720153815221004362630396600345393747795764020366217552349897904886419086597697452733680999634975041283205140613149143525549518', 'm': {'master_secret': '925882892925755204257750991070164358067024850332010143630772594297276420577108510697783309198664050127328561983403911530838653585898506271598430927937533816111184689739132924351', 'name': '832549645549716726305485523690051465697590163305495098572093453425531225228243632935913738310115407370435486793512319940810678184120884946575723496151048697265662789215561965865'}, 'm2': '4115892942811906836509123445354326587099568018969657587268430853327134394266927380842052169976193421377656463397366580727761351635748892797420924671359220511761446056798800189381'}, 'ge_proofs': []}, 'non_revoc_proof': None}], 'aggregated_proof': {'c_hash': '73331001612570712019744516749537497488668254563498866440098680272278725711469', 'c_list': [[1, 18, 125, 237, 138, 0, 186, 38, 93, 145, 144, 211, 241, 20, 20, 243, 207, 75, 215, 151, 135, 205, 10, 247, 4, 243, 61, 47, 44, 10, 42, 73, 148, 139, 114, 165, 149, 209, 208, 230, 64, 253, 80, 116, 7, 48, 129, 20, 86, 215, 209, 5, 152, 199, 78, 183, 74, 177, 99, 59, 54, 27, 102, 212, 81, 136, 95, 70, 205, 48, 107, 83, 184, 239, 225, 25, 128, 1, 118, 184, 75, 130, 57, 213, 19, 96, 111, 25, 120, 67, 41, 229, 241, 111, 252, 37, 106, 48, 201, 195, 153, 110, 114, 235, 107, 225, 218, 5, 44, 12, 203, 53, 138, 91, 68, 90, 53, 146, 158, 180, 111, 34, 112, 85, 170, 17, 119, 229, 116, 218, 42, 80, 208, 129, 75, 161, 48, 84, 236, 189, 63, 66, 241, 157, 109, 21, 211, 143, 77, 47, 244, 21, 187, 75, 40, 11, 4, 76, 163, 142, 243, 130, 196, 235, 8, 236, 21, 170, 154, 82, 13, 202, 145, 205, 177, 21, 117, 58, 23, 131, 34, 137, 179, 252, 189, 86, 12, 132, 38, 5, 211, 201, 242, 76, 169, 174, 148, 158, 206, 117, 25, 2, 191, 200, 196, 35, 15, 207, 108, 206, 178, 166, 98, 213, 96, 58, 147, 59, 76, 148, 240, 113, 169, 131, 1, 9, 172, 190, 21, 178, 115, 75, 0, 208, 168, 75, 128, 184, 167, 17, 153, 38, 206, 229, 48, 151, 88, 209, 174, 217, 26, 177, 59, 6, 162, 154, 3]]}}\n",
      "\n",
      "This contains an array of proofs, one element for each attribute disclosed (I think)\n",
      "\n",
      "[{'primary_proof': {'eq_proof': {'revealed_attrs': {'scope': '38689563200842676527059703307142261488144249622422333427516415160904487384964'}, 'a_prime': '34651392916182969096865752040034724922331618865527318586503328664127317039353568591550998820158160377327531845942762357281096121287689005053916409214750034435670489356968888893966229042406202099646371520428301278343251051786924525590677930847292365296719867183705326353830872289130806650980079834166514843130499924591610347856226686042679123903424928640418514836314214270794918782487736547600120795597136506913894201314504035007239953526358419646303184979319509051465801313404066761731972022984977748381263705816623024047950829468861392530433241130641630715882080301634958980976734392534804610999128399154520019606019', 'e': '5251755334846896584325866859744420905847430562224732141116139956353537038654518572256683162258546166833487308030867841162460412606842847', 'v': '123300796435556783752424192681766239933058183025932322957349255260394453340599301522810930292378154541889299689374438918946021745360705813677046696530112844281275493904401953575910215596926369572515164461446941776137449964205785662753741771273616224682487342281719319045490293641036294664404339183805025655241828823563535100171149287405182383274262888370855233447835288679785523659651746520722500754991201599292862401915192663675083142650716717514097464347152670230286177658134019378863562284597068236860824995264181411166316731289652139822490301581258171452587621927050781804335096275523439782798884610757258137422419242284243934010909910094009822181065749463961955827855228720394170972851163075803639520138982374212910206365962034129807538641870116410733685563404681471774355806257474971981259720153815221004362630396600345393747795764020366217552349897904886419086597697452733680999634975041283205140613149143525549518', 'm': {'master_secret': '925882892925755204257750991070164358067024850332010143630772594297276420577108510697783309198664050127328561983403911530838653585898506271598430927937533816111184689739132924351', 'name': '832549645549716726305485523690051465697590163305495098572093453425531225228243632935913738310115407370435486793512319940810678184120884946575723496151048697265662789215561965865'}, 'm2': '4115892942811906836509123445354326587099568018969657587268430853327134394266927380842052169976193421377656463397366580727761351635748892797420924671359220511761446056798800189381'}, 'ge_proofs': []}, 'non_revoc_proof': None}]\n",
      "\n",
      "Each proof element contains a primary proof and a proof of non-revocation (which will be empty)\n",
      "\n",
      "{'primary_proof': {'eq_proof': {'revealed_attrs': {'scope': '38689563200842676527059703307142261488144249622422333427516415160904487384964'}, 'a_prime': '34651392916182969096865752040034724922331618865527318586503328664127317039353568591550998820158160377327531845942762357281096121287689005053916409214750034435670489356968888893966229042406202099646371520428301278343251051786924525590677930847292365296719867183705326353830872289130806650980079834166514843130499924591610347856226686042679123903424928640418514836314214270794918782487736547600120795597136506913894201314504035007239953526358419646303184979319509051465801313404066761731972022984977748381263705816623024047950829468861392530433241130641630715882080301634958980976734392534804610999128399154520019606019', 'e': '5251755334846896584325866859744420905847430562224732141116139956353537038654518572256683162258546166833487308030867841162460412606842847', 'v': '123300796435556783752424192681766239933058183025932322957349255260394453340599301522810930292378154541889299689374438918946021745360705813677046696530112844281275493904401953575910215596926369572515164461446941776137449964205785662753741771273616224682487342281719319045490293641036294664404339183805025655241828823563535100171149287405182383274262888370855233447835288679785523659651746520722500754991201599292862401915192663675083142650716717514097464347152670230286177658134019378863562284597068236860824995264181411166316731289652139822490301581258171452587621927050781804335096275523439782798884610757258137422419242284243934010909910094009822181065749463961955827855228720394170972851163075803639520138982374212910206365962034129807538641870116410733685563404681471774355806257474971981259720153815221004362630396600345393747795764020366217552349897904886419086597697452733680999634975041283205140613149143525549518', 'm': {'master_secret': '925882892925755204257750991070164358067024850332010143630772594297276420577108510697783309198664050127328561983403911530838653585898506271598430927937533816111184689739132924351', 'name': '832549645549716726305485523690051465697590163305495098572093453425531225228243632935913738310115407370435486793512319940810678184120884946575723496151048697265662789215561965865'}, 'm2': '4115892942811906836509123445354326587099568018969657587268430853327134394266927380842052169976193421377656463397366580727761351635748892797420924671359220511761446056798800189381'}, 'ge_proofs': []}, 'non_revoc_proof': None}\n",
      "\n",
      "Each primary proof contains an eq_proof, which is where all the numbers are for the crypto proving an attribute disclosed really is equal to the one signed\n",
      "\n",
      "{'revealed_attrs': {'scope': '38689563200842676527059703307142261488144249622422333427516415160904487384964'}, 'a_prime': '34651392916182969096865752040034724922331618865527318586503328664127317039353568591550998820158160377327531845942762357281096121287689005053916409214750034435670489356968888893966229042406202099646371520428301278343251051786924525590677930847292365296719867183705326353830872289130806650980079834166514843130499924591610347856226686042679123903424928640418514836314214270794918782487736547600120795597136506913894201314504035007239953526358419646303184979319509051465801313404066761731972022984977748381263705816623024047950829468861392530433241130641630715882080301634958980976734392534804610999128399154520019606019', 'e': '5251755334846896584325866859744420905847430562224732141116139956353537038654518572256683162258546166833487308030867841162460412606842847', 'v': '123300796435556783752424192681766239933058183025932322957349255260394453340599301522810930292378154541889299689374438918946021745360705813677046696530112844281275493904401953575910215596926369572515164461446941776137449964205785662753741771273616224682487342281719319045490293641036294664404339183805025655241828823563535100171149287405182383274262888370855233447835288679785523659651746520722500754991201599292862401915192663675083142650716717514097464347152670230286177658134019378863562284597068236860824995264181411166316731289652139822490301581258171452587621927050781804335096275523439782798884610757258137422419242284243934010909910094009822181065749463961955827855228720394170972851163075803639520138982374212910206365962034129807538641870116410733685563404681471774355806257474971981259720153815221004362630396600345393747795764020366217552349897904886419086597697452733680999634975041283205140613149143525549518', 'm': {'master_secret': '925882892925755204257750991070164358067024850332010143630772594297276420577108510697783309198664050127328561983403911530838653585898506271598430927937533816111184689739132924351', 'name': '832549645549716726305485523690051465697590163305495098572093453425531225228243632935913738310115407370435486793512319940810678184120884946575723496151048697265662789215561965865'}, 'm2': '4115892942811906836509123445354326587099568018969657587268430853327134394266927380842052169976193421377656463397366580727761351635748892797420924671359220511761446056798800189381'}\n",
      "\n",
      "Finally the proofs are combined into a single aggregated proof object\n",
      "\n",
      "{'c_hash': '73331001612570712019744516749537497488668254563498866440098680272278725711469', 'c_list': [[1, 18, 125, 237, 138, 0, 186, 38, 93, 145, 144, 211, 241, 20, 20, 243, 207, 75, 215, 151, 135, 205, 10, 247, 4, 243, 61, 47, 44, 10, 42, 73, 148, 139, 114, 165, 149, 209, 208, 230, 64, 253, 80, 116, 7, 48, 129, 20, 86, 215, 209, 5, 152, 199, 78, 183, 74, 177, 99, 59, 54, 27, 102, 212, 81, 136, 95, 70, 205, 48, 107, 83, 184, 239, 225, 25, 128, 1, 118, 184, 75, 130, 57, 213, 19, 96, 111, 25, 120, 67, 41, 229, 241, 111, 252, 37, 106, 48, 201, 195, 153, 110, 114, 235, 107, 225, 218, 5, 44, 12, 203, 53, 138, 91, 68, 90, 53, 146, 158, 180, 111, 34, 112, 85, 170, 17, 119, 229, 116, 218, 42, 80, 208, 129, 75, 161, 48, 84, 236, 189, 63, 66, 241, 157, 109, 21, 211, 143, 77, 47, 244, 21, 187, 75, 40, 11, 4, 76, 163, 142, 243, 130, 196, 235, 8, 236, 21, 170, 154, 82, 13, 202, 145, 205, 177, 21, 117, 58, 23, 131, 34, 137, 179, 252, 189, 86, 12, 132, 38, 5, 211, 201, 242, 76, 169, 174, 148, 158, 206, 117, 25, 2, 191, 200, 196, 35, 15, 207, 108, 206, 178, 166, 98, 213, 96, 58, 147, 59, 76, 148, 240, 113, 169, 131, 1, 9, 172, 190, 21, 178, 115, 75, 0, 208, 168, 75, 128, 184, 167, 17, 153, 38, 206, 229, 48, 151, 88, 209, 174, 217, 26, 177, 59, 6, 162, 154, 3]]}\n",
      "\n",
      "Notice again the c_hash, this is the challenge for the non-interactive ZKP proof which is verifying this presentation\n",
      "\n",
      "wallet None\n",
      "\n",
      "---------------------------------------------------------------------\n",
      "\n",
      "Handle present-proof\n",
      "Connection ID :  9035fd3a-8759-45b6-acad-23b08861ae72\n",
      "Presentation Exchange ID :  f86f561b-78e5-49a8-9b17-86d306e223a2\n",
      "Protocol State :  presentation_acked\n",
      "Agent Role :  prover\n",
      "Initiator :  external\n",
      "\n",
      "---------------------------------------------------------------------\n",
      "\n",
      "Presentation has been acknowledged by the Issuer\n"
     ]
    }
   ],
   "source": [
    "response = await agent_controller.connections.accept_connection(invite)\n",
    "\n",
    "connection_id = response[\"connection_id\"]"
   ]
  },
  {
   "cell_type": "markdown",
   "id": "5df396ba",
   "metadata": {},
   "source": [
    "## 8. Review the Output in the Data Owner\n",
    "\n",
    "Then come back here to challenge the data owner to prove that they are indeed a dataowner."
   ]
  },
  {
   "cell_type": "markdown",
   "id": "c9b8689e",
   "metadata": {},
   "source": [
    "## 9. Send Challenge to Data Owner\n",
    "\n",
    "As a Data Scientist you want to have confidence that the Data Owner is who they claim to be, that they have the dataset you are looking for and potentially any other number of verifiable information flows.\n",
    "\n",
    "For this tutorial we will just request proof that they have a Data Owner credential from the OM Authority."
   ]
  },
  {
   "cell_type": "markdown",
   "id": "baa7c7fb",
   "metadata": {},
   "source": [
    "### 9.1. Define Trusted Issuer\n",
    "\n",
    "You first need to copy the OM Authority DID you registered on the ledger in Notebook 3. Step 8. and use it in the proof request object below."
   ]
  },
  {
   "cell_type": "code",
   "execution_count": 5,
   "id": "274b4147",
   "metadata": {},
   "outputs": [],
   "source": [
    "#####################################################\n",
    "## YOU NEED TO CHANGE THIS TO YOUR OM AUTHORITY DID\n",
    "trusted_issuer_did = \"L2f3UYR1mm2dQHRsx6nX3E\"\n",
    "#####################################################"
   ]
  },
  {
   "cell_type": "markdown",
   "id": "9333059c",
   "metadata": {},
   "source": [
    "### 9.2. Define Presentation Request Attributes and Constraints"
   ]
  },
  {
   "cell_type": "code",
   "execution_count": 6,
   "id": "70317da0",
   "metadata": {},
   "outputs": [
    {
     "name": "stdout",
     "output_type": "stream",
     "text": [
      "{'name': 'Proof of Data Owner', 'version': '1.0', 'requested_attributes': {'0_domain_uuid': {'name': 'domain', 'restrictions': [{'schema_id': 'Sgg1wREgfEwbEPCQn9xEuE:2:OM Data Owner:0.0.1', 'issuer_did': 'S4yxhygNRJ78ZTS93fThL3'}]}, '0_name_uuid': {'name': 'name', 'restrictions': [{'schema_id': 'Sgg1wREgfEwbEPCQn9xEuE:2:OM Data Owner:0.0.1', 'issuer_did': 'S4yxhygNRJ78ZTS93fThL3'}]}}, 'requested_predicates': {}}\n"
     ]
    }
   ],
   "source": [
    "# We add a constraint that the attribute must originate from this schema\n",
    "schema_id = \"L2f3UYR1mm2dQHRsx6nX3E:2:OM Data Owner:0.0.1\"\n",
    "\n",
    "\n",
    "\n",
    "# You could additionally specify the cred_def id you wish. \n",
    "# You would have to copy this from the OM Authority notebook.\n",
    "# cred_def = \"WfntKNFwXMQfgmU9ofbxPM:3:CL:156569:default\"\n",
    "\n",
    "revocation = False\n",
    "exchange_tracing = False\n",
    "\n",
    "# We are the Data Owner for their name and the domain of the data that they have\n",
    "req_attrs = [\n",
    "    {\"name\": \"domain\", \"restrictions\": [{\"schema_id\": schema_id, \"issuer_did\": trusted_issuer_did}]},#, \"cred_def_id\": cred_def}]},\n",
    "    {\"name\": \"name\", \"restrictions\": [{\"schema_id\": schema_id, \"issuer_did\": trusted_issuer_did}]}\n",
    "]\n",
    "\n",
    "# We could extend this to request the name attribute aswell if we wanted.\n",
    "\n",
    "\n",
    "indy_proof_request = {\n",
    "    \"name\": \"Proof of Data Owner\",\n",
    "    \"version\": \"1.0\",\n",
    "    \"requested_attributes\": {\n",
    "        # They must follow this uuid pattern\n",
    "        # Note that req_attr['name'] gets the attribute name of each object. E.g. domain and name in this case\n",
    "        f\"0_{req_attr['name']}_uuid\":\n",
    "        req_attr for req_attr in req_attrs\n",
    "    },\n",
    "    # Predicates allow us to specify range proofs or set membership on attributes. For example greater than 10.\n",
    "    # We will ignore these for now.\n",
    "    \"requested_predicates\": {\n",
    "#         f\"0_{req_pred['name']}_GE_uuid\":\n",
    "#         req_pred for req_pred in req_preds\n",
    "    },\n",
    "}\n",
    "\n",
    "print(indy_proof_request)\n"
   ]
  },
  {
   "cell_type": "markdown",
   "id": "714e2df3",
   "metadata": {},
   "source": [
    "### 9.3. Specify Connection ID and Send Request\n",
    "\n",
    "**AGAIN, MAKE SURE YOU SCROLL THROUGH THE OUTPUT TO SEE THE PRESENTATION PROTOCOL FROM THE VERIFIER SIDE**"
   ]
  },
  {
   "cell_type": "code",
   "execution_count": 7,
   "id": "8c72e2cc",
   "metadata": {},
   "outputs": [
    {
     "name": "stdout",
     "output_type": "stream",
     "text": [
      "wallet None\n",
      "\n",
      "---------------------------------------------------------------------\n",
      "\n",
      "Handle present-proof\n",
      "Connection ID :  9035fd3a-8759-45b6-acad-23b08861ae72\n",
      "Presentation Exchange ID :  354a562e-71b9-4206-ad6f-2132e41b44f1\n",
      "Protocol State :  request_sent\n",
      "Agent Role :  verifier\n",
      "Initiator :  self\n",
      "\n",
      "---------------------------------------------------------------------\n",
      "\n",
      "Presentation Request\n",
      "\n",
      "{'name': 'Proof of Data Owner', 'version': '1.0', 'requested_attributes': {'0_domain_uuid': {'name': 'domain', 'restrictions': [{'schema_id': 'Sgg1wREgfEwbEPCQn9xEuE:2:OM Data Owner:0.0.1', 'issuer_did': 'S4yxhygNRJ78ZTS93fThL3'}]}, '0_name_uuid': {'name': 'name', 'restrictions': [{'schema_id': 'Sgg1wREgfEwbEPCQn9xEuE:2:OM Data Owner:0.0.1', 'issuer_did': 'S4yxhygNRJ78ZTS93fThL3'}]}}, 'requested_predicates': {}, 'nonce': '494327368276321999520362'}\n",
      "\n",
      "The presentation request is encoded in base64 and packaged into a DIDComm Message\n",
      "\n",
      "{'@type': 'did:sov:BzCbsNYhMrjHiqZDTUASHg;spec/present-proof/1.0/request-presentation', '@id': '00e213eb-b70f-4e73-a346-1b83dd8a8d15', 'request_presentations~attach': [{'@id': 'libindy-request-presentation-0', 'mime-type': 'application/json', 'data': {'base64': 'eyJuYW1lIjogIlByb29mIG9mIERhdGEgT3duZXIiLCAidmVyc2lvbiI6ICIxLjAiLCAicmVxdWVzdGVkX2F0dHJpYnV0ZXMiOiB7IjBfZG9tYWluX3V1aWQiOiB7Im5hbWUiOiAiZG9tYWluIiwgInJlc3RyaWN0aW9ucyI6IFt7InNjaGVtYV9pZCI6ICJTZ2cxd1JFZ2ZFd2JFUENRbjl4RXVFOjI6T00gRGF0YSBPd25lcjowLjAuMSIsICJpc3N1ZXJfZGlkIjogIlM0eXhoeWdOUko3OFpUUzkzZlRoTDMifV19LCAiMF9uYW1lX3V1aWQiOiB7Im5hbWUiOiAibmFtZSIsICJyZXN0cmljdGlvbnMiOiBbeyJzY2hlbWFfaWQiOiAiU2dnMXdSRWdmRXdiRVBDUW45eEV1RToyOk9NIERhdGEgT3duZXI6MC4wLjEiLCAiaXNzdWVyX2RpZCI6ICJTNHl4aHlnTlJKNzhaVFM5M2ZUaEwzIn1dfX0sICJyZXF1ZXN0ZWRfcHJlZGljYXRlcyI6IHt9LCAibm9uY2UiOiAiNDk0MzI3MzY4Mjc2MzIxOTk5NTIwMzYyIn0='}}]}\n",
      "\n",
      "Note the type defines the protocol present-proof and the message request-presentation\n",
      "\n",
      "did:sov:BzCbsNYhMrjHiqZDTUASHg;spec/present-proof/1.0/request-presentation\n",
      "wallet None\n",
      "\n",
      "---------------------------------------------------------------------\n",
      "\n",
      "Handle present-proof\n",
      "Connection ID :  9035fd3a-8759-45b6-acad-23b08861ae72\n",
      "Presentation Exchange ID :  354a562e-71b9-4206-ad6f-2132e41b44f1\n",
      "Protocol State :  presentation_received\n",
      "Agent Role :  verifier\n",
      "Initiator :  self\n",
      "\n",
      "---------------------------------------------------------------------\n",
      "\n",
      "Presentation Received\n",
      "We will not go into detail on this payload as it is comparable to the presentation_sent we looked at in the earlier cell.\n",
      "This is the full payload\n",
      "\n",
      "{'state': 'presentation_received', 'updated_at': '2021-04-06 14:04:46.520282Z', 'connection_id': '9035fd3a-8759-45b6-acad-23b08861ae72', 'role': 'verifier', 'presentation_request': {'name': 'Proof of Data Owner', 'version': '1.0', 'requested_attributes': {'0_domain_uuid': {'name': 'domain', 'restrictions': [{'schema_id': 'Sgg1wREgfEwbEPCQn9xEuE:2:OM Data Owner:0.0.1', 'issuer_did': 'S4yxhygNRJ78ZTS93fThL3'}]}, '0_name_uuid': {'name': 'name', 'restrictions': [{'schema_id': 'Sgg1wREgfEwbEPCQn9xEuE:2:OM Data Owner:0.0.1', 'issuer_did': 'S4yxhygNRJ78ZTS93fThL3'}]}}, 'requested_predicates': {}, 'nonce': '494327368276321999520362'}, 'presentation_exchange_id': '354a562e-71b9-4206-ad6f-2132e41b44f1', 'trace': False, 'thread_id': '00e213eb-b70f-4e73-a346-1b83dd8a8d15', 'created_at': '2021-04-06 14:04:45.810455Z', 'initiator': 'self', 'presentation_request_dict': {'@type': 'did:sov:BzCbsNYhMrjHiqZDTUASHg;spec/present-proof/1.0/request-presentation', '@id': '00e213eb-b70f-4e73-a346-1b83dd8a8d15', 'request_presentations~attach': [{'@id': 'libindy-request-presentation-0', 'mime-type': 'application/json', 'data': {'base64': 'eyJuYW1lIjogIlByb29mIG9mIERhdGEgT3duZXIiLCAidmVyc2lvbiI6ICIxLjAiLCAicmVxdWVzdGVkX2F0dHJpYnV0ZXMiOiB7IjBfZG9tYWluX3V1aWQiOiB7Im5hbWUiOiAiZG9tYWluIiwgInJlc3RyaWN0aW9ucyI6IFt7InNjaGVtYV9pZCI6ICJTZ2cxd1JFZ2ZFd2JFUENRbjl4RXVFOjI6T00gRGF0YSBPd25lcjowLjAuMSIsICJpc3N1ZXJfZGlkIjogIlM0eXhoeWdOUko3OFpUUzkzZlRoTDMifV19LCAiMF9uYW1lX3V1aWQiOiB7Im5hbWUiOiAibmFtZSIsICJyZXN0cmljdGlvbnMiOiBbeyJzY2hlbWFfaWQiOiAiU2dnMXdSRWdmRXdiRVBDUW45eEV1RToyOk9NIERhdGEgT3duZXI6MC4wLjEiLCAiaXNzdWVyX2RpZCI6ICJTNHl4aHlnTlJKNzhaVFM5M2ZUaEwzIn1dfX0sICJyZXF1ZXN0ZWRfcHJlZGljYXRlcyI6IHt9LCAibm9uY2UiOiAiNDk0MzI3MzY4Mjc2MzIxOTk5NTIwMzYyIn0='}}]}, 'presentation': {'proof': {'proofs': [{'primary_proof': {'eq_proof': {'revealed_attrs': {'domain': '38689563200842676527059703307142261488144249622422333427516415160904487384964', 'name': '49272594129721906234329760951764944925631279077622505421027966796577006025440'}, 'a_prime': '15376671550365428515612646284547640829857450127839516026833699256073222298074850881756445706121999602167083505647629511988328494862862232345970811609533719233021468640273962159050501700355015877259134014332897638176166045872559957603612706679473229299651493437039190212961221551285782833113867947372417325155018033618906955099019402043770139412977034373980800281070907338132430678585108594204967662465784299514564945356299071444576080322548302303404839042266416159925344746221167842008473743417549986937477136000444425205702755204919739511324741275813872266051686307652295797007855206371279793960211178521965430631623', 'e': '72997795938768679696157584175966681192438333707947730882405104120308692099900111103684033233708369077429757023171802473840735571091348379', 'v': '127941046369854542728549181171559388807681937555054978354255502453114740874754847118072832216223294859471210273380093112470617100535626147290371916440526588761952216356526142116209651698907463296300446792129858479335036836273695254505419075751808823506623045379254474934535134011342003198535449745738445933126349930460926478842132252938944236590388358225233532204991429871576084884619884726178084588057356762881259421967560754629718074524983719519904239863658229049435442518653307349287697357980027095216050338692642599232324983923851132629512461776047146353060523022667784110900554258438469201306992192064029216613519167708631645324608797640814878307690868690873951762093218175031932897548489242810941532200656584696037971523662018280781137856666957970932624316848579168001000206396991904357351314224408475212461349071238513621411166065789859936290333209207202654425960967037633941332111872437188245545950661357632909001', 'm': {'master_secret': '1461161933992513281569262785832024034272268170776577489585625652851762340209948405374440862660518599333232691110819938303154457080819117761330115281296770645518644563000544206787'}, 'm2': '5657693006243059445061624196578430196723055120095004134363587545839286289208816625547077990757154675747676333180404183346008906617337673739448846482563813778164854269662178175534'}, 'ge_proofs': []}, 'non_revoc_proof': None}], 'aggregated_proof': {'c_hash': '29440037284946148558833921352890068114979398985823720737205405759192961256132', 'c_list': [[121, 206, 131, 255, 231, 136, 209, 48, 155, 69, 129, 161, 44, 70, 193, 188, 179, 118, 229, 134, 120, 158, 171, 112, 64, 166, 49, 243, 45, 59, 247, 128, 42, 125, 167, 159, 52, 78, 142, 140, 102, 187, 50, 119, 233, 3, 201, 177, 64, 225, 125, 245, 44, 210, 118, 46, 202, 114, 10, 171, 1, 217, 205, 20, 197, 38, 87, 113, 165, 157, 232, 91, 175, 165, 18, 200, 75, 60, 20, 15, 130, 208, 251, 228, 199, 225, 187, 75, 198, 222, 199, 2, 145, 33, 46, 17, 245, 4, 91, 175, 35, 52, 15, 174, 209, 183, 128, 237, 40, 118, 4, 112, 198, 152, 51, 236, 36, 27, 233, 253, 159, 249, 229, 240, 14, 98, 222, 21, 151, 24, 204, 219, 219, 213, 252, 177, 58, 120, 246, 173, 242, 33, 111, 72, 99, 79, 177, 146, 113, 225, 180, 15, 144, 87, 226, 69, 58, 238, 65, 137, 204, 227, 220, 250, 207, 182, 253, 126, 33, 3, 89, 140, 234, 172, 46, 19, 163, 54, 96, 71, 200, 25, 113, 21, 48, 46, 16, 133, 47, 211, 122, 38, 223, 37, 73, 186, 88, 254, 199, 220, 137, 142, 163, 156, 93, 60, 47, 221, 79, 165, 128, 67, 252, 155, 137, 155, 242, 160, 3, 197, 109, 73, 55, 35, 178, 4, 135, 61, 168, 248, 85, 202, 135, 130, 47, 189, 55, 12, 7, 30, 132, 1, 242, 56, 66, 17, 193, 154, 65, 183, 227, 205, 62, 132, 236, 199]]}}, 'requested_proof': {'revealed_attrs': {'0_name_uuid': {'sub_proof_index': 0, 'raw': 'Will', 'encoded': '49272594129721906234329760951764944925631279077622505421027966796577006025440'}, '0_domain_uuid': {'sub_proof_index': 0, 'raw': 'Health', 'encoded': '38689563200842676527059703307142261488144249622422333427516415160904487384964'}}, 'self_attested_attrs': {}, 'unrevealed_attrs': {}, 'predicates': {}}, 'identifiers': [{'schema_id': 'Sgg1wREgfEwbEPCQn9xEuE:2:OM Data Owner:0.0.1', 'cred_def_id': 'S4yxhygNRJ78ZTS93fThL3:3:CL:188835:default', 'rev_reg_id': None, 'timestamp': None}]}, 'auto_present': False}\n"
     ]
    }
   ],
   "source": [
    "proof_request_web_request = {\n",
    "    \"connection_id\": connection_id,\n",
    "    \"proof_request\": indy_proof_request,\n",
    "    \"trace\": False\n",
    "}\n",
    "\n",
    "# Send proof request\n",
    "response = await agent_controller.proofs.send_request(proof_request_web_request)"
   ]
  },
  {
   "cell_type": "markdown",
   "id": "4a9ccf33",
   "metadata": {},
   "source": [
    "## 10. Verify the Presentation\n",
    "\n",
    "Once a presentation has been received you still need to request your agent verify the cryptography to ensure the integrity of the information presented."
   ]
  },
  {
   "cell_type": "code",
   "execution_count": 8,
   "id": "b308e8c6",
   "metadata": {},
   "outputs": [
    {
     "name": "stdout",
     "output_type": "stream",
     "text": [
      "wallet None\n",
      "\n",
      "---------------------------------------------------------------------\n",
      "\n",
      "Handle present-proof\n",
      "Connection ID :  9035fd3a-8759-45b6-acad-23b08861ae72\n",
      "Presentation Exchange ID :  354a562e-71b9-4206-ad6f-2132e41b44f1\n",
      "Protocol State :  verified\n",
      "Agent Role :  verifier\n",
      "Initiator :  self\n",
      "\n",
      "---------------------------------------------------------------------\n",
      "\n",
      "Paload \n",
      "\n",
      "{'state': 'verified', 'updated_at': '2021-04-06 14:05:00.129344Z', 'connection_id': '9035fd3a-8759-45b6-acad-23b08861ae72', 'role': 'verifier', 'presentation_request': {'name': 'Proof of Data Owner', 'version': '1.0', 'requested_attributes': {'0_domain_uuid': {'name': 'domain', 'restrictions': [{'schema_id': 'Sgg1wREgfEwbEPCQn9xEuE:2:OM Data Owner:0.0.1', 'issuer_did': 'S4yxhygNRJ78ZTS93fThL3'}]}, '0_name_uuid': {'name': 'name', 'restrictions': [{'schema_id': 'Sgg1wREgfEwbEPCQn9xEuE:2:OM Data Owner:0.0.1', 'issuer_did': 'S4yxhygNRJ78ZTS93fThL3'}]}}, 'requested_predicates': {}, 'nonce': '494327368276321999520362'}, 'presentation_exchange_id': '354a562e-71b9-4206-ad6f-2132e41b44f1', 'trace': False, 'thread_id': '00e213eb-b70f-4e73-a346-1b83dd8a8d15', 'created_at': '2021-04-06 14:04:45.810455Z', 'initiator': 'self', 'presentation_request_dict': {'@type': 'did:sov:BzCbsNYhMrjHiqZDTUASHg;spec/present-proof/1.0/request-presentation', '@id': '00e213eb-b70f-4e73-a346-1b83dd8a8d15', 'request_presentations~attach': [{'@id': 'libindy-request-presentation-0', 'mime-type': 'application/json', 'data': {'base64': 'eyJuYW1lIjogIlByb29mIG9mIERhdGEgT3duZXIiLCAidmVyc2lvbiI6ICIxLjAiLCAicmVxdWVzdGVkX2F0dHJpYnV0ZXMiOiB7IjBfZG9tYWluX3V1aWQiOiB7Im5hbWUiOiAiZG9tYWluIiwgInJlc3RyaWN0aW9ucyI6IFt7InNjaGVtYV9pZCI6ICJTZ2cxd1JFZ2ZFd2JFUENRbjl4RXVFOjI6T00gRGF0YSBPd25lcjowLjAuMSIsICJpc3N1ZXJfZGlkIjogIlM0eXhoeWdOUko3OFpUUzkzZlRoTDMifV19LCAiMF9uYW1lX3V1aWQiOiB7Im5hbWUiOiAibmFtZSIsICJyZXN0cmljdGlvbnMiOiBbeyJzY2hlbWFfaWQiOiAiU2dnMXdSRWdmRXdiRVBDUW45eEV1RToyOk9NIERhdGEgT3duZXI6MC4wLjEiLCAiaXNzdWVyX2RpZCI6ICJTNHl4aHlnTlJKNzhaVFM5M2ZUaEwzIn1dfX0sICJyZXF1ZXN0ZWRfcHJlZGljYXRlcyI6IHt9LCAibm9uY2UiOiAiNDk0MzI3MzY4Mjc2MzIxOTk5NTIwMzYyIn0='}}]}, 'presentation': {'proof': {'proofs': [{'primary_proof': {'eq_proof': {'revealed_attrs': {'domain': '38689563200842676527059703307142261488144249622422333427516415160904487384964', 'name': '49272594129721906234329760951764944925631279077622505421027966796577006025440'}, 'a_prime': '18731921013235891158854345476189633722685909210443108273195322591810362418844767531648658738077348971132247376750298238088514823102056733473293451253256766017061305318693071912773606054632231646472743714984061743429206756319448876099790510074156449206043157705470202654259908604221868949456485983624642016541438800540036673734965617323157939820689168601306029500321413442305526970162101510448327508326298251720784346986609803406350360881301776927933867880017772287066064283169579505455820228210693129680582655120132504622392798218140596841494417235533646445328262968368702679792359010336590538542398258152484148728354', 'e': '160302627418120620435881680059335658620614228982126568719567338802872292502312614748885866043188761261189311311485150152019024863924283589', 'v': '277581662310602359166249384732662854630026917176183938715613641628987447982077437935698171282523551219411987044535965926759119523911315787777953346461505732776670915111134921554004241817413275725115778047607393613882545038796431256507292319037480482890012242602414187904438847736303811127559450988748147598619997159986294579795882828935845939503982483412756817577215278783340903672854418482632275041804089616527758935321310968268954961336404873100622139720070836490745991529387247517809480477702255976947763933741034966294955917961139210140991574553787512048895742167031535522271761055533762551485201671690359510554594844655593907046702869396392497949378207630934734848916503033271422517884543247060655461057643424283266170316515100096645880312697059006163798503101528048697486963664628119392609853707496069144770282053936982251545916833132858876348871654972029191779443568425470350415422733667181723059120757814754367992', 'm': {'master_secret': '2962894776278416595162954042378829482210774795160238868960795290172045264403236546536350325930577046790817337805625306568607460570979327323892556912553529239274377022138842141722'}, 'm2': '12417111822519079561315646006362277633693482152456902660819781455975773301541470285655225385846317408000108853213931971891774806912810266635059062181264560192648037397774102930870'}, 'ge_proofs': []}, 'non_revoc_proof': None}], 'aggregated_proof': {'c_hash': '43837144711606928362273302648196825539015137262412289440925578807026420639712', 'c_list': [[148, 98, 169, 98, 155, 119, 132, 47, 107, 31, 189, 206, 184, 163, 207, 230, 242, 152, 106, 116, 199, 222, 69, 54, 118, 30, 196, 223, 166, 154, 83, 39, 121, 139, 20, 241, 101, 36, 99, 213, 243, 195, 227, 60, 89, 249, 45, 86, 232, 59, 78, 108, 84, 71, 149, 35, 217, 78, 116, 108, 120, 252, 55, 232, 117, 53, 56, 48, 178, 54, 163, 237, 71, 96, 133, 135, 26, 205, 115, 244, 193, 139, 185, 71, 245, 255, 154, 100, 32, 171, 219, 30, 111, 200, 18, 213, 39, 156, 177, 149, 19, 114, 164, 200, 230, 26, 211, 146, 232, 235, 78, 77, 163, 54, 114, 145, 166, 180, 169, 174, 62, 175, 42, 57, 141, 95, 175, 191, 232, 123, 132, 185, 92, 240, 132, 64, 106, 218, 79, 100, 194, 7, 13, 42, 71, 205, 230, 96, 215, 146, 0, 238, 232, 110, 211, 74, 247, 202, 74, 74, 53, 244, 238, 142, 225, 9, 152, 251, 177, 50, 112, 61, 224, 203, 101, 86, 213, 79, 222, 146, 51, 34, 206, 140, 16, 126, 58, 3, 106, 64, 251, 6, 96, 197, 164, 56, 191, 246, 55, 187, 131, 151, 56, 157, 58, 12, 13, 136, 22, 242, 108, 169, 76, 122, 54, 120, 227, 34, 214, 221, 235, 59, 22, 48, 76, 100, 144, 8, 140, 150, 64, 158, 123, 232, 44, 18, 246, 19, 94, 195, 48, 171, 255, 44, 6, 254, 182, 217, 172, 181, 73, 151, 169, 201, 210, 34]]}}, 'requested_proof': {'revealed_attrs': {'0_name_uuid': {'sub_proof_index': 0, 'raw': 'Will', 'encoded': '49272594129721906234329760951764944925631279077622505421027966796577006025440'}, '0_domain_uuid': {'sub_proof_index': 0, 'raw': 'Health', 'encoded': '38689563200842676527059703307142261488144249622422333427516415160904487384964'}}, 'self_attested_attrs': {}, 'unrevealed_attrs': {}, 'predicates': {}}, 'identifiers': [{'schema_id': 'Sgg1wREgfEwbEPCQn9xEuE:2:OM Data Owner:0.0.1', 'cred_def_id': 'S4yxhygNRJ78ZTS93fThL3:3:CL:188835:default', 'rev_reg_id': None, 'timestamp': None}]}, 'verified': 'true', 'auto_present': False}\n"
     ]
    }
   ],
   "source": [
    "presentation_exchange_id = response[\"presentation_exchange_id\"]\n",
    "\n",
    "verify = await agent_controller.proofs.verify_presentation(presentation_exchange_id)"
   ]
  },
  {
   "cell_type": "markdown",
   "id": "6f87c2d2",
   "metadata": {},
   "source": [
    "## 11. Parse Verified Presentation Object\n",
    "\n",
    "Let's look at how we check the result of the verification and how you can access the revealed attributes. Maybe you need them for your business use case, perhaps they specify the type or quality of data the Data Owner might have. Who knows, it is up to you to define the information flows to meet your needs."
   ]
  },
  {
   "cell_type": "markdown",
   "id": "3d556506",
   "metadata": {},
   "source": [
    "### 11.1. WARNING. The state is note an indicator of successful verification.\n",
    "\n",
    "The presentation exchange object is in the verified state. That just means you have requested your agent to verify the cryptography, not that the cryptography is verified."
   ]
  },
  {
   "cell_type": "code",
   "execution_count": 9,
   "id": "945145cf",
   "metadata": {},
   "outputs": [
    {
     "name": "stdout",
     "output_type": "stream",
     "text": [
      "verified\n"
     ]
    }
   ],
   "source": [
    "print(verify['state'])"
   ]
  },
  {
   "cell_type": "markdown",
   "id": "4c069db8",
   "metadata": {},
   "source": [
    "### 11.2. Check the Verified property\n",
    "\n",
    "It should be true if the cryptographic presentation is verifiable"
   ]
  },
  {
   "cell_type": "code",
   "execution_count": 10,
   "id": "f1789cf9",
   "metadata": {},
   "outputs": [
    {
     "name": "stdout",
     "output_type": "stream",
     "text": [
      "true\n"
     ]
    }
   ],
   "source": [
    "print(verify['verified'])"
   ]
  },
  {
   "cell_type": "markdown",
   "id": "125518ab",
   "metadata": {},
   "source": [
    "### 11.3 Lets look at the revealed attributes"
   ]
  },
  {
   "cell_type": "code",
   "execution_count": 11,
   "id": "e1d78841",
   "metadata": {},
   "outputs": [
    {
     "name": "stdout",
     "output_type": "stream",
     "text": [
      "Attribute :  {'sub_proof_index': 0, 'raw': 'Will', 'encoded': '49272594129721906234329760951764944925631279077622505421027966796577006025440'}\n",
      "Raw Value :  Will\n",
      "Attribute :  {'sub_proof_index': 0, 'raw': 'Health', 'encoded': '38689563200842676527059703307142261488144249622422333427516415160904487384964'}\n",
      "Raw Value :  Health\n"
     ]
    }
   ],
   "source": [
    "for (name, val) in verify['presentation']['requested_proof']['revealed_attrs'].items():\n",
    "    ## This is the actual data that you want. It's a little hidden\n",
    "    print(\"Attribute : \", val)\n",
    "    print(\"Raw Value : \", val['raw'])"
   ]
  },
  {
   "cell_type": "markdown",
   "id": "0c14698b",
   "metadata": {},
   "source": [
    "## End of Notebook"
   ]
  },
  {
   "cell_type": "code",
   "execution_count": 12,
   "id": "e6a7d8fd",
   "metadata": {},
   "outputs": [],
   "source": [
    "await agent_controller.terminate()"
   ]
  },
  {
   "cell_type": "markdown",
   "id": "2bd19059",
   "metadata": {},
   "source": [
    "## Congratulations Tutorial Series Complete\n",
    "\n",
    "Well done! Make sure you review the output in the Data Owner notebook and terminate the controller.\n",
    "\n",
    "The final aspect of this course will involve the application of what we have learnt in this notebook series to mediate a PySyft Duet Learning flow."
   ]
  }
 ],
 "metadata": {
  "kernelspec": {
   "display_name": "Python 3",
   "language": "python",
   "name": "python3"
  },
  "language_info": {
   "codemirror_mode": {
    "name": "ipython",
    "version": 3
   },
   "file_extension": ".py",
   "mimetype": "text/x-python",
   "name": "python",
   "nbconvert_exporter": "python",
   "pygments_lexer": "ipython3",
   "version": "3.8.5"
  }
 },
 "nbformat": 4,
 "nbformat_minor": 5
}

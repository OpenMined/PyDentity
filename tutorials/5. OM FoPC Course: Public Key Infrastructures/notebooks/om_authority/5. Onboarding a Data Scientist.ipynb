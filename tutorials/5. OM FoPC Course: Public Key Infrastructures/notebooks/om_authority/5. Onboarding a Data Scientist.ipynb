{
 "cells": [
  {
   "cell_type": "markdown",
   "id": "active-flush",
   "metadata": {},
   "source": [
    "# Onboarding a Data Scientist\n",
    "\n",
    "In this notebook you will control the OM Authority agent to issue a credential attesting to another entities ability to participate in a PPML flow as a Data Scientist. \n",
    "\n",
    "This notebook and the next one should feel pretty familiar to you, the only difference is that instead of interacting with a mobile agent we will be interacting with the data-scientist agent we ran through docker-compose."
   ]
  },
  {
   "cell_type": "markdown",
   "id": "blessed-twins",
   "metadata": {},
   "source": [
    "## 1. Initialise your Agent\n",
    "\n",
    "Standard stuff, we need to do this in every notebook. Although note that in an application you would only do this once and make the controller object accessible throughout the application where needed."
   ]
  },
  {
   "cell_type": "code",
   "execution_count": 1,
   "id": "southern-railway",
   "metadata": {},
   "outputs": [
    {
     "name": "stdout",
     "output_type": "stream",
     "text": [
      "IPython autoawait is `on`, and set to use `asyncio`\n"
     ]
    }
   ],
   "source": [
    "%autoawait\n",
    "import time\n",
    "import asyncio\n",
    "import nest_asyncio\n",
    "nest_asyncio.apply()\n",
    "from termcolor import colored,cprint\n",
    "\n",
    "from aries_basic_controller.aries_controller import AriesAgentController\n",
    "    \n",
    "WEBHOOK_HOST = \"0.0.0.0\"\n",
    "WEBHOOK_PORT = 8022\n",
    "WEBHOOK_BASE = \"\"\n",
    "ADMIN_URL = \"http://om-authority-agent:8021\"\n",
    "\n",
    "# Based on the aca-py agent you wish to control\n",
    "agent_controller = AriesAgentController(webhook_host=WEBHOOK_HOST, webhook_port=WEBHOOK_PORT,\n",
    "                                       webhook_base=WEBHOOK_BASE, admin_url=ADMIN_URL)"
   ]
  },
  {
   "cell_type": "markdown",
   "id": "loving-outdoors",
   "metadata": {},
   "source": [
    "## 2. Start Webhook Server\n",
    "\n",
    "This starts an aiohttp server at the location specified by the WEBHOOK args above. This is how the controller receives webhooks from the agent, but it is the listeners and their handler functions that define how the application should react to this messages."
   ]
  },
  {
   "cell_type": "code",
   "execution_count": 2,
   "id": "mounted-haiti",
   "metadata": {},
   "outputs": [],
   "source": [
    "loop = asyncio.get_event_loop()\n",
    "loop.run_until_complete(agent_controller.listen_webhooks())"
   ]
  },
  {
   "cell_type": "markdown",
   "id": "tight-airplane",
   "metadata": {},
   "source": [
    "## 3. Register Listeners for Webhook Topics\n",
    "\n",
    "This is the same as in notebook 4."
   ]
  },
  {
   "cell_type": "code",
   "execution_count": 3,
   "id": "stylish-tuition",
   "metadata": {},
   "outputs": [],
   "source": [
    "\n",
    "def cred_handler(payload):\n",
    "    print(\"Handle Credential Webhook Payload\")\n",
    "    exchange_id = payload['credential_exchange_id']\n",
    "    state = payload['state']\n",
    "    role = payload['role']\n",
    "    attributes = payload['credential_proposal_dict']['credential_proposal']['attributes']\n",
    "    print(f\"Credential exchange ID {exchange_id}\")\n",
    "    print(\"Agent Protocol Role\", role)\n",
    "    print(\"Protocol State \", state )\n",
    "    if state == \"offer_sent\":\n",
    "        print(\"Credential Offer with the following attributes sent \", attributes)\n",
    "    \n",
    "cred_listener = {\n",
    "    \"topic\": \"issue_credential\",\n",
    "    \"handler\": cred_handler\n",
    "}\n",
    "\n",
    "def connections_handler(payload):\n",
    "    print(\"Handle Connection Webhook Payload\")\n",
    "    connection_id = payload[\"connection_id\"]\n",
    "    print(\"Connection ID\", connection_id)\n",
    "\n",
    "    state = payload['state']\n",
    "    print(\"State\", state)\n",
    "    if state == 'active':\n",
    "#         print('Connection {0} changed state to active'.format(connection_id))\n",
    "        print(colored(\"Connection {0} changed state to active\".format(connection_id), \"red\", attrs=[\"bold\"]))\n",
    "\n",
    "\n",
    "connection_listener = {\n",
    "    \"handler\": connections_handler,\n",
    "    \"topic\": \"connections\"\n",
    "}\n",
    "\n",
    "agent_controller.register_listeners([cred_listener,connection_listener], defaults=True)\n"
   ]
  },
  {
   "cell_type": "markdown",
   "id": "parallel-diary",
   "metadata": {},
   "source": [
    "## 4. Fetch schema and definition identifiers"
   ]
  },
  {
   "cell_type": "code",
   "execution_count": 4,
   "id": "lasting-intranet",
   "metadata": {},
   "outputs": [
    {
     "name": "stdout",
     "output_type": "stream",
     "text": [
      "Successfully loaded identifiers required to issue Data Scientist credentials\n",
      "Schema : Sgg1wREgfEwbEPCQn9xEuE:2:OM Data Scientist:0.0.1\n",
      "Cred Def : vrzjfm1MEN1g5o6QtHLfv:3:CL:188831:default\n"
     ]
    }
   ],
   "source": [
    "%store -r data_scientist_schema_id\n",
    "%store -r data_scientist_cred_def_id\n",
    "\n",
    "if data_scientist_schema_id and data_scientist_cred_def_id:\n",
    "    print(\"Successfully loaded identifiers required to issue Data Scientist credentials\")\n",
    "    print(\"Schema :\", data_scientist_schema_id)\n",
    "    print(\"Cred Def :\", data_scientist_cred_def_id)"
   ]
  },
  {
   "cell_type": "markdown",
   "id": "configured-airline",
   "metadata": {},
   "source": [
    "## 5. Populate Credential Attributes\n",
    "\n",
    "Again you can put whatever you would like in these attributes, but think about how they might be populated if the trusted authority was a research regulator or ethics body."
   ]
  },
  {
   "cell_type": "code",
   "execution_count": 5,
   "id": "hollow-string",
   "metadata": {},
   "outputs": [
    {
     "name": "stdout",
     "output_type": "stream",
     "text": [
      "Please enter the name for the researcher: Will\n",
      "Please enter the scope of their research: Health\n",
      "[{'name': 'name', 'value': 'Will'}, {'name': 'scope', 'value': 'Health'}]\n"
     ]
    }
   ],
   "source": [
    "\n",
    "name=input(\"Please enter the name for the researcher: \")\n",
    "scope=input(\"Please enter the scope of their research: \")\n",
    "credential_attributes = [\n",
    "    {\"name\": \"name\", \"value\": name},\n",
    "    {\"name\": \"scope\", \"value\": scope},\n",
    "]\n",
    "print(credential_attributes)"
   ]
  },
  {
   "cell_type": "markdown",
   "id": "wicked-eugene",
   "metadata": {},
   "source": [
    "## 6. Add Listener to Issue this Credential\n",
    "\n",
    "Rather than issuing this credential in it's own notebook cell, we will react to connection's becoming active and automatically issue them with the Data Scientist credential.\n",
    "\n",
    "While automatically issuing credential's to any connection is likely to be frowned upon in realistic scenarios, this illustrates how listeners can be applied to handle more complex application functionality. We will see this used later in the course a lot.\n",
    "\n",
    "Notice how we can get the connection_id attribute from the webhook payload."
   ]
  },
  {
   "cell_type": "code",
   "execution_count": 6,
   "id": "indie-hobby",
   "metadata": {},
   "outputs": [],
   "source": [
    "def issue_active_conn(payload):\n",
    "    connection_id = payload[\"connection_id\"]\n",
    "    state = payload['state']\n",
    "    print(\"State\", state)\n",
    "    if state == 'response':\n",
    "        # seems to need a sleep \n",
    "        time.sleep(1)\n",
    "        asyncio.get_event_loop().run_until_complete(agent_controller.messaging.trust_ping(connection_id, \"hey\"))\n",
    "    elif state == 'active':\n",
    "        asyncio.get_event_loop().run_until_complete(agent_controller.issuer.send_credential(connection_id, data_scientist_schema_id, data_scientist_cred_def_id, credential_attributes, trace=False))\n",
    "        \n",
    "\n",
    "active_conn_listener = {\n",
    "    \"topic\": \"connections\",\n",
    "    \"handler\": issue_active_conn\n",
    "}\n",
    "\n",
    "agent_controller.add_listener(active_conn_listener)"
   ]
  },
  {
   "cell_type": "markdown",
   "id": "organizational-coach",
   "metadata": {},
   "source": [
    "## 7. Establish A Connection with the Data Scientist\n",
    "\n",
    "Like in notebook 4. you will create request the om-authority-agent creates an invitation, however instead of diplaying this as a QR Code you will copy the invitation json across to the Data Scientist notebook labeled 5.\n",
    "\n",
    "The Data Scientist should be at port 8890, either at localhost if your are running this on your own machine or at the url for your aws instance.\n",
    "\n",
    "You may need to fetch the token for this jupyter instance using the `./scripts/get_URLS.sh` from the route of PyDentity if you have not done so already."
   ]
  },
  {
   "cell_type": "code",
   "execution_count": 7,
   "id": "lonely-piece",
   "metadata": {},
   "outputs": [
    {
     "name": "stdout",
     "output_type": "stream",
     "text": [
      "Connection ID 719afced-2a85-4371-b30f-e28b741e7d44\n",
      "Invitation - Copy The Object Below \n",
      "\n",
      "{'@type': 'did:sov:BzCbsNYhMrjHiqZDTUASHg;spec/connections/1.0/invitation', '@id': 'e085a70e-75b1-4be0-91c1-f79fb4dbe75b', 'label': 'OM_AUTHORITY', 'serviceEndpoint': 'https://0bd98e2df434.ngrok.io', 'recipientKeys': ['BrTQc7R4QpZsfBEoc3g7H5yX8TiRgYR5w35qodnbphqD']}\n",
      "\n",
      "\n",
      " ----------------------------------------\n",
      "Handle Connection Webhook Payload\n",
      "Connection ID 719afced-2a85-4371-b30f-e28b741e7d44\n",
      "State invitation\n",
      "State invitation\n",
      "Handle Connection Webhook Payload\n",
      "Connection ID 719afced-2a85-4371-b30f-e28b741e7d44\n",
      "State request\n",
      "State request\n",
      "Handle Connection Webhook Payload\n",
      "Connection ID 719afced-2a85-4371-b30f-e28b741e7d44\n",
      "State response\n",
      "State response\n",
      "Handle Connection Webhook Payload\n",
      "Connection ID 719afced-2a85-4371-b30f-e28b741e7d44\n",
      "State active\n",
      "\u001b[1m\u001b[31mConnection 719afced-2a85-4371-b30f-e28b741e7d44 changed state to active\u001b[0m\n",
      "State active\n",
      "Handle Credential Webhook Payload\n",
      "Credential exchange ID 9e39ba8d-ff71-48f0-a267-0bed50ff7467\n",
      "Agent Protocol Role issuer\n",
      "Protocol State  offer_sent\n",
      "Credential Offer with the following attributes sent  [{'name': 'name', 'value': 'Will'}, {'name': 'scope', 'value': 'Health'}]\n",
      "Handle Credential Webhook Payload\n",
      "Credential exchange ID 9e39ba8d-ff71-48f0-a267-0bed50ff7467\n",
      "Agent Protocol Role issuer\n",
      "Protocol State  request_received\n",
      "Handle Credential Webhook Payload\n",
      "Credential exchange ID 9e39ba8d-ff71-48f0-a267-0bed50ff7467\n",
      "Agent Protocol Role issuer\n",
      "Protocol State  credential_issued\n",
      "Handle Credential Webhook Payload\n",
      "Credential exchange ID 9e39ba8d-ff71-48f0-a267-0bed50ff7467\n",
      "Agent Protocol Role issuer\n",
      "Protocol State  credential_acked\n"
     ]
    }
   ],
   "source": [
    "# Create Invitation\n",
    "invite = await agent_controller.connections.create_invitation()\n",
    "connection_id = invite[\"connection_id\"]\n",
    "print(\"Connection ID\", connection_id)\n",
    "print(\"Invitation - Copy The Object Below \\n\")\n",
    "print(invite[\"invitation\"])\n",
    "print(\"\\n\\n ----------------------------------------\")"
   ]
  },
  {
   "cell_type": "markdown",
   "id": "funny-spencer",
   "metadata": {},
   "source": [
    "## Continue in the Data Scientist Notebook\n",
    "\n",
    "Be sure to come back here to review the webhook messages your receive after accepting the invitation. Pretty handy how your application reacted to the connection becoming active and immediately offered a credential to this connection."
   ]
  },
  {
   "cell_type": "markdown",
   "id": "plain-mailing",
   "metadata": {},
   "source": [
    "## End of Notebook\n",
    "\n",
    "Great, once your data scientist has the credential this notebook is finished. Make sure you terminate the controller instance."
   ]
  },
  {
   "cell_type": "code",
   "execution_count": 8,
   "id": "authentic-newfoundland",
   "metadata": {},
   "outputs": [],
   "source": [
    "await agent_controller.terminate()"
   ]
  },
  {
   "cell_type": "markdown",
   "id": "involved-citizenship",
   "metadata": {},
   "source": [
    "## Continue to Notebook 6.\n",
    "\n",
    "This notebook is going to be a very similar flow to the one you just ran through here. You will be issuing the data owner a credential instead."
   ]
  }
 ],
 "metadata": {
  "kernelspec": {
   "display_name": "Python 3",
   "language": "python",
   "name": "python3"
  },
  "language_info": {
   "codemirror_mode": {
    "name": "ipython",
    "version": 3
   },
   "file_extension": ".py",
   "mimetype": "text/x-python",
   "name": "python",
   "nbconvert_exporter": "python",
   "pygments_lexer": "ipython3",
   "version": "3.7.6"
  }
 },
 "nbformat": 4,
 "nbformat_minor": 5
}

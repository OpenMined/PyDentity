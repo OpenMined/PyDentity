{
 "cells": [
  {
   "cell_type": "markdown",
   "id": "informative-beverage",
   "metadata": {},
   "source": [
    "# Onboarding a Data Owner\n",
    "\n",
    "In this notebook you will control the OM Authority agent to issue a credential attesting to another entities ability to participate in a PPML flow as a Data Owner. \n",
    "\n",
    "This is very similar to the previous notebooks involving the data scientist, with just a few slight changes that highlight an important aspect of initiating connections that we will use later.\n"
   ]
  },
  {
   "cell_type": "markdown",
   "id": "several-hotel",
   "metadata": {},
   "source": [
    "## 1. Initialise your Agent\n"
   ]
  },
  {
   "cell_type": "code",
   "execution_count": 1,
   "id": "entire-fireplace",
   "metadata": {},
   "outputs": [
    {
     "name": "stdout",
     "output_type": "stream",
     "text": [
      "IPython autoawait is `on`, and set to use `asyncio`\n"
     ]
    }
   ],
   "source": [
    "%autoawait\n",
    "import time\n",
    "import asyncio\n",
    "import nest_asyncio\n",
    "nest_asyncio.apply()\n",
    "from termcolor import colored,cprint\n",
    "\n",
    "from aries_basic_controller.aries_controller import AriesAgentController\n",
    "    \n",
    "WEBHOOK_HOST = \"0.0.0.0\"\n",
    "WEBHOOK_PORT = 8022\n",
    "WEBHOOK_BASE = \"\"\n",
    "ADMIN_URL = \"http://om-authority-agent:8021\"\n",
    "\n",
    "# Based on the aca-py agent you wish to control\n",
    "agent_controller = AriesAgentController(webhook_host=WEBHOOK_HOST, webhook_port=WEBHOOK_PORT,\n",
    "                                       webhook_base=WEBHOOK_BASE, admin_url=ADMIN_URL)"
   ]
  },
  {
   "cell_type": "markdown",
   "id": "linear-joining",
   "metadata": {},
   "source": [
    "## 2. Start Webhook Server\n",
    "\n",
    "You always need to do this if you want to receive webhooks from your agent. "
   ]
  },
  {
   "cell_type": "code",
   "execution_count": 2,
   "id": "formed-graphic",
   "metadata": {},
   "outputs": [],
   "source": [
    "loop = asyncio.get_event_loop()\n",
    "loop.run_until_complete(agent_controller.listen_webhooks())"
   ]
  },
  {
   "cell_type": "markdown",
   "id": "surprised-nightmare",
   "metadata": {},
   "source": [
    "## 3. Load schema and definition identifiers\n",
    "\n",
    "This is for the data owner this time as defined in the notebook 3."
   ]
  },
  {
   "cell_type": "code",
   "execution_count": 3,
   "id": "weekly-angle",
   "metadata": {},
   "outputs": [
    {
     "name": "stdout",
     "output_type": "stream",
     "text": [
      "Successfully loaded identifiers required to issue Data Owner credentials\n",
      "Schema : Sgg1wREgfEwbEPCQn9xEuE:2:OM Data Owner:0.0.1\n",
      "Cred Def : vrzjfm1MEN1g5o6QtHLfv:3:CL:188835:default\n"
     ]
    }
   ],
   "source": [
    "%store -r data_owner_schema_id\n",
    "%store -r data_owner_cred_def_id\n",
    "\n",
    "if data_owner_schema_id and data_owner_cred_def_id:\n",
    "    print(\"Successfully loaded identifiers required to issue Data Owner credentials\")\n",
    "    print(\"Schema :\", data_owner_schema_id)\n",
    "    print(\"Cred Def :\", data_owner_cred_def_id)"
   ]
  },
  {
   "cell_type": "markdown",
   "id": "literary-cause",
   "metadata": {},
   "source": [
    "## 4. Populate Credential Attributes\n",
    "\n",
    "Again you can put whatever you would like in these attributes.\n",
    "\n",
    "When desigining an SSI Application you would likely want to create a way to enter new attribute values for each credential issued, maybe through some form? We will not be doing this in this notebook."
   ]
  },
  {
   "cell_type": "code",
   "execution_count": 4,
   "id": "dress-inquiry",
   "metadata": {},
   "outputs": [
    {
     "name": "stdout",
     "output_type": "stream",
     "text": [
      "Please enter a name for the data owner: Will\n",
      "Please enter the domain of the data: Health\n",
      "[{'name': 'name', 'value': 'Will'}, {'name': 'domain', 'value': 'Health'}]\n"
     ]
    }
   ],
   "source": [
    "\n",
    "name=input(\"Please enter a name for the data owner: \")\n",
    "domain=input(\"Please enter the domain of the data: \")\n",
    "credential_attributes = [\n",
    "    {\"name\": \"name\", \"value\": name},\n",
    "    {\"name\": \"domain\", \"value\": domain},\n",
    "]\n",
    "print(credential_attributes)"
   ]
  },
  {
   "cell_type": "markdown",
   "id": "tamil-horizon",
   "metadata": {},
   "source": [
    "## 5. Define A Entry Point for Data Scientists\n",
    "\n",
    "**ALERT: I hope your paying attention. This is different from the previous notebooks**\n",
    "\n",
    "A nice pattern we can use when managing connections within an SSI application is assigning them meaning based on how the connection was created. For example your application might have a button for normal users to register, but it also might have alternative pathways for administrative staff to connect with the agent.\n",
    "\n",
    "Understanding this and using it to define custom entry points, for example connections established through this entrypoint could be challenged to meet a certain authentication policy before being trusted. We will see this later on.\n",
    "\n",
    "For now just review the function defined below:"
   ]
  },
  {
   "cell_type": "code",
   "execution_count": 6,
   "id": "closing-finder",
   "metadata": {},
   "outputs": [],
   "source": [
    "# The data store for connections that entered via this entrypoint\n",
    "dataowner_connections = []\n",
    "def create_dataowner_invite():\n",
    "    # Create Invitation\n",
    "    invite = asyncio.get_event_loop().run_until_complete(agent_controller.connections.create_invitation())\n",
    "    connection_id = invite[\"connection_id\"]\n",
    "    \n",
    "    # Represent connection in your application\n",
    "    dataowner_conn = {\n",
    "        \"connection_id\": connection_id,\n",
    "        ## Note we could also have is_trusted or any other properties we like\n",
    "        \"is_active\": asyncio.Future()\n",
    "    }\n",
    "    \n",
    "    ## Add to list of dataowner connections\n",
    "    dataowner_connections.append(dataowner_conn)\n",
    "    \n",
    "    print(\"Connection ID\", connection_id)\n",
    "    print(\"Invitation - Copy The Object Below \\n\")\n",
    "    print(invite[\"invitation\"])\n",
    "    print(\"\\n\\n ----------------------------------------\")\n",
    "    \n",
    "    # Asyncio futures allow you to wait until at some point in the future it is ready at another point in the application.\n",
    "    asyncio.get_event_loop().run_until_complete(dataowner_conn[\"is_active\"])\n",
    "                                               \n",
    "    # We can set information in a future when it is ready\n",
    "    if dataowner_conn[\"is_active\"].result() == True:\n",
    "    \n",
    "        ## issue a credential\n",
    "        asyncio.get_event_loop().run_until_complete(agent_controller.issuer.send_credential(connection_id, data_owner_schema_id, data_owner_cred_def_id, credential_attributes, trace=False))\n",
    "\n",
    "    \n",
    "    "
   ]
  },
  {
   "cell_type": "markdown",
   "id": "essential-mechanics",
   "metadata": {},
   "source": [
    "## 6. Register Listeners - Review the Code\n",
    "\n",
    "Now we know the entry point for dataowners, and the datastore we use to record a representation of their connection in we can use them within our handler functions.\n",
    "\n",
    "The connections_handler has been changed accordingly"
   ]
  },
  {
   "cell_type": "code",
   "execution_count": 7,
   "id": "broadband-oxford",
   "metadata": {},
   "outputs": [],
   "source": [
    "\n",
    "def cred_handler(payload):\n",
    "    exchange_id = payload['credential_exchange_id']\n",
    "    state = payload['state']\n",
    "    role = payload['role']\n",
    "    attributes = payload['credential_proposal_dict']['credential_proposal']['attributes']\n",
    "    print(f\"Credential exchange ID {exchange_id}\")\n",
    "    print(\"Agent Protocol Role\", role)\n",
    "    print(\"Protocol State \", state )\n",
    "    \n",
    "cred_listener = {\n",
    "    \"topic\": \"issue_credential\",\n",
    "    \"handler\": cred_handler\n",
    "}\n",
    "\n",
    "## THIS IS DIFFERENT\n",
    "def connections_handler(payload):\n",
    "    print(\"Handle Connection Webhook Payload\")\n",
    "    connection_id = payload[\"connection_id\"]\n",
    "    print(\"Connection ID\", connection_id)\n",
    "\n",
    "    state = payload['state']\n",
    "    print(\"State\", state)\n",
    "    \n",
    "    ## We can check if the connection webhook we are handling is of a specific type\n",
    "    for dataowner_conn in dataowner_connections:\n",
    "        if connection_id == dataowner_conn[\"connection_id\"]:\n",
    "            print(\"This is a Data Owner connection\")\n",
    "            if state == 'response':\n",
    "                # seems to need to wait here for a bit\n",
    "                time.sleep(1)\n",
    "                # Must send trust ping to move connection to active\n",
    "                asyncio.get_event_loop().run_until_complete(agent_controller.messaging.trust_ping(connection_id, \"hey\"))\n",
    "\n",
    "            if state == 'active':\n",
    "        #         print('Connection {0} changed state to active'.format(connection_id))\n",
    "                print(colored(\"Connection {0} changed state to active\".format(connection_id), \"red\", attrs=[\"bold\"]))\n",
    "                \n",
    "                print(\"Setting Data Owner Connection is_active future result to True\")\n",
    "                dataowner_conn[\"is_active\"].set_result(True)\n",
    "\n",
    "connection_listener = {\n",
    "    \"handler\": connections_handler,\n",
    "    \"topic\": \"connections\"\n",
    "}\n",
    "\n",
    "agent_controller.register_listeners([cred_listener,connection_listener], defaults=True)\n"
   ]
  },
  {
   "cell_type": "markdown",
   "id": "national-lodging",
   "metadata": {},
   "source": [
    "## 7. Establish A Connection with the Data Owner\n",
    "\n",
    "We will use the entrypoint function we defined earlier. Again you will copy the printed invitation across to the Data Owner notebook, which should be at port 8889.\n",
    "\n",
    "Notice that when you run the below cell it does not complete immediately (See the **In [*]:** to the left of the cell). This is because it is waiting for the connection to become active. You will be unable to run any other cells in this notebook until it does."
   ]
  },
  {
   "cell_type": "code",
   "execution_count": 8,
   "id": "behavioral-asset",
   "metadata": {},
   "outputs": [
    {
     "name": "stdout",
     "output_type": "stream",
     "text": [
      "Handle Connection Webhook Payload\n",
      "Connection ID 10692b30-5b4d-43a0-b550-edf8e861532b\n",
      "State invitation\n",
      "Connection ID 10692b30-5b4d-43a0-b550-edf8e861532b\n",
      "Invitation - Copy The Object Below \n",
      "\n",
      "{'@type': 'did:sov:BzCbsNYhMrjHiqZDTUASHg;spec/connections/1.0/invitation', '@id': 'cf5fe00e-643e-48b7-985a-778dea8ab114', 'label': 'OM_AUTHORITY', 'serviceEndpoint': 'https://0bd98e2df434.ngrok.io', 'recipientKeys': ['FUcgHNhGZWCji9nsKmPhgCodNaamPj4xJ2PYjdCRd1TE']}\n",
      "\n",
      "\n",
      " ----------------------------------------\n",
      "Handle Connection Webhook Payload\n",
      "Connection ID 10692b30-5b4d-43a0-b550-edf8e861532b\n",
      "State request\n",
      "This is a Data Owner connection\n",
      "Handle Connection Webhook Payload\n",
      "Connection ID 10692b30-5b4d-43a0-b550-edf8e861532b\n",
      "State response\n",
      "This is a Data Owner connection\n",
      "Handle Connection Webhook Payload\n",
      "Connection ID 10692b30-5b4d-43a0-b550-edf8e861532b\n",
      "State active\n",
      "This is a Data Owner connection\n",
      "\u001b[1m\u001b[31mConnection 10692b30-5b4d-43a0-b550-edf8e861532b changed state to active\u001b[0m\n",
      "Setting Data Owner Connection is_active future result to True\n",
      "Credential exchange ID 83941949-4d62-4d9a-9f8f-c3b61b981727\n",
      "Agent Protocol Role issuer\n",
      "Protocol State  offer_sent\n",
      "Credential exchange ID 83941949-4d62-4d9a-9f8f-c3b61b981727\n",
      "Agent Protocol Role issuer\n",
      "Protocol State  request_received\n",
      "Credential exchange ID 83941949-4d62-4d9a-9f8f-c3b61b981727\n",
      "Agent Protocol Role issuer\n",
      "Protocol State  credential_issued\n",
      "Credential exchange ID 83941949-4d62-4d9a-9f8f-c3b61b981727\n",
      "Agent Protocol Role issuer\n",
      "Protocol State  credential_acked\n"
     ]
    }
   ],
   "source": [
    "create_dataowner_invite()"
   ]
  },
  {
   "cell_type": "markdown",
   "id": "boolean-emperor",
   "metadata": {},
   "source": [
    "## Continue in the Data Owner Notebook\n",
    "\n",
    "Be sure to come back here to review the webhook messages your receive after accepting the invitation. Pretty handy how your OM Authority handled issuing the Data Owner their credential."
   ]
  },
  {
   "cell_type": "markdown",
   "id": "martial-coast",
   "metadata": {},
   "source": [
    "## End of Tutorial\n",
    "\n",
    "Great, we learnt a lot here. In this notebook you saw how to create specific entrypoints that can be used to define different actions for different connections. This is a pattern we will see more of.\n",
    "\n",
    "In the Data Owner notebook you should have seen a detailed breakdown of the issue-credential protocol messages output by the credential handler. **IF YOU HAVE NOT SEEN THIS YOU SHOULD GO BACK AND CHECK THE ACCEPT CONNECTION OUTPUT CELL IN THAT NOTEBOOK**\n",
    "\n",
    "Before moving on be sure to terminate the controller."
   ]
  },
  {
   "cell_type": "code",
   "execution_count": 8,
   "id": "present-withdrawal",
   "metadata": {},
   "outputs": [],
   "source": [
    "await agent_controller.terminate()"
   ]
  },
  {
   "cell_type": "markdown",
   "id": "favorite-potter",
   "metadata": {},
   "source": [
    "## Continue to 7.\n",
    "\n",
    "Part 7 of this notebook series is not in the OM Authority application (notebooks). It takes place in the Data Owner and Data Scientist notebooks as they establish a connection and mutually request proof from the other.\n",
    "\n",
    "We will start in the Data Owner notebook 7."
   ]
  }
 ],
 "metadata": {
  "kernelspec": {
   "display_name": "Python 3",
   "language": "python",
   "name": "python3"
  },
  "language_info": {
   "codemirror_mode": {
    "name": "ipython",
    "version": 3
   },
   "file_extension": ".py",
   "mimetype": "text/x-python",
   "name": "python",
   "nbconvert_exporter": "python",
   "pygments_lexer": "ipython3",
   "version": "3.7.6"
  }
 },
 "nbformat": 4,
 "nbformat_minor": 5
}

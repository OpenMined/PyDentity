{
 "cells": [
  {
   "cell_type": "markdown",
   "id": "sought-devil",
   "metadata": {},
   "source": [
    "# Connect and Authenticate with a Data Owner\n",
    "\n",
    "As a Data Scientist, you want to be able to connect with data owners and verify that they actually have the data that you are looking for before engaging in any privacy-preserving machine learning flows.\n",
    "\n",
    "In this notebook you will learn how to do that, requesting the data owner proves that they have a Data Owner credential issued from the OM Authority.\n",
    "\n",
    "**You Should have started with the Data Owner. Port 8889**"
   ]
  },
  {
   "cell_type": "markdown",
   "id": "imported-rolling",
   "metadata": {},
   "source": [
    "## 5. Initialise the Data Scientist Controller\n",
    "\n",
    "We will just use the basic controller on it's own in this notebook so this code should feel quite familiar. We will not be managing a list of trusted connections in this notebook, instead we will be focusing on the present-proof protocol in detail."
   ]
  },
  {
   "cell_type": "code",
   "execution_count": 1,
   "id": "hollow-dating",
   "metadata": {},
   "outputs": [
    {
     "name": "stdout",
     "output_type": "stream",
     "text": [
      "IPython autoawait is `on`, and set to use `asyncio`\n"
     ]
    }
   ],
   "source": [
    "%autoawait\n",
    "import time\n",
    "import asyncio\n",
    "from termcolor import colored,cprint\n",
    "\n",
    "from aries_basic_controller.aries_controller import AriesAgentController\n",
    "    \n",
    "WEBHOOK_HOST = \"0.0.0.0\"\n",
    "WEBHOOK_PORT = 8062\n",
    "WEBHOOK_BASE = \"\"\n",
    "ADMIN_URL = \"http://datascientist-agent:8061\"\n",
    "\n",
    "# Based on the aca-py agent you wish to control\n",
    "agent_controller = AriesAgentController(webhook_host=WEBHOOK_HOST, webhook_port=WEBHOOK_PORT,\n",
    "                                       webhook_base=WEBHOOK_BASE, admin_url=ADMIN_URL)"
   ]
  },
  {
   "cell_type": "markdown",
   "id": "amended-brunei",
   "metadata": {},
   "source": [
    "## 6. Listen to Webhooks and Register Listeners\n",
    "\n",
    "In these listeners we dig into the messages getting communicated between agents as part of the present-proof protocol. Similar to the issue-credential protocol in part 6."
   ]
  },
  {
   "cell_type": "code",
   "execution_count": 2,
   "id": "lonely-football",
   "metadata": {},
   "outputs": [],
   "source": [
    "loop = asyncio.get_event_loop()\n",
    "loop.create_task(agent_controller.listen_webhooks())\n",
    "\n",
    "\n",
    "def proof_handler(payload):\n",
    "    role = payload[\"role\"]\n",
    "    connection_id = payload[\"connection_id\"]\n",
    "    pres_ex_id = payload[\"presentation_exchange_id\"]\n",
    "    state = payload[\"state\"]\n",
    "    print(\"\\n---------------------------------------------------------------------\\n\")\n",
    "    print(\"Handle present-proof\")\n",
    "    print(\"Connection ID : \", connection_id)\n",
    "    print(\"Presentation Exchange ID : \", pres_ex_id)\n",
    "    print(\"Protocol State : \", state)\n",
    "    print(\"Agent Role : \", role)\n",
    "    print(\"Initiator : \", payload[\"initiator\"])\n",
    "    print(\"\\n---------------------------------------------------------------------\\n\")\n",
    "    \n",
    "\n",
    "    if state == \"request_received\":\n",
    "        presentation_request = payload[\"presentation_request\"]\n",
    "        print(\"Recieved Presentation Object\\n\")\n",
    "        print(presentation_request)\n",
    "        print(\"\\nName : \", presentation_request[\"name\"])\n",
    "        print(\"\\nRequested Attributes - Note the restrictions. These limit the credentials we could respond with\\n\")\n",
    "        print(presentation_request[\"requested_attributes\"])\n",
    "        print(\"\\nThere is also a requested_predicates object, which is empty because we did not request any\")\n",
    "        print(\"\\nAnd as with issue credential we have a nonce, which gives the issuer confidence in the liveness of the presentation\\n\")\n",
    "        print(presentation_request[\"nonce\"])\n",
    "    elif state == \"presentation_sent\":\n",
    "        \n",
    "        print(\"The Presentation object is a bit overwhelming. Let's look at it in detail\\n\")\n",
    "        presentation = payload[\"presentation\"]\n",
    "        \n",
    "        print(\"\\nThe Requested Proof object contains revealed, unrevealed, self-attested and predicate attributes\\n\")\n",
    "        print(presentation[\"requested_proof\"])\n",
    "        print(\"\\nThe revealed attributes contains the raw and encoded version of the scope attribute. As well as an index into the proof object we will look at later.\\n\")\n",
    "        print(presentation[\"requested_proof\"][\"revealed_attrs\"])\n",
    "        \n",
    "        print(\"\\nAll identifiers associated with the presentation\")\n",
    "        print(presentation[\"identifiers\"])\n",
    "        \n",
    "        print(\"\\nThen the Proof object - the crypto bit\\n\")\n",
    "        proof = presentation[\"proof\"]\n",
    "        print(proof)\n",
    "        \n",
    "        print(\"\\nThis contains an array of proofs, one element for each attribute disclosed (I think)\\n\")\n",
    "        print(proof[\"proofs\"])\n",
    "        \n",
    "        print(\"\\nEach proof element contains a primary proof and a proof of non-revocation (which will be empty)\\n\")\n",
    "        proof_elem = proof[\"proofs\"][0]\n",
    "        print(proof_elem)\n",
    "        \n",
    "        print(\"\\nEach primary proof contains an eq_proof, which is where all the numbers are for the crypto proving an attribute disclosed really is equal to the one signed\\n\")\n",
    "        print(proof_elem[\"primary_proof\"][\"eq_proof\"])\n",
    "        \n",
    "        print(\"\\nFinally the proofs are combined into a single aggregated proof object\\n\")\n",
    "        print(proof[\"aggregated_proof\"])\n",
    "        \n",
    "        print(\"\\nNotice again the c_hash, this is the challenge for the non-interactive ZKP proof which is verifying this presentation\\n\")\n",
    "        \n",
    "    \n",
    "        \n",
    "        \n",
    "        \n",
    "    elif state == \"presentation_acked\":\n",
    "        print(\"Presentation has been acknowledged by the Issuer\")\n",
    "    elif state == \"request_sent\":\n",
    "        print(\"Presentation Request\\n\")\n",
    "        print(payload[\"presentation_request\"])\n",
    "        print(\"\\nThe presentation request is encoded in base64 and packaged into a DIDComm Message\\n\")\n",
    "        print(payload[\"presentation_request_dict\"])\n",
    "        print(\"\\nNote the type defines the protocol present-proof and the message request-presentation\\n\")\n",
    "        print(payload[\"presentation_request_dict\"][\"@type\"])\n",
    "    elif state == \"presentation_received\":\n",
    "        print(\"Presentation Received\")\n",
    "        print(\"We will not go into detail on this payload as it is comparable to the presentation_sent we looked at in the earlier cell.\")\n",
    "        print(\"This is the full payload\\n\")\n",
    "        print(payload)\n",
    "    else:\n",
    "        print(\"Paload \\n\")\n",
    "        print(payload)\n",
    "    \n",
    "\n",
    "proof_listener = {\n",
    "    \"handler\": proof_handler,\n",
    "    \"topic\": \"present_proof\"\n",
    "}   \n",
    "\n",
    "def connections_handler(payload):\n",
    "    print(\"Handle Connection Webhook Payload\")\n",
    "    connection_id = payload[\"connection_id\"]\n",
    "    print(\"Connection ID\", connection_id)\n",
    "\n",
    "    state = payload['state']\n",
    "    print(\"State\", state)\n",
    "    if state == 'active':\n",
    "#         print('Connection {0} changed state to active'.format(connection_id))\n",
    "        print(colored(\"Connection {0} changed state to active\".format(connection_id), \"red\", attrs=[\"bold\"]))\n",
    "\n",
    "\n",
    "connection_listener = {\n",
    "    \"handler\": connections_handler,\n",
    "    \"topic\": \"connections\"\n",
    "}\n",
    "\n",
    "agent_controller.register_listeners([proof_listener,connection_listener], defaults=True)"
   ]
  },
  {
   "cell_type": "markdown",
   "id": "thousand-aging",
   "metadata": {},
   "source": [
    "## 7 Accept Invitation from Data Owner"
   ]
  },
  {
   "cell_type": "code",
   "execution_count": 3,
   "id": "wrong-vatican",
   "metadata": {},
   "outputs": [],
   "source": [
    "invite = {\"@type\": \"did:sov:BzCbsNYhMrjHiqZDTUASHg;spec/connections/1.0/invitation\", \"@id\": \"bd5a48d8-11be-4e17-a880-74e4cea6a45a\", \"serviceEndpoint\": \"https://e695090e077b.ngrok.io\", \"recipientKeys\": [\"Agp992DQggeQLb17a7LPCn4w64WevuTDr7mkPtnAvn2c\"], \"label\": \"DATAOWNER\"}"
   ]
  },
  {
   "cell_type": "markdown",
   "id": "sized-watts",
   "metadata": {},
   "source": [
    "### BE SURE TO SCROLL THROUGH THE OUTPUT TO SEE A BREAKDOWN OF THE AGENT MESSAGES EXCHANGED"
   ]
  },
  {
   "cell_type": "code",
   "execution_count": 4,
   "id": "prospective-battle",
   "metadata": {},
   "outputs": [
    {
     "name": "stdout",
     "output_type": "stream",
     "text": [
      "Handle Connection Webhook Payload\n",
      "Connection ID 187f3026-3e5d-4684-9b92-3fb817fc93c9\n",
      "State invitation\n",
      "Handle Connection Webhook Payload\n",
      "Connection ID 187f3026-3e5d-4684-9b92-3fb817fc93c9\n",
      "State request\n",
      "Handle Connection Webhook Payload\n",
      "Connection ID 187f3026-3e5d-4684-9b92-3fb817fc93c9\n",
      "State response\n",
      "Handle Connection Webhook Payload\n",
      "Connection ID 187f3026-3e5d-4684-9b92-3fb817fc93c9\n",
      "State active\n",
      "\u001b[1m\u001b[31mConnection 187f3026-3e5d-4684-9b92-3fb817fc93c9 changed state to active\u001b[0m\n",
      "\n",
      "---------------------------------------------------------------------\n",
      "\n",
      "Handle present-proof\n",
      "Connection ID :  187f3026-3e5d-4684-9b92-3fb817fc93c9\n",
      "Presentation Exchange ID :  d9d227c7-e9ca-4ffd-8898-ca42064717ab\n",
      "Protocol State :  request_received\n",
      "Agent Role :  prover\n",
      "Initiator :  external\n",
      "\n",
      "---------------------------------------------------------------------\n",
      "\n",
      "Recieved Presentation Object\n",
      "\n",
      "{'name': 'Proof of Scientist', 'version': '1.0', 'requested_attributes': {'0_scope_uuid': {'name': 'scope', 'restrictions': [{'schema_id': 'Sgg1wREgfEwbEPCQn9xEuE:2:OM Data Scientist:0.0.1'}]}}, 'requested_predicates': {}, 'nonce': '766441059136793630811487'}\n",
      "\n",
      "Name :  Proof of Scientist\n",
      "\n",
      "Requested Attributes - Note the restrictions. These limit the credentials we could respond with\n",
      "\n",
      "{'0_scope_uuid': {'name': 'scope', 'restrictions': [{'schema_id': 'Sgg1wREgfEwbEPCQn9xEuE:2:OM Data Scientist:0.0.1'}]}}\n",
      "\n",
      "There is also a requested_predicates object, which is empty because we did not request any\n",
      "\n",
      "And as with issue credential we have a nonce, which gives the issuer confidence in the liveness of the presentation\n",
      "\n",
      "766441059136793630811487\n",
      "\n",
      "---------------------------------------------------------------------\n",
      "\n",
      "Handle present-proof\n",
      "Connection ID :  187f3026-3e5d-4684-9b92-3fb817fc93c9\n",
      "Presentation Exchange ID :  d9d227c7-e9ca-4ffd-8898-ca42064717ab\n",
      "Protocol State :  presentation_sent\n",
      "Agent Role :  prover\n",
      "Initiator :  external\n",
      "\n",
      "---------------------------------------------------------------------\n",
      "\n",
      "The Presentation object is a bit overwhelming. Let's look at it in detail\n",
      "\n",
      "\n",
      "The Requested Proof object contains revealed, unrevealed, self-attested and predicate attributes\n",
      "\n",
      "{'revealed_attrs': {'0_scope_uuid': {'sub_proof_index': 0, 'raw': 'Health', 'encoded': '38689563200842676527059703307142261488144249622422333427516415160904487384964'}}, 'self_attested_attrs': {}, 'unrevealed_attrs': {}, 'predicates': {}}\n",
      "\n",
      "The revealed attributes contains the raw and encoded version of the scope attribute. As well as an index into the proof object we will look at later.\n",
      "\n",
      "{'0_scope_uuid': {'sub_proof_index': 0, 'raw': 'Health', 'encoded': '38689563200842676527059703307142261488144249622422333427516415160904487384964'}}\n",
      "\n",
      "All identifiers associated with the presentation\n",
      "[{'schema_id': 'Sgg1wREgfEwbEPCQn9xEuE:2:OM Data Scientist:0.0.1', 'cred_def_id': 'vrzjfm1MEN1g5o6QtHLfv:3:CL:188831:default', 'rev_reg_id': None, 'timestamp': None}]\n",
      "\n",
      "Then the Proof object - the crypto bit\n",
      "\n",
      "{'proofs': [{'primary_proof': {'eq_proof': {'revealed_attrs': {'scope': '38689563200842676527059703307142261488144249622422333427516415160904487384964'}, 'a_prime': '54399397638410119824409207160009649932776437639698679542139667286988044029607256339136259793679334992130139360466534518184528739207438851797810387817201249114103876591173835608872218269384894928962613099630252044064446835258824462630819254640818153497840731192712026863931589774025122793454924986714286420206511725325254543568610574573636055305430756053556029922664627184465057596072634473394425972992163347363521544427870106157011610266336815333788807032343007717581518280842131373002732419770644827328977358094768713814050427011938201419715244376996878825935255726445525942001696510317351818626556859202767465638937', 'e': '126830257733227865545344039682062271297806022738944593390178506393345906112804973812696465253284573429985441424678008814350978681883802765', 'v': '537855492689106975287840824563342563475905419001634207026918878614647612183756303457554512381270413065004829457324646904480228042518145808946983702733440208257493934872326627146562186513796495476585698896133149869060501762298460504047908791720500185640016652021309538259708757653101897840099848533380369975416944944571384949379993696915520759790384949963908820806816290819911958060588742476082555467560319869433656331535923695420591290079041281801487778907002033993791226704930390504478710555033174202502262119675428468784415874528881133403850451884933176462876075198439307570113346685820332798751714002354278847775025667964092842853633358132859668950109756586802791183326034611192127501063084811977425524530827731599102463668788971395051009264085662772929500884427277636979020774903486649559966499065570372295532101820956572069347897672447722836748583152432396355722658132180172822963649199419924877451603073214852984510', 'm': {'name': '13310858899554785242294456570800383089418368589138590256520769848331496713710458027583716240382041416044164941791761761066549175271139019082105347792015808616035775600464405477117', 'master_secret': '11993645525309256673274793245994811625799107689148039585319536578128900873244300351762183351400778516373520589842263523347533908180976039483615437640787648208761462613407667574226'}, 'm2': '7598443243197277944970689707652356460529912256726468086598455188575231814354350056908713788512869241781220105371277501442933910359266406230956285452022487000981051123611620615919'}, 'ge_proofs': []}, 'non_revoc_proof': None}], 'aggregated_proof': {'c_hash': '36690784945121624788403074700510730828476390969178610730828500547902639509203', 'c_list': [[1, 174, 237, 29, 210, 205, 192, 34, 247, 122, 196, 214, 207, 147, 71, 48, 61, 242, 22, 250, 45, 237, 139, 106, 141, 202, 87, 187, 37, 81, 132, 109, 64, 217, 79, 6, 71, 80, 39, 138, 17, 127, 120, 235, 25, 116, 252, 202, 175, 93, 146, 177, 206, 7, 169, 197, 143, 203, 49, 85, 172, 15, 154, 165, 249, 135, 176, 78, 11, 24, 233, 128, 188, 68, 114, 202, 235, 197, 124, 77, 61, 254, 118, 186, 101, 192, 2, 117, 140, 231, 199, 30, 217, 110, 178, 157, 87, 80, 84, 83, 254, 12, 114, 83, 185, 177, 86, 236, 86, 224, 67, 90, 72, 24, 51, 236, 196, 226, 74, 62, 25, 56, 81, 150, 143, 109, 70, 176, 197, 37, 122, 246, 94, 168, 84, 203, 68, 67, 34, 169, 165, 170, 44, 127, 228, 62, 32, 126, 14, 133, 218, 167, 138, 12, 37, 152, 174, 214, 183, 177, 243, 221, 91, 105, 113, 14, 100, 238, 132, 179, 44, 198, 28, 156, 87, 50, 35, 236, 15, 72, 46, 67, 111, 211, 164, 141, 137, 194, 199, 130, 246, 128, 118, 110, 69, 214, 93, 158, 100, 205, 125, 204, 125, 112, 23, 16, 212, 67, 224, 212, 107, 204, 95, 135, 180, 219, 234, 115, 4, 25, 8, 97, 40, 62, 32, 173, 78, 8, 176, 219, 145, 231, 209, 58, 195, 59, 58, 97, 207, 117, 210, 149, 59, 216, 224, 154, 247, 179, 129, 111, 62, 186, 51, 27, 66, 108, 25]]}}\n",
      "\n",
      "This contains an array of proofs, one element for each attribute disclosed (I think)\n",
      "\n",
      "[{'primary_proof': {'eq_proof': {'revealed_attrs': {'scope': '38689563200842676527059703307142261488144249622422333427516415160904487384964'}, 'a_prime': '54399397638410119824409207160009649932776437639698679542139667286988044029607256339136259793679334992130139360466534518184528739207438851797810387817201249114103876591173835608872218269384894928962613099630252044064446835258824462630819254640818153497840731192712026863931589774025122793454924986714286420206511725325254543568610574573636055305430756053556029922664627184465057596072634473394425972992163347363521544427870106157011610266336815333788807032343007717581518280842131373002732419770644827328977358094768713814050427011938201419715244376996878825935255726445525942001696510317351818626556859202767465638937', 'e': '126830257733227865545344039682062271297806022738944593390178506393345906112804973812696465253284573429985441424678008814350978681883802765', 'v': '537855492689106975287840824563342563475905419001634207026918878614647612183756303457554512381270413065004829457324646904480228042518145808946983702733440208257493934872326627146562186513796495476585698896133149869060501762298460504047908791720500185640016652021309538259708757653101897840099848533380369975416944944571384949379993696915520759790384949963908820806816290819911958060588742476082555467560319869433656331535923695420591290079041281801487778907002033993791226704930390504478710555033174202502262119675428468784415874528881133403850451884933176462876075198439307570113346685820332798751714002354278847775025667964092842853633358132859668950109756586802791183326034611192127501063084811977425524530827731599102463668788971395051009264085662772929500884427277636979020774903486649559966499065570372295532101820956572069347897672447722836748583152432396355722658132180172822963649199419924877451603073214852984510', 'm': {'name': '13310858899554785242294456570800383089418368589138590256520769848331496713710458027583716240382041416044164941791761761066549175271139019082105347792015808616035775600464405477117', 'master_secret': '11993645525309256673274793245994811625799107689148039585319536578128900873244300351762183351400778516373520589842263523347533908180976039483615437640787648208761462613407667574226'}, 'm2': '7598443243197277944970689707652356460529912256726468086598455188575231814354350056908713788512869241781220105371277501442933910359266406230956285452022487000981051123611620615919'}, 'ge_proofs': []}, 'non_revoc_proof': None}]\n",
      "\n",
      "Each proof element contains a primary proof and a proof of non-revocation (which will be empty)\n",
      "\n",
      "{'primary_proof': {'eq_proof': {'revealed_attrs': {'scope': '38689563200842676527059703307142261488144249622422333427516415160904487384964'}, 'a_prime': '54399397638410119824409207160009649932776437639698679542139667286988044029607256339136259793679334992130139360466534518184528739207438851797810387817201249114103876591173835608872218269384894928962613099630252044064446835258824462630819254640818153497840731192712026863931589774025122793454924986714286420206511725325254543568610574573636055305430756053556029922664627184465057596072634473394425972992163347363521544427870106157011610266336815333788807032343007717581518280842131373002732419770644827328977358094768713814050427011938201419715244376996878825935255726445525942001696510317351818626556859202767465638937', 'e': '126830257733227865545344039682062271297806022738944593390178506393345906112804973812696465253284573429985441424678008814350978681883802765', 'v': '537855492689106975287840824563342563475905419001634207026918878614647612183756303457554512381270413065004829457324646904480228042518145808946983702733440208257493934872326627146562186513796495476585698896133149869060501762298460504047908791720500185640016652021309538259708757653101897840099848533380369975416944944571384949379993696915520759790384949963908820806816290819911958060588742476082555467560319869433656331535923695420591290079041281801487778907002033993791226704930390504478710555033174202502262119675428468784415874528881133403850451884933176462876075198439307570113346685820332798751714002354278847775025667964092842853633358132859668950109756586802791183326034611192127501063084811977425524530827731599102463668788971395051009264085662772929500884427277636979020774903486649559966499065570372295532101820956572069347897672447722836748583152432396355722658132180172822963649199419924877451603073214852984510', 'm': {'name': '13310858899554785242294456570800383089418368589138590256520769848331496713710458027583716240382041416044164941791761761066549175271139019082105347792015808616035775600464405477117', 'master_secret': '11993645525309256673274793245994811625799107689148039585319536578128900873244300351762183351400778516373520589842263523347533908180976039483615437640787648208761462613407667574226'}, 'm2': '7598443243197277944970689707652356460529912256726468086598455188575231814354350056908713788512869241781220105371277501442933910359266406230956285452022487000981051123611620615919'}, 'ge_proofs': []}, 'non_revoc_proof': None}\n",
      "\n",
      "Each primary proof contains an eq_proof, which is where all the numbers are for the crypto proving an attribute disclosed really is equal to the one signed\n",
      "\n",
      "{'revealed_attrs': {'scope': '38689563200842676527059703307142261488144249622422333427516415160904487384964'}, 'a_prime': '54399397638410119824409207160009649932776437639698679542139667286988044029607256339136259793679334992130139360466534518184528739207438851797810387817201249114103876591173835608872218269384894928962613099630252044064446835258824462630819254640818153497840731192712026863931589774025122793454924986714286420206511725325254543568610574573636055305430756053556029922664627184465057596072634473394425972992163347363521544427870106157011610266336815333788807032343007717581518280842131373002732419770644827328977358094768713814050427011938201419715244376996878825935255726445525942001696510317351818626556859202767465638937', 'e': '126830257733227865545344039682062271297806022738944593390178506393345906112804973812696465253284573429985441424678008814350978681883802765', 'v': '537855492689106975287840824563342563475905419001634207026918878614647612183756303457554512381270413065004829457324646904480228042518145808946983702733440208257493934872326627146562186513796495476585698896133149869060501762298460504047908791720500185640016652021309538259708757653101897840099848533380369975416944944571384949379993696915520759790384949963908820806816290819911958060588742476082555467560319869433656331535923695420591290079041281801487778907002033993791226704930390504478710555033174202502262119675428468784415874528881133403850451884933176462876075198439307570113346685820332798751714002354278847775025667964092842853633358132859668950109756586802791183326034611192127501063084811977425524530827731599102463668788971395051009264085662772929500884427277636979020774903486649559966499065570372295532101820956572069347897672447722836748583152432396355722658132180172822963649199419924877451603073214852984510', 'm': {'name': '13310858899554785242294456570800383089418368589138590256520769848331496713710458027583716240382041416044164941791761761066549175271139019082105347792015808616035775600464405477117', 'master_secret': '11993645525309256673274793245994811625799107689148039585319536578128900873244300351762183351400778516373520589842263523347533908180976039483615437640787648208761462613407667574226'}, 'm2': '7598443243197277944970689707652356460529912256726468086598455188575231814354350056908713788512869241781220105371277501442933910359266406230956285452022487000981051123611620615919'}\n",
      "\n",
      "Finally the proofs are combined into a single aggregated proof object\n",
      "\n",
      "{'c_hash': '36690784945121624788403074700510730828476390969178610730828500547902639509203', 'c_list': [[1, 174, 237, 29, 210, 205, 192, 34, 247, 122, 196, 214, 207, 147, 71, 48, 61, 242, 22, 250, 45, 237, 139, 106, 141, 202, 87, 187, 37, 81, 132, 109, 64, 217, 79, 6, 71, 80, 39, 138, 17, 127, 120, 235, 25, 116, 252, 202, 175, 93, 146, 177, 206, 7, 169, 197, 143, 203, 49, 85, 172, 15, 154, 165, 249, 135, 176, 78, 11, 24, 233, 128, 188, 68, 114, 202, 235, 197, 124, 77, 61, 254, 118, 186, 101, 192, 2, 117, 140, 231, 199, 30, 217, 110, 178, 157, 87, 80, 84, 83, 254, 12, 114, 83, 185, 177, 86, 236, 86, 224, 67, 90, 72, 24, 51, 236, 196, 226, 74, 62, 25, 56, 81, 150, 143, 109, 70, 176, 197, 37, 122, 246, 94, 168, 84, 203, 68, 67, 34, 169, 165, 170, 44, 127, 228, 62, 32, 126, 14, 133, 218, 167, 138, 12, 37, 152, 174, 214, 183, 177, 243, 221, 91, 105, 113, 14, 100, 238, 132, 179, 44, 198, 28, 156, 87, 50, 35, 236, 15, 72, 46, 67, 111, 211, 164, 141, 137, 194, 199, 130, 246, 128, 118, 110, 69, 214, 93, 158, 100, 205, 125, 204, 125, 112, 23, 16, 212, 67, 224, 212, 107, 204, 95, 135, 180, 219, 234, 115, 4, 25, 8, 97, 40, 62, 32, 173, 78, 8, 176, 219, 145, 231, 209, 58, 195, 59, 58, 97, 207, 117, 210, 149, 59, 216, 224, 154, 247, 179, 129, 111, 62, 186, 51, 27, 66, 108, 25]]}\n",
      "\n",
      "Notice again the c_hash, this is the challenge for the non-interactive ZKP proof which is verifying this presentation\n",
      "\n"
     ]
    },
    {
     "name": "stdout",
     "output_type": "stream",
     "text": [
      "\n",
      "---------------------------------------------------------------------\n",
      "\n",
      "Handle present-proof\n",
      "Connection ID :  187f3026-3e5d-4684-9b92-3fb817fc93c9\n",
      "Presentation Exchange ID :  d9d227c7-e9ca-4ffd-8898-ca42064717ab\n",
      "Protocol State :  presentation_acked\n",
      "Agent Role :  prover\n",
      "Initiator :  external\n",
      "\n",
      "---------------------------------------------------------------------\n",
      "\n",
      "Presentation has been acknowledged by the Issuer\n"
     ]
    }
   ],
   "source": [
    "response = await agent_controller.connections.accept_connection(invite)\n",
    "\n",
    "connection_id = response[\"connection_id\"]"
   ]
  },
  {
   "cell_type": "markdown",
   "id": "similar-safety",
   "metadata": {},
   "source": [
    "## 8. Review the Output in the Data Owner\n",
    "\n",
    "Then come back here to challenge the data owner to prove that they are indeed a dataowner."
   ]
  },
  {
   "cell_type": "markdown",
   "id": "heavy-track",
   "metadata": {},
   "source": [
    "## 9. Send Challenge to Data Owner\n",
    "\n",
    "As a Data Scientist you want to have confidence that the Data Owner is who they claim to be, that they have the dataset you are looking for and potentially any other number of verifiable information flows.\n",
    "\n",
    "For this tutorial we will just request proof that they have a Data Owner credential from the OM Authority."
   ]
  },
  {
   "cell_type": "markdown",
   "id": "obvious-mainstream",
   "metadata": {},
   "source": [
    "### 9.1. Define Trusted Issuer\n",
    "\n",
    "You first need to copy the OM Authority DID you registered on the ledger in Notebook 3. Step 8. and use it in the proof request object below."
   ]
  },
  {
   "cell_type": "code",
   "execution_count": 5,
   "id": "unexpected-charleston",
   "metadata": {},
   "outputs": [],
   "source": [
    "#####################################################\n",
    "## YOU NEED TO CHANGE THIS TO YOUR OM AUTHORITY DID\n",
    "trusted_issuer_did = \"vrzjfm1MEN1g5o6QtHLfv\"\n",
    "#####################################################"
   ]
  },
  {
   "cell_type": "markdown",
   "id": "international-sunset",
   "metadata": {},
   "source": [
    "### 9.2. Define Presentation Request Attributes and Constraints"
   ]
  },
  {
   "cell_type": "code",
   "execution_count": 6,
   "id": "meaningful-surfing",
   "metadata": {},
   "outputs": [
    {
     "name": "stdout",
     "output_type": "stream",
     "text": [
      "{'name': 'Proof of Data Owner', 'version': '1.0', 'requested_attributes': {'0_domain_uuid': {'name': 'domain', 'restrictions': [{'schema_id': 'Sgg1wREgfEwbEPCQn9xEuE:2:OM Data Owner:0.0.1', 'issuer_did': 'vrzjfm1MEN1g5o6QtHLfv'}]}, '0_name_uuid': {'name': 'name', 'restrictions': [{'schema_id': 'Sgg1wREgfEwbEPCQn9xEuE:2:OM Data Owner:0.0.1', 'issuer_did': 'vrzjfm1MEN1g5o6QtHLfv'}]}}, 'requested_predicates': {}}\n"
     ]
    }
   ],
   "source": [
    "# We add a constraint that the attribute must originate from this schema\n",
    "schema_id = \"Sgg1wREgfEwbEPCQn9xEuE:2:OM Data Owner:0.0.1\"\n",
    "\n",
    "\n",
    "\n",
    "# You could additionally specify the cred_def id you wish. \n",
    "# You would have to copy this from the OM Authority notebook.\n",
    "# cred_def = \"WfntKNFwXMQfgmU9ofbxPM:3:CL:156569:default\"\n",
    "\n",
    "revocation = False\n",
    "exchange_tracing = False\n",
    "\n",
    "# We are the Data Owner for their name and the domain of the data that they have\n",
    "req_attrs = [\n",
    "    {\"name\": \"domain\", \"restrictions\": [{\"schema_id\": schema_id, \"issuer_did\": trusted_issuer_did}]},#, \"cred_def_id\": cred_def}]},\n",
    "    {\"name\": \"name\", \"restrictions\": [{\"schema_id\": schema_id, \"issuer_did\": trusted_issuer_did}]}\n",
    "]\n",
    "\n",
    "# We could extend this to request the name attribute aswell if we wanted.\n",
    "\n",
    "\n",
    "indy_proof_request = {\n",
    "    \"name\": \"Proof of Data Owner\",\n",
    "    \"version\": \"1.0\",\n",
    "    \"requested_attributes\": {\n",
    "        # They must follow this uuid pattern\n",
    "        # Note that req_attr['name'] gets the attribute name of each object. E.g. domain and name in this case\n",
    "        f\"0_{req_attr['name']}_uuid\":\n",
    "        req_attr for req_attr in req_attrs\n",
    "    },\n",
    "    # Predicates allow us to specify range proofs or set membership on attributes. For example greater than 10.\n",
    "    # We will ignore these for now.\n",
    "    \"requested_predicates\": {\n",
    "#         f\"0_{req_pred['name']}_GE_uuid\":\n",
    "#         req_pred for req_pred in req_preds\n",
    "    },\n",
    "}\n",
    "\n",
    "print(indy_proof_request)\n"
   ]
  },
  {
   "cell_type": "markdown",
   "id": "informational-stanley",
   "metadata": {},
   "source": [
    "### 9.3. Specify Connection ID and Send Request\n",
    "\n",
    "**AGAIN, MAKE SURE YOU SCROLL THROUGH THE OUTPUT TO SEE THE PRESENTATION PROTOCOL FROM THE VERIFIER SIDE**"
   ]
  },
  {
   "cell_type": "code",
   "execution_count": 7,
   "id": "danish-saturday",
   "metadata": {},
   "outputs": [
    {
     "name": "stderr",
     "output_type": "stream",
     "text": [
      "ERROR:aiohttp.server:Error handling request\n",
      "Traceback (most recent call last):\n",
      "  File \"/opt/conda/lib/python3.7/site-packages/aiohttp/web_protocol.py\", line 418, in start\n",
      "    resp = await task\n",
      "  File \"/opt/conda/lib/python3.7/site-packages/aiohttp/web_app.py\", line 458, in _handle\n",
      "    resp = await handler(request)\n",
      "  File \"/aries_basic_controller/aries_controller.py\", line 123, in _receive_webhook\n",
      "    await self._handle_webhook(topic, payload)\n",
      "  File \"/aries_basic_controller/aries_controller.py\", line 128, in _handle_webhook\n",
      "    pub.sendMessage(topic, payload=payload)\n",
      "  File \"/opt/conda/lib/python3.7/site-packages/pubsub/core/publisher.py\", line 216, in sendMessage\n",
      "    topicObj.publish(**msgData)\n",
      "  File \"/opt/conda/lib/python3.7/site-packages/pubsub/core/topicobj.py\", line 452, in publish\n",
      "    self.__sendMessage(msgData, topicObj, msgDataSubset)\n",
      "  File \"/opt/conda/lib/python3.7/site-packages/pubsub/core/topicobj.py\", line 482, in __sendMessage\n",
      "    listener(data, self, allData)\n",
      "  File \"/opt/conda/lib/python3.7/site-packages/pubsub/core/listener.py\", line 237, in __call__\n",
      "    cb(**kwargs)\n",
      "  File \"<ipython-input-2-a273fc8de7a1>\", line 74, in proof_handler\n",
      "    print(payload[\"presentation_request_dict\"][\"type\"])\n",
      "KeyError: 'type'\n"
     ]
    },
    {
     "name": "stdout",
     "output_type": "stream",
     "text": [
      "\n",
      "---------------------------------------------------------------------\n",
      "\n",
      "Handle present-proof\n",
      "Connection ID :  187f3026-3e5d-4684-9b92-3fb817fc93c9\n",
      "Presentation Exchange ID :  938b2d9d-a433-47e8-9feb-294b355d5a27\n",
      "Protocol State :  request_sent\n",
      "Agent Role :  verifier\n",
      "Initiator :  self\n",
      "\n",
      "---------------------------------------------------------------------\n",
      "\n",
      "Presentation Request\n",
      "\n",
      "{'name': 'Proof of Data Owner', 'version': '1.0', 'requested_attributes': {'0_domain_uuid': {'name': 'domain', 'restrictions': [{'schema_id': 'Sgg1wREgfEwbEPCQn9xEuE:2:OM Data Owner:0.0.1', 'issuer_did': 'vrzjfm1MEN1g5o6QtHLfv'}]}, '0_name_uuid': {'name': 'name', 'restrictions': [{'schema_id': 'Sgg1wREgfEwbEPCQn9xEuE:2:OM Data Owner:0.0.1', 'issuer_did': 'vrzjfm1MEN1g5o6QtHLfv'}]}}, 'requested_predicates': {}, 'nonce': '846385465499850757613816'}\n",
      "\n",
      "The presentation request is encoded in base64 and packaged into a DIDComm Message\n",
      "\n",
      "{'@type': 'did:sov:BzCbsNYhMrjHiqZDTUASHg;spec/present-proof/1.0/request-presentation', '@id': 'c88e0b3c-8312-4676-85ef-4a9e49a32048', 'request_presentations~attach': [{'@id': 'libindy-request-presentation-0', 'mime-type': 'application/json', 'data': {'base64': 'eyJuYW1lIjogIlByb29mIG9mIERhdGEgT3duZXIiLCAidmVyc2lvbiI6ICIxLjAiLCAicmVxdWVzdGVkX2F0dHJpYnV0ZXMiOiB7IjBfZG9tYWluX3V1aWQiOiB7Im5hbWUiOiAiZG9tYWluIiwgInJlc3RyaWN0aW9ucyI6IFt7InNjaGVtYV9pZCI6ICJTZ2cxd1JFZ2ZFd2JFUENRbjl4RXVFOjI6T00gRGF0YSBPd25lcjowLjAuMSIsICJpc3N1ZXJfZGlkIjogInZyempmbTFNRU4xZzVvNlF0SExmdiJ9XX0sICIwX25hbWVfdXVpZCI6IHsibmFtZSI6ICJuYW1lIiwgInJlc3RyaWN0aW9ucyI6IFt7InNjaGVtYV9pZCI6ICJTZ2cxd1JFZ2ZFd2JFUENRbjl4RXVFOjI6T00gRGF0YSBPd25lcjowLjAuMSIsICJpc3N1ZXJfZGlkIjogInZyempmbTFNRU4xZzVvNlF0SExmdiJ9XX19LCAicmVxdWVzdGVkX3ByZWRpY2F0ZXMiOiB7fSwgIm5vbmNlIjogIjg0NjM4NTQ2NTQ5OTg1MDc1NzYxMzgxNiJ9'}}]}\n",
      "\n",
      "Note the type defines the protocol present-proof and the message request-presentation\n",
      "\n",
      "\n",
      "---------------------------------------------------------------------\n",
      "\n",
      "Handle present-proof\n",
      "Connection ID :  187f3026-3e5d-4684-9b92-3fb817fc93c9\n",
      "Presentation Exchange ID :  938b2d9d-a433-47e8-9feb-294b355d5a27\n",
      "Protocol State :  presentation_received\n",
      "Agent Role :  verifier\n",
      "Initiator :  self\n",
      "\n",
      "---------------------------------------------------------------------\n",
      "\n",
      "Presentation Received\n",
      "We will not go into detail on this payload as it is comparable to the presentation_sent we looked at in the earlier cell.\n",
      "This is the full payload\n",
      "\n",
      "{'role': 'verifier', 'thread_id': 'c88e0b3c-8312-4676-85ef-4a9e49a32048', 'auto_present': False, 'connection_id': '187f3026-3e5d-4684-9b92-3fb817fc93c9', 'presentation_request': {'name': 'Proof of Data Owner', 'version': '1.0', 'requested_attributes': {'0_domain_uuid': {'name': 'domain', 'restrictions': [{'schema_id': 'Sgg1wREgfEwbEPCQn9xEuE:2:OM Data Owner:0.0.1', 'issuer_did': 'vrzjfm1MEN1g5o6QtHLfv'}]}, '0_name_uuid': {'name': 'name', 'restrictions': [{'schema_id': 'Sgg1wREgfEwbEPCQn9xEuE:2:OM Data Owner:0.0.1', 'issuer_did': 'vrzjfm1MEN1g5o6QtHLfv'}]}}, 'requested_predicates': {}, 'nonce': '846385465499850757613816'}, 'trace': False, 'presentation_request_dict': {'@type': 'did:sov:BzCbsNYhMrjHiqZDTUASHg;spec/present-proof/1.0/request-presentation', '@id': 'c88e0b3c-8312-4676-85ef-4a9e49a32048', 'request_presentations~attach': [{'@id': 'libindy-request-presentation-0', 'mime-type': 'application/json', 'data': {'base64': 'eyJuYW1lIjogIlByb29mIG9mIERhdGEgT3duZXIiLCAidmVyc2lvbiI6ICIxLjAiLCAicmVxdWVzdGVkX2F0dHJpYnV0ZXMiOiB7IjBfZG9tYWluX3V1aWQiOiB7Im5hbWUiOiAiZG9tYWluIiwgInJlc3RyaWN0aW9ucyI6IFt7InNjaGVtYV9pZCI6ICJTZ2cxd1JFZ2ZFd2JFUENRbjl4RXVFOjI6T00gRGF0YSBPd25lcjowLjAuMSIsICJpc3N1ZXJfZGlkIjogInZyempmbTFNRU4xZzVvNlF0SExmdiJ9XX0sICIwX25hbWVfdXVpZCI6IHsibmFtZSI6ICJuYW1lIiwgInJlc3RyaWN0aW9ucyI6IFt7InNjaGVtYV9pZCI6ICJTZ2cxd1JFZ2ZFd2JFUENRbjl4RXVFOjI6T00gRGF0YSBPd25lcjowLjAuMSIsICJpc3N1ZXJfZGlkIjogInZyempmbTFNRU4xZzVvNlF0SExmdiJ9XX19LCAicmVxdWVzdGVkX3ByZWRpY2F0ZXMiOiB7fSwgIm5vbmNlIjogIjg0NjM4NTQ2NTQ5OTg1MDc1NzYxMzgxNiJ9'}}]}, 'updated_at': '2021-03-01 17:04:40.008614Z', 'state': 'presentation_received', 'initiator': 'self', 'created_at': '2021-03-01 17:04:38.441893Z', 'presentation': {'proof': {'proofs': [{'primary_proof': {'eq_proof': {'revealed_attrs': {'domain': '38689563200842676527059703307142261488144249622422333427516415160904487384964', 'name': '49272594129721906234329760951764944925631279077622505421027966796577006025440'}, 'a_prime': '13461964921766541711241695252672852188776135654347066590900381813937573244444662430319903176655058394190387864725899224795930857072432327385809220693841915363594510563127023083216642959862755216276512309541321244419487958681524010977490718237981944440914186723107360810131192983727060472774262411934918748299365403669153798564756939285116918662544247738601259640156039696981381904413020301671462247395299119012271208866344882166209066940997571827440455296559159430162348650203012627207944655585509624583880176351006816928907531825569150497310666174514881812108575107796294050038191084931871087507434142074736061168873', 'e': '92712777439748646386321726817558967025838984342431130619369044114597798621287236951873200440461430454073628462080005736103224211755466780', 'v': '1000613763189682380976571002636650568040689659548205217824209501052066115690575291842554665779327840948633790271543635507328492165723181328055716203320078860160165159163009469359989707082768306143702973308432298920691010184878911552921044182923444160254360936448900440987634952671747523919140898999884621395214993759976605641941551499200047040833493036312290475933213852053928459048920747456850573512139934925203291309072354459102875826653641068543342325813970382013913658640826930944293318479657402512925450427401145462664060045647734196402602195745501506424062619138301045504560965049176249778739251061315439869242352350816547724730399347840442987483800367076184815867897517833480651086604378143282145432803298671823493428792633996989665091199574484350951199702342389281313607710491932804339809236021487827952804774685705584501700613645928482897067342589614346788917227647512699743520510903506274097158103763750290412239', 'm': {'master_secret': '2662854393058222670088804540299391527849077771957617015140620733517470488067227506273781037842286170740581108996919723990551718252604421712918917273155343609389537670262940529811'}, 'm2': '6329725156562419069846980460791389580735670574661390547297050406601110931701158657063208228714315994743940119137166868258494557090817247728635637790483777201133902394637996754529'}, 'ge_proofs': []}, 'non_revoc_proof': None}], 'aggregated_proof': {'c_hash': '34800470410315891787532940560856452990830463325178148274815497483819881192432', 'c_list': [[106, 163, 169, 101, 152, 118, 15, 113, 100, 95, 103, 165, 31, 0, 17, 28, 157, 159, 175, 125, 10, 141, 59, 143, 117, 41, 61, 126, 193, 89, 219, 20, 8, 43, 137, 217, 158, 241, 126, 1, 135, 212, 225, 189, 172, 60, 190, 173, 47, 84, 79, 217, 38, 149, 20, 159, 159, 31, 250, 200, 153, 181, 187, 8, 201, 74, 243, 125, 218, 63, 202, 189, 217, 102, 28, 107, 144, 63, 211, 153, 39, 57, 30, 163, 11, 10, 127, 201, 107, 0, 6, 129, 255, 20, 167, 34, 104, 183, 203, 218, 109, 39, 132, 52, 4, 28, 80, 134, 64, 49, 225, 104, 54, 33, 241, 123, 79, 224, 212, 37, 69, 142, 52, 167, 182, 165, 229, 95, 19, 81, 0, 51, 15, 153, 77, 48, 3, 95, 153, 114, 12, 232, 191, 208, 250, 55, 190, 226, 105, 121, 117, 155, 134, 84, 103, 184, 11, 205, 127, 72, 59, 72, 192, 117, 174, 10, 223, 147, 98, 36, 40, 92, 228, 220, 173, 166, 30, 18, 87, 230, 197, 50, 76, 201, 74, 143, 209, 107, 216, 75, 254, 129, 240, 250, 51, 124, 125, 92, 167, 250, 247, 254, 77, 227, 116, 144, 134, 62, 21, 50, 218, 67, 21, 109, 181, 10, 110, 94, 129, 38, 243, 65, 158, 54, 123, 95, 189, 21, 72, 219, 7, 191, 181, 28, 56, 152, 101, 94, 93, 253, 106, 205, 221, 203, 98, 78, 127, 249, 160, 81, 125, 195, 187, 227, 188, 233]]}}, 'requested_proof': {'revealed_attrs': {'0_domain_uuid': {'sub_proof_index': 0, 'raw': 'Health', 'encoded': '38689563200842676527059703307142261488144249622422333427516415160904487384964'}, '0_name_uuid': {'sub_proof_index': 0, 'raw': 'Will', 'encoded': '49272594129721906234329760951764944925631279077622505421027966796577006025440'}}, 'self_attested_attrs': {}, 'unrevealed_attrs': {}, 'predicates': {}}, 'identifiers': [{'schema_id': 'Sgg1wREgfEwbEPCQn9xEuE:2:OM Data Owner:0.0.1', 'cred_def_id': 'vrzjfm1MEN1g5o6QtHLfv:3:CL:188835:default', 'rev_reg_id': None, 'timestamp': None}]}, 'presentation_exchange_id': '938b2d9d-a433-47e8-9feb-294b355d5a27'}\n",
      "\n",
      "---------------------------------------------------------------------\n",
      "\n",
      "Handle present-proof\n",
      "Connection ID :  187f3026-3e5d-4684-9b92-3fb817fc93c9\n",
      "Presentation Exchange ID :  938b2d9d-a433-47e8-9feb-294b355d5a27\n",
      "Protocol State :  presentation_received\n",
      "Agent Role :  verifier\n",
      "Initiator :  self\n",
      "\n",
      "---------------------------------------------------------------------\n",
      "\n",
      "Presentation Received\n",
      "We will not go into detail on this payload as it is comparable to the presentation_sent we looked at in the earlier cell.\n",
      "This is the full payload\n",
      "\n",
      "{'role': 'verifier', 'thread_id': 'c88e0b3c-8312-4676-85ef-4a9e49a32048', 'auto_present': False, 'connection_id': '187f3026-3e5d-4684-9b92-3fb817fc93c9', 'presentation_request': {'name': 'Proof of Data Owner', 'version': '1.0', 'requested_attributes': {'0_domain_uuid': {'name': 'domain', 'restrictions': [{'schema_id': 'Sgg1wREgfEwbEPCQn9xEuE:2:OM Data Owner:0.0.1', 'issuer_did': 'vrzjfm1MEN1g5o6QtHLfv'}]}, '0_name_uuid': {'name': 'name', 'restrictions': [{'schema_id': 'Sgg1wREgfEwbEPCQn9xEuE:2:OM Data Owner:0.0.1', 'issuer_did': 'vrzjfm1MEN1g5o6QtHLfv'}]}}, 'requested_predicates': {}, 'nonce': '846385465499850757613816'}, 'trace': False, 'presentation_request_dict': {'@type': 'did:sov:BzCbsNYhMrjHiqZDTUASHg;spec/present-proof/1.0/request-presentation', '@id': 'c88e0b3c-8312-4676-85ef-4a9e49a32048', 'request_presentations~attach': [{'@id': 'libindy-request-presentation-0', 'mime-type': 'application/json', 'data': {'base64': 'eyJuYW1lIjogIlByb29mIG9mIERhdGEgT3duZXIiLCAidmVyc2lvbiI6ICIxLjAiLCAicmVxdWVzdGVkX2F0dHJpYnV0ZXMiOiB7IjBfZG9tYWluX3V1aWQiOiB7Im5hbWUiOiAiZG9tYWluIiwgInJlc3RyaWN0aW9ucyI6IFt7InNjaGVtYV9pZCI6ICJTZ2cxd1JFZ2ZFd2JFUENRbjl4RXVFOjI6T00gRGF0YSBPd25lcjowLjAuMSIsICJpc3N1ZXJfZGlkIjogInZyempmbTFNRU4xZzVvNlF0SExmdiJ9XX0sICIwX25hbWVfdXVpZCI6IHsibmFtZSI6ICJuYW1lIiwgInJlc3RyaWN0aW9ucyI6IFt7InNjaGVtYV9pZCI6ICJTZ2cxd1JFZ2ZFd2JFUENRbjl4RXVFOjI6T00gRGF0YSBPd25lcjowLjAuMSIsICJpc3N1ZXJfZGlkIjogInZyempmbTFNRU4xZzVvNlF0SExmdiJ9XX19LCAicmVxdWVzdGVkX3ByZWRpY2F0ZXMiOiB7fSwgIm5vbmNlIjogIjg0NjM4NTQ2NTQ5OTg1MDc1NzYxMzgxNiJ9'}}]}, 'updated_at': '2021-03-01 17:04:40.007387Z', 'state': 'presentation_received', 'initiator': 'self', 'created_at': '2021-03-01 17:04:38.441893Z', 'presentation': {'proof': {'proofs': [{'primary_proof': {'eq_proof': {'revealed_attrs': {'domain': '38689563200842676527059703307142261488144249622422333427516415160904487384964', 'name': '49272594129721906234329760951764944925631279077622505421027966796577006025440'}, 'a_prime': '15242526562704304169015378526366287119756530843648054477275613546243295859561304209461229843179206160685999545058476083733006623244809858711843304449907615044096647043947184972527470603877948849446432124819276444140832735785076617577145206666444598855616392967847929330494272250235181173914915172613313616790465925728763943693295302228528366254666372665811874439567260014958541847431519238640599631323343701289855321738444205979433503357651025644511968165183116682661340851448143512382453908139645735648463289721334794133795172097346545955825960451884330844283113798388458848527193018190304295608135641396985225586697', 'e': '69120896034761114757171754052852663627477748914465326525780116613531964649880407292734651703343847616044207583658864397459602255002961134', 'v': '1107190391066101424404769538837403386673998476986859748133865559396276003392309485786882658127227040229531652702696574547573499110273310980991395388143170823393678425712298020125187681781934081451478641163727739033585449514736017172603393400757228682996723202102855143254045930423258573505419213838570815864122511788109944375453793132448517543170217242785387252181363959479102847173010674435466925839198007024000939703389550249901291669386145090369703488572126987918591207703142648713642298309084601886155912691667939870659822334037255775195041963250149887047135200835864699511265621122043147921954621166444614216905046903943461620358807644379523150950858148634780960683961632173154870989771777587200562012767744781509581936811217256564045350257584147992500054958121021060246766542938417828151186599941301271841869381964566216357356992634351311255142827864933886470319041648027990957105161140079302716111838213382730196543', 'm': {'master_secret': '14720731158680242755737217846969916869868787219403635720159687735408451146289031029772866244018359747861114054723024417892501444653126343155321006699007638369924544007605434257217'}, 'm2': '5614904418924510515081809799361763037540077697616318142414746453753003437277633924197403566638967649200647823956775967901506640523814366108892843410221184010426354417835151178708'}, 'ge_proofs': []}, 'non_revoc_proof': None}], 'aggregated_proof': {'c_hash': '92034700546727669860382144368469558849903558951786940143912300825151640417387', 'c_list': [[120, 190, 123, 72, 172, 241, 158, 112, 127, 78, 26, 201, 37, 176, 213, 140, 82, 93, 201, 126, 90, 47, 170, 51, 54, 67, 119, 40, 182, 107, 193, 50, 192, 172, 38, 99, 70, 184, 162, 189, 216, 217, 44, 132, 0, 191, 185, 144, 182, 77, 201, 196, 96, 139, 247, 38, 228, 232, 175, 144, 156, 6, 203, 171, 95, 187, 9, 221, 148, 37, 202, 120, 65, 176, 12, 136, 237, 84, 230, 10, 241, 153, 71, 176, 138, 53, 140, 254, 30, 63, 157, 91, 68, 196, 12, 253, 109, 16, 43, 221, 24, 185, 5, 29, 166, 101, 127, 229, 7, 40, 238, 59, 84, 129, 95, 224, 87, 136, 73, 159, 142, 138, 99, 138, 73, 219, 105, 122, 240, 75, 92, 209, 31, 215, 106, 157, 83, 254, 121, 132, 186, 69, 47, 123, 156, 17, 18, 161, 25, 82, 185, 164, 51, 244, 192, 6, 131, 244, 28, 84, 223, 255, 115, 121, 139, 83, 219, 203, 31, 125, 20, 20, 67, 10, 66, 24, 127, 50, 241, 241, 31, 116, 250, 76, 17, 4, 253, 90, 22, 207, 161, 52, 223, 132, 87, 42, 49, 185, 4, 1, 117, 202, 176, 49, 141, 96, 17, 178, 164, 63, 107, 71, 118, 54, 27, 120, 103, 246, 182, 165, 67, 243, 188, 253, 168, 183, 217, 113, 96, 77, 195, 233, 179, 234, 146, 29, 243, 195, 90, 47, 240, 197, 142, 150, 247, 208, 165, 177, 179, 244, 167, 30, 113, 28, 168, 9]]}}, 'requested_proof': {'revealed_attrs': {'0_name_uuid': {'sub_proof_index': 0, 'raw': 'Will', 'encoded': '49272594129721906234329760951764944925631279077622505421027966796577006025440'}, '0_domain_uuid': {'sub_proof_index': 0, 'raw': 'Health', 'encoded': '38689563200842676527059703307142261488144249622422333427516415160904487384964'}}, 'self_attested_attrs': {}, 'unrevealed_attrs': {}, 'predicates': {}}, 'identifiers': [{'schema_id': 'Sgg1wREgfEwbEPCQn9xEuE:2:OM Data Owner:0.0.1', 'cred_def_id': 'vrzjfm1MEN1g5o6QtHLfv:3:CL:188835:default', 'rev_reg_id': None, 'timestamp': None}]}, 'presentation_exchange_id': '938b2d9d-a433-47e8-9feb-294b355d5a27'}\n"
     ]
    },
    {
     "name": "stderr",
     "output_type": "stream",
     "text": [
      "ERROR:aiohttp.server:Error handling request\n",
      "Traceback (most recent call last):\n",
      "  File \"/opt/conda/lib/python3.7/site-packages/aiohttp/web_protocol.py\", line 418, in start\n",
      "    resp = await task\n",
      "  File \"/opt/conda/lib/python3.7/site-packages/aiohttp/web_app.py\", line 458, in _handle\n",
      "    resp = await handler(request)\n",
      "  File \"/aries_basic_controller/aries_controller.py\", line 123, in _receive_webhook\n",
      "    await self._handle_webhook(topic, payload)\n",
      "  File \"/aries_basic_controller/aries_controller.py\", line 128, in _handle_webhook\n",
      "    pub.sendMessage(topic, payload=payload)\n",
      "  File \"/opt/conda/lib/python3.7/site-packages/pubsub/core/publisher.py\", line 216, in sendMessage\n",
      "    topicObj.publish(**msgData)\n",
      "  File \"/opt/conda/lib/python3.7/site-packages/pubsub/core/topicobj.py\", line 452, in publish\n",
      "    self.__sendMessage(msgData, topicObj, msgDataSubset)\n",
      "  File \"/opt/conda/lib/python3.7/site-packages/pubsub/core/topicobj.py\", line 482, in __sendMessage\n",
      "    listener(data, self, allData)\n",
      "  File \"/opt/conda/lib/python3.7/site-packages/pubsub/core/listener.py\", line 237, in __call__\n",
      "    cb(**kwargs)\n",
      "  File \"<ipython-input-2-a273fc8de7a1>\", line 74, in proof_handler\n",
      "    print(payload[\"presentation_request_dict\"][\"type\"])\n",
      "KeyError: 'type'\n"
     ]
    },
    {
     "name": "stdout",
     "output_type": "stream",
     "text": [
      "\n",
      "---------------------------------------------------------------------\n",
      "\n",
      "Handle present-proof\n",
      "Connection ID :  187f3026-3e5d-4684-9b92-3fb817fc93c9\n",
      "Presentation Exchange ID :  938b2d9d-a433-47e8-9feb-294b355d5a27\n",
      "Protocol State :  request_sent\n",
      "Agent Role :  verifier\n",
      "Initiator :  self\n",
      "\n",
      "---------------------------------------------------------------------\n",
      "\n",
      "Presentation Request\n",
      "\n",
      "{'name': 'Proof of Data Owner', 'version': '1.0', 'requested_attributes': {'0_domain_uuid': {'name': 'domain', 'restrictions': [{'schema_id': 'Sgg1wREgfEwbEPCQn9xEuE:2:OM Data Owner:0.0.1', 'issuer_did': 'vrzjfm1MEN1g5o6QtHLfv'}]}, '0_name_uuid': {'name': 'name', 'restrictions': [{'schema_id': 'Sgg1wREgfEwbEPCQn9xEuE:2:OM Data Owner:0.0.1', 'issuer_did': 'vrzjfm1MEN1g5o6QtHLfv'}]}}, 'requested_predicates': {}, 'nonce': '846385465499850757613816'}\n",
      "\n",
      "The presentation request is encoded in base64 and packaged into a DIDComm Message\n",
      "\n",
      "{'@type': 'did:sov:BzCbsNYhMrjHiqZDTUASHg;spec/present-proof/1.0/request-presentation', '@id': 'c88e0b3c-8312-4676-85ef-4a9e49a32048', 'request_presentations~attach': [{'@id': 'libindy-request-presentation-0', 'mime-type': 'application/json', 'data': {'base64': 'eyJuYW1lIjogIlByb29mIG9mIERhdGEgT3duZXIiLCAidmVyc2lvbiI6ICIxLjAiLCAicmVxdWVzdGVkX2F0dHJpYnV0ZXMiOiB7IjBfZG9tYWluX3V1aWQiOiB7Im5hbWUiOiAiZG9tYWluIiwgInJlc3RyaWN0aW9ucyI6IFt7InNjaGVtYV9pZCI6ICJTZ2cxd1JFZ2ZFd2JFUENRbjl4RXVFOjI6T00gRGF0YSBPd25lcjowLjAuMSIsICJpc3N1ZXJfZGlkIjogInZyempmbTFNRU4xZzVvNlF0SExmdiJ9XX0sICIwX25hbWVfdXVpZCI6IHsibmFtZSI6ICJuYW1lIiwgInJlc3RyaWN0aW9ucyI6IFt7InNjaGVtYV9pZCI6ICJTZ2cxd1JFZ2ZFd2JFUENRbjl4RXVFOjI6T00gRGF0YSBPd25lcjowLjAuMSIsICJpc3N1ZXJfZGlkIjogInZyempmbTFNRU4xZzVvNlF0SExmdiJ9XX19LCAicmVxdWVzdGVkX3ByZWRpY2F0ZXMiOiB7fSwgIm5vbmNlIjogIjg0NjM4NTQ2NTQ5OTg1MDc1NzYxMzgxNiJ9'}}]}\n",
      "\n",
      "Note the type defines the protocol present-proof and the message request-presentation\n",
      "\n"
     ]
    },
    {
     "name": "stderr",
     "output_type": "stream",
     "text": [
      "ERROR:aiohttp.server:Error handling request\n",
      "Traceback (most recent call last):\n",
      "  File \"/opt/conda/lib/python3.7/site-packages/aiohttp/web_protocol.py\", line 418, in start\n",
      "    resp = await task\n",
      "  File \"/opt/conda/lib/python3.7/site-packages/aiohttp/web_app.py\", line 458, in _handle\n",
      "    resp = await handler(request)\n",
      "  File \"/aries_basic_controller/aries_controller.py\", line 123, in _receive_webhook\n",
      "    await self._handle_webhook(topic, payload)\n",
      "  File \"/aries_basic_controller/aries_controller.py\", line 128, in _handle_webhook\n",
      "    pub.sendMessage(topic, payload=payload)\n",
      "  File \"/opt/conda/lib/python3.7/site-packages/pubsub/core/publisher.py\", line 216, in sendMessage\n",
      "    topicObj.publish(**msgData)\n",
      "  File \"/opt/conda/lib/python3.7/site-packages/pubsub/core/topicobj.py\", line 452, in publish\n",
      "    self.__sendMessage(msgData, topicObj, msgDataSubset)\n",
      "  File \"/opt/conda/lib/python3.7/site-packages/pubsub/core/topicobj.py\", line 482, in __sendMessage\n",
      "    listener(data, self, allData)\n",
      "  File \"/opt/conda/lib/python3.7/site-packages/pubsub/core/listener.py\", line 237, in __call__\n",
      "    cb(**kwargs)\n",
      "  File \"<ipython-input-2-a273fc8de7a1>\", line 74, in proof_handler\n",
      "    print(payload[\"presentation_request_dict\"][\"type\"])\n",
      "KeyError: 'type'\n"
     ]
    },
    {
     "name": "stdout",
     "output_type": "stream",
     "text": [
      "\n",
      "---------------------------------------------------------------------\n",
      "\n",
      "Handle present-proof\n",
      "Connection ID :  187f3026-3e5d-4684-9b92-3fb817fc93c9\n",
      "Presentation Exchange ID :  938b2d9d-a433-47e8-9feb-294b355d5a27\n",
      "Protocol State :  request_sent\n",
      "Agent Role :  verifier\n",
      "Initiator :  self\n",
      "\n",
      "---------------------------------------------------------------------\n",
      "\n",
      "Presentation Request\n",
      "\n",
      "{'name': 'Proof of Data Owner', 'version': '1.0', 'requested_attributes': {'0_domain_uuid': {'name': 'domain', 'restrictions': [{'schema_id': 'Sgg1wREgfEwbEPCQn9xEuE:2:OM Data Owner:0.0.1', 'issuer_did': 'vrzjfm1MEN1g5o6QtHLfv'}]}, '0_name_uuid': {'name': 'name', 'restrictions': [{'schema_id': 'Sgg1wREgfEwbEPCQn9xEuE:2:OM Data Owner:0.0.1', 'issuer_did': 'vrzjfm1MEN1g5o6QtHLfv'}]}}, 'requested_predicates': {}, 'nonce': '846385465499850757613816'}\n",
      "\n",
      "The presentation request is encoded in base64 and packaged into a DIDComm Message\n",
      "\n",
      "{'@type': 'did:sov:BzCbsNYhMrjHiqZDTUASHg;spec/present-proof/1.0/request-presentation', '@id': 'c88e0b3c-8312-4676-85ef-4a9e49a32048', 'request_presentations~attach': [{'@id': 'libindy-request-presentation-0', 'mime-type': 'application/json', 'data': {'base64': 'eyJuYW1lIjogIlByb29mIG9mIERhdGEgT3duZXIiLCAidmVyc2lvbiI6ICIxLjAiLCAicmVxdWVzdGVkX2F0dHJpYnV0ZXMiOiB7IjBfZG9tYWluX3V1aWQiOiB7Im5hbWUiOiAiZG9tYWluIiwgInJlc3RyaWN0aW9ucyI6IFt7InNjaGVtYV9pZCI6ICJTZ2cxd1JFZ2ZFd2JFUENRbjl4RXVFOjI6T00gRGF0YSBPd25lcjowLjAuMSIsICJpc3N1ZXJfZGlkIjogInZyempmbTFNRU4xZzVvNlF0SExmdiJ9XX0sICIwX25hbWVfdXVpZCI6IHsibmFtZSI6ICJuYW1lIiwgInJlc3RyaWN0aW9ucyI6IFt7InNjaGVtYV9pZCI6ICJTZ2cxd1JFZ2ZFd2JFUENRbjl4RXVFOjI6T00gRGF0YSBPd25lcjowLjAuMSIsICJpc3N1ZXJfZGlkIjogInZyempmbTFNRU4xZzVvNlF0SExmdiJ9XX19LCAicmVxdWVzdGVkX3ByZWRpY2F0ZXMiOiB7fSwgIm5vbmNlIjogIjg0NjM4NTQ2NTQ5OTg1MDc1NzYxMzgxNiJ9'}}]}\n",
      "\n",
      "Note the type defines the protocol present-proof and the message request-presentation\n",
      "\n"
     ]
    },
    {
     "name": "stderr",
     "output_type": "stream",
     "text": [
      "ERROR:aiohttp.server:Error handling request\n",
      "Traceback (most recent call last):\n",
      "  File \"/opt/conda/lib/python3.7/site-packages/aiohttp/web_protocol.py\", line 418, in start\n",
      "    resp = await task\n",
      "  File \"/opt/conda/lib/python3.7/site-packages/aiohttp/web_app.py\", line 458, in _handle\n",
      "    resp = await handler(request)\n",
      "  File \"/aries_basic_controller/aries_controller.py\", line 123, in _receive_webhook\n",
      "    await self._handle_webhook(topic, payload)\n",
      "  File \"/aries_basic_controller/aries_controller.py\", line 128, in _handle_webhook\n",
      "    pub.sendMessage(topic, payload=payload)\n",
      "  File \"/opt/conda/lib/python3.7/site-packages/pubsub/core/publisher.py\", line 216, in sendMessage\n",
      "    topicObj.publish(**msgData)\n",
      "  File \"/opt/conda/lib/python3.7/site-packages/pubsub/core/topicobj.py\", line 452, in publish\n",
      "    self.__sendMessage(msgData, topicObj, msgDataSubset)\n",
      "  File \"/opt/conda/lib/python3.7/site-packages/pubsub/core/topicobj.py\", line 482, in __sendMessage\n",
      "    listener(data, self, allData)\n",
      "  File \"/opt/conda/lib/python3.7/site-packages/pubsub/core/listener.py\", line 237, in __call__\n",
      "    cb(**kwargs)\n",
      "  File \"<ipython-input-2-a273fc8de7a1>\", line 74, in proof_handler\n",
      "    print(payload[\"presentation_request_dict\"][\"type\"])\n",
      "KeyError: 'type'\n"
     ]
    },
    {
     "name": "stdout",
     "output_type": "stream",
     "text": [
      "\n",
      "---------------------------------------------------------------------\n",
      "\n",
      "Handle present-proof\n",
      "Connection ID :  187f3026-3e5d-4684-9b92-3fb817fc93c9\n",
      "Presentation Exchange ID :  938b2d9d-a433-47e8-9feb-294b355d5a27\n",
      "Protocol State :  request_sent\n",
      "Agent Role :  verifier\n",
      "Initiator :  self\n",
      "\n",
      "---------------------------------------------------------------------\n",
      "\n",
      "Presentation Request\n",
      "\n",
      "{'name': 'Proof of Data Owner', 'version': '1.0', 'requested_attributes': {'0_domain_uuid': {'name': 'domain', 'restrictions': [{'schema_id': 'Sgg1wREgfEwbEPCQn9xEuE:2:OM Data Owner:0.0.1', 'issuer_did': 'vrzjfm1MEN1g5o6QtHLfv'}]}, '0_name_uuid': {'name': 'name', 'restrictions': [{'schema_id': 'Sgg1wREgfEwbEPCQn9xEuE:2:OM Data Owner:0.0.1', 'issuer_did': 'vrzjfm1MEN1g5o6QtHLfv'}]}}, 'requested_predicates': {}, 'nonce': '846385465499850757613816'}\n",
      "\n",
      "The presentation request is encoded in base64 and packaged into a DIDComm Message\n",
      "\n",
      "{'@type': 'did:sov:BzCbsNYhMrjHiqZDTUASHg;spec/present-proof/1.0/request-presentation', '@id': 'c88e0b3c-8312-4676-85ef-4a9e49a32048', 'request_presentations~attach': [{'@id': 'libindy-request-presentation-0', 'mime-type': 'application/json', 'data': {'base64': 'eyJuYW1lIjogIlByb29mIG9mIERhdGEgT3duZXIiLCAidmVyc2lvbiI6ICIxLjAiLCAicmVxdWVzdGVkX2F0dHJpYnV0ZXMiOiB7IjBfZG9tYWluX3V1aWQiOiB7Im5hbWUiOiAiZG9tYWluIiwgInJlc3RyaWN0aW9ucyI6IFt7InNjaGVtYV9pZCI6ICJTZ2cxd1JFZ2ZFd2JFUENRbjl4RXVFOjI6T00gRGF0YSBPd25lcjowLjAuMSIsICJpc3N1ZXJfZGlkIjogInZyempmbTFNRU4xZzVvNlF0SExmdiJ9XX0sICIwX25hbWVfdXVpZCI6IHsibmFtZSI6ICJuYW1lIiwgInJlc3RyaWN0aW9ucyI6IFt7InNjaGVtYV9pZCI6ICJTZ2cxd1JFZ2ZFd2JFUENRbjl4RXVFOjI6T00gRGF0YSBPd25lcjowLjAuMSIsICJpc3N1ZXJfZGlkIjogInZyempmbTFNRU4xZzVvNlF0SExmdiJ9XX19LCAicmVxdWVzdGVkX3ByZWRpY2F0ZXMiOiB7fSwgIm5vbmNlIjogIjg0NjM4NTQ2NTQ5OTg1MDc1NzYxMzgxNiJ9'}}]}\n",
      "\n",
      "Note the type defines the protocol present-proof and the message request-presentation\n",
      "\n"
     ]
    },
    {
     "name": "stderr",
     "output_type": "stream",
     "text": [
      "ERROR:aiohttp.server:Error handling request\n",
      "Traceback (most recent call last):\n",
      "  File \"/opt/conda/lib/python3.7/site-packages/aiohttp/web_protocol.py\", line 418, in start\n",
      "    resp = await task\n",
      "  File \"/opt/conda/lib/python3.7/site-packages/aiohttp/web_app.py\", line 458, in _handle\n",
      "    resp = await handler(request)\n",
      "  File \"/aries_basic_controller/aries_controller.py\", line 123, in _receive_webhook\n",
      "    await self._handle_webhook(topic, payload)\n",
      "  File \"/aries_basic_controller/aries_controller.py\", line 128, in _handle_webhook\n",
      "    pub.sendMessage(topic, payload=payload)\n",
      "  File \"/opt/conda/lib/python3.7/site-packages/pubsub/core/publisher.py\", line 216, in sendMessage\n",
      "    topicObj.publish(**msgData)\n",
      "  File \"/opt/conda/lib/python3.7/site-packages/pubsub/core/topicobj.py\", line 452, in publish\n",
      "    self.__sendMessage(msgData, topicObj, msgDataSubset)\n",
      "  File \"/opt/conda/lib/python3.7/site-packages/pubsub/core/topicobj.py\", line 482, in __sendMessage\n",
      "    listener(data, self, allData)\n",
      "  File \"/opt/conda/lib/python3.7/site-packages/pubsub/core/listener.py\", line 237, in __call__\n",
      "    cb(**kwargs)\n",
      "  File \"<ipython-input-2-a273fc8de7a1>\", line 74, in proof_handler\n",
      "    print(payload[\"presentation_request_dict\"][\"type\"])\n",
      "KeyError: 'type'\n"
     ]
    },
    {
     "name": "stdout",
     "output_type": "stream",
     "text": [
      "\n",
      "---------------------------------------------------------------------\n",
      "\n",
      "Handle present-proof\n",
      "Connection ID :  187f3026-3e5d-4684-9b92-3fb817fc93c9\n",
      "Presentation Exchange ID :  938b2d9d-a433-47e8-9feb-294b355d5a27\n",
      "Protocol State :  request_sent\n",
      "Agent Role :  verifier\n",
      "Initiator :  self\n",
      "\n",
      "---------------------------------------------------------------------\n",
      "\n",
      "Presentation Request\n",
      "\n",
      "{'name': 'Proof of Data Owner', 'version': '1.0', 'requested_attributes': {'0_domain_uuid': {'name': 'domain', 'restrictions': [{'schema_id': 'Sgg1wREgfEwbEPCQn9xEuE:2:OM Data Owner:0.0.1', 'issuer_did': 'vrzjfm1MEN1g5o6QtHLfv'}]}, '0_name_uuid': {'name': 'name', 'restrictions': [{'schema_id': 'Sgg1wREgfEwbEPCQn9xEuE:2:OM Data Owner:0.0.1', 'issuer_did': 'vrzjfm1MEN1g5o6QtHLfv'}]}}, 'requested_predicates': {}, 'nonce': '846385465499850757613816'}\n",
      "\n",
      "The presentation request is encoded in base64 and packaged into a DIDComm Message\n",
      "\n",
      "{'@type': 'did:sov:BzCbsNYhMrjHiqZDTUASHg;spec/present-proof/1.0/request-presentation', '@id': 'c88e0b3c-8312-4676-85ef-4a9e49a32048', 'request_presentations~attach': [{'@id': 'libindy-request-presentation-0', 'mime-type': 'application/json', 'data': {'base64': 'eyJuYW1lIjogIlByb29mIG9mIERhdGEgT3duZXIiLCAidmVyc2lvbiI6ICIxLjAiLCAicmVxdWVzdGVkX2F0dHJpYnV0ZXMiOiB7IjBfZG9tYWluX3V1aWQiOiB7Im5hbWUiOiAiZG9tYWluIiwgInJlc3RyaWN0aW9ucyI6IFt7InNjaGVtYV9pZCI6ICJTZ2cxd1JFZ2ZFd2JFUENRbjl4RXVFOjI6T00gRGF0YSBPd25lcjowLjAuMSIsICJpc3N1ZXJfZGlkIjogInZyempmbTFNRU4xZzVvNlF0SExmdiJ9XX0sICIwX25hbWVfdXVpZCI6IHsibmFtZSI6ICJuYW1lIiwgInJlc3RyaWN0aW9ucyI6IFt7InNjaGVtYV9pZCI6ICJTZ2cxd1JFZ2ZFd2JFUENRbjl4RXVFOjI6T00gRGF0YSBPd25lcjowLjAuMSIsICJpc3N1ZXJfZGlkIjogInZyempmbTFNRU4xZzVvNlF0SExmdiJ9XX19LCAicmVxdWVzdGVkX3ByZWRpY2F0ZXMiOiB7fSwgIm5vbmNlIjogIjg0NjM4NTQ2NTQ5OTg1MDc1NzYxMzgxNiJ9'}}]}\n",
      "\n",
      "Note the type defines the protocol present-proof and the message request-presentation\n",
      "\n"
     ]
    }
   ],
   "source": [
    "proof_request_web_request = {\n",
    "    \"connection_id\": connection_id,\n",
    "    \"proof_request\": indy_proof_request,\n",
    "    \"trace\": False\n",
    "}\n",
    "\n",
    "# Send proof request\n",
    "response = await agent_controller.proofs.send_request(proof_request_web_request)"
   ]
  },
  {
   "cell_type": "markdown",
   "id": "further-beads",
   "metadata": {},
   "source": [
    "## 10. Verify the Presentation\n",
    "\n",
    "Once a presentation has been received you still need to request your agent verify the cryptography to ensure the integrity of the information presented."
   ]
  },
  {
   "cell_type": "code",
   "execution_count": null,
   "id": "hollow-ecuador",
   "metadata": {},
   "outputs": [],
   "source": [
    "presentation_exchange_id = response[\"presentation_exchange_id\"]\n",
    "\n",
    "verify = await agent_controller.proofs.verify_presentation(presentation_exchange_id)"
   ]
  },
  {
   "cell_type": "markdown",
   "id": "federal-directory",
   "metadata": {},
   "source": [
    "## 11. Parse Verified Presentation Object\n",
    "\n",
    "Let's look at how we check the result of the verification and how you can access the revealed attributes. Maybe you need them for your business use case, perhaps they specify the type or quality of data the Data Owner might have. Who knows, it is up to you to define the information flows to meet your needs."
   ]
  },
  {
   "cell_type": "markdown",
   "id": "fewer-immune",
   "metadata": {},
   "source": [
    "### 11.1. WARNING. The state is note an indicator of successful verification.\n",
    "\n",
    "The presentation exchange object is in the verified state. That just means you have requested your agent to verify the cryptography, not that the cryptography is verified."
   ]
  },
  {
   "cell_type": "code",
   "execution_count": null,
   "id": "insured-broad",
   "metadata": {},
   "outputs": [],
   "source": [
    "print(verify['state'])"
   ]
  },
  {
   "cell_type": "markdown",
   "id": "strategic-toner",
   "metadata": {},
   "source": [
    "### 11.2. Check the Verified property\n",
    "\n",
    "It should be true if the cryptographic presentation is verifiable"
   ]
  },
  {
   "cell_type": "code",
   "execution_count": null,
   "id": "monthly-jamaica",
   "metadata": {},
   "outputs": [],
   "source": [
    "print(verify['verified'])"
   ]
  },
  {
   "cell_type": "markdown",
   "id": "logical-combination",
   "metadata": {},
   "source": [
    "### 11.3 Lets look at the revealed attributes"
   ]
  },
  {
   "cell_type": "code",
   "execution_count": null,
   "id": "psychological-brand",
   "metadata": {},
   "outputs": [],
   "source": [
    "for (name, val) in verify['presentation']['requested_proof']['revealed_attrs'].items():\n",
    "    ## This is the actual data that you want. It's a little hidden\n",
    "    print(\"Attribute : \", val)\n",
    "    print(\"Raw Value : \", val['raw'])"
   ]
  },
  {
   "cell_type": "markdown",
   "id": "major-theorem",
   "metadata": {},
   "source": [
    "## End of Notebook"
   ]
  },
  {
   "cell_type": "code",
   "execution_count": null,
   "id": "overhead-tolerance",
   "metadata": {},
   "outputs": [],
   "source": [
    "await agent_controller.terminate()"
   ]
  },
  {
   "cell_type": "markdown",
   "id": "reasonable-behalf",
   "metadata": {},
   "source": [
    "## Congratulations Tutorial Series Complete\n",
    "\n",
    "Well done! Make sure you review the output in the Data Owner notebook and terminate the controller.\n",
    "\n",
    "The final aspect of this course will involve the application of what we have learnt in this notebook series to mediate a PySyft Duet Learning flow."
   ]
  }
 ],
 "metadata": {
  "kernelspec": {
   "display_name": "Python 3",
   "language": "python",
   "name": "python3"
  },
  "language_info": {
   "codemirror_mode": {
    "name": "ipython",
    "version": 3
   },
   "file_extension": ".py",
   "mimetype": "text/x-python",
   "name": "python",
   "nbconvert_exporter": "python",
   "pygments_lexer": "ipython3",
   "version": "3.7.6"
  }
 },
 "nbformat": 4,
 "nbformat_minor": 5
}

{
 "cells": [
  {
   "cell_type": "markdown",
   "metadata": {},
   "source": [
    "# Basic Message - Bob\n",
    "\n",
    "**Should be run alongside Alice.**"
   ]
  },
  {
   "cell_type": "code",
   "execution_count": 1,
   "metadata": {},
   "outputs": [
    {
     "name": "stdout",
     "output_type": "stream",
     "text": [
      "IPython autoawait is `on`, and set to use `asyncio`\n"
     ]
    }
   ],
   "source": [
    "%autoawait\n",
    "import time\n",
    "import asyncio"
   ]
  },
  {
   "cell_type": "code",
   "execution_count": 2,
   "metadata": {},
   "outputs": [],
   "source": [
    "from aries_basic_controller.aries_controller import AriesAgentController\n",
    "    \n",
    "WEBHOOK_HOST = \"0.0.0.0\"\n",
    "WEBHOOK_PORT = 8052\n",
    "WEBHOOK_BASE = \"\"\n",
    "ADMIN_URL = \"http://bob-agent:8051\"\n",
    "\n",
    "agent_controller = AriesAgentController(webhook_host=WEBHOOK_HOST, webhook_port=WEBHOOK_PORT,\n",
    "                                       webhook_base=WEBHOOK_BASE, admin_url=ADMIN_URL, connections=True)"
   ]
  },
  {
   "cell_type": "markdown",
   "metadata": {},
   "source": [
    "## Setup a listener for the basicmessages topic\n",
    "\n",
    "This is emitted using PyPubSub when the controller receives a basicmessages webhook from the agent. This happens everytime the agent receives a basicmessage.\n",
    "\n",
    "Note, in this instance the handler responds to any basic message with a message of it's own."
   ]
  },
  {
   "cell_type": "code",
   "execution_count": 3,
   "metadata": {},
   "outputs": [],
   "source": [
    "def messages_handler(payload):\n",
    "    connection_id = payload[\"connection_id\"]\n",
    "    asyncio.get_event_loop().create_task(agent_controller.messaging.send_message(connection_id, \"This is a response from Bob\"))\n",
    "    print(\"Handle message\", payload, connection_id)\n",
    "\n",
    "\n",
    "message_listener = {\n",
    "    \"handler\": messages_handler,\n",
    "    \"topic\": \"basicmessages\"\n",
    "}\n",
    "\n",
    "loop = asyncio.get_event_loop()\n",
    "loop.create_task(agent_controller.listen_webhooks())\n",
    "\n",
    "agent_controller.register_listeners([message_listener], defaults=True)"
   ]
  },
  {
   "cell_type": "markdown",
   "metadata": {},
   "source": [
    "## Verify an Active Connection Exists\n",
    "\n",
    "This should have been established as part of the setup script between the two agents Alice and Bob."
   ]
  },
  {
   "cell_type": "code",
   "execution_count": 4,
   "metadata": {},
   "outputs": [
    {
     "name": "stdout",
     "output_type": "stream",
     "text": [
      "Results :  [{'invitation_mode': 'once', 'invitation_key': 'D6x1TzfFP76ihR9zRZFdUgL4mvcE2F8JKCroQJyno1SE', 'connection_id': '83838735-6842-48a2-9819-af965ead4b95', 'accept': 'manual', 'created_at': '2021-03-29 15:20:13.275005Z', 'rfc23_state': 'completed', 'routing_state': 'none', 'state': 'active', 'my_did': 'Rn6qN2oFfgPyRKoYP2JuTe', 'updated_at': '2021-03-29 15:20:33.685110Z', 'their_did': 'MrasHcPmBT3H8VVYiaR7eA', 'their_role': 'invitee', 'their_label': 'Alice'}]\n",
      "Connection : {'invitation_mode': 'once', 'invitation_key': 'D6x1TzfFP76ihR9zRZFdUgL4mvcE2F8JKCroQJyno1SE', 'connection_id': '83838735-6842-48a2-9819-af965ead4b95', 'accept': 'manual', 'created_at': '2021-03-29 15:20:13.275005Z', 'rfc23_state': 'completed', 'routing_state': 'none', 'state': 'active', 'my_did': 'Rn6qN2oFfgPyRKoYP2JuTe', 'updated_at': '2021-03-29 15:20:33.685110Z', 'their_did': 'MrasHcPmBT3H8VVYiaR7eA', 'their_role': 'invitee', 'their_label': 'Alice'}\n",
      "Active Connection ID :  83838735-6842-48a2-9819-af965ead4b95\n"
     ]
    }
   ],
   "source": [
    "response = await agent_controller.connections.get_connections()\n",
    "results = response['results']\n",
    "print(\"Results : \", results)\n",
    "if len(results) > 0:\n",
    "    connection = response['results'][0]\n",
    "    print(\"Connection :\", connection)\n",
    "    if connection['state'] == 'active':       \n",
    "        connection_id = connection[\"connection_id\"]\n",
    "        print(\"Active Connection ID : \", connection_id)\n",
    "else:\n",
    "    print(\"You must create a connection\")\n",
    "    "
   ]
  },
  {
   "cell_type": "markdown",
   "metadata": {},
   "source": [
    "## Send a Basic Message over DIDComm to Bob\n",
    "\n",
    "See [aries-rfc](https://github.com/hyperledger/aries-rfcs/tree/master/features/0095-basic-message)\n",
    "\n",
    "You can send as many messages as you want, if you are running the [basic-message tutorial on Alice's notebook](http://localhost:8888/lab/tree/3%20Messages/Part%201%20-%20Basic%20Message.ipynb) these will be received and printed by the message handler."
   ]
  },
  {
   "cell_type": "code",
   "execution_count": 5,
   "metadata": {},
   "outputs": [
    {
     "name": "stdout",
     "output_type": "stream",
     "text": [
      "BASIC MESSAGE - Bob -> Alice\n",
      "{}\n"
     ]
    }
   ],
   "source": [
    "basic_message = \"Hello from Bob\"\n",
    "response = await agent_controller.messaging.send_message(connection_id, basic_message)\n",
    "print(\"BASIC MESSAGE - Bob -> Alice\")\n",
    "print(response)"
   ]
  },
  {
   "cell_type": "markdown",
   "metadata": {},
   "source": [
    "## End of Tutorial\n",
    "\n",
    "Be sure to terminate the controller so you can run another tutorial."
   ]
  },
  {
   "cell_type": "code",
   "execution_count": null,
   "metadata": {},
   "outputs": [],
   "source": [
    "response = await agent_controller.terminate()\n",
    "print(response)"
   ]
  },
  {
   "cell_type": "code",
   "execution_count": null,
   "metadata": {},
   "outputs": [],
   "source": []
  }
 ],
 "metadata": {
  "kernelspec": {
   "display_name": "Python 3",
   "language": "python",
   "name": "python3"
  },
  "language_info": {
   "codemirror_mode": {
    "name": "ipython",
    "version": 3
   },
   "file_extension": ".py",
   "mimetype": "text/x-python",
   "name": "python",
   "nbconvert_exporter": "python",
   "pygments_lexer": "ipython3",
   "version": "3.7.6"
  }
 },
 "nbformat": 4,
 "nbformat_minor": 4
}

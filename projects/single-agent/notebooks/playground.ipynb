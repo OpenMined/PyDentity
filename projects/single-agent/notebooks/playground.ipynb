{
 "cells": [
  {
   "cell_type": "markdown",
   "metadata": {},
   "source": [
    "# IIW Agent Playground"
   ]
  },
  {
   "cell_type": "markdown",
   "metadata": {},
   "source": [
    "Welcome to the OpenMined Aries ACA-Py Juypter notebook playground. Using these notebooks you will be able to control your ACA-Py instance to interact with other agents being used at IIW. This should include mobile agents, other agent instances of this playground, trinsic agents and PICO agent applications. Basically any agent that supports the same aries-rfs as ACA-Py.\n",
    "\n",
    "This is an experiment and might not work but hopefully it will be fun!\n",
    "\n",
    "It is a playground because we have only created the skeleton to get you started. You can customise your \"SSI Application\" however you see fit by writing custom code right here within the notebooks. We have developed a python wrapper for the ACA-Py swagger api called the [aries-basic-controller](https://pypi.org/project/aries-basic-controller/) and a full tutorial series explaining how to use it to interact with your agent to perform basic agent flows [here](https://github.com/OpenMined/PyDentity/tree/master/tutorials/aries-basic-controller) if you get stuck.\n",
    "\n",
    "Your agent is currently pointing at the Sovrin StagingNet and is using default storage for an indy wallet which is mapped using docker volumes so it should persist across multiple ./manage up's. Additionally the agents endpoint is exposed using ngrok, however this has a timelimit and will be a different url every time the docker is restarted. This *might* mess up the ability to communicate over connections, so the best advice is just to leave it running. Currently the agent is configured with all the --accept flags set that ACA-Py supports, feel free to change this. See the docker-compose.yml and the startup.sh script for more details.\n",
    "\n",
    "We also included an attachment protocol so if you need to send files securely during IIW give it a try.\n",
    "\n",
    "\n"
   ]
  },
  {
   "cell_type": "markdown",
   "metadata": {},
   "source": [
    "## Initialise your controller"
   ]
  },
  {
   "cell_type": "code",
   "execution_count": 1,
   "metadata": {},
   "outputs": [
    {
     "name": "stdout",
     "output_type": "stream",
     "text": [
      "IPython autoawait is `on`, and set to use `asyncio`\n"
     ]
    }
   ],
   "source": [
    "%autoawait\n",
    "import time\n",
    "import qrcode\n",
    "from aiohttp import FormData\n",
    "import asyncio\n",
    "import base64\n",
    "from IPython.display import Image\n",
    "import requests\n",
    "import json\n",
    "\n",
    "from termcolor import colored,cprint\n",
    "from attachment_controller.attachment_controller import AttachmentController\n",
    "    \n",
    "# Anyone know how to get env variables into juypter notebooks through docker easily?\n",
    "WEBHOOK_HOST = \"0.0.0.0\"\n",
    "WEBHOOK_PORT = 8022\n",
    "WEBHOOK_BASE = \"\"\n",
    "ADMIN_URL = \"http://agent:8021\"\n",
    "# You may have changed this\n",
    "API_KEY = \"agent_api_123456789\"\n",
    "\n",
    "# Note AttachmentController just extends the basic controller to include the new attachment endpoint\n",
    "agent_controller = AttachmentController(webhook_host=WEBHOOK_HOST, webhook_port=WEBHOOK_PORT,\n",
    "                                       webhook_base=WEBHOOK_BASE, admin_url=ADMIN_URL, api_key=API_KEY)\n"
   ]
  },
  {
   "cell_type": "markdown",
   "metadata": {},
   "source": [
    "## Configure your handlers\n",
    "\n",
    "This is how you respond to messages that your ACA-Py instance receives. Probably a good place to start if you want to customise your application."
   ]
  },
  {
   "cell_type": "code",
   "execution_count": 2,
   "metadata": {},
   "outputs": [],
   "source": [
    "# Receive basic messages\n",
    "def messages_handler(payload):\n",
    "    \n",
    "    global active_connection_id\n",
    "    active_connection_id = payload[\"connection_id\"]\n",
    "    print(\"Handle message\", payload, active_connection_id)    \n",
    "\n",
    "message_listener = {\n",
    "    \"handler\": messages_handler,\n",
    "    \"topic\": \"basicmessages\"\n",
    "}\n",
    "\n",
    "# Receive attachments\n",
    "def attach_handler(payload):\n",
    "    connection_id = payload['connection_id']\n",
    "    print(\"Handle Attachment\", payload, connection_id)\n",
    "    print(\"Attachment Received\")\n",
    "    data = payload['content']\n",
    "    filename = payload['filename']\n",
    "    file_content = base64.b64decode(data)\n",
    "    filepath = f\"received_files/{filename}\"\n",
    "    f = open(filepath,'wb')\n",
    "    f.write(file_content)\n",
    "    f.close()\n",
    "\n",
    "attach_listener = {\n",
    "    \"handler\": attach_handler,\n",
    "    \"topic\": \"attachment\"\n",
    "}\n",
    "\n",
    "# Issue credential messages\n",
    "def cred_handler(payload):\n",
    "    print(\"Handle Credentials\")\n",
    "    exchange_id = payload['credential_exchange_id']\n",
    "    state = payload['state']\n",
    "    role = payload['role']\n",
    "    attributes = payload['credential_proposal_dict']['credential_proposal']['attributes']\n",
    "    print(f\"Credential exchange {exchange_id}, role: {role}, state: {state}\")\n",
    "    print(f\"Offering: {attributes}\")\n",
    "    \n",
    "cred_listener = {\n",
    "    \"topic\": \"issue_credential\",\n",
    "    \"handler\": cred_handler\n",
    "}\n",
    "\n",
    "# Receive connection messages\n",
    "def connections_handler(payload):\n",
    "    global STATE\n",
    "    global active_connection_id\n",
    "    print(\"Connection Payload : \", payload)\n",
    "    connection_id = payload[\"connection_id\"]\n",
    "    \n",
    "    STATE = payload['state']\n",
    "    if STATE == \"response\":\n",
    "\n",
    "        # Ensures connections moved to active\n",
    "        loop = asyncio.get_event_loop()\n",
    "        time.sleep(2)\n",
    "        print(colored(\"Trust ping send to ConnectionId {0} to activate connection\".format(connection_id), \"blue\", attrs=[\"bold\"]))\n",
    "        loop.create_task(agent_controller.messaging.trust_ping(connection_id, 'hello!'))\n",
    "\n",
    "    if STATE == 'active':\n",
    "#         print('Connection {0} changed state to active'.format(connection_id))\n",
    "        print(colored(\"ConnectionId: {0} is now active.\".format(connection_id), \"green\", attrs=[\"bold\"]))\n",
    "        active_connection_id = payload[\"connection_id\"]\n",
    "\n",
    "\n",
    "# Note: You could have more than one listener & handler for the same topic\n",
    "connection_listener = {\n",
    "    \"handler\": connections_handler,\n",
    "    \"topic\": \"connections\"\n",
    "}\n",
    "\n",
    "# Receive proof messages\n",
    "def proof_handler(payload):\n",
    "    print(\"Handle present proof\")\n",
    "    print(payload)\n",
    "\n",
    "proof_listener = {\n",
    "    \"topic\": \"present_proof\",\n",
    "    \"handler\": proof_handler\n",
    "}\n",
    "\n",
    "\n",
    "\n",
    "loop = asyncio.get_event_loop()\n",
    "loop.create_task(agent_controller.listen_webhooks())\n",
    "\n",
    "agent_controller.register_listeners([message_listener, attach_listener, cred_listener, proof_listener, connection_listener], defaults=False)"
   ]
  },
  {
   "cell_type": "markdown",
   "metadata": {},
   "source": [
    "## Do you intend to issue credentials? If so execute this block to write a DID to the Sovrin StagingNet."
   ]
  },
  {
   "cell_type": "code",
   "execution_count": null,
   "metadata": {},
   "outputs": [],
   "source": [
    "# Check if you have a public DID\n",
    "response = await agent_controller.wallet.get_public_did()\n",
    "print(response)\n",
    "result = response['result']\n",
    "\n",
    "if  result == None:\n",
    "    # generate new DID\n",
    "    response = await agent_controller.wallet.create_did()\n",
    "\n",
    "    did_object = response['result']\n",
    "    print(\"New DID\", did_object)\n",
    "\n",
    "    # write new DID to Sovrin Stagingnet\n",
    "    url = 'https://selfserve.sovrin.org/nym'\n",
    "\n",
    "    payload = {\"network\":\"stagingnet\",\"did\": did_object[\"did\"],\"verkey\":did_object[\"verkey\"],\"paymentaddr\":\"\"}\n",
    "\n",
    "    # Adding empty header as parameters are being sent in payload\n",
    "    headers = {}\n",
    "\n",
    "    r = requests.post(url, data=json.dumps(payload), headers=headers)\n",
    "\n",
    "    # Accept the TAA\n",
    "    response = await agent_controller.ledger.get_taa()\n",
    "    TAA = response['result']['taa_record']\n",
    "    TAA['mechanism'] = \"service_agreement\"\n",
    "\n",
    "    await agent_controller.ledger.accept_taa(TAA)\n",
    "\n",
    "    response = await agent_controller.wallet.assign_public_did(did_object[\"did\"])\n",
    "    print(\"Your new public DID: \", response[\"result\"][\"did\"])\n",
    "else:\n",
    "    print(\"Public DID already exists {}\".format(result[\"did\"]))"
   ]
  },
  {
   "cell_type": "markdown",
   "metadata": {},
   "source": [
    "## What Credentials do you intend to issue if any?\n",
    "\n",
    "You could define your own scheme and write them to the ledger or write a credential definition for a schema that already exists on the ledger. Check out [IndyScan](https://indyscan.io/txs/SOVRIN_STAGINGNET/domain?page=1&pageSize=50&filterTxNames=[%22SCHEMA%22]&sortFromRecent=true) for some ideas.\n",
    "\n",
    "We have already written a schema IIW Encounter to the ledger. Feel free to create a credential definition and start issuing these credentials to your connections. You can view it [here](https://indyscan.io/tx/SOVRIN_STAGINGNET/domain/152586)."
   ]
  },
  {
   "cell_type": "code",
   "execution_count": null,
   "metadata": {},
   "outputs": [],
   "source": [
    "#pre-ledgered IIW Encounter schema ID\n",
    "# Attributes: name\n",
    "iiw_schema_id = '7Rm6HjjfY3VZGkHFPFtFNC:2:IIW Encounter:0.0.1'\n",
    "response = await agent_controller.definitions.write_cred_def(iiw_schema_id)\n",
    "\n",
    "cred_def_id = response[\"credential_definition_id\"]\n",
    "print(cred_def_id)"
   ]
  },
  {
   "cell_type": "markdown",
   "metadata": {},
   "source": [
    "##  OPTIONAL - You can also define whatever schema you like and start issuing these\n",
    "\n",
    "Go crazy, just make sure you save your schema_id and credential_definintion_id's for later use"
   ]
  },
  {
   "cell_type": "code",
   "execution_count": null,
   "metadata": {},
   "outputs": [],
   "source": [
    "# Define you schema name - must be unique on the ledger\n",
    "schema_name = \"<YOUR CUSTOM SCHEMA NAME>\"\n",
    "# Can version the schema if you wish to update it\n",
    "schema_version = \"0.0.1\"\n",
    "# Define any list of attributes you wish to include in your schema\n",
    "attributes = [\"<CUSTOMISE THIS>\"]\n",
    "\n",
    "response = await agent_controller.schema.write_schema(schema_name, attributes, schema_version)\n",
    "\n",
    "# You might want to rename this variable\n",
    "your_schema_id = response[\"schema_id\"]\n",
    "print(schema_id)\n",
    "\n",
    "response = await agent_controller.definitions.write_cred_def(schema_id)\n",
    "\n",
    "# And this one.\n",
    "your_cred_def_id = response[\"credential_definition_id\"]\n",
    "print(cred_def_id)"
   ]
  },
  {
   "cell_type": "markdown",
   "metadata": {},
   "source": [
    "## OPTIONAL - Or write a credential definition for an existing schema of your choice\n",
    "\n",
    "It must be on the Sovrin StagingNet"
   ]
  },
  {
   "cell_type": "code",
   "execution_count": null,
   "metadata": {},
   "outputs": [],
   "source": [
    "# Write as many credential definitions as you like.\n",
    "# Remember to save the cred_def_id's though. You will need these to issue credentials\n",
    "some_indy_schema_id = input(\"Enter the StagingNet schema id you wish to issue\")\n",
    "\n",
    "response = await agent_controller.definitions.write_cred_def(some_indy_schema_id)\n",
    "some_cred_def_id = response[\"credential_definition_id\"]\n",
    "print(some_cred_def_id)\n",
    "    "
   ]
  },
  {
   "cell_type": "markdown",
   "metadata": {},
   "source": [
    "## Create an Invitation\n",
    "\n",
    "You may want to set an alias so you know who your connection represents.\n",
    "\n",
    "Additionally if you are sharing this url in a chat for others to connect you might want to make it multi_use.\n"
   ]
  },
  {
   "cell_type": "code",
   "execution_count": 11,
   "metadata": {},
   "outputs": [
    {
     "name": "stdout",
     "output_type": "stream",
     "text": [
      "Connection Payload :  {'rfc23_state': 'invitation-sent', 'connection_id': 'dfb2a060-b0c7-4432-ab45-b8ab263d7bbd', 'created_at': '2021-04-07 13:39:42.476860Z', 'invitation_mode': 'multi', 'routing_state': 'none', 'state': 'invitation', 'updated_at': '2021-04-07 13:39:42.476860Z', 'invitation_key': 'HV7G9uZwmQrx89Fou6VRyohJhWVKzs97NtVTh9o3Xkt1', 'accept': 'auto', 'alias': 'OM IIW Playground Connection', 'their_role': 'invitee'}\n",
      "Connection ID dfb2a060-b0c7-4432-ab45-b8ab263d7bbd\n",
      "Invitation JSON\n",
      "{'@type': 'did:sov:BzCbsNYhMrjHiqZDTUASHg;spec/connections/1.0/invitation', '@id': 'f4474950-b853-4673-8c64-ec7673c09ccc', 'recipientKeys': ['HV7G9uZwmQrx89Fou6VRyohJhWVKzs97NtVTh9o3Xkt1'], 'serviceEndpoint': 'http://feff17f8482c.ngrok.io', 'label': 'AGENT'}\n"
     ]
    }
   ],
   "source": [
    "# Config\n",
    "alias = \"OM IIW Playground Connection\"\n",
    "multi_use = \"true\"\n",
    "\n",
    "# Create Invitation\n",
    "invite = await agent_controller.connections.create_invitation(alias=alias, multi_use=multi_use)\n",
    "# invite = await agent_controller.connections.create_invitation()\n",
    "connection_id = invite[\"connection_id\"]\n",
    "print(\"Connection ID\", connection_id)\n",
    "print(\"Invitation JSON\")\n",
    "inviteURL = invite['invitation_url']\n",
    "print(invite[\"invitation\"])"
   ]
  },
  {
   "cell_type": "markdown",
   "metadata": {},
   "source": [
    "## OPTIONAL - Generate a QrCode from URL"
   ]
  },
  {
   "cell_type": "code",
   "execution_count": 12,
   "metadata": {},
   "outputs": [
    {
     "data": {
      "image/png": "[encoded data removed]",
      "text/plain": [
       "<IPython.core.display.Image object>"
      ]
     },
     "execution_count": 12,
     "metadata": {
      "image/png": {
       "width": 400
      }
     },
     "output_type": "execute_result"
    },
    {
     "name": "stdout",
     "output_type": "stream",
     "text": [
      "Connection Payload :  {'rfc23_state': 'invitation-sent', 'connection_id': '1624c578-4537-4bcd-8809-9a4a50b96cba', 'created_at': '2021-04-07 13:39:54.416608Z', 'invitation_mode': 'once', 'routing_state': 'none', 'state': 'invitation', 'updated_at': '2021-04-07 13:39:54.416608Z', 'invitation_key': 'HV7G9uZwmQrx89Fou6VRyohJhWVKzs97NtVTh9o3Xkt1', 'accept': 'auto', 'my_did': 'RuaTxXLvAEhaGZod2Fc5bE', 'their_role': 'invitee'}\n",
      "Connection Payload :  {'rfc23_state': 'request-received', 'connection_id': '1624c578-4537-4bcd-8809-9a4a50b96cba', 'created_at': '2021-04-07 13:39:54.416608Z', 'invitation_mode': 'once', 'routing_state': 'none', 'state': 'request', 'updated_at': '2021-04-07 13:39:54.457843Z', 'their_label': 'esatus Wallet', 'invitation_key': 'HV7G9uZwmQrx89Fou6VRyohJhWVKzs97NtVTh9o3Xkt1', 'accept': 'auto', 'my_did': 'RuaTxXLvAEhaGZod2Fc5bE', 'their_did': 'LE8xDvomUFzMv1zsetfov6', 'their_role': 'invitee'}\n",
      "Connection Payload :  {'rfc23_state': 'response-sent', 'connection_id': '1624c578-4537-4bcd-8809-9a4a50b96cba', 'created_at': '2021-04-07 13:39:54.416608Z', 'invitation_mode': 'once', 'routing_state': 'none', 'state': 'response', 'updated_at': '2021-04-07 13:39:54.502708Z', 'their_label': 'esatus Wallet', 'invitation_key': 'HV7G9uZwmQrx89Fou6VRyohJhWVKzs97NtVTh9o3Xkt1', 'accept': 'auto', 'my_did': 'RuaTxXLvAEhaGZod2Fc5bE', 'their_did': 'LE8xDvomUFzMv1zsetfov6', 'their_role': 'invitee'}\n",
      "\u001b[1m\u001b[34mTrust ping send to ConnectionId 1624c578-4537-4bcd-8809-9a4a50b96cba to activate connection\u001b[0m\n",
      "Connection Payload :  {'rfc23_state': 'completed', 'connection_id': '1624c578-4537-4bcd-8809-9a4a50b96cba', 'created_at': '2021-04-07 13:39:54.416608Z', 'invitation_mode': 'once', 'routing_state': 'none', 'state': 'active', 'updated_at': '2021-04-07 13:39:59.037027Z', 'their_label': 'esatus Wallet', 'invitation_key': 'HV7G9uZwmQrx89Fou6VRyohJhWVKzs97NtVTh9o3Xkt1', 'accept': 'auto', 'my_did': 'RuaTxXLvAEhaGZod2Fc5bE', 'their_did': 'LE8xDvomUFzMv1zsetfov6', 'their_role': 'invitee'}\n",
      "\u001b[1m\u001b[32mConnectionId: 1624c578-4537-4bcd-8809-9a4a50b96cba is now active.\u001b[0m\n"
     ]
    }
   ],
   "source": [
    "# Link for connection invitation\n",
    "input_data = inviteURL\n",
    "# Creating an instance of qrcode\n",
    "qr = qrcode.QRCode(\n",
    "        version=1,\n",
    "        box_size=10,\n",
    "        border=5)\n",
    "qr.add_data(input_data)\n",
    "qr.make(fit=True)\n",
    "img = qr.make_image(fill='black', back_color='white')\n",
    "img.save('issuer_agent_invite_QRcode.png')\n",
    "\n",
    "Image(width=400, filename='./issuer_agent_invite_QRcode.png')"
   ]
  },
  {
   "cell_type": "markdown",
   "metadata": {},
   "source": [
    "## Accept Invitation\n",
    "Copy in an invitation from someone else and create a connection"
   ]
  },
  {
   "cell_type": "code",
   "execution_count": 13,
   "metadata": {},
   "outputs": [
    {
     "name": "stdout",
     "output_type": "stream",
     "text": [
      "Connection Payload :  {'rfc23_state': 'invitation-received', 'connection_id': 'da208284-2e2b-47ad-ae39-4ba63f6db53a', 'created_at': '2021-04-07 13:40:05.746417Z', 'invitation_mode': 'once', 'routing_state': 'none', 'state': 'invitation', 'updated_at': '2021-04-07 13:40:05.746417Z', 'their_label': 'IIW', 'invitation_key': '6NGA53v968F9Eua9PnP1q9y7MxNQd9cbwFkwDTxxS5MG', 'accept': 'manual', 'their_role': 'inviter'}\n",
      "Connection Payload :  {'rfc23_state': 'request-sent', 'connection_id': 'da208284-2e2b-47ad-ae39-4ba63f6db53a', 'created_at': '2021-04-07 13:40:05.746417Z', 'invitation_mode': 'once', 'routing_state': 'none', 'state': 'request', 'updated_at': '2021-04-07 13:40:05.780520Z', 'their_label': 'IIW', 'invitation_key': '6NGA53v968F9Eua9PnP1q9y7MxNQd9cbwFkwDTxxS5MG', 'accept': 'manual', 'my_did': 'APjtU6ZkZndetVW7ws3sbC', 'request_id': '5e81c45b-95da-466c-82d2-084ec307313b', 'their_role': 'inviter'}\n"
     ]
    }
   ],
   "source": [
    "\n",
    "# Copy in the invitation json object here\n",
    "invitation = {'@type': 'did:sov:BzCbsNYhMrjHiqZDTUASHg;spec/connections/1.0/invitation', '@id': '3e8cec32-2234-4292-9e5b-c2295661e7de', 'label': 'IIW', 'recipientKeys': ['6NGA53v968F9Eua9PnP1q9y7MxNQd9cbwFkwDTxxS5MG'], 'serviceEndpoint': 'https://cfdea7a6418e.ngrok.io'} \n",
    "connection = await agent_controller.connections.accept_connection(invitation)\n",
    "connection_id = connection[\"connection_id\"]"
   ]
  },
  {
   "cell_type": "code",
   "execution_count": null,
   "metadata": {},
   "outputs": [],
   "source": [
    "connections = await agent_controller.connections.get_connections()\n",
    "print(connections)"
   ]
  },
  {
   "cell_type": "markdown",
   "metadata": {},
   "source": [
    "## Create Out of Band Invite"
   ]
  },
  {
   "cell_type": "code",
   "execution_count": 16,
   "metadata": {},
   "outputs": [
    {
     "name": "stdout",
     "output_type": "stream",
     "text": [
      "Connection Payload :  {'rfc23_state': 'invitation-sent', 'connection_id': '63eeeb66-2536-4351-bef2-699db88e575d', 'created_at': '2021-04-07 13:40:54.143584Z', 'invitation_mode': 'once', 'routing_state': 'none', 'state': 'invitation', 'updated_at': '2021-04-07 13:40:54.143584Z', 'invitation_key': '72hmhRG2a1Pk8JtmkEGwPZ3KA91v2GjSNtmdWboEBC5D', 'accept': 'auto', 'their_role': 'invitee'}\n",
      "COPY OOB INVITE\n",
      "{'invi_msg_id': 'a30e2298-4931-4e62-9217-51b4467d0d80', 'invitation_url': 'http://feff17f8482c.ngrok.io?oob=eyJAdHlwZSI6ICJkaWQ6c292OkJ6Q2JzTlloTXJqSGlxWkRUVUFTSGc7c3BlYy9vdXQtb2YtYmFuZC8xLjAvaW52aXRhdGlvbiIsICJAaWQiOiAiYTMwZTIyOTgtNDkzMS00ZTYyLTkyMTctNTFiNDQ2N2QwZDgwIiwgImhhbmRzaGFrZV9wcm90b2NvbHMiOiBbImRpZDpzb3Y6QnpDYnNOWWhNcmpIaXFaRFRVQVNIZztzcGVjL2Nvbm5lY3Rpb25zLzEuMCJdLCAibGFiZWwiOiAiQUdFTlQiLCAic2VydmljZSI6IFt7ImlkIjogIiNpbmxpbmUiLCAidHlwZSI6ICJkaWQtY29tbXVuaWNhdGlvbiIsICJyZWNpcGllbnRLZXlzIjogWyJkaWQ6a2V5Ono2TWtrVXhwSGZXVHVZdERFb2pVUm9FbkVlYkp5aUhtUzl5bzR1Z1pMc21GNlFyYiJdLCAic2VydmljZUVuZHBvaW50IjogImh0dHA6Ly9mZWZmMTdmODQ4MmMubmdyb2suaW8ifV19', 'trace': False, 'state': 'initial', 'invitation': {'@type': 'did:sov:BzCbsNYhMrjHiqZDTUASHg;spec/out-of-band/1.0/invitation', '@id': 'a30e2298-4931-4e62-9217-51b4467d0d80', 'handshake_protocols': ['did:sov:BzCbsNYhMrjHiqZDTUASHg;spec/connections/1.0'], 'label': 'AGENT', 'service': [{'id': '#inline', 'type': 'did-communication', 'recipientKeys': ['did:key:z6MkkUxpHfWTuYtDEojURoEnEebJyiHmS9yo4ugZLsmF6Qrb'], 'serviceEndpoint': 'http://feff17f8482c.ngrok.io'}]}}\n"
     ]
    }
   ],
   "source": [
    "payload = {\n",
    "  \"alias\": \"Barry\",\n",
    "  \"handshake_protocols\": [\n",
    "    \"did:sov:BzCbsNYhMrjHiqZDTUASHg;spec/connections/1.0\"\n",
    "  ],\n",
    "  \"metadata\": {},\n",
    "  \"my_label\": \"Invitation to Barry\",\n",
    "  \"use_public_did\": False\n",
    "}\n",
    "\n",
    "# Create an out of band Invitation\n",
    "oob_invite = await agent_controller.oob.create_invitation(payload)\n",
    "print(\"COPY OOB INVITE\")\n",
    "print(oob_invite)"
   ]
  },
  {
   "cell_type": "code",
   "execution_count": 17,
   "metadata": {},
   "outputs": [
    {
     "data": {
      "image/png": "[encoded data removed]",
      "text/plain": [
       "<IPython.core.display.Image object>"
      ]
     },
     "execution_count": 17,
     "metadata": {
      "image/png": {
       "width": 400
      }
     },
     "output_type": "execute_result"
    }
   ],
   "source": [
    "# Link for connection invitation\n",
    "input_data = oob_invite['invitation_url']\n",
    "# Creating an instance of qrcode\n",
    "qr = qrcode.QRCode(\n",
    "        version=1,\n",
    "        box_size=10,\n",
    "        border=5)\n",
    "qr.add_data(input_data)\n",
    "qr.make(fit=True)\n",
    "img = qr.make_image(fill='black', back_color='white')\n",
    "img.save('issuer_agent_invite_QRcode.png')\n",
    "\n",
    "Image(width=400, filename='./issuer_agent_invite_QRcode.png')"
   ]
  },
  {
   "cell_type": "code",
   "execution_count": 7,
   "metadata": {},
   "outputs": [
    {
     "ename": "ClientResponseError",
     "evalue": "404, message='connection record not found: d5541bfa-9c1c-4dd5-9c34-1a2e82167f0. WalletItemNotFound.', url=URL('http://agent:8021/connections/d5541bfa-9c1c-4dd5-9c34-1a2e82167f0')",
     "output_type": "error",
     "traceback": [
      "\u001b[0;31m---------------------------------------------------------------------------\u001b[0m",
      "\u001b[0;31mClientResponseError\u001b[0m                       Traceback (most recent call last)",
      "\u001b[0;32m<ipython-input-7-b7ea643208f7>\u001b[0m in \u001b[0;36masync-def-wrapper\u001b[0;34m()\u001b[0m\n",
      "\u001b[0;32m/opt/conda/lib/python3.7/site-packages/aries_basic_controller/controllers/connections.py\u001b[0m in \u001b[0;36mget_connection\u001b[0;34m(self, connection_id)\u001b[0m\n\u001b[1;32m     61\u001b[0m \u001b[0;34m\u001b[0m\u001b[0m\n\u001b[1;32m     62\u001b[0m     \u001b[0;32masync\u001b[0m \u001b[0;32mdef\u001b[0m \u001b[0mget_connection\u001b[0m\u001b[0;34m(\u001b[0m\u001b[0mself\u001b[0m\u001b[0;34m,\u001b[0m \u001b[0mconnection_id\u001b[0m\u001b[0;34m:\u001b[0m \u001b[0mstr\u001b[0m\u001b[0;34m)\u001b[0m\u001b[0;34m:\u001b[0m\u001b[0;34m\u001b[0m\u001b[0;34m\u001b[0m\u001b[0m\n\u001b[0;32m---> 63\u001b[0;31m         \u001b[0mconnection\u001b[0m \u001b[0;34m=\u001b[0m \u001b[0;32mawait\u001b[0m \u001b[0mself\u001b[0m\u001b[0;34m.\u001b[0m\u001b[0madmin_GET\u001b[0m\u001b[0;34m(\u001b[0m\u001b[0;34mf\"/connections/{connection_id}\"\u001b[0m\u001b[0;34m)\u001b[0m\u001b[0;34m\u001b[0m\u001b[0;34m\u001b[0m\u001b[0m\n\u001b[0m\u001b[1;32m     64\u001b[0m         \u001b[0;32mreturn\u001b[0m \u001b[0mconnection\u001b[0m\u001b[0;34m\u001b[0m\u001b[0;34m\u001b[0m\u001b[0m\n\u001b[1;32m     65\u001b[0m \u001b[0;34m\u001b[0m\u001b[0m\n",
      "\u001b[0;32m/opt/conda/lib/python3.7/site-packages/aries_basic_controller/controllers/base.py\u001b[0m in \u001b[0;36madmin_GET\u001b[0;34m(self, path, text, params)\u001b[0m\n\u001b[1;32m     76\u001b[0m         \u001b[0;32mtry\u001b[0m\u001b[0;34m:\u001b[0m\u001b[0;34m\u001b[0m\u001b[0;34m\u001b[0m\u001b[0m\n\u001b[1;32m     77\u001b[0m             \u001b[0mEVENT_LOGGER\u001b[0m\u001b[0;34m.\u001b[0m\u001b[0mdebug\u001b[0m\u001b[0;34m(\u001b[0m\u001b[0;34m\"Controller GET %s request to Agent\"\u001b[0m\u001b[0;34m,\u001b[0m \u001b[0mpath\u001b[0m\u001b[0;34m)\u001b[0m\u001b[0;34m\u001b[0m\u001b[0;34m\u001b[0m\u001b[0m\n\u001b[0;32m---> 78\u001b[0;31m             \u001b[0mresponse\u001b[0m \u001b[0;34m=\u001b[0m \u001b[0;32mawait\u001b[0m \u001b[0mself\u001b[0m\u001b[0;34m.\u001b[0m\u001b[0madmin_request\u001b[0m\u001b[0;34m(\u001b[0m\u001b[0;34m\"GET\"\u001b[0m\u001b[0;34m,\u001b[0m \u001b[0mpath\u001b[0m\u001b[0;34m,\u001b[0m \u001b[0;32mNone\u001b[0m\u001b[0;34m,\u001b[0m \u001b[0mtext\u001b[0m\u001b[0;34m,\u001b[0m \u001b[0mparams\u001b[0m\u001b[0;34m)\u001b[0m\u001b[0;34m\u001b[0m\u001b[0;34m\u001b[0m\u001b[0m\n\u001b[0m\u001b[1;32m     79\u001b[0m             EVENT_LOGGER.debug(\n\u001b[1;32m     80\u001b[0m                 \u001b[0;34m\"Response from GET %s received: \\n%s\"\u001b[0m\u001b[0;34m,\u001b[0m \u001b[0mpath\u001b[0m\u001b[0;34m,\u001b[0m \u001b[0mrepr_json\u001b[0m\u001b[0;34m(\u001b[0m\u001b[0mresponse\u001b[0m\u001b[0;34m)\u001b[0m\u001b[0;34m,\u001b[0m\u001b[0;34m\u001b[0m\u001b[0;34m\u001b[0m\u001b[0m\n",
      "\u001b[0;32m/opt/conda/lib/python3.7/site-packages/aries_basic_controller/controllers/base.py\u001b[0m in \u001b[0;36madmin_request\u001b[0;34m(self, method, path, json_data, text, params, data)\u001b[0m\n\u001b[1;32m     61\u001b[0m             \u001b[0mmethod\u001b[0m\u001b[0;34m,\u001b[0m \u001b[0mself\u001b[0m\u001b[0;34m.\u001b[0m\u001b[0madmin_url\u001b[0m \u001b[0;34m+\u001b[0m \u001b[0mpath\u001b[0m\u001b[0;34m,\u001b[0m \u001b[0mjson\u001b[0m\u001b[0;34m=\u001b[0m\u001b[0mjson_data\u001b[0m\u001b[0;34m,\u001b[0m \u001b[0mparams\u001b[0m\u001b[0;34m=\u001b[0m\u001b[0mparams\u001b[0m\u001b[0;34m,\u001b[0m \u001b[0mdata\u001b[0m\u001b[0;34m=\u001b[0m\u001b[0mdata\u001b[0m\u001b[0;34m\u001b[0m\u001b[0;34m\u001b[0m\u001b[0m\n\u001b[1;32m     62\u001b[0m         ) as resp:\n\u001b[0;32m---> 63\u001b[0;31m             \u001b[0mresp\u001b[0m\u001b[0;34m.\u001b[0m\u001b[0mraise_for_status\u001b[0m\u001b[0;34m(\u001b[0m\u001b[0;34m)\u001b[0m\u001b[0;34m\u001b[0m\u001b[0;34m\u001b[0m\u001b[0m\n\u001b[0m\u001b[1;32m     64\u001b[0m             \u001b[0mresp_text\u001b[0m \u001b[0;34m=\u001b[0m \u001b[0;32mawait\u001b[0m \u001b[0mresp\u001b[0m\u001b[0;34m.\u001b[0m\u001b[0mtext\u001b[0m\u001b[0;34m(\u001b[0m\u001b[0;34m)\u001b[0m\u001b[0;34m\u001b[0m\u001b[0;34m\u001b[0m\u001b[0m\n\u001b[1;32m     65\u001b[0m             \u001b[0;32mif\u001b[0m \u001b[0;32mnot\u001b[0m \u001b[0mresp_text\u001b[0m \u001b[0;32mand\u001b[0m \u001b[0;32mnot\u001b[0m \u001b[0mtext\u001b[0m\u001b[0;34m:\u001b[0m\u001b[0;34m\u001b[0m\u001b[0;34m\u001b[0m\u001b[0m\n",
      "\u001b[0;32m/opt/conda/lib/python3.7/site-packages/aiohttp/client_reqrep.py\u001b[0m in \u001b[0;36mraise_for_status\u001b[0;34m(self)\u001b[0m\n\u001b[1;32m    944\u001b[0m                 \u001b[0mstatus\u001b[0m\u001b[0;34m=\u001b[0m\u001b[0mself\u001b[0m\u001b[0;34m.\u001b[0m\u001b[0mstatus\u001b[0m\u001b[0;34m,\u001b[0m\u001b[0;34m\u001b[0m\u001b[0;34m\u001b[0m\u001b[0m\n\u001b[1;32m    945\u001b[0m                 \u001b[0mmessage\u001b[0m\u001b[0;34m=\u001b[0m\u001b[0mself\u001b[0m\u001b[0;34m.\u001b[0m\u001b[0mreason\u001b[0m\u001b[0;34m,\u001b[0m\u001b[0;34m\u001b[0m\u001b[0;34m\u001b[0m\u001b[0m\n\u001b[0;32m--> 946\u001b[0;31m                 headers=self.headers)\n\u001b[0m\u001b[1;32m    947\u001b[0m \u001b[0;34m\u001b[0m\u001b[0m\n\u001b[1;32m    948\u001b[0m     \u001b[0;32mdef\u001b[0m \u001b[0m_cleanup_writer\u001b[0m\u001b[0;34m(\u001b[0m\u001b[0mself\u001b[0m\u001b[0;34m)\u001b[0m \u001b[0;34m->\u001b[0m \u001b[0;32mNone\u001b[0m\u001b[0;34m:\u001b[0m\u001b[0;34m\u001b[0m\u001b[0;34m\u001b[0m\u001b[0m\n",
      "\u001b[0;31mClientResponseError\u001b[0m: 404, message='connection record not found: d5541bfa-9c1c-4dd5-9c34-1a2e82167f0. WalletItemNotFound.', url=URL('http://agent:8021/connections/d5541bfa-9c1c-4dd5-9c34-1a2e82167f0')"
     ]
    },
    {
     "name": "stderr",
     "output_type": "stream",
     "text": [
      "Warning: Output is not a terminal (fd=None).\n"
     ]
    },
    {
     "name": "stdout",
     "output_type": "stream",
     "text": [
      "\u001b[0m\u001b[?7h\u001b[0;34mError during GET /connections/d5541bfa-9c1c-4dd5-9c34-1a2e82167f0: 404, message='connection record not found: d5541bfa-9c1c-4dd5-9c34-1a2e82167f0. WalletItemNotFound.', url=URL('http://agent:8021/connections/d5541bfa-9c1c-4dd5-9c34-1a2e82167f0')\u001b[0m\n",
      "\u001b[0m"
     ]
    }
   ],
   "source": [
    "oob_conn_id = \"d5541bfa-9c1c-4dd5-9c34-1a2e82167f0\"\n",
    "resp = await agent_controller.connections.get_connection(oob_conn_id)"
   ]
  },
  {
   "cell_type": "markdown",
   "metadata": {},
   "source": [
    "## Send a Message\n",
    "\n",
    "You may want to create a better way to manage your contacts"
   ]
  },
  {
   "cell_type": "code",
   "execution_count": null,
   "metadata": {},
   "outputs": [],
   "source": [
    "basic_message = \"hello from Will\"\n",
    "response = await agent_controller.messaging.send_message(active_connection_id, basic_message)\n",
    "print(\"BASIC MESSAGE - Alice -> Bob\")\n",
    "print(response)"
   ]
  },
  {
   "cell_type": "markdown",
   "metadata": {},
   "source": [
    "## Send Attachment\n",
    "\n",
    "Will only work if you are communicating with an agent that has this protocol installed. Basically anyone running this demo.\n",
    "\n",
    "You must have the file you want to send accessible from this notebook. Upload it into the home page - https://localhost:8888. Or just send the IIW image that is already there."
   ]
  },
  {
   "cell_type": "code",
   "execution_count": null,
   "metadata": {},
   "outputs": [],
   "source": [
    "file = \"iiw.png\"\n",
    "content_type = \"image/png\"\n",
    "data = FormData()\n",
    "data.add_field('file',\n",
    "               open(file, 'rb'),\n",
    "               filename=file,\n",
    "               content_type=content_type)\n",
    "response = await agent_controller.protocol.send_attachment(active_connection_id, data)\n",
    "print('Attachment- Alice-> Bob')\n",
    "print(response)"
   ]
  },
  {
   "cell_type": "markdown",
   "metadata": {},
   "source": [
    "## Issue Credential\n",
    "\n",
    "Customise this however you like. "
   ]
  },
  {
   "cell_type": "code",
   "execution_count": null,
   "metadata": {},
   "outputs": [],
   "source": [
    "name=input(\"Please enter your name: \")\n",
    "credential_attributes = [\n",
    "    {\"name\": \"name\", \"value\": name},\n",
    "]\n",
    "\n",
    "record = await agent_controller.issuer.send_credential(active_connection_id, iiw_schema_id, cred_def_id, credential_attributes, trace=False)\n",
    "record_id = record['credential_exchange_id']\n",
    "state = record['state']\n",
    "role = record['role']\n",
    "print(f\"Credential exchange {record_id}, role: {role}, state: {state}\")"
   ]
  },
  {
   "cell_type": "markdown",
   "metadata": {},
   "source": [
    "## Request a Presentation\n",
    "\n",
    "You will need to know the schema_id you wish to verify attributes from\n"
   ]
  },
  {
   "cell_type": "code",
   "execution_count": null,
   "metadata": {},
   "outputs": [],
   "source": [
    "schema_id = '<ENTER YOUR OWN SCHEMA_ID'\n",
    "\n",
    "#Set some variables\n",
    "\n",
    "revocation = False\n",
    "exchange_tracing = False\n",
    "\n",
    "#Enable this to ask for attributes to identity a user\n",
    "#TODO - change restriction to schemaId or credentialId\n",
    "\n",
    "req_attrs = [\n",
    "    {\"name\": \"name\", \"restrictions\": [{\"schema_id\": iiw_schema_id}]},\n",
    "]\n",
    "\n",
    "# if revocation:\n",
    "#     req_attrs.append(\n",
    "#         {\n",
    "#             \"name\": \"skill\",\n",
    "#             \"restrictions\": [{\"schema_id\": iiw_schema_id}],\n",
    "#             \"non_revoked\": {\"to\": int(time.time() - 1)},\n",
    "#         },\n",
    "#     )\n",
    "\n",
    "\n",
    "#Set predicates for Zero Knowledge Proofs\n",
    "# req_preds = [\n",
    "#     # test zero-knowledge proofs\n",
    "#     {\n",
    "#         \"name\": \"age\",\n",
    "#         \"p_type\": \">=\",\n",
    "#         \"p_value\": 21,\n",
    "#         \"restrictions\": [{\"schema_id\": iiw_schema_id}],\n",
    "#     }\n",
    "# ]\n",
    "\n",
    "indy_proof_request = {\n",
    "    \"name\": \"Proof of Name\",\n",
    "    \"version\": \"1.0\",\n",
    "    \"requested_attributes\": {\n",
    "        f\"0_{req_attr['name']}_uuid\":\n",
    "        req_attr for req_attr in req_attrs\n",
    "    },\n",
    "    \"requested_predicates\": {\n",
    "#         f\"0_{req_pred['name']}_GE_uuid\":\n",
    "#         req_pred for req_pred in req_preds\n",
    "    },\n",
    "}\n",
    "\n",
    "# if revocation:\n",
    "#     indy_proof_request[\"non_revoked\"] = {\"to\": int(time.time())}\n",
    "\n",
    "#proof_request = indy_proof_request\n",
    "exchange_tracing_id = exchange_tracing\n",
    "proof_request_web_request = {\n",
    "    \"connection_id\": active_connection_id,\n",
    "    \"proof_request\": indy_proof_request,\n",
    "    \"trace\": exchange_tracing,\n",
    "}"
   ]
  },
  {
   "cell_type": "code",
   "execution_count": null,
   "metadata": {},
   "outputs": [],
   "source": [
    "response = await agent_controller.proofs.send_request(proof_request_web_request)\n",
    "print(response)\n",
    "presentation_exchange_id = response['presentation_exchange_id']\n",
    "print(\"\\n\")\n",
    "print(presentation_exchange_id)"
   ]
  },
  {
   "cell_type": "markdown",
   "metadata": {},
   "source": [
    "## 6. Verify Proof Presentation\n",
    "\n",
    "This is checking the signatures on the credentials presented against the credential schema and definition id stored and resolvable on the ledger. It is a bit of a big complicated object, so we show the common pattern for breaking it down, checking it's verified and accessing the data that has been presented."
   ]
  },
  {
   "cell_type": "code",
   "execution_count": null,
   "metadata": {},
   "outputs": [],
   "source": [
    "verify = await agent_controller.proofs.verify_presentation(presentation_exchange_id)\n",
    "print(verify)"
   ]
  },
  {
   "cell_type": "markdown",
   "metadata": {},
   "source": [
    "### Verifying the State\n",
    "\n",
    "Once verified through the agent framework api, the state should be 'verified', otherwise the presentation is invalid."
   ]
  },
  {
   "cell_type": "markdown",
   "metadata": {},
   "source": [
    "### Accessing the revealed attributes"
   ]
  },
  {
   "cell_type": "code",
   "execution_count": null,
   "metadata": {},
   "outputs": [],
   "source": [
    "for (name, val) in verify['presentation']['requested_proof']['revealed_attrs'].items():\n",
    "    ## This is the actual data that you want. It's a little hidden\n",
    "    print(val['raw'])"
   ]
  },
  {
   "cell_type": "markdown",
   "metadata": {},
   "source": [
    "### Accessing the self-attested attributes"
   ]
  },
  {
   "cell_type": "code",
   "execution_count": null,
   "metadata": {},
   "outputs": [],
   "source": [
    "for (name, val) in verify['presentation']['requested_proof']['self_attested_attrs'].items():\n",
    "    print(name)\n",
    "    ## Slightly different for self attested attrs\n",
    "    print(val)"
   ]
  },
  {
   "cell_type": "code",
   "execution_count": 12,
   "metadata": {},
   "outputs": [],
   "source": [
    "await agent_controller.terminate()"
   ]
  },
  {
   "cell_type": "code",
   "execution_count": null,
   "metadata": {},
   "outputs": [],
   "source": []
  }
 ],
 "metadata": {
  "kernelspec": {
   "display_name": "Python 3",
   "language": "python",
   "name": "python3"
  },
  "language_info": {
   "codemirror_mode": {
    "name": "ipython",
    "version": 3
   },
   "file_extension": ".py",
   "mimetype": "text/x-python",
   "name": "python",
   "nbconvert_exporter": "python",
   "pygments_lexer": "ipython3",
   "version": "3.7.6"
  },
  "pycharm": {
   "stem_cell": {
    "cell_type": "raw",
    "metadata": {
     "collapsed": false
    },
    "source": []
   }
  }
 },
 "nbformat": 4,
 "nbformat_minor": 4
}

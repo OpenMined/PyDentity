{
 "cells": [
  {
   "cell_type": "markdown",
   "id": "backed-petersburg",
   "metadata": {},
   "source": [
    "# Health Research Regulator\n",
    "\n",
    "Researchers must apply to this authority before they can do research on healthcare data. The regulator then issues them a credential that data owners (Hospital's) can verify. Providing hospitals an easy way to authenticate access to sensitive but useful healthcare data."
   ]
  },
  {
   "cell_type": "code",
   "execution_count": 1,
   "id": "pharmaceutical-sample",
   "metadata": {},
   "outputs": [
    {
     "name": "stdout",
     "output_type": "stream",
     "text": [
      "IPython autoawait is `on`, and set to use `asyncio`\n"
     ]
    }
   ],
   "source": [
    "%autoawait\n",
    "import time\n",
    "import asyncio\n",
    "import nest_asyncio\n",
    "from termcolor import colored, cprint\n",
    "nest_asyncio.apply()\n",
    "from aries_basic_controller.aries_controller import AriesAgentController\n",
    "    \n",
    "WEBHOOK_HOST = \"0.0.0.0\"\n",
    "WEBHOOK_BASE = \"\"\n",
    "\n",
    "WEBHOOK_PORT = 8032\n",
    "ADMIN_URL = \"http://regulator-agent:8031\"\n",
    "\n",
    "# Based on the aca-py agent you wish to control\n",
    "agent_controller = AriesAgentController(webhook_host=WEBHOOK_HOST, webhook_port=WEBHOOK_PORT,\n",
    "                                       webhook_base=WEBHOOK_BASE, admin_url=ADMIN_URL)"
   ]
  },
  {
   "cell_type": "markdown",
   "id": "figured-birth",
   "metadata": {},
   "source": [
    "## Generate a new DID"
   ]
  },
  {
   "cell_type": "code",
   "execution_count": 2,
   "id": "accurate-preparation",
   "metadata": {},
   "outputs": [
    {
     "name": "stdout",
     "output_type": "stream",
     "text": [
      "New DID {'did': 'SmgsCf6nbR8JgP2Kyx2nP3', 'verkey': 'F3f1mpR1vJ7NiuVqYbigMbirNLUCJ9ikn5WoVS8XNbhB', 'posture': 'wallet_only'}\n"
     ]
    }
   ],
   "source": [
    "# generate new DID\n",
    "response = await agent_controller.wallet.create_did()\n",
    "\n",
    "did_object = response['result']\n",
    "print(\"New DID\", did_object)"
   ]
  },
  {
   "cell_type": "code",
   "execution_count": 3,
   "id": "historical-heater",
   "metadata": {},
   "outputs": [],
   "source": [
    "## Write DID to Sovrin StagingNet"
   ]
  },
  {
   "cell_type": "code",
   "execution_count": 4,
   "id": "helpful-desert",
   "metadata": {},
   "outputs": [
    {
     "name": "stdout",
     "output_type": "stream",
     "text": [
      "{'statusCode': 200, 'headers': {'Access-Control-Allow-Origin': '*'}, 'body': '{\"statusCode\": 200, \"SmgsCf6nbR8JgP2Kyx2nP3\": {\"status\": \"Success\", \"statusCode\": 200, \"reason\": \"Successfully wrote NYM identified by SmgsCf6nbR8JgP2Kyx2nP3 to the ledger with role ENDORSER\"}}'}\n",
      "200\n"
     ]
    }
   ],
   "source": [
    "# write new DID to Sovrin Stagingnet\n",
    "import requests\n",
    "import json \n",
    "\n",
    "url = 'https://selfserve.sovrin.org/nym'\n",
    "\n",
    "payload = {\"network\":\"stagingnet\",\"did\": did_object[\"did\"],\"verkey\":did_object[\"verkey\"],\"paymentaddr\":\"\"}\n",
    "\n",
    "# Adding empty header as parameters are being sent in payload\n",
    "headers = {}\n",
    "\n",
    "r = requests.post(url, data=json.dumps(payload), headers=headers)\n",
    "print(r.json())\n",
    "print(r.status_code)"
   ]
  },
  {
   "cell_type": "markdown",
   "id": "nonprofit-preparation",
   "metadata": {},
   "source": [
    "## Accept Transaction Author Agreement"
   ]
  },
  {
   "cell_type": "code",
   "execution_count": 5,
   "id": "double-trinidad",
   "metadata": {},
   "outputs": [
    {
     "name": "stdout",
     "output_type": "stream",
     "text": [
      "{}\n"
     ]
    }
   ],
   "source": [
    "response = await agent_controller.ledger.get_taa()\n",
    "TAA_text = response['result']['taa_record']['text']\n",
    "TAA_version = response['result']['taa_record']['version']\n",
    "TAA_digest = response['result']['taa_record']['digest']\n",
    "\n",
    "\n",
    "taa_record = {\n",
    "            \"version\": TAA_version,\n",
    "            \"mechanism\": \"service_agreement\",\n",
    "            'text': TAA_text\n",
    "}\n",
    "\n",
    "response = await agent_controller.ledger.accept_taa(taa_record)\n",
    "## Will return {} if successful\n",
    "print(response)"
   ]
  },
  {
   "cell_type": "markdown",
   "id": "efficient-material",
   "metadata": {},
   "source": [
    "## Assign public DID"
   ]
  },
  {
   "cell_type": "code",
   "execution_count": 6,
   "id": "false-hebrew",
   "metadata": {},
   "outputs": [
    {
     "name": "stdout",
     "output_type": "stream",
     "text": [
      "{'result': {'did': 'SmgsCf6nbR8JgP2Kyx2nP3', 'verkey': 'F3f1mpR1vJ7NiuVqYbigMbirNLUCJ9ikn5WoVS8XNbhB', 'posture': 'public'}}\n"
     ]
    }
   ],
   "source": [
    "response = await agent_controller.wallet.assign_public_did(did_object[\"did\"])\n",
    "print(response)"
   ]
  },
  {
   "cell_type": "markdown",
   "id": "narrative-knock",
   "metadata": {},
   "source": [
    "### Optional Write Schema\n",
    "\n",
    "You will need to change the proof request configuration for hosptials if you do this."
   ]
  },
  {
   "cell_type": "code",
   "execution_count": 7,
   "id": "answering-herald",
   "metadata": {},
   "outputs": [],
   "source": [
    "\n",
    "# Or feel free to define your own schema\n",
    "\n",
    "# Define you schema name - must be unique on the ledger\n",
    "# schema_name = \"Authorised Research\"\n",
    "# # Can version the schema if you wish to update it\n",
    "# schema_version = \"0.0.1\"\n",
    "# # Define any list of attributes you wish to include in your schema\n",
    "# attributes = [\"scope\"]\n",
    "\n",
    "# response = await agent_controller.schema.write_schema(schema_name, attributes, schema_version)\n",
    "# schema_id = response[\"schema_id\"]\n",
    "# print(schema_id)"
   ]
  },
  {
   "cell_type": "code",
   "execution_count": 8,
   "id": "hundred-rates",
   "metadata": {},
   "outputs": [],
   "source": [
    "schema_id = \"FWyJ74b38bCF1QbYF7tWMM:2:Authorised Research:0.0.1\"\n",
    "response = await agent_controller.definitions.write_cred_def(schema_id)\n",
    "cred_def_id = response[\"credential_definition_id\"]"
   ]
  },
  {
   "cell_type": "markdown",
   "id": "funny-harmony",
   "metadata": {},
   "source": [
    "## Register Listeners\n",
    "\n",
    "These handlers ensure that whoever connects to this agent automatically get's issued a credential for the scope of diabetes. Clearly in the real world a more thorough application and research regulation process would be enforced here."
   ]
  },
  {
   "cell_type": "code",
   "execution_count": 9,
   "id": "prescribed-portugal",
   "metadata": {},
   "outputs": [],
   "source": [
    "loop = asyncio.get_event_loop()\n",
    "loop.create_task(agent_controller.listen_webhooks())\n",
    "\n",
    "def cred_handler(payload):\n",
    "    print(\"Handle Credentials\")\n",
    "    exchange_id = payload['credential_exchange_id']\n",
    "    state = payload['state']\n",
    "    role = payload['role']\n",
    "    attributes = payload['credential_proposal_dict']['credential_proposal']['attributes']\n",
    "    print(f\"Credential exchange {exchange_id}, role: {role}, state: {state}\")\n",
    "    print(f\"Offering: {attributes}\")\n",
    "    \n",
    "cred_listener = {\n",
    "    \"topic\": \"issue_credential\",\n",
    "    \"handler\": cred_handler\n",
    "}\n",
    "\n",
    "def connections_handler(payload):\n",
    "    global STATE\n",
    "    connection_id = payload[\"connection_id\"]\n",
    "    print(\"Connection message\", payload, connection_id)\n",
    "    STATE = payload['state']\n",
    "    loop = asyncio.get_event_loop()\n",
    "    if STATE == 'request':\n",
    "        print(\"ACCEPTING REQUEST\")\n",
    "\n",
    "        loop.run_until_complete(agent_controller.connections.accept_request(connection_id))\n",
    "    elif STATE == 'response':\n",
    "        print(\"SEND PING\")\n",
    "        time.sleep(2)\n",
    "        loop.run_until_complete(agent_controller.messaging.trust_ping(connection_id, \"hey\"))\n",
    "    elif STATE == 'active':\n",
    "#         print('Connection {0} changed state to active'.format(connection_id))\n",
    "        print(colored(\"Connection {0} changed state to active\".format(connection_id), \"red\", attrs=[\"bold\"]))\n",
    "        credential_attributes = [{\"name\": \"scope\", \"value\": \"diabetes\"}]\n",
    "        ## Offer credential\n",
    "        time.sleep(1)\n",
    "        loop.run_until_complete(agent_controller.issuer.send_credential(connection_id, schema_id, cred_def_id, credential_attributes, trace=False))\n",
    "\n",
    "connection_listener = {\n",
    "    \"handler\": connections_handler,\n",
    "    \"topic\": \"connections\"\n",
    "}\n",
    "\n",
    "agent_controller.register_listeners([cred_listener,connection_listener], defaults=True)"
   ]
  },
  {
   "cell_type": "code",
   "execution_count": 10,
   "id": "compound-potato",
   "metadata": {},
   "outputs": [
    {
     "name": "stdout",
     "output_type": "stream",
     "text": [
      "Connection message {'connection_id': '3982fd64-8477-45e8-bd47-b854f5fa8b23', 'updated_at': '2021-03-01 19:57:33.286148Z', 'routing_state': 'none', 'state': 'invitation', 'created_at': '2021-03-01 19:57:33.286148Z', 'initiator': 'self', 'accept': 'manual', 'invitation_key': 'Fm7bvrNNTJCuT1RKjPqcNg96Xcamm6mwivNgQ7CpU8ph', 'invitation_mode': 'multi'} 3982fd64-8477-45e8-bd47-b854f5fa8b23\n",
      "{'@type': 'did:sov:BzCbsNYhMrjHiqZDTUASHg;spec/connections/1.0/invitation', '@id': '6cccd38d-b34b-4798-aa7c-b529ddd315e0', 'recipientKeys': ['Fm7bvrNNTJCuT1RKjPqcNg96Xcamm6mwivNgQ7CpU8ph'], 'serviceEndpoint': 'http://172.17.0.1:8030', 'label': 'NHS Health Research Authority'}\n",
      "Connection message {'connection_id': '7a07a9b9-9ebd-4f7b-a4dc-d174f8f23fb8', 'updated_at': '2021-03-01 19:57:54.062829Z', 'my_did': 'VH3VVVXiG9szicDejKqPJ1', 'routing_state': 'none', 'state': 'invitation', 'created_at': '2021-03-01 19:57:54.062829Z', 'initiator': 'multiuse', 'accept': 'manual', 'invitation_key': 'Fm7bvrNNTJCuT1RKjPqcNg96Xcamm6mwivNgQ7CpU8ph', 'invitation_mode': 'once'} 7a07a9b9-9ebd-4f7b-a4dc-d174f8f23fb8\n",
      "Connection message {'connection_id': '7a07a9b9-9ebd-4f7b-a4dc-d174f8f23fb8', 'updated_at': '2021-03-01 19:57:54.073693Z', 'my_did': 'VH3VVVXiG9szicDejKqPJ1', 'routing_state': 'none', 'their_did': 'MbmxaqUNq4TXBPHyk3QQ1x', 'state': 'request', 'created_at': '2021-03-01 19:57:54.062829Z', 'their_label': 'Health Researcher', 'initiator': 'multiuse', 'accept': 'manual', 'invitation_key': 'Fm7bvrNNTJCuT1RKjPqcNg96Xcamm6mwivNgQ7CpU8ph', 'invitation_mode': 'once'} 7a07a9b9-9ebd-4f7b-a4dc-d174f8f23fb8\n",
      "ACCEPTING REQUEST\n",
      "Connection message {'connection_id': '7a07a9b9-9ebd-4f7b-a4dc-d174f8f23fb8', 'updated_at': '2021-03-01 19:57:54.097194Z', 'my_did': 'VH3VVVXiG9szicDejKqPJ1', 'routing_state': 'none', 'their_did': 'MbmxaqUNq4TXBPHyk3QQ1x', 'state': 'response', 'created_at': '2021-03-01 19:57:54.062829Z', 'their_label': 'Health Researcher', 'initiator': 'multiuse', 'accept': 'manual', 'invitation_key': 'Fm7bvrNNTJCuT1RKjPqcNg96Xcamm6mwivNgQ7CpU8ph', 'invitation_mode': 'once'} 7a07a9b9-9ebd-4f7b-a4dc-d174f8f23fb8\n",
      "SEND PING\n",
      "Connection message {'connection_id': '7a07a9b9-9ebd-4f7b-a4dc-d174f8f23fb8', 'updated_at': '2021-03-01 19:57:56.147613Z', 'my_did': 'VH3VVVXiG9szicDejKqPJ1', 'routing_state': 'none', 'their_did': 'MbmxaqUNq4TXBPHyk3QQ1x', 'state': 'active', 'created_at': '2021-03-01 19:57:54.062829Z', 'their_label': 'Health Researcher', 'initiator': 'multiuse', 'accept': 'manual', 'invitation_key': 'Fm7bvrNNTJCuT1RKjPqcNg96Xcamm6mwivNgQ7CpU8ph', 'invitation_mode': 'once'} 7a07a9b9-9ebd-4f7b-a4dc-d174f8f23fb8\n",
      "\u001b[1m\u001b[31mConnection 7a07a9b9-9ebd-4f7b-a4dc-d174f8f23fb8 changed state to active\u001b[0m\n",
      "Handle Credentials\n",
      "Credential exchange 8341b72b-dc65-4d27-ad75-cfdf6be421e3, role: issuer, state: offer_sent\n",
      "Offering: [{'name': 'scope', 'value': 'diabetes'}]\n",
      "Handle Credentials\n",
      "Credential exchange 8341b72b-dc65-4d27-ad75-cfdf6be421e3, role: issuer, state: request_received\n",
      "Offering: [{'name': 'scope', 'value': 'diabetes'}]\n",
      "Handle Credentials\n",
      "Credential exchange 8341b72b-dc65-4d27-ad75-cfdf6be421e3, role: issuer, state: credential_issued\n",
      "Offering: [{'name': 'scope', 'value': 'diabetes'}]\n",
      "Handle Credentials\n",
      "Credential exchange 8341b72b-dc65-4d27-ad75-cfdf6be421e3, role: issuer, state: credential_acked\n",
      "Offering: [{'name': 'scope', 'value': 'diabetes'}]\n"
     ]
    }
   ],
   "source": [
    "invite = await agent_controller.connections.create_invitation(multi_use=\"true\")\n",
    "print(invite['invitation'])"
   ]
  },
  {
   "cell_type": "code",
   "execution_count": null,
   "id": "civil-intranet",
   "metadata": {},
   "outputs": [],
   "source": [
    "await agent_controller.terminate()"
   ]
  }
 ],
 "metadata": {
  "kernelspec": {
   "display_name": "Python 3",
   "language": "python",
   "name": "python3"
  },
  "language_info": {
   "codemirror_mode": {
    "name": "ipython",
    "version": 3
   },
   "file_extension": ".py",
   "mimetype": "text/x-python",
   "name": "python",
   "nbconvert_exporter": "python",
   "pygments_lexer": "ipython3",
   "version": "3.7.6"
  }
 },
 "nbformat": 4,
 "nbformat_minor": 5
}

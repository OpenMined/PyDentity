{
 "cells": [
  {
   "cell_type": "code",
   "execution_count": 1,
   "id": "provincial-arrangement",
   "metadata": {},
   "outputs": [],
   "source": [
    "from researcher import Researcher\n",
    "import asyncio\n",
    "import nest_asyncio\n",
    "\n",
    "nest_asyncio.apply()"
   ]
  },
  {
   "cell_type": "code",
   "execution_count": 2,
   "id": "returning-jamaica",
   "metadata": {},
   "outputs": [],
   "source": [
    "    \n",
    "WEBHOOK_HOST = \"0.0.0.0\"\n",
    "WEBHOOK_PORT = 8042\n",
    "WEBHOOK_BASE = \"\"\n",
    "ADMIN_URL = \"http://researcher-agent:8041\"\n",
    "# ADMIN_URL = \"http://0.0.0.0:8041\"\n",
    "\n",
    "agent_config = {\n",
    "    \"webhook_host\": WEBHOOK_HOST,\n",
    "    \"webhook_port\": WEBHOOK_PORT,\n",
    "    \"webhook_base\": WEBHOOK_BASE,\n",
    "    \"admin_url\": ADMIN_URL\n",
    "}\n",
    "\n"
   ]
  },
  {
   "cell_type": "code",
   "execution_count": 3,
   "id": "tough-eclipse",
   "metadata": {},
   "outputs": [],
   "source": [
    "import torch\n",
    "\n",
    "# models\n",
    "from torch import nn\n",
    "from torch import optim\n",
    "from torch.autograd import Variable\n",
    "import os\n",
    "import sys\n",
    "\n",
    "from opacus import PrivacyEngine\n",
    "\n",
    "# The Researcher generates the model\n",
    "\n",
    "model = nn.Sequential(\n",
    "            nn.Linear(8, 4),\n",
    "            nn.Sigmoid(),\n",
    "            nn.Linear(4, 2),\n",
    "            nn.Sigmoid(),\n",
    "            nn.Linear(2, 1),\n",
    "            nn.Sigmoid()\n",
    ")"
   ]
  },
  {
   "cell_type": "code",
   "execution_count": 4,
   "id": "younger-culture",
   "metadata": {},
   "outputs": [],
   "source": [
    "validation_data_path = 'data/coordinator_validation_data.csv'"
   ]
  },
  {
   "cell_type": "code",
   "execution_count": 5,
   "id": "fatal-harvest",
   "metadata": {},
   "outputs": [
    {
     "name": "stdout",
     "output_type": "stream",
     "text": [
      "CLEANING THE VALIDATION SET\n",
      "VALIDATION SET HAS BEEN CLEANED\n"
     ]
    }
   ],
   "source": [
    "researcher = Researcher(agent_config, validation_data_path, model)"
   ]
  },
  {
   "cell_type": "markdown",
   "id": "gorgeous-internship",
   "metadata": {},
   "source": [
    "## Request Authorised Research Credential\n",
    "\n",
    "Copy invite from the [Health Research Authority Notebook](http://localhost:8889/lab/tree/Health%20Research%20Regulator.ipynb)"
   ]
  },
  {
   "cell_type": "code",
   "execution_count": 6,
   "id": "ethical-visitor",
   "metadata": {},
   "outputs": [],
   "source": [
    "invite = {'@type': 'did:sov:BzCbsNYhMrjHiqZDTUASHg;spec/connections/1.0/invitation', '@id': '6cccd38d-b34b-4798-aa7c-b529ddd315e0', 'recipientKeys': ['Fm7bvrNNTJCuT1RKjPqcNg96Xcamm6mwivNgQ7CpU8ph'], 'serviceEndpoint': 'http://172.17.0.1:8030', 'label': 'NHS Health Research Authority'}"
   ]
  },
  {
   "cell_type": "code",
   "execution_count": 7,
   "id": "relevant-delicious",
   "metadata": {},
   "outputs": [
    {
     "name": "stdout",
     "output_type": "stream",
     "text": [
      "Connection Handler Called\n",
      "Connection 6359cf14-0456-4662-89ef-b3910e25b0aa in State invitation\n",
      "Connection Handler Called\n",
      "Connection 6359cf14-0456-4662-89ef-b3910e25b0aa in State request\n"
     ]
    },
    {
     "data": {
      "text/plain": [
       "{'state': 'request',\n",
       " 'connection_id': '6359cf14-0456-4662-89ef-b3910e25b0aa',\n",
       " 'updated_at': '2021-03-01 19:57:54.019977Z',\n",
       " 'my_did': 'MbmxaqUNq4TXBPHyk3QQ1x',\n",
       " 'their_label': 'NHS Health Research Authority',\n",
       " 'request_id': '43c376c1-8b05-4b1c-a163-03d9966a1c60',\n",
       " 'invitation_mode': 'once',\n",
       " 'initiator': 'external',\n",
       " 'accept': 'manual',\n",
       " 'invitation_key': 'Fm7bvrNNTJCuT1RKjPqcNg96Xcamm6mwivNgQ7CpU8ph',\n",
       " 'routing_state': 'none',\n",
       " 'created_at': '2021-03-01 19:57:54.006166Z'}"
      ]
     },
     "execution_count": 7,
     "metadata": {},
     "output_type": "execute_result"
    },
    {
     "name": "stdout",
     "output_type": "stream",
     "text": [
      "Connection Handler Called\n",
      "Connection 6359cf14-0456-4662-89ef-b3910e25b0aa in State response\n",
      "Connection Handler Called\n",
      "Connection 6359cf14-0456-4662-89ef-b3910e25b0aa in State active\n",
      "Handle Credentials\n",
      "Credential exchange f6fb44c2-63a6-429c-8ab7-8660a5e200f6, role: holder, state: offer_received\n",
      "Offering: [{'name': 'scope', 'value': 'diabetes'}]\n",
      "Requesting credential\n",
      "Handle Credentials\n",
      "Credential exchange f6fb44c2-63a6-429c-8ab7-8660a5e200f6, role: holder, state: request_sent\n",
      "Handle Credentials\n",
      "Credential exchange f6fb44c2-63a6-429c-8ab7-8660a5e200f6, role: holder, state: credential_received\n",
      "Storing Credential\n",
      "Handle Credentials\n",
      "Credential exchange f6fb44c2-63a6-429c-8ab7-8660a5e200f6, role: holder, state: credential_acked\n"
     ]
    }
   ],
   "source": [
    "await researcher.agent_controller.connections.accept_connection(invite)"
   ]
  },
  {
   "cell_type": "markdown",
   "id": "norwegian-absolute",
   "metadata": {},
   "source": [
    "## Configure Authentication Policy\n",
    "\n",
    "Note: Normally we would specify the credential definition here specifying which entities we trust to issue this schema, but this changes every time because it's a demo.\n",
    "\n",
    "Feel free to copy yours across from the NHS Trust though."
   ]
  },
  {
   "cell_type": "code",
   "execution_count": 8,
   "id": "hungry-problem",
   "metadata": {},
   "outputs": [],
   "source": [
    "\n",
    "\n",
    "schema_id = \"BvRKFu1fdzGdJzQcKb8e8p:2:NHS Hosptial:0.0.1\"\n",
    "# cred_def = \"WfntKNFwXMQfgmU9ofbxPM:3:CL:156569:default\"\n",
    "\n",
    "revocation = False\n",
    "exchange_tracing = False\n",
    "\n",
    "#Enable this to ask for attributes to identity a user\n",
    "#TODO - change restriction to schemaId or credentialId\n",
    "\n",
    "req_attrs = [\n",
    "    {\"name\": \"name\", \"restrictions\": [{\"schema_id\": schema_id}]},#, \"cred_def_id\": cred_def}]},\n",
    "]\n",
    "\n",
    "global indy_proof_request\n",
    "indy_proof_request = {\n",
    "    \"name\": \"Proof of Hospital\",\n",
    "    \"version\": \"1.0\",\n",
    "    \"requested_attributes\": {\n",
    "        f\"0_{req_attr['name']}_uuid\":\n",
    "        req_attr for req_attr in req_attrs\n",
    "    },\n",
    "    \"requested_predicates\": {\n",
    "#         f\"0_{req_pred['name']}_GE_uuid\":\n",
    "#         req_pred for req_pred in req_preds\n",
    "    },\n",
    "}\n",
    "\n"
   ]
  },
  {
   "cell_type": "code",
   "execution_count": 9,
   "id": "measured-volume",
   "metadata": {},
   "outputs": [],
   "source": [
    "researcher.set_authentication_policy(indy_proof_request)"
   ]
  },
  {
   "cell_type": "markdown",
   "id": "referenced-collectible",
   "metadata": {},
   "source": [
    "## Send Invite to Hospital 1\n",
    "\n",
    "Option: We could make this a multiuse invite."
   ]
  },
  {
   "cell_type": "code",
   "execution_count": 10,
   "id": "impaired-shower",
   "metadata": {
    "scrolled": true
   },
   "outputs": [
    {
     "name": "stdout",
     "output_type": "stream",
     "text": [
      "Connection Handler Called\n",
      "Connection 60b0df3b-b1e7-4c1a-8d77-82c18cd9a9eb in State invitation\n",
      "\n",
      "♫♫♫ > STEP 1: Send the aries invitation to the data owner\n",
      "\n",
      "{\"@type\": \"did:sov:BzCbsNYhMrjHiqZDTUASHg;spec/connections/1.0/invitation\", \"@id\": \"2b58ba18-b610-41e9-9cd1-40218ce172cf\", \"recipientKeys\": [\"7R6SvZLAfV8qKGMQ2CrcNYXjGRexcnaKfaVwbu82gteN\"], \"serviceEndpoint\": \"http://172.17.0.1:8040\", \"label\": \"Health Researcher\"}\n",
      "\n",
      "Connection Handler Called\n",
      "Connection 60b0df3b-b1e7-4c1a-8d77-82c18cd9a9eb in State request\n",
      "Accepting request  60b0df3b-b1e7-4c1a-8d77-82c18cd9a9eb\n",
      "Connection Handler Called\n",
      "Connection 60b0df3b-b1e7-4c1a-8d77-82c18cd9a9eb in State response\n",
      "Sending trust ping 60b0df3b-b1e7-4c1a-8d77-82c18cd9a9eb\n",
      "Connection Handler Called\n",
      "Connection 60b0df3b-b1e7-4c1a-8d77-82c18cd9a9eb in State active\n",
      "Pending dataowner connection moved to active. Challenging with auth policy if set\n",
      "Handle present proof\n",
      "Role verifier, Exchange 50034b39-08cc-456e-8199-5505e9fcdfe9 in state request_sent\n",
      "Handle present proof\n",
      "Role prover, Exchange 7101597d-6127-4703-b198-f2c31b54c32c in state request_received\n",
      "Received Authentication Challenge\n",
      "Credentials [{'cred_info': {'referent': 'Research Authority f6fb44c2-63a6-429c-8ab7-8660a5e200f6', 'attrs': {'scope': 'diabetes'}, 'schema_id': 'FWyJ74b38bCF1QbYF7tWMM:2:Authorised Research:0.0.1', 'cred_def_id': 'SmgsCf6nbR8JgP2Kyx2nP3:3:CL:181335:default', 'rev_reg_id': None, 'cred_rev_id': None}, 'interval': None, 'presentation_referents': ['0_scope_uuid']}]\n",
      "Revealed Credential\n",
      "\n",
      "Generate the proof\n",
      "{'requested_predicates': {}, 'requested_attributes': {'0_scope_uuid': {'cred_id': 'Research Authority f6fb44c2-63a6-429c-8ab7-8660a5e200f6', 'revealed': True}}, 'self_attested_attributes': {}}\n",
      "\n",
      "XXX\n",
      "{}\n",
      "{'0_scope_uuid': {'cred_id': 'Research Authority f6fb44c2-63a6-429c-8ab7-8660a5e200f6', 'revealed': True}}\n",
      "{}\n",
      "Handle present proof\n",
      "Role verifier, Exchange 50034b39-08cc-456e-8199-5505e9fcdfe9 in state presentation_received\n",
      "Verifying DataOwner Presentation\n",
      "Handle present proof\n",
      "Role prover, Exchange 7101597d-6127-4703-b198-f2c31b54c32c in state presentation_sent\n",
      "Handle present proof\n",
      "Role verifier, Exchange 50034b39-08cc-456e-8199-5505e9fcdfe9 in state verified\n",
      "New Data Owner Connection Trusted:  60b0df3b-b1e7-4c1a-8d77-82c18cd9a9eb\n",
      "Handle present proof\n",
      "Role prover, Exchange 7101597d-6127-4703-b198-f2c31b54c32c in state presentation_acked\n"
     ]
    }
   ],
   "source": [
    "researcher.new_dataowner_invite()"
   ]
  },
  {
   "cell_type": "markdown",
   "id": "nuclear-copyright",
   "metadata": {},
   "source": [
    "## Send Invite to Hospital 2"
   ]
  },
  {
   "cell_type": "code",
   "execution_count": 13,
   "id": "designing-flesh",
   "metadata": {},
   "outputs": [
    {
     "name": "stdout",
     "output_type": "stream",
     "text": [
      "Connection Handler Called\n",
      "Connection 2fdd0e61-0b94-428d-bff7-f18f5dac8230 in State invitation\n",
      "\n",
      "♫♫♫ > STEP 1: Send the aries invitation to the data owner\n",
      "\n",
      "{\"@type\": \"did:sov:BzCbsNYhMrjHiqZDTUASHg;spec/connections/1.0/invitation\", \"@id\": \"af4ca1f7-7070-42cc-943d-e7af24bef5c4\", \"label\": \"Health Researcher\", \"recipientKeys\": [\"DLbK5vsixEqenNevKHRxgK3jMZHApHHQZ12ix5FsM15Y\"], \"serviceEndpoint\": \"http://172.17.0.1:8040\"}\n",
      "\n",
      "Connection Handler Called\n",
      "Connection 2fdd0e61-0b94-428d-bff7-f18f5dac8230 in State request\n",
      "Accepting request  2fdd0e61-0b94-428d-bff7-f18f5dac8230\n",
      "Connection Handler Called\n",
      "Connection 2fdd0e61-0b94-428d-bff7-f18f5dac8230 in State response\n",
      "Sending trust ping 2fdd0e61-0b94-428d-bff7-f18f5dac8230\n",
      "Connection Handler Called\n",
      "Connection 2fdd0e61-0b94-428d-bff7-f18f5dac8230 in State active\n",
      "Pending dataowner connection moved to active. Challenging with auth policy if set\n",
      "Handle present proof\n",
      "Role verifier, Exchange 464cb34f-1daa-4107-a9d2-9ed7af092919 in state request_sent\n",
      "Handle present proof\n",
      "Role prover, Exchange 0d6b9831-919d-4c7a-a727-5a69ca788d20 in state request_received\n",
      "Received Authentication Challenge\n",
      "Credentials [{'cred_info': {'referent': 'Research Authority bf99cdf0-f5f7-46e3-b77a-19cb1f199cf1', 'attrs': {'scope': 'diabetes'}, 'schema_id': 'FWyJ74b38bCF1QbYF7tWMM:2:Authorised Research:0.0.1', 'cred_def_id': 'MZ56axFJHPfP8aJBbW2pRJ:3:CL:181335:default', 'rev_reg_id': None, 'cred_rev_id': None}, 'interval': None, 'presentation_referents': ['0_scope_uuid']}]\n",
      "Revealed Credential\n",
      "\n",
      "Generate the proof\n",
      "{'requested_predicates': {}, 'requested_attributes': {'0_scope_uuid': {'cred_id': 'Research Authority bf99cdf0-f5f7-46e3-b77a-19cb1f199cf1', 'revealed': True}}, 'self_attested_attributes': {}}\n",
      "\n",
      "XXX\n",
      "{}\n",
      "{'0_scope_uuid': {'cred_id': 'Research Authority bf99cdf0-f5f7-46e3-b77a-19cb1f199cf1', 'revealed': True}}\n",
      "{}\n",
      "Handle present proof\n",
      "Role prover, Exchange 0d6b9831-919d-4c7a-a727-5a69ca788d20 in state presentation_sent\n",
      "Handle present proof\n",
      "Role verifier, Exchange 464cb34f-1daa-4107-a9d2-9ed7af092919 in state presentation_received\n",
      "Verifying DataOwner Presentation\n",
      "Handle present proof\n",
      "Role verifier, Exchange 464cb34f-1daa-4107-a9d2-9ed7af092919 in state verified\n",
      "New Data Owner Connection Trusted:  2fdd0e61-0b94-428d-bff7-f18f5dac8230\n",
      "Handle present proof\n",
      "Role prover, Exchange 0d6b9831-919d-4c7a-a727-5a69ca788d20 in state presentation_acked\n"
     ]
    }
   ],
   "source": [
    "researcher.new_dataowner_invite()"
   ]
  },
  {
   "cell_type": "markdown",
   "id": "continent-stuff",
   "metadata": {},
   "source": [
    "## Send Invite to Hospital 3"
   ]
  },
  {
   "cell_type": "code",
   "execution_count": null,
   "id": "stainless-valley",
   "metadata": {},
   "outputs": [],
   "source": [
    "researcher.new_dataowner_invite()"
   ]
  },
  {
   "cell_type": "markdown",
   "id": "seeing-sterling",
   "metadata": {},
   "source": [
    "## Initiate Learning\n",
    "\n",
    "PPML Learning messages are sent over DIDComm using the basic message protocol. You will be able to see the encrypted message in the terminal you initialised this project."
   ]
  },
  {
   "cell_type": "code",
   "execution_count": 11,
   "id": "furnished-bible",
   "metadata": {},
   "outputs": [
    {
     "name": "stdout",
     "output_type": "stream",
     "text": [
      "MODEL OPENED FOR TRANSPORT\n",
      "Training model with 1 DataOwners\n",
      "HOSPITAL MODEL LOADED\n",
      "\n",
      "PRINTING PARAMETERS:\n",
      "\n",
      "\n",
      "Sequential(\n",
      "  (0): Linear(in_features=8, out_features=4, bias=True)\n",
      "  (1): Sigmoid()\n",
      "  (2): Linear(in_features=4, out_features=2, bias=True)\n",
      "  (3): Sigmoid()\n",
      "  (4): Linear(in_features=2, out_features=1, bias=True)\n",
      "  (5): Sigmoid()\n",
      ")\n",
      "\n",
      "\n",
      "0.weight tensor([[-0.2710, -0.9557,  0.2309, -1.9110, -0.9440, -0.4835,  1.8869,  3.2344],\n",
      "        [-0.7837, -0.9277,  1.5270, -2.2951, -0.0703,  2.0951, -0.2947,  0.4189],\n",
      "        [ 0.3087,  0.1126, -0.6512,  0.4391, -0.7844, -0.3249, -0.5029,  3.2722],\n",
      "        [-2.2386,  1.0693, -1.0953, -1.6919, -0.6925,  0.4706,  0.1246,  0.6962]])\n",
      "0.bias tensor([-1.0267, -0.2995, -2.2666,  1.8172])\n",
      "2.weight tensor([[ 1.7648,  1.0091,  1.9958, -2.0196],\n",
      "        [-2.6523, -2.2176, -2.9162,  4.3020]])\n",
      "2.bias tensor([-1.2612,  2.2130])\n",
      "4.weight tensor([[ 4.0461, -6.9314]])\n",
      "4.bias tensor([0.5980])\n",
      "\n",
      "\n",
      "\n",
      "HOSPITAL IS VALIDATING\n",
      "Model loss on validation set:  tensor(-0.7815, grad_fn=<SumBackward0>)\n",
      "Confusion Matrix:\n",
      "                Actual_True, Actual_False \n",
      " Predicted_True     114    |      33     \n",
      " Predicted_False    30      |       81     \n",
      "\n",
      "[{'connection_id': '60b0df3b-b1e7-4c1a-8d77-82c18cd9a9eb', 'model_file': 'part_trained_60b0df3b-b1e7-4c1a-8d77-82c18cd9a9eb.pt'}]\n",
      "LEARNING COMPLETE\n"
     ]
    }
   ],
   "source": [
    "researcher.initiate_learning()"
   ]
  },
  {
   "cell_type": "code",
   "execution_count": null,
   "id": "fifteen-pharmacy",
   "metadata": {},
   "outputs": [],
   "source": []
  },
  {
   "cell_type": "code",
   "execution_count": null,
   "id": "gentle-empire",
   "metadata": {},
   "outputs": [],
   "source": []
  },
  {
   "cell_type": "code",
   "execution_count": null,
   "id": "embedded-walker",
   "metadata": {},
   "outputs": [],
   "source": []
  }
 ],
 "metadata": {
  "kernelspec": {
   "display_name": "Python 3",
   "language": "python",
   "name": "python3"
  },
  "language_info": {
   "codemirror_mode": {
    "name": "ipython",
    "version": 3
   },
   "file_extension": ".py",
   "mimetype": "text/x-python",
   "name": "python",
   "nbconvert_exporter": "python",
   "pygments_lexer": "ipython3",
   "version": "3.7.6"
  }
 },
 "nbformat": 4,
 "nbformat_minor": 5
}

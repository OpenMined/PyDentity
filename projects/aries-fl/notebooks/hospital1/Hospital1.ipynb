{
 "cells": [
  {
   "cell_type": "markdown",
   "id": "sustained-commonwealth",
   "metadata": {},
   "source": [
    "# Hospital 1\n",
    "\n",
    "See hospital.py for full code"
   ]
  },
  {
   "cell_type": "code",
   "execution_count": 1,
   "id": "breathing-excess",
   "metadata": {},
   "outputs": [],
   "source": [
    "from hospital.hospital import Hospital\n",
    "import nest_asyncio\n",
    "\n",
    "nest_asyncio.apply()"
   ]
  },
  {
   "cell_type": "code",
   "execution_count": 2,
   "id": "expensive-support",
   "metadata": {},
   "outputs": [],
   "source": [
    "data_location = 'data/hospital1.csv'"
   ]
  },
  {
   "cell_type": "code",
   "execution_count": 3,
   "id": "quick-orchestra",
   "metadata": {},
   "outputs": [],
   "source": [
    "WEBHOOK_HOST = \"0.0.0.0\"\n",
    "WEBHOOK_PORT = 8052\n",
    "WEBHOOK_BASE = \"\"\n",
    "ADMIN_URL = \"http://hospital1-agent:8051\"\n",
    "\n",
    "agent_config = {\n",
    "    \"webhook_host\": WEBHOOK_HOST,\n",
    "    \"webhook_port\": WEBHOOK_PORT,\n",
    "    \"webhook_base\": WEBHOOK_BASE,\n",
    "    \"admin_url\": ADMIN_URL\n",
    "}"
   ]
  },
  {
   "cell_type": "code",
   "execution_count": 4,
   "id": "jewish-preservation",
   "metadata": {},
   "outputs": [
    {
     "name": "stdout",
     "output_type": "stream",
     "text": [
      "Data Processed\n"
     ]
    }
   ],
   "source": [
    "hospital1 = Hospital(agent_config, data_location)"
   ]
  },
  {
   "cell_type": "markdown",
   "id": "distant-hungary",
   "metadata": {},
   "source": [
    "## Get Hospital Credential\n",
    "\n",
    "Copy connection invite from the NHS trust to receive the hospital credential. [NHS Trust Notebooks are here](http://localhost:8888/tree)"
   ]
  },
  {
   "cell_type": "code",
   "execution_count": 5,
   "id": "italic-priest",
   "metadata": {},
   "outputs": [],
   "source": [
    "nhs_invite = {'@type': 'did:sov:BzCbsNYhMrjHiqZDTUASHg;spec/connections/1.0/invitation', '@id': '3ff04d9b-cb75-43a1-a133-6738af07f3a1', 'recipientKeys': ['EqCBuGidH8CiUC7k8myRJLPqGuDNL7YNm8ogVsXyokH9'], 'serviceEndpoint': 'http://172.17.0.1:8020', 'label': 'NHS Lothian'}"
   ]
  },
  {
   "cell_type": "code",
   "execution_count": 6,
   "id": "aggressive-approval",
   "metadata": {},
   "outputs": [
    {
     "name": "stdout",
     "output_type": "stream",
     "text": [
      "Connection Handler Called\n",
      "Connection ff9d9a62-c810-4d97-9c19-e67c37e9eb42 in State invitation\n",
      "Connection Handler Called\n",
      "Connection ff9d9a62-c810-4d97-9c19-e67c37e9eb42 in State request\n",
      "{'their_label': 'NHS Lothian', 'connection_id': 'ff9d9a62-c810-4d97-9c19-e67c37e9eb42', 'invitation_key': 'EqCBuGidH8CiUC7k8myRJLPqGuDNL7YNm8ogVsXyokH9', 'created_at': '2021-03-01 19:56:59.636613Z', 'routing_state': 'none', 'accept': 'manual', 'updated_at': '2021-03-01 19:56:59.651251Z', 'invitation_mode': 'once', 'initiator': 'external', 'my_did': 'Swk3htbqAr4Z89ooddcihy', 'request_id': 'e251502b-bea9-424a-8d13-143a94ee2ac2', 'state': 'request'}\n",
      "Connection Handler Called\n",
      "Connection ff9d9a62-c810-4d97-9c19-e67c37e9eb42 in State response\n",
      "Connection Handler Called\n",
      "Connection ff9d9a62-c810-4d97-9c19-e67c37e9eb42 in State active\n",
      "Handle Credentials\n",
      "Credential exchange 3356a85a-5bae-40e2-a6f3-cde5acd8388e, role: holder, state: offer_received\n",
      "Offering: [{'name': 'name', 'value': 'Royal Infirmary of Edinburgh'}]\n",
      "Requesting credential\n",
      "Handle Credentials\n",
      "Credential exchange 3356a85a-5bae-40e2-a6f3-cde5acd8388e, role: holder, state: request_sent\n",
      "Handle Credentials\n",
      "Credential exchange 3356a85a-5bae-40e2-a6f3-cde5acd8388e, role: holder, state: credential_received\n",
      "Storing Credential\n",
      "Handle Credentials\n",
      "Credential exchange 3356a85a-5bae-40e2-a6f3-cde5acd8388e, role: holder, state: credential_acked\n"
     ]
    }
   ],
   "source": [
    "response =await  hospital1.agent_controller.connections.accept_connection(nhs_invite)\n",
    "print(response)"
   ]
  },
  {
   "cell_type": "markdown",
   "id": "underlying-patrick",
   "metadata": {},
   "source": [
    "## Optional: Configure Research Authentication Policy\n",
    "\n",
    "This is a proof request that the hospital will automatically challenge the researcher for"
   ]
  },
  {
   "cell_type": "code",
   "execution_count": 7,
   "id": "alleged-trinity",
   "metadata": {},
   "outputs": [],
   "source": [
    "schema_id = \"FWyJ74b38bCF1QbYF7tWMM:2:Authorised Research:0.0.1\"\n",
    "# cred_def = \"WfntKNFwXMQfgmU9ofbxPM:3:CL:156569:default\"\n",
    "\n",
    "revocation = False\n",
    "exchange_tracing = False\n",
    "\n",
    "#Enable this to ask for attributes to identity a user\n",
    "#TODO - change restriction to schemaId or credentialId\n",
    "\n",
    "req_attrs = [\n",
    "    {\"name\": \"scope\", \"restrictions\": [{\"schema_id\": schema_id}]},#, \"cred_def_id\": cred_def}]},\n",
    "]\n",
    "\n",
    "global indy_proof_request\n",
    "indy_proof_request = {\n",
    "    \"name\": \"Proof of Hospital\",\n",
    "    \"version\": \"1.0\",\n",
    "    \"requested_attributes\": {\n",
    "        f\"0_{req_attr['name']}_uuid\":\n",
    "        req_attr for req_attr in req_attrs\n",
    "    },\n",
    "    \"requested_predicates\": {\n",
    "#         f\"0_{req_pred['name']}_GE_uuid\":\n",
    "#         req_pred for req_pred in req_preds\n",
    "    },\n",
    "}\n",
    "\n"
   ]
  },
  {
   "cell_type": "code",
   "execution_count": 8,
   "id": "satisfactory-wireless",
   "metadata": {},
   "outputs": [],
   "source": [
    "hospital1.set_authentication_policy(indy_proof_request)"
   ]
  },
  {
   "cell_type": "markdown",
   "id": "ethical-truth",
   "metadata": {},
   "source": [
    "## Copy from Researcher"
   ]
  },
  {
   "cell_type": "code",
   "execution_count": 9,
   "id": "peaceful-ground",
   "metadata": {},
   "outputs": [],
   "source": [
    "research_invite = {\"@type\": \"did:sov:BzCbsNYhMrjHiqZDTUASHg;spec/connections/1.0/invitation\", \"@id\": \"2b58ba18-b610-41e9-9cd1-40218ce172cf\", \"recipientKeys\": [\"7R6SvZLAfV8qKGMQ2CrcNYXjGRexcnaKfaVwbu82gteN\"], \"serviceEndpoint\": \"http://172.17.0.1:8040\", \"label\": \"Health Researcher\"}"
   ]
  },
  {
   "cell_type": "code",
   "execution_count": 10,
   "id": "institutional-count",
   "metadata": {},
   "outputs": [
    {
     "name": "stdout",
     "output_type": "stream",
     "text": [
      "Connection Handler Called\n",
      "Connection 77b3879e-95a8-4e01-aa6f-48de2323ac5b in State invitation\n",
      "Connection Handler Called\n",
      "Connection 77b3879e-95a8-4e01-aa6f-48de2323ac5b in State request\n",
      "Establishing connection\n",
      "Connection Handler Called\n",
      "Connection 77b3879e-95a8-4e01-aa6f-48de2323ac5b in State response\n",
      "Connection Handler Called\n",
      "Connection 77b3879e-95a8-4e01-aa6f-48de2323ac5b in State active\n",
      "Pending connection moved to active. Challenging with auth policy if set\n",
      "Handle present proof\n",
      "Role verifier, Exchange 3bbd252c-b037-4004-9b35-06fc90e75efa in state request_sent\n",
      "Handle present proof\n",
      "Role prover, Exchange 02f35528-27da-4445-8b56-49cdeafa5150 in state request_received\n",
      "Received Authentication Challenge\n",
      "Credentials [{'cred_info': {'referent': 'NHS Hosptial 3356a85a-5bae-40e2-a6f3-cde5acd8388e', 'attrs': {'name': 'Royal Infirmary of Edinburgh'}, 'schema_id': 'BvRKFu1fdzGdJzQcKb8e8p:2:NHS Hosptial:0.0.1', 'cred_def_id': 'Wq8TkENC391Au6tE5Yb5SD:3:CL:156569:default', 'rev_reg_id': None, 'cred_rev_id': None}, 'interval': None, 'presentation_referents': ['0_name_uuid']}]\n",
      "Revealed Credential {'cred_info': {'referent': 'NHS Hosptial 3356a85a-5bae-40e2-a6f3-cde5acd8388e', 'attrs': {'name': 'Royal Infirmary of Edinburgh'}, 'schema_id': 'BvRKFu1fdzGdJzQcKb8e8p:2:NHS Hosptial:0.0.1', 'cred_def_id': 'Wq8TkENC391Au6tE5Yb5SD:3:CL:156569:default', 'rev_reg_id': None, 'cred_rev_id': None}, 'interval': None, 'presentation_referents': ['0_name_uuid']}\n",
      "\n",
      "Generate the proof\n",
      "{'requested_predicates': {}, 'requested_attributes': {'0_name_uuid': {'cred_id': 'NHS Hosptial 3356a85a-5bae-40e2-a6f3-cde5acd8388e', 'revealed': True}}, 'self_attested_attributes': {}}\n",
      "\n",
      "XXX\n",
      "{}\n",
      "{'0_name_uuid': {'cred_id': 'NHS Hosptial 3356a85a-5bae-40e2-a6f3-cde5acd8388e', 'revealed': True}}\n",
      "{}\n",
      "Handle present proof\n",
      "Role prover, Exchange 02f35528-27da-4445-8b56-49cdeafa5150 in state presentation_sent\n",
      "Handle present proof\n",
      "Role verifier, Exchange 3bbd252c-b037-4004-9b35-06fc90e75efa in state presentation_received\n",
      "Verifying DataOwner Presentation\n",
      "Handle present proof\n",
      "Role prover, Exchange 02f35528-27da-4445-8b56-49cdeafa5150 in state presentation_acked\n",
      "Handle present proof\n",
      "Role verifier, Exchange 3bbd252c-b037-4004-9b35-06fc90e75efa in state verified\n",
      "Trusted Research Connection Established - 77b3879e-95a8-4e01-aa6f-48de2323ac5b\n",
      "ML Message from 77b3879e-95a8-4e01-aa6f-48de2323ac5b\n",
      "Open file\n",
      "learning\n",
      "untrained_model.pt\n",
      "HOSPITAL MODEL LOADED\n",
      "HOSPITAL IS TRAINING\n",
      "loss at epoch  0 :  tensor(0.2786)\n"
     ]
    },
    {
     "name": "stderr",
     "output_type": "stream",
     "text": [
      "/opt/conda/lib/python3.7/site-packages/torch/autograd/__init__.py:132: UserWarning: CUDA initialization: Found no NVIDIA driver on your system. Please check that you have an NVIDIA GPU and installed a driver from http://www.nvidia.com/Download/index.aspx (Triggered internally at  /pytorch/c10/cuda/CUDAFunctions.cpp:100.)\n",
      "  allow_unreachable=True)  # allow_unreachable flag\n"
     ]
    },
    {
     "name": "stdout",
     "output_type": "stream",
     "text": [
      "loss at epoch  5000 :  tensor(0.1330)\n",
      "loss at epoch  10000 :  tensor(0.1153)\n",
      "loss at epoch  15000 :  tensor(0.1106)\n",
      "loss at epoch  20000 :  tensor(0.1071)\n",
      "loss at epoch  25000 :  tensor(0.1013)\n",
      "loss at epoch  30000 :  tensor(0.0982)\n",
      "loss at epoch  35000 :  tensor(0.0967)\n",
      "loss at epoch  40000 :  tensor(0.0958)\n",
      "loss at epoch  45000 :  tensor(0.0951)\n",
      "Learnt \n",
      "Trained file open\n",
      "connection ID 77b3879e-95a8-4e01-aa6f-48de2323ac5b\n"
     ]
    }
   ],
   "source": [
    "hospital1.establish_research_connection(research_invite)"
   ]
  },
  {
   "cell_type": "code",
   "execution_count": null,
   "id": "brazilian-singapore",
   "metadata": {},
   "outputs": [],
   "source": []
  }
 ],
 "metadata": {
  "kernelspec": {
   "display_name": "Python 3",
   "language": "python",
   "name": "python3"
  },
  "language_info": {
   "codemirror_mode": {
    "name": "ipython",
    "version": 3
   },
   "file_extension": ".py",
   "mimetype": "text/x-python",
   "name": "python",
   "nbconvert_exporter": "python",
   "pygments_lexer": "ipython3",
   "version": "3.7.6"
  }
 },
 "nbformat": 4,
 "nbformat_minor": 5
}

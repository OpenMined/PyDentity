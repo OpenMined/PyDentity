{
 "cells": [
  {
   "cell_type": "markdown",
   "metadata": {},
   "source": [
    "# Issue Hospital Credentials\n",
    "## Role: NHS Trust\n",
    "\n",
    "In order to initialise the system into the correct configuration, the NHS Trust (this notebook), must connect with each of the three hospitals and issue them with a credential that attests to them being a Hospital under the trusts authority.\n",
    "\n",
    "One the hospitals have these credentials, they can use them as many times as they wish."
   ]
  },
  {
   "cell_type": "markdown",
   "metadata": {},
   "source": [
    "## 1. Initialise a Controller for the NHS Trust Agent"
   ]
  },
  {
   "cell_type": "code",
   "execution_count": 1,
   "metadata": {},
   "outputs": [
    {
     "name": "stdout",
     "output_type": "stream",
     "text": [
      "IPython autoawait is `on`, and set to use `asyncio`\n"
     ]
    }
   ],
   "source": [
    "%autoawait\n",
    "import time\n",
    "import asyncio\n",
    "from aries_basic_controller.aries_controller import AriesAgentController\n",
    "    \n",
    "WEBHOOK_HOST = \"0.0.0.0\"\n",
    "WEBHOOK_BASE = \"\"\n",
    "\n",
    "WEBHOOK_PORT = 8022\n",
    "ADMIN_URL = \"http://nhstrust-agent:8021\"\n",
    "\n",
    "# Based on the aca-py agent you wish to control\n",
    "agent_controller = AriesAgentController(webhook_host=WEBHOOK_HOST, webhook_port=WEBHOOK_PORT,\n",
    "                                       webhook_base=WEBHOOK_BASE, admin_url=ADMIN_URL)"
   ]
  },
  {
   "cell_type": "markdown",
   "metadata": {},
   "source": [
    "## 2. Generate a new DID\n",
    "\n",
    "Before being able to write a DID to the ledger, you must create one using the wallet api. This api returns the identifier (the DID), and the verification key for that DID. A representation of it's public key. "
   ]
  },
  {
   "cell_type": "code",
   "execution_count": 2,
   "metadata": {},
   "outputs": [
    {
     "name": "stdout",
     "output_type": "stream",
     "text": [
      "New DID {'did': 'Wq8TkENC391Au6tE5Yb5SD', 'verkey': 'HFyn53zfyWbcdcfCDkWqRrQ37zVUHjKu6Yh1x3nsLkfb', 'posture': 'wallet_only'}\n"
     ]
    }
   ],
   "source": [
    "# generate new DID\n",
    "response = await agent_controller.wallet.create_did()\n",
    "\n",
    "did_object = response['result']\n",
    "print(\"New DID\", did_object)"
   ]
  },
  {
   "cell_type": "markdown",
   "metadata": {},
   "source": [
    "## 3. Write DID to Sovrin Stagingnet\n",
    "\n",
    "Anoyone can write a DID to the Sovrin StagingNet, it is a permissionless ledger. \n",
    "\n",
    "Visit [Sovrin Selfserve Portal](https://selfserve.sovrin.org) for more information. We have provided an automated process to write DIDs to Stagingnet in the step below."
   ]
  },
  {
   "cell_type": "code",
   "execution_count": 3,
   "metadata": {},
   "outputs": [
    {
     "name": "stdout",
     "output_type": "stream",
     "text": [
      "{'statusCode': 200, 'headers': {'Access-Control-Allow-Origin': '*'}, 'body': '{\"statusCode\": 200, \"Wq8TkENC391Au6tE5Yb5SD\": {\"status\": \"Success\", \"statusCode\": 200, \"reason\": \"Successfully wrote NYM identified by Wq8TkENC391Au6tE5Yb5SD to the ledger with role ENDORSER\"}}'}\n",
      "200\n"
     ]
    }
   ],
   "source": [
    "# write new DID to Sovrin Stagingnet\n",
    "import requests\n",
    "import json \n",
    "\n",
    "url = 'https://selfserve.sovrin.org/nym'\n",
    "\n",
    "payload = {\"network\":\"stagingnet\",\"did\": did_object[\"did\"],\"verkey\":did_object[\"verkey\"],\"paymentaddr\":\"\"}\n",
    "\n",
    "# Adding empty header as parameters are being sent in payload\n",
    "headers = {}\n",
    "\n",
    "r = requests.post(url, data=json.dumps(payload), headers=headers)\n",
    "print(r.json())\n",
    "print(r.status_code)"
   ]
  },
  {
   "cell_type": "markdown",
   "metadata": {},
   "source": [
    "## 4. Accept the Transaction Author Agreement"
   ]
  },
  {
   "cell_type": "code",
   "execution_count": 4,
   "metadata": {},
   "outputs": [
    {
     "name": "stdout",
     "output_type": "stream",
     "text": [
      "{}\n"
     ]
    }
   ],
   "source": [
    "response = await agent_controller.ledger.get_taa()\n",
    "TAA_text = response['result']['taa_record']['text']\n",
    "TAA_version = response['result']['taa_record']['version']\n",
    "TAA_digest = response['result']['taa_record']['digest']\n",
    "\n",
    "\n",
    "taa_record = {\n",
    "            \"version\": TAA_version,\n",
    "            \"mechanism\": \"service_agreement\",\n",
    "            'text': TAA_text\n",
    "}\n",
    "\n",
    "response = await agent_controller.ledger.accept_taa(taa_record)\n",
    "## Will return {} if successful\n",
    "print(response)"
   ]
  },
  {
   "cell_type": "markdown",
   "metadata": {},
   "source": [
    "## 5. Assign Public DID"
   ]
  },
  {
   "cell_type": "code",
   "execution_count": 5,
   "metadata": {},
   "outputs": [
    {
     "name": "stdout",
     "output_type": "stream",
     "text": [
      "{'result': {'did': 'Wq8TkENC391Au6tE5Yb5SD', 'verkey': 'HFyn53zfyWbcdcfCDkWqRrQ37zVUHjKu6Yh1x3nsLkfb', 'posture': 'public'}}\n"
     ]
    }
   ],
   "source": [
    "response = await agent_controller.wallet.assign_public_did(did_object[\"did\"])\n",
    "print(response)"
   ]
  },
  {
   "cell_type": "code",
   "execution_count": 6,
   "metadata": {},
   "outputs": [],
   "source": [
    "\n",
    "# Or feel free to define your own schema\n",
    "\n",
    "# Define you schema name - must be unique on the ledger\n",
    "# schema_name = \"NHS Hosptial\"\n",
    "# # Can version the schema if you wish to update it\n",
    "# schema_version = \"0.0.1\"\n",
    "# # Define any list of attributes you wish to include in your schema\n",
    "# attributes = [\"name\"]\n",
    "\n",
    "# response = await agent_controller.schema.write_schema(schema_name, attributes, schema_version)\n",
    "# schema_id = response[\"schema_id\"]\n",
    "# print(schema_id)"
   ]
  },
  {
   "cell_type": "markdown",
   "metadata": {},
   "source": [
    "## 6. Write Credential Definition for NHS Hosptial Schema\n",
    "\n",
    "The schema has already been written to the ledger here"
   ]
  },
  {
   "cell_type": "code",
   "execution_count": 7,
   "metadata": {},
   "outputs": [],
   "source": [
    "schema_id = \"BvRKFu1fdzGdJzQcKb8e8p:2:NHS Hosptial:0.0.1\"\n",
    "response = await agent_controller.definitions.write_cred_def(schema_id)"
   ]
  },
  {
   "cell_type": "markdown",
   "metadata": {},
   "source": [
    "## 7. Store Definition and Schema ID"
   ]
  },
  {
   "cell_type": "code",
   "execution_count": 8,
   "metadata": {},
   "outputs": [
    {
     "name": "stdout",
     "output_type": "stream",
     "text": [
      "Wq8TkENC391Au6tE5Yb5SD:3:CL:156569:default\n",
      "Stored 'cred_def_id' (str)\n",
      "Stored 'schema_id' (str)\n"
     ]
    }
   ],
   "source": [
    "cred_def_id = response[\"credential_definition_id\"]\n",
    "print(cred_def_id)\n",
    "%store cred_def_id\n",
    "%store schema_id"
   ]
  },
  {
   "cell_type": "code",
   "execution_count": null,
   "metadata": {},
   "outputs": [],
   "source": []
  },
  {
   "cell_type": "markdown",
   "metadata": {},
   "source": [
    "## 8. Terminate the controller\n"
   ]
  },
  {
   "cell_type": "code",
   "execution_count": 9,
   "metadata": {},
   "outputs": [],
   "source": [
    "await agent_controller.terminate()"
   ]
  },
  {
   "cell_type": "markdown",
   "metadata": {},
   "source": [
    "## NHS Trust Inititialised\n",
    "\n",
    "Continue to [Part 3 - Issue Hospital Credentials](http://localhost:8888/notebooks/Part%203%20-%20Issue%20Hospital%20Credentials.ipynb)\n"
   ]
  },
  {
   "cell_type": "code",
   "execution_count": null,
   "metadata": {},
   "outputs": [],
   "source": []
  },
  {
   "cell_type": "code",
   "execution_count": null,
   "metadata": {},
   "outputs": [],
   "source": []
  }
 ],
 "metadata": {
  "kernelspec": {
   "display_name": "Python 3",
   "language": "python",
   "name": "python3"
  },
  "language_info": {
   "codemirror_mode": {
    "name": "ipython",
    "version": 3
   },
   "file_extension": ".py",
   "mimetype": "text/x-python",
   "name": "python",
   "nbconvert_exporter": "python",
   "pygments_lexer": "ipython3",
   "version": "3.7.6"
  }
 },
 "nbformat": 4,
 "nbformat_minor": 4
}

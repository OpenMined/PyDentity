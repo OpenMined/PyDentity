{
 "cells": [
  {
   "cell_type": "markdown",
   "metadata": {},
   "source": [
    "# Issue Hospital Credentials\n",
    "## Role: NHS Trust\n",
    "\n",
    "You should have initialised your NHS Trust agent so that it has the public keys necessary to issue Hospital credentials.\n",
    "\n",
    "In this notebook you will connect with each of the hospital agents and issue them a Verifiable Credential attesting that they are a hospital within your Trust."
   ]
  },
  {
   "cell_type": "code",
   "execution_count": 1,
   "metadata": {},
   "outputs": [
    {
     "name": "stdout",
     "output_type": "stream",
     "text": [
      "IPython autoawait is `on`, and set to use `asyncio`\n"
     ]
    }
   ],
   "source": [
    "%autoawait\n",
    "import time\n",
    "import asyncio\n",
    "from aries_basic_controller.aries_controller import AriesAgentController\n",
    "import nest_asyncio\n",
    "from termcolor import colored, cprint\n",
    "\n",
    "nest_asyncio.apply()\n",
    "WEBHOOK_HOST = \"0.0.0.0\"\n",
    "WEBHOOK_BASE = \"\"\n",
    "\n",
    "WEBHOOK_PORT = 8022\n",
    "ADMIN_URL = \"http://nhstrust-agent:8021\"\n",
    "\n",
    "# Based on the aca-py agent you wish to control\n",
    "agent_controller = AriesAgentController(webhook_host=WEBHOOK_HOST, webhook_port=WEBHOOK_PORT,\n",
    "                                       webhook_base=WEBHOOK_BASE, admin_url=ADMIN_URL)"
   ]
  },
  {
   "cell_type": "markdown",
   "metadata": {},
   "source": [
    "## Fetch Schema and Cred Def ID's"
   ]
  },
  {
   "cell_type": "code",
   "execution_count": 2,
   "metadata": {},
   "outputs": [
    {
     "name": "stdout",
     "output_type": "stream",
     "text": [
      "Wq8TkENC391Au6tE5Yb5SD:3:CL:156569:default\n"
     ]
    }
   ],
   "source": [
    "%store -r cred_def_id\n",
    "%store -r schema_id\n",
    "print(cred_def_id)"
   ]
  },
  {
   "cell_type": "markdown",
   "metadata": {},
   "source": [
    "## Register Listeners"
   ]
  },
  {
   "cell_type": "code",
   "execution_count": 3,
   "metadata": {},
   "outputs": [],
   "source": [
    "loop = asyncio.get_event_loop()\n",
    "loop.create_task(agent_controller.listen_webhooks())\n",
    "\n",
    "def cred_handler(payload):\n",
    "    print(\"Handle Credentials\")\n",
    "    exchange_id = payload['credential_exchange_id']\n",
    "    state = payload['state']\n",
    "    role = payload['role']\n",
    "    attributes = payload['credential_proposal_dict']['credential_proposal']['attributes']\n",
    "    print(f\"Credential exchange {exchange_id}, role: {role}, state: {state}\")\n",
    "    print(f\"Offering: {attributes}\")\n",
    "    \n",
    "cred_listener = {\n",
    "    \"topic\": \"issue_credential\",\n",
    "    \"handler\": cred_handler\n",
    "}\n",
    "\n",
    "def connections_handler(payload):\n",
    "    global STATE\n",
    "    connection_id = payload[\"connection_id\"]\n",
    "    print(\"Connection message\", payload, connection_id)\n",
    "    STATE = payload['state']\n",
    "    loop = asyncio.get_event_loop()\n",
    "    if STATE == 'request':\n",
    "        print(\"ACCEPTING REQUEST\")\n",
    "\n",
    "        loop.run_until_complete(agent_controller.connections.accept_request(connection_id))\n",
    "    elif STATE == 'response':\n",
    "        print(\"SEND PING\")\n",
    "        time.sleep(2)\n",
    "        loop.run_until_complete(agent_controller.messaging.trust_ping(connection_id, \"hey\"))\n",
    "    elif STATE == 'active':\n",
    "#         print('Connection {0} changed state to active'.format(connection_id))\n",
    "        print(colored(\"Connection {0} changed state to active\".format(connection_id), \"red\", attrs=[\"bold\"]))\n",
    "        credential_attributes = [{\"name\": \"name\", \"value\": payload[\"their_label\"]}]\n",
    "        ## Offer credential\n",
    "        time.sleep(1)\n",
    "        loop.run_until_complete(agent_controller.issuer.send_credential(connection_id, schema_id, cred_def_id, credential_attributes, trace=False))\n",
    "\n",
    "connection_listener = {\n",
    "    \"handler\": connections_handler,\n",
    "    \"topic\": \"connections\"\n",
    "}\n",
    "\n",
    "agent_controller.register_listeners([cred_listener,connection_listener], defaults=True)\n"
   ]
  },
  {
   "cell_type": "code",
   "execution_count": 4,
   "metadata": {
    "scrolled": true
   },
   "outputs": [
    {
     "name": "stdout",
     "output_type": "stream",
     "text": [
      "Connection message {'invitation_key': 'EqCBuGidH8CiUC7k8myRJLPqGuDNL7YNm8ogVsXyokH9', 'updated_at': '2021-03-01 19:56:48.067786Z', 'state': 'invitation', 'routing_state': 'none', 'initiator': 'self', 'invitation_mode': 'multi', 'created_at': '2021-03-01 19:56:48.067786Z', 'accept': 'manual', 'connection_id': '3fcef634-b665-46ab-b8b1-9e5ee9c56eb8'} 3fcef634-b665-46ab-b8b1-9e5ee9c56eb8\n",
      "{'@type': 'did:sov:BzCbsNYhMrjHiqZDTUASHg;spec/connections/1.0/invitation', '@id': '3ff04d9b-cb75-43a1-a133-6738af07f3a1', 'recipientKeys': ['EqCBuGidH8CiUC7k8myRJLPqGuDNL7YNm8ogVsXyokH9'], 'serviceEndpoint': 'http://172.17.0.1:8020', 'label': 'NHS Lothian'}\n",
      "Connection message {'invitation_key': 'EqCBuGidH8CiUC7k8myRJLPqGuDNL7YNm8ogVsXyokH9', 'updated_at': '2021-03-01 19:56:59.693721Z', 'state': 'invitation', 'routing_state': 'none', 'initiator': 'multiuse', 'invitation_mode': 'once', 'my_did': 'EyKVar1HXTohuAXxTUqvbR', 'created_at': '2021-03-01 19:56:59.693721Z', 'accept': 'manual', 'connection_id': 'e147397b-43ba-4b65-8ab8-4df4d58251f8'} e147397b-43ba-4b65-8ab8-4df4d58251f8\n",
      "Connection message {'invitation_key': 'EqCBuGidH8CiUC7k8myRJLPqGuDNL7YNm8ogVsXyokH9', 'updated_at': '2021-03-01 19:56:59.703775Z', 'their_did': 'Swk3htbqAr4Z89ooddcihy', 'state': 'request', 'routing_state': 'none', 'their_label': 'Royal Infirmary of Edinburgh', 'initiator': 'multiuse', 'invitation_mode': 'once', 'my_did': 'EyKVar1HXTohuAXxTUqvbR', 'created_at': '2021-03-01 19:56:59.693721Z', 'accept': 'manual', 'connection_id': 'e147397b-43ba-4b65-8ab8-4df4d58251f8'} e147397b-43ba-4b65-8ab8-4df4d58251f8\n",
      "ACCEPTING REQUEST\n",
      "Connection message {'invitation_key': 'EqCBuGidH8CiUC7k8myRJLPqGuDNL7YNm8ogVsXyokH9', 'updated_at': '2021-03-01 19:56:59.723535Z', 'their_did': 'Swk3htbqAr4Z89ooddcihy', 'state': 'response', 'routing_state': 'none', 'their_label': 'Royal Infirmary of Edinburgh', 'initiator': 'multiuse', 'invitation_mode': 'once', 'my_did': 'EyKVar1HXTohuAXxTUqvbR', 'created_at': '2021-03-01 19:56:59.693721Z', 'accept': 'manual', 'connection_id': 'e147397b-43ba-4b65-8ab8-4df4d58251f8'} e147397b-43ba-4b65-8ab8-4df4d58251f8\n",
      "SEND PING\n",
      "Connection message {'invitation_key': 'EqCBuGidH8CiUC7k8myRJLPqGuDNL7YNm8ogVsXyokH9', 'updated_at': '2021-03-01 19:57:01.845432Z', 'their_did': 'Swk3htbqAr4Z89ooddcihy', 'state': 'active', 'routing_state': 'none', 'their_label': 'Royal Infirmary of Edinburgh', 'initiator': 'multiuse', 'invitation_mode': 'once', 'my_did': 'EyKVar1HXTohuAXxTUqvbR', 'created_at': '2021-03-01 19:56:59.693721Z', 'accept': 'manual', 'connection_id': 'e147397b-43ba-4b65-8ab8-4df4d58251f8'} e147397b-43ba-4b65-8ab8-4df4d58251f8\n",
      "\u001b[1m\u001b[31mConnection e147397b-43ba-4b65-8ab8-4df4d58251f8 changed state to active\u001b[0m\n",
      "Handle Credentials\n",
      "Credential exchange 113feb46-4411-49f2-89d7-c7826d9dea45, role: issuer, state: offer_sent\n",
      "Offering: [{'name': 'name', 'value': 'Royal Infirmary of Edinburgh'}]\n",
      "Handle Credentials\n",
      "Credential exchange 113feb46-4411-49f2-89d7-c7826d9dea45, role: issuer, state: request_received\n",
      "Offering: [{'name': 'name', 'value': 'Royal Infirmary of Edinburgh'}]\n",
      "Handle Credentials\n",
      "Credential exchange 113feb46-4411-49f2-89d7-c7826d9dea45, role: issuer, state: credential_issued\n",
      "Offering: [{'name': 'name', 'value': 'Royal Infirmary of Edinburgh'}]\n",
      "Handle Credentials\n",
      "Credential exchange 113feb46-4411-49f2-89d7-c7826d9dea45, role: issuer, state: credential_acked\n",
      "Offering: [{'name': 'name', 'value': 'Royal Infirmary of Edinburgh'}]\n"
     ]
    }
   ],
   "source": [
    "invite = await agent_controller.connections.create_invitation(multi_use=\"true\")\n",
    "print(invite['invitation'])"
   ]
  },
  {
   "cell_type": "code",
   "execution_count": null,
   "metadata": {},
   "outputs": [],
   "source": [
    "await agent_controller.terminate()"
   ]
  },
  {
   "cell_type": "code",
   "execution_count": null,
   "metadata": {},
   "outputs": [],
   "source": []
  }
 ],
 "metadata": {
  "kernelspec": {
   "display_name": "Python 3",
   "language": "python",
   "name": "python3"
  },
  "language_info": {
   "codemirror_mode": {
    "name": "ipython",
    "version": 3
   },
   "file_extension": ".py",
   "mimetype": "text/x-python",
   "name": "python",
   "nbconvert_exporter": "python",
   "pygments_lexer": "ipython3",
   "version": "3.7.6"
  }
 },
 "nbformat": 4,
 "nbformat_minor": 4
}

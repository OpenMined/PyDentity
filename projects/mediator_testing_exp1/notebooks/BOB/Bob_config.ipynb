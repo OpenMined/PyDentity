{
 "cells": [
  {
   "cell_type": "code",
   "execution_count": 1,
   "id": "sustained-recovery",
   "metadata": {},
   "outputs": [
    {
     "name": "stdout",
     "output_type": "stream",
     "text": [
      "IPython autoawait is `on`, and set to use `asyncio`\n"
     ]
    }
   ],
   "source": [
    "%autoawait\n",
    "import time\n",
    "import asyncio\n",
    "import pprint\n",
    "from termcolor import colored,cprint\n",
    "from aries_basic_controller.aries_controller import AriesAgentController\n",
    "\n",
    "# Create a small utility to print json formatted outout more human-readable    \n",
    "pp = pprint.PrettyPrinter(indent=4)\n",
    "\n",
    "WEBHOOK_HOST = \"0.0.0.0\"\n",
    "WEBHOOK_BASE = \"\"\n",
    "\n",
    "WEBHOOK_PORT = 8022\n",
    "ADMIN_URL = \"http://bob-agent:8021\""
   ]
  },
  {
   "cell_type": "code",
   "execution_count": 2,
   "id": "future-witch",
   "metadata": {},
   "outputs": [],
   "source": [
    "# Based on the aca-py agent you wish to control\n",
    "agent_controller = AriesAgentController(webhook_host=WEBHOOK_HOST, webhook_port=WEBHOOK_PORT,\n",
    "                                       webhook_base=WEBHOOK_BASE, admin_url=ADMIN_URL, mediation=True)\n"
   ]
  },
  {
   "cell_type": "markdown",
   "id": "confused-harvard",
   "metadata": {},
   "source": [
    "## Listen for webhooks"
   ]
  },
  {
   "cell_type": "code",
   "execution_count": 3,
   "id": "stretch-dodge",
   "metadata": {},
   "outputs": [],
   "source": [
    "loop = asyncio.get_event_loop()\n",
    "loop.create_task(agent_controller.listen_webhooks())\n",
    "def cred_handler(payload):\n",
    "    print(\"Handle Credentials\")\n",
    "    exchange_id = payload['credential_exchange_id']\n",
    "    state = payload['state']\n",
    "    role = payload['role']\n",
    "    attributes = payload['credential_proposal_dict']['credential_proposal']['attributes']\n",
    "    print(f\"Credential exchange {exchange_id}, role: {role}, state: {state}\")\n",
    "    print(f\"Attributes: {attributes}\")\n",
    "    \n",
    "cred_listener = {\n",
    "    \"topic\": \"issue_credential\",\n",
    "    \"handler\": cred_handler\n",
    "}\n",
    "\n",
    "def connections_handler(payload):\n",
    "    global STATE\n",
    "    connection_id = payload[\"connection_id\"]\n",
    "    print(\"Connection message\", payload, connection_id)\n",
    "    STATE = payload['state']\n",
    "    if STATE == 'active':\n",
    "#         print('Connection {0} changed state to active'.format(connection_id))\n",
    "        print(colored(\"Connection {0} changed state to active\".format(connection_id), \"red\", attrs=[\"bold\"]))\n",
    "\n",
    "\n",
    "connection_listener = {\n",
    "    \"handler\": connections_handler,\n",
    "    \"topic\": \"connections\"\n",
    "}\n",
    "agent_controller.register_listeners([cred_listener, connection_listener], defaults=True)"
   ]
  },
  {
   "cell_type": "code",
   "execution_count": 4,
   "id": "criminal-framework",
   "metadata": {},
   "outputs": [],
   "source": [
    "### Time to create an invitation"
   ]
  },
  {
   "cell_type": "code",
   "execution_count": 5,
   "id": "powerful-tuner",
   "metadata": {},
   "outputs": [
    {
     "name": "stdout",
     "output_type": "stream",
     "text": [
      "Connection message {'their_role': 'invitee', 'state': 'invitation', 'routing_state': 'none', 'created_at': '2021-04-02 11:58:01.161870Z', 'accept': 'auto', 'rfc23_state': 'invitation-sent', 'invitation_mode': 'once', 'updated_at': '2021-04-02 11:58:01.161870Z', 'invitation_key': 'C2u93XSU1xttbZCejAXMeaJkiHM24Gs7uBQkqYdYcJV4', 'connection_id': '07cd6078-1a0a-4d6b-965f-21f77552c1c7'} 07cd6078-1a0a-4d6b-965f-21f77552c1c7\n",
      "Connection message {'their_role': 'invitee', 'state': 'invitation', 'routing_state': 'none', 'created_at': '2021-04-02 11:58:01.161870Z', 'accept': 'auto', 'rfc23_state': 'invitation-sent', 'invitation_mode': 'once', 'updated_at': '2021-04-02 11:58:01.161870Z', 'invitation_key': 'C2u93XSU1xttbZCejAXMeaJkiHM24Gs7uBQkqYdYcJV4', 'connection_id': '07cd6078-1a0a-4d6b-965f-21f77552c1c7'} 07cd6078-1a0a-4d6b-965f-21f77552c1c7\n"
     ]
    }
   ],
   "source": [
    "# Create Invitation\n",
    "unmediated_invite = await agent_controller.connections.create_invitation()"
   ]
  },
  {
   "cell_type": "markdown",
   "id": "miniature-candy",
   "metadata": {},
   "source": [
    "Going to the mediation agent1 to generate and fetch the invitation"
   ]
  },
  {
   "cell_type": "code",
   "execution_count": 7,
   "id": "indian-serial",
   "metadata": {},
   "outputs": [],
   "source": [
    "mediator_invitation ={'@type': 'did:sov:BzCbsNYhMrjHiqZDTUASHg;spec/connections/1.0/invitation', '@id': 'bd674b32-b564-4d4d-ac58-2eb2e5c54b84', 'recipientKeys': ['4tX7b9jKXcMWUtP2B7BjssDYAibB8QhuYPwQ1uwr5g5S'], 'label': 'MEDIATOR1', 'serviceEndpoint': 'https://b211401e2898.ngrok.io'}"
   ]
  },
  {
   "cell_type": "code",
   "execution_count": 8,
   "id": "waiting-better",
   "metadata": {},
   "outputs": [
    {
     "name": "stdout",
     "output_type": "stream",
     "text": [
      "Connection message {'their_role': 'inviter', 'state': 'invitation', 'routing_state': 'none', 'created_at': '2021-04-02 11:58:25.799071Z', 'their_label': 'MEDIATOR1', 'accept': 'manual', 'rfc23_state': 'invitation-received', 'invitation_mode': 'once', 'updated_at': '2021-04-02 11:58:25.799071Z', 'invitation_key': '4tX7b9jKXcMWUtP2B7BjssDYAibB8QhuYPwQ1uwr5g5S', 'connection_id': '31867543-7afe-4d69-9515-b2f6add2616d'} 31867543-7afe-4d69-9515-b2f6add2616d\n",
      "Connection message {'their_role': 'inviter', 'state': 'invitation', 'routing_state': 'none', 'created_at': '2021-04-02 11:58:25.799071Z', 'their_label': 'MEDIATOR1', 'accept': 'manual', 'rfc23_state': 'invitation-received', 'invitation_mode': 'once', 'updated_at': '2021-04-02 11:58:25.799071Z', 'invitation_key': '4tX7b9jKXcMWUtP2B7BjssDYAibB8QhuYPwQ1uwr5g5S', 'connection_id': '31867543-7afe-4d69-9515-b2f6add2616d'} 31867543-7afe-4d69-9515-b2f6add2616d\n",
      "Connection message {'my_did': 'W8GY23CjwmZnxJ2f1wxJFF', 'their_role': 'inviter', 'state': 'request', 'request_id': '2d711d87-48d3-485f-ace7-b2bd1f0ab864', 'routing_state': 'none', 'created_at': '2021-04-02 11:58:25.799071Z', 'their_label': 'MEDIATOR1', 'accept': 'manual', 'rfc23_state': 'request-sent', 'invitation_mode': 'once', 'updated_at': '2021-04-02 11:58:25.815492Z', 'invitation_key': '4tX7b9jKXcMWUtP2B7BjssDYAibB8QhuYPwQ1uwr5g5S', 'connection_id': '31867543-7afe-4d69-9515-b2f6add2616d'} 31867543-7afe-4d69-9515-b2f6add2616d\n",
      "Connection message {'my_did': 'W8GY23CjwmZnxJ2f1wxJFF', 'their_role': 'inviter', 'state': 'request', 'request_id': '2d711d87-48d3-485f-ace7-b2bd1f0ab864', 'routing_state': 'none', 'created_at': '2021-04-02 11:58:25.799071Z', 'their_label': 'MEDIATOR1', 'accept': 'manual', 'rfc23_state': 'request-sent', 'invitation_mode': 'once', 'updated_at': '2021-04-02 11:58:25.815492Z', 'invitation_key': '4tX7b9jKXcMWUtP2B7BjssDYAibB8QhuYPwQ1uwr5g5S', 'connection_id': '31867543-7afe-4d69-9515-b2f6add2616d'} 31867543-7afe-4d69-9515-b2f6add2616d\n",
      "{   'accept': 'manual',\n",
      "    'connection_id': '31867543-7afe-4d69-9515-b2f6add2616d',\n",
      "    'created_at': '2021-04-02 11:58:25.799071Z',\n",
      "    'invitation_key': '4tX7b9jKXcMWUtP2B7BjssDYAibB8QhuYPwQ1uwr5g5S',\n",
      "    'invitation_mode': 'once',\n",
      "    'my_did': 'W8GY23CjwmZnxJ2f1wxJFF',\n",
      "    'request_id': '2d711d87-48d3-485f-ace7-b2bd1f0ab864',\n",
      "    'rfc23_state': 'request-sent',\n",
      "    'routing_state': 'none',\n",
      "    'state': 'request',\n",
      "    'their_label': 'MEDIATOR1',\n",
      "    'their_role': 'inviter',\n",
      "    'updated_at': '2021-04-02 11:58:25.815492Z'}\n",
      "Connection message {'my_did': 'W8GY23CjwmZnxJ2f1wxJFF', 'their_role': 'inviter', 'state': 'response', 'their_did': 'PArPaWr5dkTx4Ad87z8mAj', 'request_id': '2d711d87-48d3-485f-ace7-b2bd1f0ab864', 'routing_state': 'none', 'created_at': '2021-04-02 11:58:25.799071Z', 'their_label': 'MEDIATOR1', 'accept': 'manual', 'rfc23_state': 'response-received', 'invitation_mode': 'once', 'updated_at': '2021-04-02 11:58:26.863039Z', 'invitation_key': '4tX7b9jKXcMWUtP2B7BjssDYAibB8QhuYPwQ1uwr5g5S', 'connection_id': '31867543-7afe-4d69-9515-b2f6add2616d'} 31867543-7afe-4d69-9515-b2f6add2616d\n",
      "Connection message {'my_did': 'W8GY23CjwmZnxJ2f1wxJFF', 'their_role': 'inviter', 'state': 'response', 'their_did': 'PArPaWr5dkTx4Ad87z8mAj', 'request_id': '2d711d87-48d3-485f-ace7-b2bd1f0ab864', 'routing_state': 'none', 'created_at': '2021-04-02 11:58:25.799071Z', 'their_label': 'MEDIATOR1', 'accept': 'manual', 'rfc23_state': 'response-received', 'invitation_mode': 'once', 'updated_at': '2021-04-02 11:58:26.863039Z', 'invitation_key': '4tX7b9jKXcMWUtP2B7BjssDYAibB8QhuYPwQ1uwr5g5S', 'connection_id': '31867543-7afe-4d69-9515-b2f6add2616d'} 31867543-7afe-4d69-9515-b2f6add2616d\n"
     ]
    },
    {
     "name": "stderr",
     "output_type": "stream",
     "text": [
      "WARNING:aries_controller:Handling webhooks failed! NameError(\"name 'colored' is not defined\") occurred when trying to handle this topic: connections\n",
      "WARNING:aries_controller:Handling webhooks failed! NameError(\"name 'colored' is not defined\") occurred when trying to handle this topic: connections\n"
     ]
    },
    {
     "name": "stdout",
     "output_type": "stream",
     "text": [
      "Connection message {'my_did': 'W8GY23CjwmZnxJ2f1wxJFF', 'their_role': 'inviter', 'state': 'active', 'their_did': 'PArPaWr5dkTx4Ad87z8mAj', 'request_id': '2d711d87-48d3-485f-ace7-b2bd1f0ab864', 'routing_state': 'none', 'created_at': '2021-04-02 11:58:25.799071Z', 'their_label': 'MEDIATOR1', 'accept': 'manual', 'rfc23_state': 'completed', 'invitation_mode': 'once', 'updated_at': '2021-04-02 11:58:27.164371Z', 'invitation_key': '4tX7b9jKXcMWUtP2B7BjssDYAibB8QhuYPwQ1uwr5g5S', 'connection_id': '31867543-7afe-4d69-9515-b2f6add2616d'} 31867543-7afe-4d69-9515-b2f6add2616d\n",
      "Connection message {'my_did': 'W8GY23CjwmZnxJ2f1wxJFF', 'their_role': 'inviter', 'state': 'active', 'their_did': 'PArPaWr5dkTx4Ad87z8mAj', 'request_id': '2d711d87-48d3-485f-ace7-b2bd1f0ab864', 'routing_state': 'none', 'created_at': '2021-04-02 11:58:25.799071Z', 'their_label': 'MEDIATOR1', 'accept': 'manual', 'rfc23_state': 'completed', 'invitation_mode': 'once', 'updated_at': '2021-04-02 11:58:27.164371Z', 'invitation_key': '4tX7b9jKXcMWUtP2B7BjssDYAibB8QhuYPwQ1uwr5g5S', 'connection_id': '31867543-7afe-4d69-9515-b2f6add2616d'} 31867543-7afe-4d69-9515-b2f6add2616d\n"
     ]
    }
   ],
   "source": [
    "response = await agent_controller.connections.accept_connection(mediator_invitation)\n",
    "pp.pprint(response)"
   ]
  },
  {
   "cell_type": "code",
   "execution_count": 9,
   "id": "associate-novel",
   "metadata": {},
   "outputs": [
    {
     "name": "stdout",
     "output_type": "stream",
     "text": [
      "31867543-7afe-4d69-9515-b2f6add2616d\n"
     ]
    }
   ],
   "source": [
    "connection_id = response[\"connection_id\"]\n",
    "print(connection_id)"
   ]
  },
  {
   "cell_type": "markdown",
   "id": "critical-orleans",
   "metadata": {},
   "source": [
    "\n",
    "## Now we will Request mediation\n",
    "\n",
    "Now that we have successfully established a connection between Bob and the mediator agent1 we can proceed to request mediation from the mediator1.\n"
   ]
  },
  {
   "cell_type": "code",
   "execution_count": 11,
   "id": "casual-taxation",
   "metadata": {},
   "outputs": [
    {
     "name": "stdout",
     "output_type": "stream",
     "text": [
      "active\n"
     ]
    }
   ],
   "source": [
    "### check state of connection\n",
    "connection = await agent_controller.connections.get_connection(connection_id)\n",
    "print(connection['state'])"
   ]
  },
  {
   "cell_type": "code",
   "execution_count": 12,
   "id": "provincial-start",
   "metadata": {},
   "outputs": [
    {
     "name": "stdout",
     "output_type": "stream",
     "text": [
      "{'role': 'client', 'state': 'request', 'mediation_id': '7b01ae71-f559-4703-8cf9-5a5abde11566', 'created_at': '2021-04-02 11:58:54.521220Z', 'mediator_terms': [], 'updated_at': '2021-04-02 11:58:54.521220Z', 'recipient_terms': [], 'routing_keys': [], 'connection_id': '31867543-7afe-4d69-9515-b2f6add2616d'}\n"
     ]
    }
   ],
   "source": [
    "# Let's check for the state\n",
    "if connection['state'] != 'active':\n",
    "    print(\"No active connection. \\n Please go back and ensure you have established an active connection between the mediator agent and Bob's subwallet agent\")    \n",
    "else:\n",
    "    ## request mediation\n",
    "    mediation_req = await agent_controller.mediation.request_mediation(connection_id)\n",
    "    print(mediation_req)\n"
   ]
  },
  {
   "cell_type": "markdown",
   "id": "substantial-fifth",
   "metadata": {},
   "source": [
    "Now we have to take a look at the mediation records and we should see our mediation in there"
   ]
  },
  {
   "cell_type": "code",
   "execution_count": 13,
   "id": "corresponding-blast",
   "metadata": {},
   "outputs": [
    {
     "name": "stdout",
     "output_type": "stream",
     "text": [
      "[{'role': 'client', 'state': 'granted', 'mediation_id': '7b01ae71-f559-4703-8cf9-5a5abde11566', 'created_at': '2021-04-02 11:58:54.521220Z', 'mediator_terms': [], 'updated_at': '2021-04-02 11:58:55.338129Z', 'endpoint': 'https://b211401e2898.ngrok.io', 'recipient_terms': [], 'routing_keys': ['AfHREDp3d5SPiT9Pe7neDWjg7MgvfbdGRwSkVQoDQ7CP'], 'connection_id': '31867543-7afe-4d69-9515-b2f6add2616d'}]\n"
     ]
    }
   ],
   "source": [
    "response = await agent_controller.mediation.get_mediation_records()\n",
    "print(response)"
   ]
  },
  {
   "cell_type": "markdown",
   "id": "black-knowing",
   "metadata": {},
   "source": [
    "\n",
    "Here we are Setting a default mediator\n",
    "\n",
    "By setting a default mediator, all DIDComm connections we establish will be routed through this mediator. To do this we use the appropriate API endpoint via the agent controller and pass it the mediation ID of our mediated connection.\n"
   ]
  },
  {
   "cell_type": "code",
   "execution_count": 14,
   "id": "commercial-decision",
   "metadata": {},
   "outputs": [
    {
     "name": "stdout",
     "output_type": "stream",
     "text": [
      "{   'connection_id': '31867543-7afe-4d69-9515-b2f6add2616d',\n",
      "    'created_at': '2021-04-02 11:58:54.521220Z',\n",
      "    'endpoint': 'https://b211401e2898.ngrok.io',\n",
      "    'mediation_id': '7b01ae71-f559-4703-8cf9-5a5abde11566',\n",
      "    'mediator_terms': [],\n",
      "    'recipient_terms': [],\n",
      "    'role': 'client',\n",
      "    'routing_keys': ['AfHREDp3d5SPiT9Pe7neDWjg7MgvfbdGRwSkVQoDQ7CP'],\n",
      "    'state': 'granted',\n",
      "    'updated_at': '2021-04-02 11:58:55.338129Z'}\n"
     ]
    }
   ],
   "source": [
    "default_mediation_res = await agent_controller.mediation.set_default_mediator(response[0]['mediation_id'])\n",
    "pp.pprint(default_mediation_res)"
   ]
  },
  {
   "cell_type": "markdown",
   "id": "deadly-malaysia",
   "metadata": {},
   "source": [
    "## Check to see our default mediator actully there"
   ]
  },
  {
   "cell_type": "code",
   "execution_count": 15,
   "id": "renewable-torture",
   "metadata": {},
   "outputs": [
    {
     "name": "stdout",
     "output_type": "stream",
     "text": [
      "{   'connection_id': '31867543-7afe-4d69-9515-b2f6add2616d',\n",
      "    'created_at': '2021-04-02 11:58:54.521220Z',\n",
      "    'endpoint': 'https://b211401e2898.ngrok.io',\n",
      "    'mediation_id': '7b01ae71-f559-4703-8cf9-5a5abde11566',\n",
      "    'mediator_terms': [],\n",
      "    'recipient_terms': [],\n",
      "    'role': 'client',\n",
      "    'routing_keys': ['AfHREDp3d5SPiT9Pe7neDWjg7MgvfbdGRwSkVQoDQ7CP'],\n",
      "    'state': 'granted',\n",
      "    'updated_at': '2021-04-02 11:58:55.338129Z'}\n",
      "\n",
      "\n",
      " Hooray! We have succesfully set a default mediator.\n"
     ]
    }
   ],
   "source": [
    "default_mediator = await agent_controller.mediation.get_default_mediator()\n",
    "pp.pprint(default_mediator)\n",
    "\n",
    "if default_mediator['connection_id'] != connection_id:\n",
    "    print(\"Oooops! Something went wrong setting the default mediator. Please, check above and try again\")\n",
    "else:\n",
    "    print(\"\\n\\n Hooray! We have succesfully set a default mediator.\")\n"
   ]
  },
  {
   "cell_type": "code",
   "execution_count": 20,
   "id": "charitable-permission",
   "metadata": {},
   "outputs": [
    {
     "name": "stdout",
     "output_type": "stream",
     "text": [
      "Connection message {'their_role': 'invitee', 'state': 'invitation', 'routing_state': 'none', 'created_at': '2021-04-02 12:00:05.928109Z', 'accept': 'auto', 'rfc23_state': 'invitation-sent', 'invitation_mode': 'once', 'updated_at': '2021-04-02 12:00:05.928109Z', 'invitation_key': '56TcAEBtXogPn2kjgAJLyw15FefLx2RcjXdrnyp7gujT', 'connection_id': '81d96ecb-e0bf-4cd9-bce7-782f9e37ef2f'} 81d96ecb-e0bf-4cd9-bce7-782f9e37ef2f\n",
      "Connection message {'their_role': 'invitee', 'state': 'invitation', 'routing_state': 'none', 'created_at': '2021-04-02 12:00:05.928109Z', 'accept': 'auto', 'rfc23_state': 'invitation-sent', 'invitation_mode': 'once', 'updated_at': '2021-04-02 12:00:05.928109Z', 'invitation_key': '56TcAEBtXogPn2kjgAJLyw15FefLx2RcjXdrnyp7gujT', 'connection_id': '81d96ecb-e0bf-4cd9-bce7-782f9e37ef2f'} 81d96ecb-e0bf-4cd9-bce7-782f9e37ef2f\n",
      "Connection ID 81d96ecb-e0bf-4cd9-bce7-782f9e37ef2f\n",
      "Invitation\n",
      "{'@type': 'did:sov:BzCbsNYhMrjHiqZDTUASHg;spec/connections/1.0/invitation', '@id': '4a61a216-c1fb-4485-885a-ab2b09f2981e', 'label': 'BOB', 'recipientKeys': ['56TcAEBtXogPn2kjgAJLyw15FefLx2RcjXdrnyp7gujT'], 'serviceEndpoint': 'https://b211401e2898.ngrok.io', 'routingKeys': ['AfHREDp3d5SPiT9Pe7neDWjg7MgvfbdGRwSkVQoDQ7CP']}\n",
      "'Routing Key : AfHREDp3d5SPiT9Pe7neDWjg7MgvfbdGRwSkVQoDQ7CP'\n"
     ]
    }
   ],
   "source": [
    "# Create Invitation\n",
    "invite = await agent_controller.connections.create_invitation()\n",
    "connection_id = invite[\"connection_id\"]\n",
    "invite_message = invite['invitation']\n",
    "print(\"Connection ID\", connection_id)\n",
    "print(\"Invitation\")\n",
    "print(invite_message)\n",
    "pp.pprint(\"Routing Key : \" + invite_message['routingKeys'][0])"
   ]
  },
  {
   "cell_type": "markdown",
   "id": "great-toronto",
   "metadata": {},
   "source": [
    "\n",
    "## Checking routing keys\n",
    "\n",
    "This routing key should be used from now on to encrypt all messages/comminucation. Below you'll see that going back our initially created invitation we don't have such key.\n"
   ]
  },
  {
   "cell_type": "code",
   "execution_count": 21,
   "id": "major-longitude",
   "metadata": {},
   "outputs": [
    {
     "name": "stdout",
     "output_type": "stream",
     "text": [
      "{   '@id': 'c8e48f58-aeec-4ee3-935b-0326dd990eca',\n",
      "    '@type': 'did:sov:BzCbsNYhMrjHiqZDTUASHg;spec/connections/1.0/invitation',\n",
      "    'label': 'BOB',\n",
      "    'recipientKeys': ['C2u93XSU1xttbZCejAXMeaJkiHM24Gs7uBQkqYdYcJV4'],\n",
      "    'serviceEndpoint': 'https://a4fa7fab5de2.ngrok.io'}\n"
     ]
    }
   ],
   "source": [
    "unmediated_invite_message = unmediated_invite['invitation']\n",
    "pp.pprint(unmediated_invite_message)"
   ]
  },
  {
   "cell_type": "code",
   "execution_count": 22,
   "id": "continued-difficulty",
   "metadata": {},
   "outputs": [
    {
     "name": "stdout",
     "output_type": "stream",
     "text": [
      "Unmediated endpoint: https://a4fa7fab5de2.ngrok.io\n",
      "\n",
      "\n",
      "Mediated endpoint: https://b211401e2898.ngrok.io\n",
      "Mediator Invitation Ednpoint: https://b211401e2898.ngrok.io\n"
     ]
    }
   ],
   "source": [
    "\n",
    "# Comparing endpoints to check and see the service endpoint\n",
    "print(\"Unmediated endpoint: \" + unmediated_invite_message['serviceEndpoint'] + \"\\n\\n\")\n",
    "print(\"Mediated endpoint: \" + invite_message['serviceEndpoint'])\n",
    "print(\"Mediator Invitation Ednpoint: \" + mediator_invitation['serviceEndpoint'])"
   ]
  },
  {
   "cell_type": "markdown",
   "id": "cultural-hudson",
   "metadata": {},
   "source": [
    "## Now we are connecting with Alice "
   ]
  },
  {
   "cell_type": "code",
   "execution_count": 23,
   "id": "substantial-helena",
   "metadata": {},
   "outputs": [],
   "source": [
    "alice_invitation = {'@type': 'did:sov:BzCbsNYhMrjHiqZDTUASHg;spec/connections/1.0/invitation', '@id': '5a193683-0f1a-4961-b198-fae5d5a70112', 'recipientKeys': ['9aZs5Zi56ZtGnrZWD9ByyWVgJvfFKu4EJRPBYf7QECLL'], 'serviceEndpoint': 'https://a4e6ac934df2.ngrok.io', 'label': 'ALICE'}"
   ]
  },
  {
   "cell_type": "code",
   "execution_count": 24,
   "id": "quality-energy",
   "metadata": {},
   "outputs": [
    {
     "name": "stdout",
     "output_type": "stream",
     "text": [
      "Connection message {'their_role': 'inviter', 'state': 'invitation', 'routing_state': 'none', 'created_at': '2021-04-02 12:01:36.891068Z', 'their_label': 'ALICE', 'accept': 'manual', 'rfc23_state': 'invitation-received', 'invitation_mode': 'once', 'updated_at': '2021-04-02 12:01:36.891068Z', 'invitation_key': '9aZs5Zi56ZtGnrZWD9ByyWVgJvfFKu4EJRPBYf7QECLL', 'connection_id': '253fcd08-fd1f-4ae1-a7b3-2df48d61d7a0'} 253fcd08-fd1f-4ae1-a7b3-2df48d61d7a0\n",
      "Connection message {'their_role': 'inviter', 'state': 'invitation', 'routing_state': 'none', 'created_at': '2021-04-02 12:01:36.891068Z', 'their_label': 'ALICE', 'accept': 'manual', 'rfc23_state': 'invitation-received', 'invitation_mode': 'once', 'updated_at': '2021-04-02 12:01:36.891068Z', 'invitation_key': '9aZs5Zi56ZtGnrZWD9ByyWVgJvfFKu4EJRPBYf7QECLL', 'connection_id': '253fcd08-fd1f-4ae1-a7b3-2df48d61d7a0'} 253fcd08-fd1f-4ae1-a7b3-2df48d61d7a0\n",
      "Connection message {'my_did': 'Kpgu44Nnkax9pKoggngk9b', 'their_role': 'inviter', 'state': 'request', 'request_id': '034aeb71-76fc-4ab1-8474-fbda229021b8', 'routing_state': 'none', 'created_at': '2021-04-02 12:01:36.891068Z', 'their_label': 'ALICE', 'accept': 'manual', 'rfc23_state': 'request-sent', 'invitation_mode': 'once', 'updated_at': '2021-04-02 12:01:36.910361Z', 'invitation_key': '9aZs5Zi56ZtGnrZWD9ByyWVgJvfFKu4EJRPBYf7QECLL', 'connection_id': '253fcd08-fd1f-4ae1-a7b3-2df48d61d7a0'} 253fcd08-fd1f-4ae1-a7b3-2df48d61d7a0\n",
      "Connection message {'my_did': 'Kpgu44Nnkax9pKoggngk9b', 'their_role': 'inviter', 'state': 'request', 'request_id': '034aeb71-76fc-4ab1-8474-fbda229021b8', 'routing_state': 'none', 'created_at': '2021-04-02 12:01:36.891068Z', 'their_label': 'ALICE', 'accept': 'manual', 'rfc23_state': 'request-sent', 'invitation_mode': 'once', 'updated_at': '2021-04-02 12:01:36.910361Z', 'invitation_key': '9aZs5Zi56ZtGnrZWD9ByyWVgJvfFKu4EJRPBYf7QECLL', 'connection_id': '253fcd08-fd1f-4ae1-a7b3-2df48d61d7a0'} 253fcd08-fd1f-4ae1-a7b3-2df48d61d7a0\n",
      "{   'accept': 'manual',\n",
      "    'connection_id': '253fcd08-fd1f-4ae1-a7b3-2df48d61d7a0',\n",
      "    'created_at': '2021-04-02 12:01:36.891068Z',\n",
      "    'invitation_key': '9aZs5Zi56ZtGnrZWD9ByyWVgJvfFKu4EJRPBYf7QECLL',\n",
      "    'invitation_mode': 'once',\n",
      "    'my_did': 'Kpgu44Nnkax9pKoggngk9b',\n",
      "    'request_id': '034aeb71-76fc-4ab1-8474-fbda229021b8',\n",
      "    'rfc23_state': 'request-sent',\n",
      "    'routing_state': 'none',\n",
      "    'state': 'request',\n",
      "    'their_label': 'ALICE',\n",
      "    'their_role': 'inviter',\n",
      "    'updated_at': '2021-04-02 12:01:36.910361Z'}\n",
      "Connection message {'my_did': 'Kpgu44Nnkax9pKoggngk9b', 'their_role': 'inviter', 'state': 'response', 'their_did': '3JAFy7LhTRwJg8c6gmShjL', 'request_id': '034aeb71-76fc-4ab1-8474-fbda229021b8', 'routing_state': 'none', 'created_at': '2021-04-02 12:01:36.891068Z', 'their_label': 'ALICE', 'accept': 'manual', 'rfc23_state': 'response-received', 'invitation_mode': 'once', 'updated_at': '2021-04-02 12:01:38.260643Z', 'invitation_key': '9aZs5Zi56ZtGnrZWD9ByyWVgJvfFKu4EJRPBYf7QECLL', 'connection_id': '253fcd08-fd1f-4ae1-a7b3-2df48d61d7a0'} 253fcd08-fd1f-4ae1-a7b3-2df48d61d7a0\n",
      "Connection message {'my_did': 'Kpgu44Nnkax9pKoggngk9b', 'their_role': 'inviter', 'state': 'response', 'their_did': '3JAFy7LhTRwJg8c6gmShjL', 'request_id': '034aeb71-76fc-4ab1-8474-fbda229021b8', 'routing_state': 'none', 'created_at': '2021-04-02 12:01:36.891068Z', 'their_label': 'ALICE', 'accept': 'manual', 'rfc23_state': 'response-received', 'invitation_mode': 'once', 'updated_at': '2021-04-02 12:01:38.260643Z', 'invitation_key': '9aZs5Zi56ZtGnrZWD9ByyWVgJvfFKu4EJRPBYf7QECLL', 'connection_id': '253fcd08-fd1f-4ae1-a7b3-2df48d61d7a0'} 253fcd08-fd1f-4ae1-a7b3-2df48d61d7a0\n"
     ]
    },
    {
     "name": "stderr",
     "output_type": "stream",
     "text": [
      "WARNING:aries_controller:Handling webhooks failed! NameError(\"name 'colored' is not defined\") occurred when trying to handle this topic: connections\n",
      "WARNING:aries_controller:Handling webhooks failed! NameError(\"name 'colored' is not defined\") occurred when trying to handle this topic: connections\n"
     ]
    },
    {
     "name": "stdout",
     "output_type": "stream",
     "text": [
      "Connection message {'my_did': 'Kpgu44Nnkax9pKoggngk9b', 'their_role': 'inviter', 'state': 'active', 'their_did': '3JAFy7LhTRwJg8c6gmShjL', 'request_id': '034aeb71-76fc-4ab1-8474-fbda229021b8', 'routing_state': 'none', 'created_at': '2021-04-02 12:01:36.891068Z', 'their_label': 'ALICE', 'accept': 'manual', 'rfc23_state': 'completed', 'invitation_mode': 'once', 'updated_at': '2021-04-02 12:01:38.818581Z', 'invitation_key': '9aZs5Zi56ZtGnrZWD9ByyWVgJvfFKu4EJRPBYf7QECLL', 'connection_id': '253fcd08-fd1f-4ae1-a7b3-2df48d61d7a0'} 253fcd08-fd1f-4ae1-a7b3-2df48d61d7a0\n",
      "Connection message {'my_did': 'Kpgu44Nnkax9pKoggngk9b', 'their_role': 'inviter', 'state': 'active', 'their_did': '3JAFy7LhTRwJg8c6gmShjL', 'request_id': '034aeb71-76fc-4ab1-8474-fbda229021b8', 'routing_state': 'none', 'created_at': '2021-04-02 12:01:36.891068Z', 'their_label': 'ALICE', 'accept': 'manual', 'rfc23_state': 'completed', 'invitation_mode': 'once', 'updated_at': '2021-04-02 12:01:38.818581Z', 'invitation_key': '9aZs5Zi56ZtGnrZWD9ByyWVgJvfFKu4EJRPBYf7QECLL', 'connection_id': '253fcd08-fd1f-4ae1-a7b3-2df48d61d7a0'} 253fcd08-fd1f-4ae1-a7b3-2df48d61d7a0\n"
     ]
    }
   ],
   "source": [
    "response = await agent_controller.connections.accept_connection(alice_invitation)\n",
    "pp.pprint(response)"
   ]
  },
  {
   "cell_type": "code",
   "execution_count": 25,
   "id": "looking-inventory",
   "metadata": {},
   "outputs": [
    {
     "name": "stdout",
     "output_type": "stream",
     "text": [
      "253fcd08-fd1f-4ae1-a7b3-2df48d61d7a0\n"
     ]
    }
   ],
   "source": [
    "connection_id = response[\"connection_id\"]\n",
    "print(connection_id)"
   ]
  },
  {
   "cell_type": "code",
   "execution_count": 26,
   "id": "comic-cedar",
   "metadata": {},
   "outputs": [
    {
     "name": "stdout",
     "output_type": "stream",
     "text": [
      "{'my_did': 'Kpgu44Nnkax9pKoggngk9b', 'their_role': 'inviter', 'state': 'active', 'their_did': '3JAFy7LhTRwJg8c6gmShjL', 'request_id': '034aeb71-76fc-4ab1-8474-fbda229021b8', 'routing_state': 'none', 'created_at': '2021-04-02 12:01:36.891068Z', 'their_label': 'ALICE', 'accept': 'manual', 'rfc23_state': 'completed', 'invitation_mode': 'once', 'updated_at': '2021-04-02 12:01:38.818581Z', 'invitation_key': '9aZs5Zi56ZtGnrZWD9ByyWVgJvfFKu4EJRPBYf7QECLL', 'connection_id': '253fcd08-fd1f-4ae1-a7b3-2df48d61d7a0'}\n"
     ]
    }
   ],
   "source": [
    "## get the connection\n",
    "connection = await agent_controller.connections.get_connection(connection_id)\n",
    "print(connection)"
   ]
  },
  {
   "cell_type": "code",
   "execution_count": 27,
   "id": "southern-costume",
   "metadata": {},
   "outputs": [
    {
     "name": "stdout",
     "output_type": "stream",
     "text": [
      "Active connection established\n",
      "\n",
      "State: active\n",
      "\n",
      "{   'accept': 'manual',\n",
      "    'connection_id': '253fcd08-fd1f-4ae1-a7b3-2df48d61d7a0',\n",
      "    'created_at': '2021-04-02 12:01:36.891068Z',\n",
      "    'invitation_key': '9aZs5Zi56ZtGnrZWD9ByyWVgJvfFKu4EJRPBYf7QECLL',\n",
      "    'invitation_mode': 'once',\n",
      "    'my_did': 'Kpgu44Nnkax9pKoggngk9b',\n",
      "    'request_id': '034aeb71-76fc-4ab1-8474-fbda229021b8',\n",
      "    'rfc23_state': 'completed',\n",
      "    'routing_state': 'none',\n",
      "    'state': 'active',\n",
      "    'their_did': '3JAFy7LhTRwJg8c6gmShjL',\n",
      "    'their_label': 'ALICE',\n",
      "    'their_role': 'inviter',\n",
      "    'updated_at': '2021-04-02 12:01:38.818581Z'}\n"
     ]
    }
   ],
   "source": [
    "# Let's check for the state\n",
    "def check_connection(connection):\n",
    "    if connection['state'] != 'active':\n",
    "        print(\"No active connection. \\n\\nPlease go back and ensure you have established an active connection between the mediator agent and Bob's subwallet agent\\n\")    \n",
    "        print(\"State: \" + connection['state']+ \"\\n\")    \n",
    "    else:\n",
    "        print(\"Active connection established\\n\")\n",
    "        print(\"State: \" + connection['state']+ \"\\n\")    \n",
    "        pp.pprint(connection)\n",
    "\n",
    "check_connection(connection)"
   ]
  },
  {
   "cell_type": "code",
   "execution_count": 29,
   "id": "stupid-satin",
   "metadata": {},
   "outputs": [
    {
     "name": "stdout",
     "output_type": "stream",
     "text": [
      "You need to first send a credential from the issuer notebook (external)\n"
     ]
    }
   ],
   "source": [
    "response = await agent_controller.issuer.get_records()\n",
    "results = response[\"results\"]\n",
    "if len(results) == 0:\n",
    "    print(\"You need to first send a credential from the issuer notebook (external)\")\n",
    "else:\n",
    "    cred_record = results[0]\n",
    "    cred_ex_id = cred_record['credential_exchange_id']\n",
    "    state = cred_record['state']\n",
    "    role = cred_record['role']\n",
    "    attributes = results[0]['credential_proposal_dict']['credential_proposal']['attributes']\n",
    "    print(f\"Credential exchange {cred_ex_id}, role: {role}, state: {state}\")\n",
    "    print(f\"Being offered: {attributes}\")"
   ]
  },
  {
   "cell_type": "markdown",
   "id": "domestic-tiger",
   "metadata": {},
   "source": [
    "# Request Credential from Issuer"
   ]
  },
  {
   "cell_type": "code",
   "execution_count": 28,
   "id": "allied-wildlife",
   "metadata": {},
   "outputs": [
    {
     "ename": "NameError",
     "evalue": "name 'ClientResponseError' is not defined",
     "output_type": "error",
     "traceback": [
      "\u001b[0;31m---------------------------------------------------------------------------\u001b[0m",
      "\u001b[0;31mNameError\u001b[0m                                 Traceback (most recent call last)",
      "\u001b[0;32m<ipython-input-28-78daa1da1b41>\u001b[0m in \u001b[0;36m<module>\u001b[0;34m\u001b[0m\n\u001b[1;32m      1\u001b[0m \u001b[0;32mtry\u001b[0m\u001b[0;34m:\u001b[0m\u001b[0;34m\u001b[0m\u001b[0;34m\u001b[0m\u001b[0m\n\u001b[0;32m----> 2\u001b[0;31m     \u001b[0mrecord\u001b[0m \u001b[0;34m=\u001b[0m \u001b[0;32mawait\u001b[0m \u001b[0magent_controller\u001b[0m\u001b[0;34m.\u001b[0m\u001b[0missuer\u001b[0m\u001b[0;34m.\u001b[0m\u001b[0msend_request_for_record\u001b[0m\u001b[0;34m(\u001b[0m\u001b[0mcred_ex_id\u001b[0m\u001b[0;34m)\u001b[0m\u001b[0;34m\u001b[0m\u001b[0;34m\u001b[0m\u001b[0m\n\u001b[0m\u001b[1;32m      3\u001b[0m     \u001b[0mstate\u001b[0m \u001b[0;34m=\u001b[0m \u001b[0mrecord\u001b[0m\u001b[0;34m[\u001b[0m\u001b[0;34m'state'\u001b[0m\u001b[0;34m]\u001b[0m\u001b[0;34m\u001b[0m\u001b[0;34m\u001b[0m\u001b[0m\n",
      "\u001b[0;31mNameError\u001b[0m: name 'cred_ex_id' is not defined",
      "\nDuring handling of the above exception, another exception occurred:\n",
      "\u001b[0;31mNameError\u001b[0m                                 Traceback (most recent call last)",
      "\u001b[0;32m<ipython-input-28-78daa1da1b41>\u001b[0m in \u001b[0;36m<module>\u001b[0;34m\u001b[0m\n\u001b[1;32m      4\u001b[0m     \u001b[0mrole\u001b[0m \u001b[0;34m=\u001b[0m \u001b[0mrecord\u001b[0m\u001b[0;34m[\u001b[0m\u001b[0;34m'role'\u001b[0m\u001b[0;34m]\u001b[0m\u001b[0;34m\u001b[0m\u001b[0;34m\u001b[0m\u001b[0m\n\u001b[1;32m      5\u001b[0m     \u001b[0mprint\u001b[0m\u001b[0;34m(\u001b[0m\u001b[0;34mf\"Credential exchange {cred_ex_id}, role: {role}, state: {state}\"\u001b[0m\u001b[0;34m)\u001b[0m\u001b[0;34m\u001b[0m\u001b[0;34m\u001b[0m\u001b[0m\n\u001b[0;32m----> 6\u001b[0;31m \u001b[0;32mexcept\u001b[0m \u001b[0mClientResponseError\u001b[0m \u001b[0;32mas\u001b[0m \u001b[0merr\u001b[0m\u001b[0;34m:\u001b[0m\u001b[0;34m\u001b[0m\u001b[0;34m\u001b[0m\u001b[0m\n\u001b[0m\u001b[1;32m      7\u001b[0m     \u001b[0mprint\u001b[0m\u001b[0;34m(\u001b[0m\u001b[0merr\u001b[0m\u001b[0;34m)\u001b[0m\u001b[0;34m\u001b[0m\u001b[0;34m\u001b[0m\u001b[0m\n",
      "\u001b[0;31mNameError\u001b[0m: name 'ClientResponseError' is not defined"
     ]
    }
   ],
   "source": [
    "try:\n",
    "    record = await agent_controller.issuer.send_request_for_record(cred_ex_id)\n",
    "    state = record['state']\n",
    "    role = record['role']\n",
    "    print(f\"Credential exchange {cred_ex_id}, role: {role}, state: {state}\")\n",
    "except ClientResponseError as err:\n",
    "    print(err)"
   ]
  },
  {
   "cell_type": "code",
   "execution_count": null,
   "id": "incorrect-period",
   "metadata": {},
   "outputs": [],
   "source": [
    "# Store the credential\n",
    "record = await agent_controller.issuer.get_record_by_id(cred_ex_id)\n",
    "state = record['state']\n",
    "role = record['role']\n",
    "print(f\"Credential exchange {cred_ex_id}, role: {role}, state: {state}\")"
   ]
  },
  {
   "cell_type": "code",
   "execution_count": null,
   "id": "contained-heavy",
   "metadata": {},
   "outputs": [],
   "source": [
    "try:\n",
    "    response = await agent_controller.issuer.store_credential(cred_ex_id, \"My OM Credential\")\n",
    "    state = response['state']\n",
    "    role = response['role']\n",
    "    print(f\"Credential exchange {cred_ex_id}, role: {role}, state: {state}\")\n",
    "except ClientResponseError as err:\n",
    "    print(err)"
   ]
  }
 ],
 "metadata": {
  "kernelspec": {
   "display_name": "Python 3",
   "language": "python",
   "name": "python3"
  },
  "language_info": {
   "codemirror_mode": {
    "name": "ipython",
    "version": 3
   },
   "file_extension": ".py",
   "mimetype": "text/x-python",
   "name": "python",
   "nbconvert_exporter": "python",
   "pygments_lexer": "ipython3",
   "version": "3.7.6"
  }
 },
 "nbformat": 4,
 "nbformat_minor": 5
}

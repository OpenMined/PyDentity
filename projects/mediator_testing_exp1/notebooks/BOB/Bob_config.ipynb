{
 "cells": [
  {
   "cell_type": "code",
   "execution_count": 1,
   "id": "awful-measurement",
   "metadata": {},
   "outputs": [
    {
     "name": "stdout",
     "output_type": "stream",
     "text": [
      "IPython autoawait is `on`, and set to use `asyncio`\n"
     ]
    }
   ],
   "source": [
    "%autoawait\n",
    "import time\n",
    "import asyncio\n",
    "import pprint\n",
    "\n",
    "from aries_basic_controller.aries_controller import AriesAgentController\n",
    "\n",
    "# Create a small utility to print json formatted outout more human-readable    \n",
    "pp = pprint.PrettyPrinter(indent=4)\n",
    "\n",
    "WEBHOOK_HOST = \"0.0.0.0\"\n",
    "WEBHOOK_BASE = \"\"\n",
    "\n",
    "WEBHOOK_PORT = 8022\n",
    "ADMIN_URL = \"http://bob-agent:8021\""
   ]
  },
  {
   "cell_type": "code",
   "execution_count": 2,
   "id": "instant-railway",
   "metadata": {},
   "outputs": [],
   "source": [
    "# Based on the aca-py agent you wish to control\n",
    "agent_controller = AriesAgentController(webhook_host=WEBHOOK_HOST, webhook_port=WEBHOOK_PORT,\n",
    "                                       webhook_base=WEBHOOK_BASE, admin_url=ADMIN_URL, mediation=True)\n"
   ]
  },
  {
   "cell_type": "code",
   "execution_count": 32,
   "id": "psychological-closer",
   "metadata": {},
   "outputs": [],
   "source": [
    "### Time to create an invitation"
   ]
  },
  {
   "cell_type": "code",
   "execution_count": 4,
   "id": "connected-prayer",
   "metadata": {},
   "outputs": [],
   "source": [
    "# Create Invitation\n",
    "unmediated_invite = await agent_controller.connections.create_invitation()"
   ]
  },
  {
   "cell_type": "markdown",
   "id": "invisible-henry",
   "metadata": {},
   "source": [
    "Going to the mediation agent1 to generate and fetch the invitation"
   ]
  },
  {
   "cell_type": "code",
   "execution_count": 5,
   "id": "thousand-addition",
   "metadata": {},
   "outputs": [],
   "source": [
    "mediator_invitation = {'@type': 'did:sov:BzCbsNYhMrjHiqZDTUASHg;spec/connections/1.0/invitation', '@id': '13ee3314-a373-4207-8e93-2cf723f92d62', 'label': 'MEDIATOR1', 'serviceEndpoint': 'https://09aea288bf3c.ngrok.io', 'recipientKeys': ['6HKzVWtLQBd5zNTrb7EU11pVBjXN8euTKzRaiDFqjncg']}"
   ]
  },
  {
   "cell_type": "code",
   "execution_count": 6,
   "id": "attended-poker",
   "metadata": {},
   "outputs": [
    {
     "name": "stdout",
     "output_type": "stream",
     "text": [
      "{   'accept': 'manual',\n",
      "    'connection_id': '6eb45f74-39de-4784-ac0f-18b4ab3a1807',\n",
      "    'created_at': '2021-03-31 12:58:19.600254Z',\n",
      "    'invitation_key': '6HKzVWtLQBd5zNTrb7EU11pVBjXN8euTKzRaiDFqjncg',\n",
      "    'invitation_mode': 'once',\n",
      "    'my_did': 'RyB5D9K5EuZ7mYiRYNjR2W',\n",
      "    'request_id': 'deccd541-e1e7-4225-bcee-cd58fd514691',\n",
      "    'rfc23_state': 'request-sent',\n",
      "    'routing_state': 'none',\n",
      "    'state': 'request',\n",
      "    'their_label': 'MEDIATOR1',\n",
      "    'their_role': 'inviter',\n",
      "    'updated_at': '2021-03-31 12:58:19.634305Z'}\n"
     ]
    }
   ],
   "source": [
    "response = await agent_controller.connections.accept_connection(mediator_invitation)\n",
    "pp.pprint(response)"
   ]
  },
  {
   "cell_type": "code",
   "execution_count": 8,
   "id": "hidden-group",
   "metadata": {},
   "outputs": [
    {
     "name": "stdout",
     "output_type": "stream",
     "text": [
      "6eb45f74-39de-4784-ac0f-18b4ab3a1807\n"
     ]
    }
   ],
   "source": [
    "connection_id = response[\"connection_id\"]\n",
    "print(connection_id)"
   ]
  },
  {
   "cell_type": "code",
   "execution_count": null,
   "id": "lasting-norwegian",
   "metadata": {},
   "outputs": [],
   "source": [
    "\n",
    "Now we will Request mediation\n",
    "\n",
    "Now that we have successfully established a connection between Bob and the mediator agent1 we can proceed to request mediation from the mediator1.\n"
   ]
  },
  {
   "cell_type": "code",
   "execution_count": 9,
   "id": "difficult-enclosure",
   "metadata": {},
   "outputs": [
    {
     "name": "stdout",
     "output_type": "stream",
     "text": [
      "active\n"
     ]
    }
   ],
   "source": [
    "### check state of connection\n",
    "connection = await agent_controller.connections.get_connection(connection_id)\n",
    "print(connection['state'])"
   ]
  },
  {
   "cell_type": "code",
   "execution_count": 11,
   "id": "parliamentary-oriental",
   "metadata": {},
   "outputs": [
    {
     "name": "stdout",
     "output_type": "stream",
     "text": [
      "{'role': 'client', 'connection_id': '6eb45f74-39de-4784-ac0f-18b4ab3a1807', 'state': 'request', 'routing_keys': [], 'mediator_terms': [], 'updated_at': '2021-03-31 13:00:40.963923Z', 'mediation_id': 'e130d8c8-f71c-40f4-8ee0-99bbbdb02393', 'created_at': '2021-03-31 13:00:40.963923Z', 'recipient_terms': []}\n"
     ]
    }
   ],
   "source": [
    "# Let's check for the state\n",
    "if connection['state'] != 'active':\n",
    "    print(\"No active connection. \\n Please go back and ensure you have established an active connection between the mediator agent and Bob's subwallet agent\")    \n",
    "else:\n",
    "    ## request mediation\n",
    "    mediation_req = await agent_controller.mediation.request_mediation(connection_id)\n",
    "    print(mediation_req)\n"
   ]
  },
  {
   "cell_type": "markdown",
   "id": "basic-swedish",
   "metadata": {},
   "source": [
    "Now we have to take a look at the mediation records and we should see our mediation in there"
   ]
  },
  {
   "cell_type": "code",
   "execution_count": 12,
   "id": "refined-disease",
   "metadata": {},
   "outputs": [
    {
     "name": "stdout",
     "output_type": "stream",
     "text": [
      "[{'role': 'client', 'connection_id': '6eb45f74-39de-4784-ac0f-18b4ab3a1807', 'state': 'request', 'routing_keys': [], 'mediator_terms': [], 'updated_at': '2021-03-31 13:00:40.963923Z', 'mediation_id': 'e130d8c8-f71c-40f4-8ee0-99bbbdb02393', 'created_at': '2021-03-31 13:00:40.963923Z', 'recipient_terms': []}]\n"
     ]
    }
   ],
   "source": [
    "response = await agent_controller.mediation.get_mediation_records()\n",
    "print(response)"
   ]
  },
  {
   "cell_type": "markdown",
   "id": "laden-suite",
   "metadata": {},
   "source": [
    "\n",
    "Here we are Setting a default mediator\n",
    "\n",
    "By setting a default mediator, all DIDComm connections we establish will be routed through this mediator. To do this we use the appropriate API endpoint via the agent controller and pass it the mediation ID of our mediated connection.\n"
   ]
  },
  {
   "cell_type": "code",
   "execution_count": 13,
   "id": "about-therapy",
   "metadata": {},
   "outputs": [
    {
     "name": "stdout",
     "output_type": "stream",
     "text": [
      "{   'connection_id': '6eb45f74-39de-4784-ac0f-18b4ab3a1807',\n",
      "    'created_at': '2021-03-31 13:00:40.963923Z',\n",
      "    'endpoint': 'https://09aea288bf3c.ngrok.io',\n",
      "    'mediation_id': 'e130d8c8-f71c-40f4-8ee0-99bbbdb02393',\n",
      "    'mediator_terms': [],\n",
      "    'recipient_terms': [],\n",
      "    'role': 'client',\n",
      "    'routing_keys': ['58fVUfK2DpxMzBr8eCtHh425hYCmKo3EfwAbRwQwkxWk'],\n",
      "    'state': 'granted',\n",
      "    'updated_at': '2021-03-31 13:00:44.666639Z'}\n"
     ]
    }
   ],
   "source": [
    "default_mediation_res = await agent_controller.mediation.set_default_mediator(response[0]['mediation_id'])\n",
    "pp.pprint(default_mediation_res)"
   ]
  },
  {
   "cell_type": "code",
   "execution_count": null,
   "id": "loaded-trustee",
   "metadata": {},
   "outputs": [],
   "source": [
    "\n",
    "Quick Check to see our default mediator actully there"
   ]
  },
  {
   "cell_type": "code",
   "execution_count": 14,
   "id": "light-packaging",
   "metadata": {},
   "outputs": [
    {
     "name": "stdout",
     "output_type": "stream",
     "text": [
      "{   'connection_id': '6eb45f74-39de-4784-ac0f-18b4ab3a1807',\n",
      "    'created_at': '2021-03-31 13:00:40.963923Z',\n",
      "    'endpoint': 'https://09aea288bf3c.ngrok.io',\n",
      "    'mediation_id': 'e130d8c8-f71c-40f4-8ee0-99bbbdb02393',\n",
      "    'mediator_terms': [],\n",
      "    'recipient_terms': [],\n",
      "    'role': 'client',\n",
      "    'routing_keys': ['58fVUfK2DpxMzBr8eCtHh425hYCmKo3EfwAbRwQwkxWk'],\n",
      "    'state': 'granted',\n",
      "    'updated_at': '2021-03-31 13:00:44.666639Z'}\n",
      "\n",
      "\n",
      " Hooray! We have succesfully set a default mediator.\n"
     ]
    }
   ],
   "source": [
    "default_mediator = await agent_controller.mediation.get_default_mediator()\n",
    "pp.pprint(default_mediator)\n",
    "\n",
    "if default_mediator['connection_id'] != connection_id:\n",
    "    print(\"Oooops! Something went wrong setting the default mediator. Please, check above and try again\")\n",
    "else:\n",
    "    print(\"\\n\\n Hooray! We have succesfully set a default mediator.\")\n"
   ]
  },
  {
   "cell_type": "code",
   "execution_count": 15,
   "id": "contemporary-dispatch",
   "metadata": {},
   "outputs": [
    {
     "name": "stdout",
     "output_type": "stream",
     "text": [
      "Connection ID 04c61a01-2a2f-47ab-b98e-9c0707da9879\n",
      "Invitation\n",
      "{'@type': 'did:sov:BzCbsNYhMrjHiqZDTUASHg;spec/connections/1.0/invitation', '@id': 'b743a9cc-5bcf-4995-91e6-1155c140c90d', 'label': 'BOB', 'routingKeys': ['58fVUfK2DpxMzBr8eCtHh425hYCmKo3EfwAbRwQwkxWk'], 'recipientKeys': ['9Pr7jYhQGFWd3nfUGyai4t2xCRNnv9XHi284coNiLaq5'], 'serviceEndpoint': 'https://09aea288bf3c.ngrok.io'}\n",
      "'\\n58fVUfK2DpxMzBr8eCtHh425hYCmKo3EfwAbRwQwkxWk'\n"
     ]
    }
   ],
   "source": [
    "# Create Invitation\n",
    "invite = await agent_controller.connections.create_invitation()\n",
    "connection_id = invite[\"connection_id\"]\n",
    "invite_message = invite['invitation']\n",
    "print(\"Connection ID\", connection_id)\n",
    "print(\"Invitation\")\n",
    "print(invite_message)\n",
    "pp.pprint(\"\\n\" + invite_message['routingKeys'][0])"
   ]
  },
  {
   "cell_type": "raw",
   "id": "black-supervision",
   "metadata": {},
   "source": [
    "\n",
    "Checking routing keys\n",
    "\n",
    "This routing key should be used from now on to encrypt all messages/comminucation. Below you'll see that going back our initially created invitation we don't have such key.\n"
   ]
  },
  {
   "cell_type": "code",
   "execution_count": 16,
   "id": "korean-oxygen",
   "metadata": {},
   "outputs": [
    {
     "name": "stdout",
     "output_type": "stream",
     "text": [
      "{   '@id': 'ed7c98ab-7a5b-4ce3-a224-c664957c6cd0',\n",
      "    '@type': 'did:sov:BzCbsNYhMrjHiqZDTUASHg;spec/connections/1.0/invitation',\n",
      "    'label': 'BOB',\n",
      "    'recipientKeys': ['3PhqVwU9QsGzdmX2bKV8mkcWevKszNjgCdrcKCSRdGTw'],\n",
      "    'serviceEndpoint': 'https://372b9ed1adb7.ngrok.io'}\n"
     ]
    }
   ],
   "source": [
    "unmediated_invite_message = unmediated_invite['invitation']\n",
    "pp.pprint(unmediated_invite_message)"
   ]
  },
  {
   "cell_type": "code",
   "execution_count": 17,
   "id": "advance-sharp",
   "metadata": {},
   "outputs": [
    {
     "name": "stdout",
     "output_type": "stream",
     "text": [
      "Unmediated endpoint: https://372b9ed1adb7.ngrok.io\n",
      "\n",
      "\n",
      "Mediated endpoint: https://09aea288bf3c.ngrok.io\n",
      "Mediator Invitation Ednpoint: https://09aea288bf3c.ngrok.io\n"
     ]
    }
   ],
   "source": [
    "\n",
    "# Comparing endpoints to check and see the service endpoint\n",
    "print(\"Unmediated endpoint: \" + unmediated_invite_message['serviceEndpoint'] + \"\\n\\n\")\n",
    "print(\"Mediated endpoint: \" + invite_message['serviceEndpoint'])\n",
    "print(\"Mediator Invitation Ednpoint: \" + mediator_invitation['serviceEndpoint'])"
   ]
  },
  {
   "cell_type": "raw",
   "id": "common-capture",
   "metadata": {},
   "source": [
    " Now we are connecting with Alice "
   ]
  },
  {
   "cell_type": "code",
   "execution_count": 29,
   "id": "delayed-harvest",
   "metadata": {},
   "outputs": [],
   "source": [
    "external_invitation = {'@type': 'did:sov:BzCbsNYhMrjHiqZDTUASHg;spec/connections/1.0/invitation', '@id': '4e41fff0-a57d-45e4-8ab1-ba5396e0f30e', 'serviceEndpoint': 'https://f7af63a23e7f.ngrok.io', 'recipientKeys': ['CWNEMw8ccGSQWqZZ3PVFp1kGgoTSZPM99X9d4EsekKYn'], 'label': 'ALICE'}"
   ]
  },
  {
   "cell_type": "code",
   "execution_count": 30,
   "id": "straight-investigator",
   "metadata": {},
   "outputs": [
    {
     "name": "stdout",
     "output_type": "stream",
     "text": [
      "{   'accept': 'manual',\n",
      "    'connection_id': 'b82484e7-261d-4dc4-bfaf-983b4efedcd1',\n",
      "    'created_at': '2021-03-31 13:30:05.050100Z',\n",
      "    'invitation_key': 'CWNEMw8ccGSQWqZZ3PVFp1kGgoTSZPM99X9d4EsekKYn',\n",
      "    'invitation_mode': 'once',\n",
      "    'my_did': 'Prer3tu4N75o4ex713vnP7',\n",
      "    'request_id': '7bc4852c-c2ce-4b0f-ba36-42ddaf6e5c6f',\n",
      "    'rfc23_state': 'request-sent',\n",
      "    'routing_state': 'none',\n",
      "    'state': 'request',\n",
      "    'their_label': 'ALICE',\n",
      "    'their_role': 'inviter',\n",
      "    'updated_at': '2021-03-31 13:30:05.099465Z'}\n"
     ]
    }
   ],
   "source": [
    "response = await agent_controller.connections.accept_connection(external_invitation)\n",
    "pp.pprint(response)"
   ]
  },
  {
   "cell_type": "code",
   "execution_count": 31,
   "id": "silver-bankruptcy",
   "metadata": {},
   "outputs": [
    {
     "name": "stdout",
     "output_type": "stream",
     "text": [
      "b82484e7-261d-4dc4-bfaf-983b4efedcd1\n"
     ]
    }
   ],
   "source": [
    "connection_id = response[\"connection_id\"]\n",
    "print(connection_id)"
   ]
  },
  {
   "cell_type": "code",
   "execution_count": 32,
   "id": "apparent-helicopter",
   "metadata": {},
   "outputs": [
    {
     "name": "stdout",
     "output_type": "stream",
     "text": [
      "{'their_role': 'inviter', 'connection_id': 'b82484e7-261d-4dc4-bfaf-983b4efedcd1', 'request_id': '7bc4852c-c2ce-4b0f-ba36-42ddaf6e5c6f', 'state': 'request', 'rfc23_state': 'request-sent', 'accept': 'manual', 'routing_state': 'none', 'invitation_mode': 'once', 'invitation_key': 'CWNEMw8ccGSQWqZZ3PVFp1kGgoTSZPM99X9d4EsekKYn', 'updated_at': '2021-03-31 13:30:05.099465Z', 'their_label': 'ALICE', 'created_at': '2021-03-31 13:30:05.050100Z', 'my_did': 'Prer3tu4N75o4ex713vnP7'}\n"
     ]
    }
   ],
   "source": [
    "## get the connection\n",
    "connection = await agent_controller.connections.get_connection(connection_id)\n",
    "print(connection)"
   ]
  },
  {
   "cell_type": "code",
   "execution_count": 34,
   "id": "rocky-short",
   "metadata": {},
   "outputs": [
    {
     "name": "stdout",
     "output_type": "stream",
     "text": [
      "No active connection. \n",
      "\n",
      "Please go back and ensure you have established an active connection between the mediator agent and Bob's subwallet agent\n",
      "\n",
      "State: request\n",
      "\n"
     ]
    }
   ],
   "source": [
    "# Let's check for the state\n",
    "def check_connection(connection):\n",
    "    if connection['state'] != 'active':\n",
    "        print(\"No active connection. \\n\\nPlease go back and ensure you have established an active connection between the mediator agent and Bob's subwallet agent\\n\")    \n",
    "        print(\"State: \" + connection['state']+ \"\\n\")    \n",
    "    else:\n",
    "        print(\"Active connection established\\n\")\n",
    "        print(\"State: \" + connection['state']+ \"\\n\")    \n",
    "        pp.pprint(connection)\n",
    "\n",
    "check_connection(connection)"
   ]
  },
  {
   "cell_type": "code",
   "execution_count": 27,
   "id": "digital-aurora",
   "metadata": {},
   "outputs": [
    {
     "ename": "SyntaxError",
     "evalue": "EOL while scanning string literal (<ipython-input-27-a3b6f7d065ed>, line 12)",
     "output_type": "error",
     "traceback": [
      "\u001b[0;36m  File \u001b[0;32m\"<ipython-input-27-a3b6f7d065ed>\"\u001b[0;36m, line \u001b[0;32m12\u001b[0m\n\u001b[0;31m    print(f\"Being offered: {attributes}\u001b[0m\n\u001b[0m                                       ^\u001b[0m\n\u001b[0;31mSyntaxError\u001b[0m\u001b[0;31m:\u001b[0m EOL while scanning string literal\n"
     ]
    }
   ],
   "source": [
    "response = await agent_controller.issuer.get_records()\n",
    "results = response[\"results\"]\n",
    "if len(results) == 0:\n",
    "    print(\"You need to first send a credential from the issuer notebook (external)\")\n",
    "else:\n",
    "    cred_record = results[0]\n",
    "    cred_ex_id = cred_record['credential_exchange_id']\n",
    "    state = cred_record['state']\n",
    "    role = cred_record['role']\n",
    "    attributes = results[0]['credential_proposal_dict']['credential_proposal']['attributes']\n",
    "    print(f\"Credential exchange {cred_ex_id}, role: {role}, state: {state}\")\n",
    "    print(f\"Being offered: {attributes}"
   ]
  },
  {
   "cell_type": "markdown",
   "id": "simple-baking",
   "metadata": {},
   "source": [
    "# Request Credential from Issuer"
   ]
  },
  {
   "cell_type": "code",
   "execution_count": 28,
   "id": "ambient-herald",
   "metadata": {},
   "outputs": [
    {
     "ename": "NameError",
     "evalue": "name 'ClientResponseError' is not defined",
     "output_type": "error",
     "traceback": [
      "\u001b[0;31m---------------------------------------------------------------------------\u001b[0m",
      "\u001b[0;31mNameError\u001b[0m                                 Traceback (most recent call last)",
      "\u001b[0;32m<ipython-input-28-78daa1da1b41>\u001b[0m in \u001b[0;36m<module>\u001b[0;34m\u001b[0m\n\u001b[1;32m      1\u001b[0m \u001b[0;32mtry\u001b[0m\u001b[0;34m:\u001b[0m\u001b[0;34m\u001b[0m\u001b[0;34m\u001b[0m\u001b[0m\n\u001b[0;32m----> 2\u001b[0;31m     \u001b[0mrecord\u001b[0m \u001b[0;34m=\u001b[0m \u001b[0;32mawait\u001b[0m \u001b[0magent_controller\u001b[0m\u001b[0;34m.\u001b[0m\u001b[0missuer\u001b[0m\u001b[0;34m.\u001b[0m\u001b[0msend_request_for_record\u001b[0m\u001b[0;34m(\u001b[0m\u001b[0mcred_ex_id\u001b[0m\u001b[0;34m)\u001b[0m\u001b[0;34m\u001b[0m\u001b[0;34m\u001b[0m\u001b[0m\n\u001b[0m\u001b[1;32m      3\u001b[0m     \u001b[0mstate\u001b[0m \u001b[0;34m=\u001b[0m \u001b[0mrecord\u001b[0m\u001b[0;34m[\u001b[0m\u001b[0;34m'state'\u001b[0m\u001b[0;34m]\u001b[0m\u001b[0;34m\u001b[0m\u001b[0;34m\u001b[0m\u001b[0m\n",
      "\u001b[0;31mNameError\u001b[0m: name 'cred_ex_id' is not defined",
      "\nDuring handling of the above exception, another exception occurred:\n",
      "\u001b[0;31mNameError\u001b[0m                                 Traceback (most recent call last)",
      "\u001b[0;32m<ipython-input-28-78daa1da1b41>\u001b[0m in \u001b[0;36m<module>\u001b[0;34m\u001b[0m\n\u001b[1;32m      4\u001b[0m     \u001b[0mrole\u001b[0m \u001b[0;34m=\u001b[0m \u001b[0mrecord\u001b[0m\u001b[0;34m[\u001b[0m\u001b[0;34m'role'\u001b[0m\u001b[0;34m]\u001b[0m\u001b[0;34m\u001b[0m\u001b[0;34m\u001b[0m\u001b[0m\n\u001b[1;32m      5\u001b[0m     \u001b[0mprint\u001b[0m\u001b[0;34m(\u001b[0m\u001b[0;34mf\"Credential exchange {cred_ex_id}, role: {role}, state: {state}\"\u001b[0m\u001b[0;34m)\u001b[0m\u001b[0;34m\u001b[0m\u001b[0;34m\u001b[0m\u001b[0m\n\u001b[0;32m----> 6\u001b[0;31m \u001b[0;32mexcept\u001b[0m \u001b[0mClientResponseError\u001b[0m \u001b[0;32mas\u001b[0m \u001b[0merr\u001b[0m\u001b[0;34m:\u001b[0m\u001b[0;34m\u001b[0m\u001b[0;34m\u001b[0m\u001b[0m\n\u001b[0m\u001b[1;32m      7\u001b[0m     \u001b[0mprint\u001b[0m\u001b[0;34m(\u001b[0m\u001b[0merr\u001b[0m\u001b[0;34m)\u001b[0m\u001b[0;34m\u001b[0m\u001b[0;34m\u001b[0m\u001b[0m\n",
      "\u001b[0;31mNameError\u001b[0m: name 'ClientResponseError' is not defined"
     ]
    }
   ],
   "source": [
    "try:\n",
    "    record = await agent_controller.issuer.send_request_for_record(cred_ex_id)\n",
    "    state = record['state']\n",
    "    role = record['role']\n",
    "    print(f\"Credential exchange {cred_ex_id}, role: {role}, state: {state}\")\n",
    "except ClientResponseError as err:\n",
    "    print(err)"
   ]
  },
  {
   "cell_type": "code",
   "execution_count": null,
   "id": "fresh-overhead",
   "metadata": {},
   "outputs": [],
   "source": [
    "# Store the credential\n",
    "record = await agent_controller.issuer.get_record_by_id(cred_ex_id)\n",
    "state = record['state']\n",
    "role = record['role']\n",
    "print(f\"Credential exchange {cred_ex_id}, role: {role}, state: {state}\")"
   ]
  },
  {
   "cell_type": "code",
   "execution_count": null,
   "id": "familiar-taxation",
   "metadata": {},
   "outputs": [],
   "source": [
    "try:\n",
    "    response = await agent_controller.issuer.store_credential(cred_ex_id, \"My OM Credential\")\n",
    "    state = response['state']\n",
    "    role = response['role']\n",
    "    print(f\"Credential exchange {cred_ex_id}, role: {role}, state: {state}\")\n",
    "except ClientResponseError as err:\n",
    "    print(err)"
   ]
  }
 ],
 "metadata": {
  "kernelspec": {
   "display_name": "Python 3",
   "language": "python",
   "name": "python3"
  },
  "language_info": {
   "codemirror_mode": {
    "name": "ipython",
    "version": 3
   },
   "file_extension": ".py",
   "mimetype": "text/x-python",
   "name": "python",
   "nbconvert_exporter": "python",
   "pygments_lexer": "ipython3",
   "version": "3.8.5"
  }
 },
 "nbformat": 4,
 "nbformat_minor": 5
}

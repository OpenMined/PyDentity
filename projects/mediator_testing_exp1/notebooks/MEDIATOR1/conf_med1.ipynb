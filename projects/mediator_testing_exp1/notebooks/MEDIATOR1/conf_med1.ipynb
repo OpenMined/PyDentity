{
 "cells": [
  {
   "cell_type": "code",
   "execution_count": 1,
   "id": "academic-playlist",
   "metadata": {},
   "outputs": [
    {
     "name": "stdout",
     "output_type": "stream",
     "text": [
      "IPython autoawait is `on`, and set to use `asyncio`\n"
     ]
    }
   ],
   "source": [
    "%autoawait\n",
    "import time\n",
    "import asyncio"
   ]
  },
  {
   "cell_type": "code",
   "execution_count": 2,
   "id": "breathing-robertson",
   "metadata": {},
   "outputs": [],
   "source": [
    "from aries_basic_controller.aries_controller import AriesAgentController\n",
    "    \n",
    "WEBHOOK_HOST = \"0.0.0.0\"\n",
    "WEBHOOK_PORT = 8042\n",
    "WEBHOOK_BASE = \"\"\n",
    "ADMIN_URL = \"http://mediator1-agent:8041\""
   ]
  },
  {
   "cell_type": "code",
   "execution_count": 3,
   "id": "sharing-trademark",
   "metadata": {},
   "outputs": [],
   "source": [
    "# Based on the aca-py agent you wish to control\n",
    "agent_controller = AriesAgentController(webhook_host=WEBHOOK_HOST, webhook_port=WEBHOOK_PORT,\n",
    "                                       webhook_base=WEBHOOK_BASE, admin_url=ADMIN_URL, mediation=True)\n",
    "loop = asyncio.get_event_loop()\n",
    "loop.create_task(agent_controller.listen_webhooks())\n",
    "\n",
    "def connection_handler(payload):\n",
    "    print(\"Connection Handler Called\")\n",
    "    connection_id = payload[\"connection_id\"]\n",
    "    state = payload[\"state\"]\n",
    "    print(f\"Connection {connection_id} in State {state}\")\n",
    "    \n",
    "connection_listener = {\n",
    "    \"handler\": connection_handler,\n",
    "    \"topic\": \"connections\"\n",
    "}\n",
    "\n",
    "agent_controller.register_listeners([connection_listener], defaults=True)"
   ]
  },
  {
   "cell_type": "code",
   "execution_count": 4,
   "id": "public-interaction",
   "metadata": {},
   "outputs": [
    {
     "name": "stdout",
     "output_type": "stream",
     "text": [
      "Connection ID c8212dad-7b3c-4bfc-a883-210a7b2be251\n",
      "Invitation\n",
      "{'@type': 'did:sov:BzCbsNYhMrjHiqZDTUASHg;spec/connections/1.0/invitation', '@id': 'bd674b32-b564-4d4d-ac58-2eb2e5c54b84', 'recipientKeys': ['4tX7b9jKXcMWUtP2B7BjssDYAibB8QhuYPwQ1uwr5g5S'], 'label': 'MEDIATOR1', 'serviceEndpoint': 'https://b211401e2898.ngrok.io'}\n",
      "Connection Handler Called\n",
      "Connection c8212dad-7b3c-4bfc-a883-210a7b2be251 in State invitation\n",
      "Connection Handler Called\n",
      "Connection c8212dad-7b3c-4bfc-a883-210a7b2be251 in State invitation\n",
      "Connection Handler Called\n",
      "Connection fd565629-0848-4367-a608-e2a77bbe4bb4 in State invitation\n",
      "Connection Handler Called\n",
      "Connection fd565629-0848-4367-a608-e2a77bbe4bb4 in State invitation\n",
      "Connection Handler Called\n",
      "Connection fd565629-0848-4367-a608-e2a77bbe4bb4 in State request\n",
      "Connection Handler Called\n",
      "Connection fd565629-0848-4367-a608-e2a77bbe4bb4 in State request\n",
      "Connection Handler Called\n",
      "Connection fd565629-0848-4367-a608-e2a77bbe4bb4 in State response\n",
      "Connection Handler Called\n",
      "Connection fd565629-0848-4367-a608-e2a77bbe4bb4 in State response\n",
      "Connection Handler Called\n",
      "Connection fd565629-0848-4367-a608-e2a77bbe4bb4 in State active\n",
      "Connection Handler Called\n",
      "Connection fd565629-0848-4367-a608-e2a77bbe4bb4 in State active\n"
     ]
    }
   ],
   "source": [
    "# Create Invitation\n",
    "invite = await agent_controller.connections.create_invitation(multi_use=\"true\")\n",
    "connection_id = invite[\"connection_id\"]\n",
    "invite_message = invite['invitation']\n",
    "print(\"Connection ID\", connection_id)\n",
    "print(\"Invitation\")\n",
    "print(invite_message)"
   ]
  },
  {
   "cell_type": "code",
   "execution_count": 7,
   "id": "anticipated-technology",
   "metadata": {},
   "outputs": [],
   "source": [
    "response = await agent_controller.mediation.get_mediation_records()\n",
    "\n",
    "for record in response:\n",
    "    print(\"Mediation Record\")\n",
    "    print(\"connection_id\", record[\"connection_id\"])\n",
    "    print(\"State\", record[\"state\"])"
   ]
  }
 ],
 "metadata": {
  "kernelspec": {
   "display_name": "Python 3",
   "language": "python",
   "name": "python3"
  },
  "language_info": {
   "codemirror_mode": {
    "name": "ipython",
    "version": 3
   },
   "file_extension": ".py",
   "mimetype": "text/x-python",
   "name": "python",
   "nbconvert_exporter": "python",
   "pygments_lexer": "ipython3",
   "version": "3.7.6"
  }
 },
 "nbformat": 4,
 "nbformat_minor": 5
}
